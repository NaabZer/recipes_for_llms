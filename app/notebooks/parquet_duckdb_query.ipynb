{
 "cells": [
  {
   "cell_type": "code",
   "execution_count": 1,
   "id": "4f0629ab-3b17-4982-a93b-dbdef7d22e0c",
   "metadata": {},
   "outputs": [],
   "source": [
    "import os\n",
    "import spacy\n",
    "import polars as pl\n",
    "import mlflow\n",
    "import mlflow.spacy\n",
    "from pathlib import Path\n",
    "import json\n",
    "from spacy.util import minibatch, compounding\n",
    "from spacy.cli.train import train\n",
    "from dotenv import load_dotenv\n",
    "import sys\n",
    "sys.path.insert(0, os.path.abspath('..'))\n",
    "sys.path.insert(0, os.path.abspath('../..'))\n",
    "from app.data_handling.NER_parquet import process_ingredient, transform_ingredients_to_tokens, transform_ds_to_tokens, construct_ingredient_query"
   ]
  },
  {
   "cell_type": "markdown",
   "id": "853a5efb-b029-4f65-93ee-bc1ee7326068",
   "metadata": {},
   "source": [
    "# Create Dataframe and save as parquet"
   ]
  },
  {
   "cell_type": "code",
   "execution_count": 2,
   "id": "0f166bc3-d62b-4c41-b8e9-b6881f8b67cc",
   "metadata": {},
   "outputs": [
    {
     "data": {
      "text/plain": [
       "True"
      ]
     },
     "execution_count": 2,
     "metadata": {},
     "output_type": "execute_result"
    }
   ],
   "source": [
    "load_dotenv()"
   ]
  },
  {
   "cell_type": "code",
   "execution_count": 3,
   "id": "2040cdf8-20ef-4769-8fec-ff718140b4ee",
   "metadata": {},
   "outputs": [],
   "source": [
    "mlflow.set_tracking_uri(os.getenv(\"MLFLOW_TRACKING_URL\"))"
   ]
  },
  {
   "cell_type": "code",
   "execution_count": 4,
   "id": "60bcd8c1-4f9f-4078-8ab5-08a672f64cf5",
   "metadata": {},
   "outputs": [
    {
     "name": "stderr",
     "output_type": "stream",
     "text": [
      "/home/naabzer/develop/recipe_tm/env/lib/python3.10/site-packages/tqdm/auto.py:21: TqdmWarning: IProgress not found. Please update jupyter and ipywidgets. See https://ipywidgets.readthedocs.io/en/stable/user_install.html\n",
      "  from .autonotebook import tqdm as notebook_tqdm\n",
      "Downloading artifacts: 100%|████████████████████████████████████████████████████████| 17/17 [00:03<00:00,  4.89it/s]\n"
     ]
    }
   ],
   "source": [
    "model_uri = \"models:/recipe_NER@prod\"\n",
    "ner = mlflow.spacy.load_model(model_uri=model_uri)\n"
   ]
  },
  {
   "cell_type": "code",
   "execution_count": 5,
   "id": "8e0eb0b6-463a-4a9e-9ea7-e50ede73114f",
   "metadata": {},
   "outputs": [
    {
     "data": {
      "text/plain": [
       "spacy.lang.en.English"
      ]
     },
     "execution_count": 5,
     "metadata": {},
     "output_type": "execute_result"
    }
   ],
   "source": [
    "type(ner)"
   ]
  },
  {
   "cell_type": "code",
   "execution_count": 6,
   "id": "7e456b58-e8d7-4f7c-ab2c-9ea799ba8705",
   "metadata": {},
   "outputs": [],
   "source": [
    "nlg_ds = pl.read_csv('../../data/recipenlg/RecipeNLG_dataset.csv',  n_rows=1000)\n",
    "nlg_ds = nlg_ds.with_columns(pl.col(\"ingredients\").str.json_decode())\n",
    "nlg_ds = nlg_ds.with_columns(pl.col(\"directions\").str.json_decode())\n",
    "nlg_ds = nlg_ds.with_columns(pl.arange(pl.len()).alias(\"index\"))"
   ]
  },
  {
   "cell_type": "code",
   "execution_count": 7,
   "id": "9a218d9d-04d5-49eb-9654-e092dbd6234f",
   "metadata": {},
   "outputs": [
    {
     "data": {
      "text/html": [
       "<div><style>\n",
       ".dataframe > thead > tr,\n",
       ".dataframe > tbody > tr {\n",
       "  text-align: right;\n",
       "  white-space: pre-wrap;\n",
       "}\n",
       "</style>\n",
       "<small>shape: (5, 8)</small><table border=\"1\" class=\"dataframe\"><thead><tr><th></th><th>title</th><th>ingredients</th><th>directions</th><th>link</th><th>source</th><th>NER</th><th>index</th></tr><tr><td>i64</td><td>str</td><td>list[str]</td><td>list[str]</td><td>str</td><td>str</td><td>str</td><td>i64</td></tr></thead><tbody><tr><td>0</td><td>&quot;No-Bake Nut Cookies&quot;</td><td>[&quot;1 c. firmly packed brown sugar&quot;, &quot;1/2 c. evaporated milk&quot;, … &quot;3 1/2 c. bite size shredded rice biscuits&quot;]</td><td>[&quot;In a heavy 2-quart saucepan, mix brown sugar, nuts, evaporated milk and butter or margarine.&quot;, &quot;Stir over medium heat until mixture bubbles all over top.&quot;, … &quot;Let stand until firm, about 30 minutes.&quot;]</td><td>&quot;www.cookbooks.com/Recipe-Detai…</td><td>&quot;Gathered&quot;</td><td>&quot;[&quot;brown sugar&quot;, &quot;milk&quot;, &quot;vanil…</td><td>0</td></tr><tr><td>1</td><td>&quot;Jewell Ball&#x27;S Chicken&quot;</td><td>[&quot;1 small jar chipped beef, cut up&quot;, &quot;4 boned chicken breasts&quot;, … &quot;1 carton sour cream&quot;]</td><td>[&quot;Place chipped beef on bottom of baking dish.&quot;, &quot;Place chicken on top of beef.&quot;, &quot;Mix soup and cream together; pour over chicken. Bake, uncovered, at 275° for 3 hours.&quot;]</td><td>&quot;www.cookbooks.com/Recipe-Detai…</td><td>&quot;Gathered&quot;</td><td>&quot;[&quot;beef&quot;, &quot;chicken breasts&quot;, &quot;c…</td><td>1</td></tr><tr><td>2</td><td>&quot;Creamy Corn&quot;</td><td>[&quot;2 (16 oz.) pkg. frozen corn&quot;, &quot;1 (8 oz.) pkg. cream cheese, cubed&quot;, … &quot;1/4 tsp. pepper&quot;]</td><td>[&quot;In a slow cooker, combine all ingredients. Cover and cook on low for 4 hours or until heated through and cheese is melted. Stir well before serving. Yields 6 servings.&quot;]</td><td>&quot;www.cookbooks.com/Recipe-Detai…</td><td>&quot;Gathered&quot;</td><td>&quot;[&quot;frozen corn&quot;, &quot;cream cheese&quot;…</td><td>2</td></tr><tr><td>3</td><td>&quot;Chicken Funny&quot;</td><td>[&quot;1 large whole chicken&quot;, &quot;2 (10 1/2 oz.) cans chicken gravy&quot;, … &quot;4 oz. shredded cheese&quot;]</td><td>[&quot;Boil and debone chicken.&quot;, &quot;Put bite size pieces in average size square casserole dish.&quot;, … &quot;Sprinkle shredded cheese on top and bake at 350° for approximately 20 minutes or until golden and bubbly.&quot;]</td><td>&quot;www.cookbooks.com/Recipe-Detai…</td><td>&quot;Gathered&quot;</td><td>&quot;[&quot;chicken&quot;, &quot;chicken gravy&quot;, &quot;…</td><td>3</td></tr><tr><td>4</td><td>&quot;Reeses Cups(Candy)&nbsp;&nbsp;&quot;</td><td>[&quot;1 c. peanut butter&quot;, &quot;3/4 c. graham cracker crumbs&quot;, … &quot;1 large pkg. chocolate chips&quot;]</td><td>[&quot;Combine first four ingredients and press in 13 x 9-inch ungreased pan.&quot;, &quot;Melt chocolate chips and spread over mixture. Refrigerate for about 20 minutes and cut into pieces before chocolate gets hard.&quot;, &quot;Keep in refrigerator.&quot;]</td><td>&quot;www.cookbooks.com/Recipe-Detai…</td><td>&quot;Gathered&quot;</td><td>&quot;[&quot;peanut butter&quot;, &quot;graham crac…</td><td>4</td></tr></tbody></table></div>"
      ],
      "text/plain": [
       "shape: (5, 8)\n",
       "┌─────┬──────────────┬──────────────┬──────────────┬──────────────┬──────────┬─────────────┬───────┐\n",
       "│     ┆ title        ┆ ingredients  ┆ directions   ┆ link         ┆ source   ┆ NER         ┆ index │\n",
       "│ --- ┆ ---          ┆ ---          ┆ ---          ┆ ---          ┆ ---      ┆ ---         ┆ ---   │\n",
       "│ i64 ┆ str          ┆ list[str]    ┆ list[str]    ┆ str          ┆ str      ┆ str         ┆ i64   │\n",
       "╞═════╪══════════════╪══════════════╪══════════════╪══════════════╪══════════╪═════════════╪═══════╡\n",
       "│ 0   ┆ No-Bake Nut  ┆ [\"1 c.       ┆ [\"In a heavy ┆ www.cookbook ┆ Gathered ┆ [\"brown     ┆ 0     │\n",
       "│     ┆ Cookies      ┆ firmly       ┆ 2-quart      ┆ s.com/Recipe ┆          ┆ sugar\",     ┆       │\n",
       "│     ┆              ┆ packed brown ┆ saucepan,…   ┆ -Detai…      ┆          ┆ \"milk\",     ┆       │\n",
       "│     ┆              ┆ sug…         ┆              ┆              ┆          ┆ \"vanil…     ┆       │\n",
       "│ 1   ┆ Jewell       ┆ [\"1 small    ┆ [\"Place      ┆ www.cookbook ┆ Gathered ┆ [\"beef\",    ┆ 1     │\n",
       "│     ┆ Ball'S       ┆ jar chipped  ┆ chipped beef ┆ s.com/Recipe ┆          ┆ \"chicken    ┆       │\n",
       "│     ┆ Chicken      ┆ beef, cu…    ┆ on bottom…   ┆ -Detai…      ┆          ┆ breasts\",   ┆       │\n",
       "│     ┆              ┆              ┆              ┆              ┆          ┆ \"c…         ┆       │\n",
       "│ 2   ┆ Creamy Corn  ┆ [\"2 (16 oz.) ┆ [\"In a slow  ┆ www.cookbook ┆ Gathered ┆ [\"frozen    ┆ 2     │\n",
       "│     ┆              ┆ pkg. frozen  ┆ cooker,      ┆ s.com/Recipe ┆          ┆ corn\",      ┆       │\n",
       "│     ┆              ┆ corn\"…       ┆ combine al…  ┆ -Detai…      ┆          ┆ \"cream      ┆       │\n",
       "│     ┆              ┆              ┆              ┆              ┆          ┆ cheese\"…    ┆       │\n",
       "│ 3   ┆ Chicken      ┆ [\"1 large    ┆ [\"Boil and   ┆ www.cookbook ┆ Gathered ┆ [\"chicken\", ┆ 3     │\n",
       "│     ┆ Funny        ┆ whole        ┆ debone       ┆ s.com/Recipe ┆          ┆ \"chicken    ┆       │\n",
       "│     ┆              ┆ chicken\", \"2 ┆ chicken.\",   ┆ -Detai…      ┆          ┆ gravy\", \"…  ┆       │\n",
       "│     ┆              ┆ (…           ┆ \"…           ┆              ┆          ┆             ┆       │\n",
       "│ 4   ┆ Reeses       ┆ [\"1 c.       ┆ [\"Combine    ┆ www.cookbook ┆ Gathered ┆ [\"peanut    ┆ 4     │\n",
       "│     ┆ Cups(Candy)  ┆ peanut       ┆ first four   ┆ s.com/Recipe ┆          ┆ butter\",    ┆       │\n",
       "│     ┆              ┆ butter\",     ┆ ingredien…   ┆ -Detai…      ┆          ┆ \"graham     ┆       │\n",
       "│     ┆              ┆ \"3/4 c.…     ┆              ┆              ┆          ┆ crac…       ┆       │\n",
       "└─────┴──────────────┴──────────────┴──────────────┴──────────────┴──────────┴─────────────┴───────┘"
      ]
     },
     "execution_count": 7,
     "metadata": {},
     "output_type": "execute_result"
    }
   ],
   "source": [
    "nlg_ds.head()"
   ]
  },
  {
   "cell_type": "code",
   "execution_count": 8,
   "id": "09c82ed2-1948-4a65-9c5f-994cbec4607d",
   "metadata": {},
   "outputs": [
    {
     "data": {
      "text/plain": [
       "(1000, 8)"
      ]
     },
     "execution_count": 8,
     "metadata": {},
     "output_type": "execute_result"
    }
   ],
   "source": [
    "nlg_ds.shape"
   ]
  },
  {
   "cell_type": "markdown",
   "id": "b365907f-cac2-4ece-a869-610c2fd35977",
   "metadata": {},
   "source": [
    "### def transform_ds_to_tokens(ds: pl.dataframe.frame.DataFrame, create_vocab=False):  # Assume recipeNLG dataset, where each ingredient line is a list item\n",
    "    tokens = []\n",
    "    preps = []\n",
    "    optionals = []\n",
    "    for i, ingredients in enumerate(ds['ingredients']):\n",
    "        datapoint_obj = transform_ingredients_to_tokens(ingredients, ner, create_vocab)\n",
    "        tokens.append(datapoint_obj['foods'])\n",
    "        preps.append(json.dumps(datapoint_obj['preps']))\n",
    "        optionals.append(datapoint_obj['optionals'])\n",
    "    new_ds = ds.with_columns(\n",
    "        pl.Series(name='tokens', values=tokens),\n",
    "        pl.Series(name='preps', values=preps),\n",
    "        pl.Series(name='optionals', values=optionals)\n",
    "    )\n",
    "    return new_ds"
   ]
  },
  {
   "cell_type": "code",
   "execution_count": null,
   "id": "0c3bdcb2-3d0f-4a9f-ba81-fc459aecd29e",
   "metadata": {},
   "outputs": [],
   "source": [
    "nlg_ds = transform_ds_to_tokens(nlg_ds, ner, create_vocab=True)"
   ]
  },
  {
   "cell_type": "code",
   "execution_count": null,
   "id": "edcf789d-06fc-4b78-92e1-91f234c7a401",
   "metadata": {},
   "outputs": [],
   "source": [
    "nlg_ds.write_parquet('test.parquet')"
   ]
  },
  {
   "cell_type": "markdown",
   "id": "9fd0c2ac-edbb-4a67-aee0-346bcba0eb8a",
   "metadata": {},
   "source": [
    "# Test some queries using DuckDB and parquet"
   ]
  },
  {
   "cell_type": "code",
   "execution_count": null,
   "id": "a4b2c761-8b5e-4e4f-9938-8ced7a74d54c",
   "metadata": {},
   "outputs": [],
   "source": [
    "import duckdb"
   ]
  },
  {
   "cell_type": "code",
   "execution_count": null,
   "id": "a183744d-ae2d-4033-942a-ed398176958e",
   "metadata": {},
   "outputs": [],
   "source": [
    "duckdb.sql(\"SELECT * FROM 'test.parquet' AS tbl WHERE list_contains(tbl.tokens, 'egg')\").pl()"
   ]
  },
  {
   "cell_type": "code",
   "execution_count": null,
   "id": "57e1da54-44a9-461c-87c8-e160df15cbc6",
   "metadata": {},
   "outputs": [],
   "source": [
    "duckdb.sql(\"COPY(SELECT preps::JSON AS preps, * EXCLUDE (preps) FROM 'test.parquet') TO 'test.parquet' (FORMAT PARQUET, OVERWRITE TRUE)\")"
   ]
  },
  {
   "cell_type": "code",
   "execution_count": null,
   "id": "cf4cd63c-7637-4415-aa6b-da481156741e",
   "metadata": {},
   "outputs": [],
   "source": [
    "ingredients = ['butter']\n",
    "preps = {'butter': ['cube'], 'cream_cheese': ['cube']}"
   ]
  },
  {
   "cell_type": "code",
   "execution_count": null,
   "id": "38010aa6-7fdc-401c-a568-9bdf0df2a2ae",
   "metadata": {},
   "outputs": [],
   "source": [
    "list(preps.keys())"
   ]
  },
  {
   "cell_type": "markdown",
   "id": "8aa714f3-f521-4ef9-ada8-bc52160bb585",
   "metadata": {},
   "source": [
    "### def construct_ingredient_query(pq_path: str, ingredients: list, preps: dict):\n",
    "    prep_keys = list(preps.keys())\n",
    "    base_sql = (f\"SELECT *, json_extract(preps, {prep_keys}) AS prep_lists\"\n",
    "                f\" FROM '{pq_path}'\"\n",
    "                \" AS tbl\"\n",
    "                f\" WHERE list_has_all(tbl.tokens, {ingredients})\"\n",
    "               )\n",
    "    prep_filter = \"\"\n",
    "    for i, (key, value) in enumerate(preps.items()):\n",
    "        prep_filter += (f\" AND (prep_lists->>{i}) IS NOT NULL\"\n",
    "                        f\" AND list_has_all(from_json(prep_lists->>{i}, '[\\\"VARCHAR\\\"]'), {value})\"\n",
    "                       )\n",
    "    sql = base_sql + prep_filter\n",
    "    return sql"
   ]
  },
  {
   "cell_type": "code",
   "execution_count": null,
   "id": "27714618-d373-4583-a789-d5ba09e0eceb",
   "metadata": {},
   "outputs": [],
   "source": [
    "duckdb.sql(construct_ingredient_query('test.parquet', ingredients, preps)).pl()"
   ]
  },
  {
   "cell_type": "code",
   "execution_count": null,
   "id": "65dbd2e8-8100-46b3-b97b-65a796edd92a",
   "metadata": {},
   "outputs": [],
   "source": [
    "ingredients = ['almond']\n",
    "preps = {}\n",
    "sql = construct_ingredient_query('test.parquet', ingredients, preps)\n",
    "results = duckdb.sql(sql).pl()\n",
    "print(\"###############################\")\n",
    "print(\"####### WITHOUT PREPS #########\")\n",
    "print(\"###############################\")\n",
    "for title, ingr in results['title', 'ingredients'].iter_rows():\n",
    "    print()\n",
    "    print(f\"---- {title} ----\")\n",
    "    print(\"\\n\".join(ingr))\n",
    "    \n",
    "ingredients = ['almond']\n",
    "preps = {'almond': ['chop']}\n",
    "sql = construct_ingredient_query('test.parquet', ingredients, preps)\n",
    "results = duckdb.sql(sql).pl()\n",
    "print(\"##############################\")\n",
    "print(\"######## WITH PREPS ##########\")\n",
    "print(\"##############################\")\n",
    "for title, ingr in results['title', 'ingredients'].iter_rows():\n",
    "    print()\n",
    "    print(f\"---- {title} ----\")\n",
    "    print(\"\\n\".join(ingr))"
   ]
  },
  {
   "cell_type": "code",
   "execution_count": null,
   "id": "08509965-56bf-4d4e-9c3d-62c3669f142f",
   "metadata": {},
   "outputs": [],
   "source": []
  }
 ],
 "metadata": {
  "kernelspec": {
   "display_name": "Python 3 (ipykernel)",
   "language": "python",
   "name": "python3"
  },
  "language_info": {
   "codemirror_mode": {
    "name": "ipython",
    "version": 3
   },
   "file_extension": ".py",
   "mimetype": "text/x-python",
   "name": "python",
   "nbconvert_exporter": "python",
   "pygments_lexer": "ipython3",
   "version": "3.10.16"
  }
 },
 "nbformat": 4,
 "nbformat_minor": 5
}
