{
 "cells": [
  {
   "cell_type": "code",
   "execution_count": 1,
   "id": "4f0629ab-3b17-4982-a93b-dbdef7d22e0c",
   "metadata": {},
   "outputs": [],
   "source": [
    "import pandas as pd\n",
    "import spacy\n",
    "import os\n",
    "import spacy\n",
    "import polars as pl\n",
    "import mlflow\n",
    "import mlflow.spacy\n",
    "from pathlib import Path\n",
    "import json\n",
    "from spacy.util import minibatch, compounding\n",
    "from spacy.cli.train import train\n",
    "from dotenv import load_dotenv\n",
    "import sys\n",
    "sys.path.insert(0, os.path.abspath('..'))\n",
    "sys.path.insert(0, os.path.abspath('../..'))\n",
    "from app.data_handling.preprocessing import process_ingredient, transform_ingredients_to_tokens"
   ]
  },
  {
   "cell_type": "markdown",
   "id": "853a5efb-b029-4f65-93ee-bc1ee7326068",
   "metadata": {},
   "source": [
    "# Create Dataframe and save as parquet"
   ]
  },
  {
   "cell_type": "code",
   "execution_count": 2,
   "id": "0f166bc3-d62b-4c41-b8e9-b6881f8b67cc",
   "metadata": {},
   "outputs": [
    {
     "data": {
      "text/plain": [
       "True"
      ]
     },
     "execution_count": 2,
     "metadata": {},
     "output_type": "execute_result"
    }
   ],
   "source": [
    "load_dotenv()"
   ]
  },
  {
   "cell_type": "code",
   "execution_count": 3,
   "id": "2040cdf8-20ef-4769-8fec-ff718140b4ee",
   "metadata": {},
   "outputs": [],
   "source": [
    "mlflow.set_tracking_uri(os.getenv(\"MLFLOW_TRACKING_URL\"))"
   ]
  },
  {
   "cell_type": "code",
   "execution_count": 4,
   "id": "60bcd8c1-4f9f-4078-8ab5-08a672f64cf5",
   "metadata": {},
   "outputs": [
    {
     "name": "stderr",
     "output_type": "stream",
     "text": [
      "/home/naabzer/develop/recipe_tm/env/lib/python3.10/site-packages/tqdm/auto.py:21: TqdmWarning: IProgress not found. Please update jupyter and ipywidgets. See https://ipywidgets.readthedocs.io/en/stable/user_install.html\n",
      "  from .autonotebook import tqdm as notebook_tqdm\n",
      "Downloading artifacts: 100%|████████████████████████████████████████████████████████| 17/17 [00:00<00:00, 39.15it/s]\n"
     ]
    }
   ],
   "source": [
    "model_uri = \"models:/recipe_NER@prod\"\n",
    "ner = mlflow.spacy.load_model(model_uri=model_uri)"
   ]
  },
  {
   "cell_type": "code",
   "execution_count": 371,
   "id": "31b8626e-d26d-40ee-9a9d-16703ec2a315",
   "metadata": {},
   "outputs": [],
   "source": [
    "nlg_ds = pd.read_csv('../../data/recipenlg/RecipeNLG_dataset.csv', converters={'ingredients': pd.eval}, nrows=10)"
   ]
  },
  {
   "cell_type": "code",
   "execution_count": 397,
   "id": "7e456b58-e8d7-4f7c-ab2c-9ea799ba8705",
   "metadata": {},
   "outputs": [],
   "source": [
    "nlg_ds = pl.read_csv('../../data/recipenlg/RecipeNLG_dataset.csv')#,  n_rows=1000)\n",
    "nlg_ds = nlg_ds.with_columns(pl.col(\"ingredients\").str.json_decode())\n",
    "nlg_ds = nlg_ds.with_columns(pl.col(\"directions\").str.json_decode())\n",
    "nlg_ds = nlg_ds.with_columns(pl.arange(pl.len()).alias(\"index\"))"
   ]
  },
  {
   "cell_type": "code",
   "execution_count": 401,
   "id": "9a218d9d-04d5-49eb-9654-e092dbd6234f",
   "metadata": {},
   "outputs": [
    {
     "data": {
      "text/html": [
       "<div><style>\n",
       ".dataframe > thead > tr,\n",
       ".dataframe > tbody > tr {\n",
       "  text-align: right;\n",
       "  white-space: pre-wrap;\n",
       "}\n",
       "</style>\n",
       "<small>shape: (2_231_142, 8)</small><table border=\"1\" class=\"dataframe\"><thead><tr><th></th><th>title</th><th>ingredients</th><th>directions</th><th>link</th><th>source</th><th>NER</th><th>index</th></tr><tr><td>i64</td><td>str</td><td>list[str]</td><td>list[str]</td><td>str</td><td>str</td><td>str</td><td>i64</td></tr></thead><tbody><tr><td>0</td><td>&quot;No-Bake Nut Cookies&quot;</td><td>[&quot;1 c. firmly packed brown sugar&quot;, &quot;1/2 c. evaporated milk&quot;, … &quot;3 1/2 c. bite size shredded rice biscuits&quot;]</td><td>[&quot;In a heavy 2-quart saucepan, mix brown sugar, nuts, evaporated milk and butter or margarine.&quot;, &quot;Stir over medium heat until mixture bubbles all over top.&quot;, … &quot;Let stand until firm, about 30 minutes.&quot;]</td><td>&quot;www.cookbooks.com/Recipe-Detai…</td><td>&quot;Gathered&quot;</td><td>&quot;[&quot;brown sugar&quot;, &quot;milk&quot;, &quot;vanil…</td><td>0</td></tr><tr><td>1</td><td>&quot;Jewell Ball&#x27;S Chicken&quot;</td><td>[&quot;1 small jar chipped beef, cut up&quot;, &quot;4 boned chicken breasts&quot;, … &quot;1 carton sour cream&quot;]</td><td>[&quot;Place chipped beef on bottom of baking dish.&quot;, &quot;Place chicken on top of beef.&quot;, &quot;Mix soup and cream together; pour over chicken. Bake, uncovered, at 275° for 3 hours.&quot;]</td><td>&quot;www.cookbooks.com/Recipe-Detai…</td><td>&quot;Gathered&quot;</td><td>&quot;[&quot;beef&quot;, &quot;chicken breasts&quot;, &quot;c…</td><td>1</td></tr><tr><td>2</td><td>&quot;Creamy Corn&quot;</td><td>[&quot;2 (16 oz.) pkg. frozen corn&quot;, &quot;1 (8 oz.) pkg. cream cheese, cubed&quot;, … &quot;1/4 tsp. pepper&quot;]</td><td>[&quot;In a slow cooker, combine all ingredients. Cover and cook on low for 4 hours or until heated through and cheese is melted. Stir well before serving. Yields 6 servings.&quot;]</td><td>&quot;www.cookbooks.com/Recipe-Detai…</td><td>&quot;Gathered&quot;</td><td>&quot;[&quot;frozen corn&quot;, &quot;cream cheese&quot;…</td><td>2</td></tr><tr><td>3</td><td>&quot;Chicken Funny&quot;</td><td>[&quot;1 large whole chicken&quot;, &quot;2 (10 1/2 oz.) cans chicken gravy&quot;, … &quot;4 oz. shredded cheese&quot;]</td><td>[&quot;Boil and debone chicken.&quot;, &quot;Put bite size pieces in average size square casserole dish.&quot;, … &quot;Sprinkle shredded cheese on top and bake at 350° for approximately 20 minutes or until golden and bubbly.&quot;]</td><td>&quot;www.cookbooks.com/Recipe-Detai…</td><td>&quot;Gathered&quot;</td><td>&quot;[&quot;chicken&quot;, &quot;chicken gravy&quot;, &quot;…</td><td>3</td></tr><tr><td>4</td><td>&quot;Reeses Cups(Candy)&nbsp;&nbsp;&quot;</td><td>[&quot;1 c. peanut butter&quot;, &quot;3/4 c. graham cracker crumbs&quot;, … &quot;1 large pkg. chocolate chips&quot;]</td><td>[&quot;Combine first four ingredients and press in 13 x 9-inch ungreased pan.&quot;, &quot;Melt chocolate chips and spread over mixture. Refrigerate for about 20 minutes and cut into pieces before chocolate gets hard.&quot;, &quot;Keep in refrigerator.&quot;]</td><td>&quot;www.cookbooks.com/Recipe-Detai…</td><td>&quot;Gathered&quot;</td><td>&quot;[&quot;peanut butter&quot;, &quot;graham crac…</td><td>4</td></tr><tr><td>&hellip;</td><td>&hellip;</td><td>&hellip;</td><td>&hellip;</td><td>&hellip;</td><td>&hellip;</td><td>&hellip;</td><td>&hellip;</td></tr><tr><td>2231137</td><td>&quot;Sunny&#x27;s Fake Crepes&quot;</td><td>[&quot;1/2 cup chocolate hazelnut spread (recommended: Nutella)&quot;, &quot;4 (8-inch) round whole-wheat tortillas, room temperature&quot;, … &quot;1/2 cup finely chopped toasted hazelnuts&quot;]</td><td>[&quot;Spread hazelnut spread on 1 side of each tortilla.&quot;, &quot;In a large pan over medium heat add 2 tablespoons of butter and let it melt until bubbly.&quot;, … &quot;Arrange them on a serving platter and serve immediately.&quot;]</td><td>&quot;www.foodnetwork.com/recipes/su…</td><td>&quot;Recipes1M&quot;</td><td>&quot;[&quot;chocolate hazelnut spread&quot;, …</td><td>2231137</td></tr><tr><td>2231138</td><td>&quot;Devil Eggs&quot;</td><td>[&quot;1 dozen eggs&quot;, &quot;1 paprika&quot;, … &quot;3 tbsp relish&quot;]</td><td>[&quot;Boil eggs on medium for 30mins.&quot;, &quot;Then cool eggs down in cold water for approximately 5 mins.&quot;, … &quot;finish touch sprinkle paprika on top.&quot;]</td><td>&quot;cookpad.com/us/recipes/355411-…</td><td>&quot;Recipes1M&quot;</td><td>&quot;[&quot;eggs&quot;, &quot;paprika&quot;, &quot;salt&quot;, &quot;c…</td><td>2231138</td></tr><tr><td>2231139</td><td>&quot;Extremely Easy and Quick - Nam…</td><td>[&quot;150 grams Daikon radish&quot;, &quot;1 tbsp Sesame oil&quot;, … &quot;1 tsp Soy sauce&quot;]</td><td>[&quot;Julienne the daikon and squeeze out the excess moisture.&quot;, &quot;Combine all of the ingredients.&quot;, &quot;Serve on a dish.&quot;]</td><td>&quot;cookpad.com/us/recipes/153324-…</td><td>&quot;Recipes1M&quot;</td><td>&quot;[&quot;radish&quot;, &quot;Sesame oil&quot;, &quot;Whit…</td><td>2231139</td></tr><tr><td>2231140</td><td>&quot;Pan-Roasted Pork Chops With Ap…</td><td>[&quot;1 cup apple cider&quot;, &quot;6 tablespoons sugar&quot;, … &quot;1 cup neutral oil, like canola&quot;]</td><td>[&quot;In a large bowl, mix the apple cider with 4 cups of water, the sugar and the salt.&quot;, &quot;Toast the bay leaves, chilies, juniper berries, caraway seeds, mustard seeds and coriander seeds in a small pan set over medium heat until you can smell them, then add to the brine, and stir to combine.&quot;, … &quot;The usual accompaniment is potato-and-horseradish pierogies sauteed in brown butter, though roasted new potatoes with a topping of butter and freshly grated horseradish will answer almost as well.&quot;]</td><td>&quot;cooking.nytimes.com/recipes/10…</td><td>&quot;Recipes1M&quot;</td><td>&quot;[&quot;apple cider&quot;, &quot;sugar&quot;, &quot;kosh…</td><td>2231140</td></tr><tr><td>2231141</td><td>&quot;Polpette in Spicy Tomato Sauce&quot;</td><td>[&quot;1 pound ground veal&quot;, &quot;1/2 pound sweet Italian sausage, casings removed&quot;, … &quot;Large pinch of crushed red pepper&quot;]</td><td>[&quot;Preheat the oven to 350.&quot;, &quot;In a bowl, mix the veal with the sausage meat, bread crumbs, milk, garlic, chopped parsley, egg whites, tomato paste and 1/2 cup of pecorino; season with salt and pepper.&quot;, … &quot;Sprinkle with pecorino cheese and serve.&quot;]</td><td>&quot;www.foodandwine.com/recipes/po…</td><td>&quot;Recipes1M&quot;</td><td>&quot;[&quot;ground veal&quot;, &quot;sausage&quot;, &quot;br…</td><td>2231141</td></tr></tbody></table></div>"
      ],
      "text/plain": [
       "shape: (2_231_142, 8)\n",
       "┌─────────┬─────────────┬─────────────┬────────────┬────────────┬───────────┬────────────┬─────────┐\n",
       "│         ┆ title       ┆ ingredients ┆ directions ┆ link       ┆ source    ┆ NER        ┆ index   │\n",
       "│ ---     ┆ ---         ┆ ---         ┆ ---        ┆ ---        ┆ ---       ┆ ---        ┆ ---     │\n",
       "│ i64     ┆ str         ┆ list[str]   ┆ list[str]  ┆ str        ┆ str       ┆ str        ┆ i64     │\n",
       "╞═════════╪═════════════╪═════════════╪════════════╪════════════╪═══════════╪════════════╪═════════╡\n",
       "│ 0       ┆ No-Bake Nut ┆ [\"1 c.      ┆ [\"In a     ┆ www.cookbo ┆ Gathered  ┆ [\"brown    ┆ 0       │\n",
       "│         ┆ Cookies     ┆ firmly      ┆ heavy      ┆ oks.com/Re ┆           ┆ sugar\",    ┆         │\n",
       "│         ┆             ┆ packed      ┆ 2-quart    ┆ cipe-Detai ┆           ┆ \"milk\",    ┆         │\n",
       "│         ┆             ┆ brown sug…  ┆ saucepan,… ┆ …          ┆           ┆ \"vanil…    ┆         │\n",
       "│ 1       ┆ Jewell      ┆ [\"1 small   ┆ [\"Place    ┆ www.cookbo ┆ Gathered  ┆ [\"beef\",   ┆ 1       │\n",
       "│         ┆ Ball'S      ┆ jar chipped ┆ chipped    ┆ oks.com/Re ┆           ┆ \"chicken   ┆         │\n",
       "│         ┆ Chicken     ┆ beef, cu…   ┆ beef on    ┆ cipe-Detai ┆           ┆ breasts\",  ┆         │\n",
       "│         ┆             ┆             ┆ bottom…    ┆ …          ┆           ┆ \"c…        ┆         │\n",
       "│ 2       ┆ Creamy Corn ┆ [\"2 (16     ┆ [\"In a     ┆ www.cookbo ┆ Gathered  ┆ [\"frozen   ┆ 2       │\n",
       "│         ┆             ┆ oz.) pkg.   ┆ slow       ┆ oks.com/Re ┆           ┆ corn\",     ┆         │\n",
       "│         ┆             ┆ frozen      ┆ cooker,    ┆ cipe-Detai ┆           ┆ \"cream     ┆         │\n",
       "│         ┆             ┆ corn\"…      ┆ combine    ┆ …          ┆           ┆ cheese\"…   ┆         │\n",
       "│         ┆             ┆             ┆ al…        ┆            ┆           ┆            ┆         │\n",
       "│ 3       ┆ Chicken     ┆ [\"1 large   ┆ [\"Boil and ┆ www.cookbo ┆ Gathered  ┆ [\"chicken\" ┆ 3       │\n",
       "│         ┆ Funny       ┆ whole       ┆ debone     ┆ oks.com/Re ┆           ┆ , \"chicken ┆         │\n",
       "│         ┆             ┆ chicken\",   ┆ chicken.\", ┆ cipe-Detai ┆           ┆ gravy\", \"… ┆         │\n",
       "│         ┆             ┆ \"2 (…       ┆ \"…         ┆ …          ┆           ┆            ┆         │\n",
       "│ 4       ┆ Reeses      ┆ [\"1 c.      ┆ [\"Combine  ┆ www.cookbo ┆ Gathered  ┆ [\"peanut   ┆ 4       │\n",
       "│         ┆ Cups(Candy) ┆ peanut      ┆ first four ┆ oks.com/Re ┆           ┆ butter\",   ┆         │\n",
       "│         ┆             ┆ butter\",    ┆ ingredien… ┆ cipe-Detai ┆           ┆ \"graham    ┆         │\n",
       "│         ┆             ┆ \"3/4 c.…    ┆            ┆ …          ┆           ┆ crac…      ┆         │\n",
       "│ …       ┆ …           ┆ …           ┆ …          ┆ …          ┆ …         ┆ …          ┆ …       │\n",
       "│ 2231137 ┆ Sunny's     ┆ [\"1/2 cup   ┆ [\"Spread   ┆ www.foodne ┆ Recipes1M ┆ [\"chocolat ┆ 2231137 │\n",
       "│         ┆ Fake Crepes ┆ chocolate   ┆ hazelnut   ┆ twork.com/ ┆           ┆ e hazelnut ┆         │\n",
       "│         ┆             ┆ hazelnut s… ┆ spread on  ┆ recipes/su ┆           ┆ spread\", … ┆         │\n",
       "│         ┆             ┆             ┆ 1 …        ┆ …          ┆           ┆            ┆         │\n",
       "│ 2231138 ┆ Devil Eggs  ┆ [\"1 dozen   ┆ [\"Boil     ┆ cookpad.co ┆ Recipes1M ┆ [\"eggs\",   ┆ 2231138 │\n",
       "│         ┆             ┆ eggs\", \"1   ┆ eggs on    ┆ m/us/recip ┆           ┆ \"paprika\", ┆         │\n",
       "│         ┆             ┆ paprika\", … ┆ medium for ┆ es/355411- ┆           ┆ \"salt\",    ┆         │\n",
       "│         ┆             ┆             ┆ 30mi…      ┆ …          ┆           ┆ \"c…        ┆         │\n",
       "│ 2231139 ┆ Extremely   ┆ [\"150 grams ┆ [\"Julienne ┆ cookpad.co ┆ Recipes1M ┆ [\"radish\", ┆ 2231139 │\n",
       "│         ┆ Easy and    ┆ Daikon      ┆ the daikon ┆ m/us/recip ┆           ┆ \"Sesame    ┆         │\n",
       "│         ┆ Quick -     ┆ radish\",    ┆ and sque…  ┆ es/153324- ┆           ┆ oil\",      ┆         │\n",
       "│         ┆ Nam…        ┆ \"1…         ┆            ┆ …          ┆           ┆ \"Whit…     ┆         │\n",
       "│ 2231140 ┆ Pan-Roasted ┆ [\"1 cup     ┆ [\"In a     ┆ cooking.ny ┆ Recipes1M ┆ [\"apple    ┆ 2231140 │\n",
       "│         ┆ Pork Chops  ┆ apple       ┆ large      ┆ times.com/ ┆           ┆ cider\",    ┆         │\n",
       "│         ┆ With Ap…    ┆ cider\", \"6  ┆ bowl, mix  ┆ recipes/10 ┆           ┆ \"sugar\",   ┆         │\n",
       "│         ┆             ┆ table…      ┆ the app…   ┆ …          ┆           ┆ \"kosh…     ┆         │\n",
       "│ 2231141 ┆ Polpette in ┆ [\"1 pound   ┆ [\"Preheat  ┆ www.foodan ┆ Recipes1M ┆ [\"ground   ┆ 2231141 │\n",
       "│         ┆ Spicy       ┆ ground      ┆ the oven   ┆ dwine.com/ ┆           ┆ veal\",     ┆         │\n",
       "│         ┆ Tomato      ┆ veal\", \"1/2 ┆ to 350.\",  ┆ recipes/po ┆           ┆ \"sausage\", ┆         │\n",
       "│         ┆ Sauce       ┆ p…          ┆ \"…         ┆ …          ┆           ┆ \"br…       ┆         │\n",
       "└─────────┴─────────────┴─────────────┴────────────┴────────────┴───────────┴────────────┴─────────┘"
      ]
     },
     "execution_count": 401,
     "metadata": {},
     "output_type": "execute_result"
    }
   ],
   "source": [
    "nlg_ds"
   ]
  },
  {
   "cell_type": "code",
   "execution_count": 375,
   "id": "2454040c-245a-484e-90e8-93155cf0bfca",
   "metadata": {},
   "outputs": [],
   "source": [
    "def transform_ds_to_BOW(ds: pl.dataframe.frame.DataFrame, create_vocab=False):  # Assume recipeNLG dataset, where each ingredient line is a list item\n",
    "    tokens = []\n",
    "    preps = []\n",
    "    optionals = []\n",
    "    for i, ingredients in enumerate(ds['ingredients']):\n",
    "        datapoint_obj = transform_ingredients_to_tokens(ingredients, ner, create_vocab)\n",
    "        tokens.append(datapoint_obj['foods'])\n",
    "        preps.append(json.dumps(datapoint_obj['preps']))\n",
    "        optionals.append(datapoint_obj['optionals'])\n",
    "    new_ds = ds.with_columns(\n",
    "        pl.Series(name='BOW_tokens', values=tokens),\n",
    "        pl.Series(name='preps', values=preps),\n",
    "        pl.Series(name='optionals', values=optionals)\n",
    "    )\n",
    "    return new_ds"
   ]
  },
  {
   "cell_type": "code",
   "execution_count": 376,
   "id": "9ac26f3f-8cfc-4e81-b909-a7b39c5f9b2b",
   "metadata": {},
   "outputs": [
    {
     "data": {
      "text/html": [
       "<div><style>\n",
       ".dataframe > thead > tr,\n",
       ".dataframe > tbody > tr {\n",
       "  text-align: right;\n",
       "  white-space: pre-wrap;\n",
       "}\n",
       "</style>\n",
       "<small>shape: (5, 7)</small><table border=\"1\" class=\"dataframe\"><thead><tr><th></th><th>title</th><th>ingredients</th><th>directions</th><th>link</th><th>source</th><th>NER</th></tr><tr><td>i64</td><td>str</td><td>list[str]</td><td>list[str]</td><td>str</td><td>str</td><td>str</td></tr></thead><tbody><tr><td>0</td><td>&quot;No-Bake Nut Cookies&quot;</td><td>[&quot;1 c. firmly packed brown sugar&quot;, &quot;1/2 c. evaporated milk&quot;, … &quot;3 1/2 c. bite size shredded rice biscuits&quot;]</td><td>[&quot;In a heavy 2-quart saucepan, mix brown sugar, nuts, evaporated milk and butter or margarine.&quot;, &quot;Stir over medium heat until mixture bubbles all over top.&quot;, … &quot;Let stand until firm, about 30 minutes.&quot;]</td><td>&quot;www.cookbooks.com/Recipe-Detai…</td><td>&quot;Gathered&quot;</td><td>&quot;[&quot;brown sugar&quot;, &quot;milk&quot;, &quot;vanil…</td></tr><tr><td>1</td><td>&quot;Jewell Ball&#x27;S Chicken&quot;</td><td>[&quot;1 small jar chipped beef, cut up&quot;, &quot;4 boned chicken breasts&quot;, … &quot;1 carton sour cream&quot;]</td><td>[&quot;Place chipped beef on bottom of baking dish.&quot;, &quot;Place chicken on top of beef.&quot;, &quot;Mix soup and cream together; pour over chicken. Bake, uncovered, at 275° for 3 hours.&quot;]</td><td>&quot;www.cookbooks.com/Recipe-Detai…</td><td>&quot;Gathered&quot;</td><td>&quot;[&quot;beef&quot;, &quot;chicken breasts&quot;, &quot;c…</td></tr><tr><td>2</td><td>&quot;Creamy Corn&quot;</td><td>[&quot;2 (16 oz.) pkg. frozen corn&quot;, &quot;1 (8 oz.) pkg. cream cheese, cubed&quot;, … &quot;1/4 tsp. pepper&quot;]</td><td>[&quot;In a slow cooker, combine all ingredients. Cover and cook on low for 4 hours or until heated through and cheese is melted. Stir well before serving. Yields 6 servings.&quot;]</td><td>&quot;www.cookbooks.com/Recipe-Detai…</td><td>&quot;Gathered&quot;</td><td>&quot;[&quot;frozen corn&quot;, &quot;cream cheese&quot;…</td></tr><tr><td>3</td><td>&quot;Chicken Funny&quot;</td><td>[&quot;1 large whole chicken&quot;, &quot;2 (10 1/2 oz.) cans chicken gravy&quot;, … &quot;4 oz. shredded cheese&quot;]</td><td>[&quot;Boil and debone chicken.&quot;, &quot;Put bite size pieces in average size square casserole dish.&quot;, … &quot;Sprinkle shredded cheese on top and bake at 350° for approximately 20 minutes or until golden and bubbly.&quot;]</td><td>&quot;www.cookbooks.com/Recipe-Detai…</td><td>&quot;Gathered&quot;</td><td>&quot;[&quot;chicken&quot;, &quot;chicken gravy&quot;, &quot;…</td></tr><tr><td>4</td><td>&quot;Reeses Cups(Candy)&nbsp;&nbsp;&quot;</td><td>[&quot;1 c. peanut butter&quot;, &quot;3/4 c. graham cracker crumbs&quot;, … &quot;1 large pkg. chocolate chips&quot;]</td><td>[&quot;Combine first four ingredients and press in 13 x 9-inch ungreased pan.&quot;, &quot;Melt chocolate chips and spread over mixture. Refrigerate for about 20 minutes and cut into pieces before chocolate gets hard.&quot;, &quot;Keep in refrigerator.&quot;]</td><td>&quot;www.cookbooks.com/Recipe-Detai…</td><td>&quot;Gathered&quot;</td><td>&quot;[&quot;peanut butter&quot;, &quot;graham crac…</td></tr></tbody></table></div>"
      ],
      "text/plain": [
       "shape: (5, 7)\n",
       "┌─────┬────────────────┬────────────────┬───────────────┬───────────────┬──────────┬───────────────┐\n",
       "│     ┆ title          ┆ ingredients    ┆ directions    ┆ link          ┆ source   ┆ NER           │\n",
       "│ --- ┆ ---            ┆ ---            ┆ ---           ┆ ---           ┆ ---      ┆ ---           │\n",
       "│ i64 ┆ str            ┆ list[str]      ┆ list[str]     ┆ str           ┆ str      ┆ str           │\n",
       "╞═════╪════════════════╪════════════════╪═══════════════╪═══════════════╪══════════╪═══════════════╡\n",
       "│ 0   ┆ No-Bake Nut    ┆ [\"1 c. firmly  ┆ [\"In a heavy  ┆ www.cookbooks ┆ Gathered ┆ [\"brown       │\n",
       "│     ┆ Cookies        ┆ packed brown   ┆ 2-quart       ┆ .com/Recipe-D ┆          ┆ sugar\",       │\n",
       "│     ┆                ┆ sug…           ┆ saucepan,…    ┆ etai…         ┆          ┆ \"milk\",       │\n",
       "│     ┆                ┆                ┆               ┆               ┆          ┆ \"vanil…       │\n",
       "│ 1   ┆ Jewell Ball'S  ┆ [\"1 small jar  ┆ [\"Place       ┆ www.cookbooks ┆ Gathered ┆ [\"beef\",      │\n",
       "│     ┆ Chicken        ┆ chipped beef,  ┆ chipped beef  ┆ .com/Recipe-D ┆          ┆ \"chicken      │\n",
       "│     ┆                ┆ cu…            ┆ on bottom…    ┆ etai…         ┆          ┆ breasts\", \"c… │\n",
       "│ 2   ┆ Creamy Corn    ┆ [\"2 (16 oz.)   ┆ [\"In a slow   ┆ www.cookbooks ┆ Gathered ┆ [\"frozen      │\n",
       "│     ┆                ┆ pkg. frozen    ┆ cooker,       ┆ .com/Recipe-D ┆          ┆ corn\", \"cream │\n",
       "│     ┆                ┆ corn\"…         ┆ combine al…   ┆ etai…         ┆          ┆ cheese\"…      │\n",
       "│ 3   ┆ Chicken Funny  ┆ [\"1 large      ┆ [\"Boil and    ┆ www.cookbooks ┆ Gathered ┆ [\"chicken\",   │\n",
       "│     ┆                ┆ whole          ┆ debone        ┆ .com/Recipe-D ┆          ┆ \"chicken      │\n",
       "│     ┆                ┆ chicken\", \"2   ┆ chicken.\", \"… ┆ etai…         ┆          ┆ gravy\", \"…    │\n",
       "│     ┆                ┆ (…             ┆               ┆               ┆          ┆               │\n",
       "│ 4   ┆ Reeses         ┆ [\"1 c. peanut  ┆ [\"Combine     ┆ www.cookbooks ┆ Gathered ┆ [\"peanut      │\n",
       "│     ┆ Cups(Candy)    ┆ butter\", \"3/4  ┆ first four    ┆ .com/Recipe-D ┆          ┆ butter\",      │\n",
       "│     ┆                ┆ c.…            ┆ ingredien…    ┆ etai…         ┆          ┆ \"graham crac… │\n",
       "└─────┴────────────────┴────────────────┴───────────────┴───────────────┴──────────┴───────────────┘"
      ]
     },
     "execution_count": 376,
     "metadata": {},
     "output_type": "execute_result"
    }
   ],
   "source": [
    "nlg_ds.head()"
   ]
  },
  {
   "cell_type": "code",
   "execution_count": 377,
   "id": "0c3bdcb2-3d0f-4a9f-ba81-fc459aecd29e",
   "metadata": {},
   "outputs": [],
   "source": [
    "nlg_ds = transform_ds_to_BOW(nlg_ds, create_vocab=True)"
   ]
  },
  {
   "cell_type": "code",
   "execution_count": 378,
   "id": "edcf789d-06fc-4b78-92e1-91f234c7a401",
   "metadata": {},
   "outputs": [],
   "source": [
    "nlg_ds.write_parquet('test.parquet')"
   ]
  },
  {
   "cell_type": "markdown",
   "id": "9fd0c2ac-edbb-4a67-aee0-346bcba0eb8a",
   "metadata": {},
   "source": [
    "# Test some queries using DuckDB and parquet"
   ]
  },
  {
   "cell_type": "code",
   "execution_count": 379,
   "id": "a4b2c761-8b5e-4e4f-9938-8ced7a74d54c",
   "metadata": {},
   "outputs": [],
   "source": [
    "import duckdb"
   ]
  },
  {
   "cell_type": "code",
   "execution_count": 380,
   "id": "a183744d-ae2d-4033-942a-ed398176958e",
   "metadata": {},
   "outputs": [
    {
     "data": {
      "text/html": [
       "<div><style>\n",
       ".dataframe > thead > tr,\n",
       ".dataframe > tbody > tr {\n",
       "  text-align: right;\n",
       "  white-space: pre-wrap;\n",
       "}\n",
       "</style>\n",
       "<small>shape: (300, 10)</small><table border=\"1\" class=\"dataframe\"><thead><tr><th>C0</th><th>title</th><th>ingredients</th><th>directions</th><th>link</th><th>source</th><th>NER</th><th>BOW_tokens</th><th>preps</th><th>optionals</th></tr><tr><td>i64</td><td>str</td><td>list[str]</td><td>list[str]</td><td>str</td><td>str</td><td>str</td><td>list[str]</td><td>str</td><td>list[bool]</td></tr></thead><tbody><tr><td>6</td><td>&quot;Rhubarb Coffee Cake&quot;</td><td>[&quot;1 1/2 c. sugar&quot;, &quot;1/2 c. butter&quot;, … &quot;1 tsp. vanilla&quot;]</td><td>[&quot;Cream sugar and butter.&quot;, &quot;Add egg and beat well.&quot;, … &quot;Pour into greased 9 x 13-inch pan and add Topping.&quot;]</td><td>&quot;www.cookbooks.com/Recipe-Detai…</td><td>&quot;Gathered&quot;</td><td>&quot;[&quot;sugar&quot;, &quot;butter&quot;, &quot;egg&quot;, &quot;bu…</td><td>[&quot;sugar&quot;, &quot;butter&quot;, … &quot;rhubarb&quot;]</td><td>&quot;{&quot;rhubarb&quot;: [&quot;finely&quot;, &quot;cut&quot;]}&quot;</td><td>[false, false, … false]</td></tr><tr><td>7</td><td>&quot;Scalloped Corn&quot;</td><td>[&quot;1 can cream-style corn&quot;, &quot;1 can whole kernel corn&quot;, … &quot;pepper to taste&quot;]</td><td>[&quot;Mix together both cans of corn, crackers, egg, 2 teaspoons of melted butter and pepper and place in a buttered baking dish.&quot;, &quot;Dot with remaining 4 teaspoons of butter.&quot;, &quot;Bake at 350° for 1 hour.&quot;]</td><td>&quot;www.cookbooks.com/Recipe-Detai…</td><td>&quot;Gathered&quot;</td><td>&quot;[&quot;cream-style corn&quot;, &quot;whole ke…</td><td>[&quot;cream_-_style&quot;, &quot;corn&quot;, … &quot;pepper&quot;]</td><td>&quot;{&quot;saltine_cracker&quot;: [&quot;crush&quot;],…</td><td>[false, false, … false]</td></tr><tr><td>20</td><td>&quot;Grandma Hanrath&#x27;S Banana Bread…</td><td>[&quot;1 c. sugar&quot;, &quot;1/2 c. shortening&quot;, … &quot;2 over-ripe bananas (chopped)&quot;]</td><td>[&quot;Cream sugar and shortening.&quot;, &quot;Add eggs, salt and soda, then bananas and flour.&quot;, … &quot;Bake in loaf pan at 350° for 1 hour.&quot;]</td><td>&quot;www.cookbooks.com/Recipe-Detai…</td><td>&quot;Gathered&quot;</td><td>&quot;[&quot;sugar&quot;, &quot;shortening&quot;, &quot;eggs&quot;…</td><td>[&quot;sugar&quot;, &quot;egg&quot;, … &quot;banana&quot;]</td><td>&quot;{&quot;banana&quot;: [&quot;chop&quot;]}&quot;</td><td>[false, false, … false]</td></tr><tr><td>21</td><td>&quot;Chocolate Frango Mints&quot;</td><td>[&quot;1 pkg. devil&#x27;s food cake mix&quot;, &quot;1 pkg. chocolate fudge pudding mix (instant)&quot;, … &quot;6 oz. chopped Frango mints&quot;]</td><td>[&quot;Mix ingredients together for 5 minutes.&quot;, &quot;Scrape bowl often. Last fold in chocolate chip mints.&quot;, &quot;Bake at 350° for 35 to 40 minutes or until done (cake mix directions).&quot;]</td><td>&quot;www.cookbooks.com/Recipe-Detai…</td><td>&quot;Gathered&quot;</td><td>&quot;[&quot;cake mix&quot;, &quot;chocolate fudge …</td><td>[&quot;cake_mix&quot;, &quot;sour_cream&quot;, &quot;egg&quot;]</td><td>&quot;{}&quot;</td><td>[false, false, false]</td></tr><tr><td>24</td><td>&quot;Prize-Winning Meat Loaf&quot;</td><td>[&quot;1 1/2 lb. ground beef&quot;, &quot;1 c. tomato juice&quot;, … &quot;1 1/2 tsp. salt&quot;]</td><td>[&quot;Mix well.&quot;, &quot;Press firmly into an 8 1/2 x 4 1/2 x 2 1/2-inch loaf pan.&quot;, … &quot;Makes 8 servings.&quot;]</td><td>&quot;www.cookbooks.com/Recipe-Detai…</td><td>&quot;Gathered&quot;</td><td>&quot;[&quot;ground beef&quot;, &quot;tomato juice&quot;…</td><td>[&quot;beef&quot;, &quot;tomato_juice&quot;, … &quot;salt&quot;]</td><td>&quot;{&quot;beef&quot;: [&quot;ground&quot;], &quot;egg&quot;: [&quot;…</td><td>[false, false, … false]</td></tr><tr><td>&hellip;</td><td>&hellip;</td><td>&hellip;</td><td>&hellip;</td><td>&hellip;</td><td>&hellip;</td><td>&hellip;</td><td>&hellip;</td><td>&hellip;</td><td>&hellip;</td></tr><tr><td>987</td><td>&quot;French Toast And Sauce&quot;</td><td>[&quot;4 eggs, beaten&quot;, &quot;1/2 c. milk&quot;, … &quot;8 slices day-old bread&quot;]</td><td>[&quot;In a wide shallow bowl, beat 1st four ingredients. For each slice, melt 1 tablespoon of butter in skillet. Dip bread in egg mixture; turn and coat the other side. Cook slices in butter, browning on both sides. Serve with Sauce as follows.&quot;]</td><td>&quot;www.cookbooks.com/Recipe-Detai…</td><td>&quot;Gathered&quot;</td><td>&quot;[&quot;eggs&quot;, &quot;milk&quot;, &quot;frozen lemon…</td><td>[&quot;egg&quot;, &quot;milk&quot;, … &quot;bread&quot;]</td><td>&quot;{&quot;egg&quot;: [&quot;beat&quot;]}&quot;</td><td>[false, false, … false]</td></tr><tr><td>988</td><td>&quot;Spaghetti Pie&quot;</td><td>[&quot;6 oz. spaghetti&quot;, &quot;2 Tbsp. olive oil&quot;, … &quot;1/2 c. shredded Mozzarella (2 oz.)&quot;]</td><td>[&quot;Cook spaghetti (about 3 cups).&quot;, &quot;Stir olive oil into hot spaghetti.&quot;, … &quot;Form spaghetti mixture into a &quot;crust&quot; in a 10-inch pie plate sprayed with Pam. Spread cottage cheese over bottom of spaghetti crust.&quot;]</td><td>&quot;www.cookbooks.com/Recipe-Detai…</td><td>&quot;Gathered&quot;</td><td>&quot;[&quot;spaghetti&quot;, &quot;olive oil&quot;, &quot;Pa…</td><td>[&quot;olive_oil&quot;, &quot;parmesan_cheese&quot;, … &quot;mozzarella&quot;]</td><td>&quot;{&quot;parmesan_cheese&quot;: [&quot;grate&quot;],…</td><td>[false, false, … false]</td></tr><tr><td>991</td><td>&quot;Favorite Chocolate Cake&quot;</td><td>[&quot;1 3/4 c. flour&quot;, &quot;2 eggs&quot;, … &quot;1 c. buttermilk&quot;]</td><td>[&quot;Sift all dry ingredients in a large mixing bowl.&quot;, &quot;Stir.&quot;, … &quot;Tube pan takes 40 minutes.&quot;]</td><td>&quot;www.cookbooks.com/Recipe-Detai…</td><td>&quot;Gathered&quot;</td><td>&quot;[&quot;flour&quot;, &quot;eggs&quot;, &quot;baking powd…</td><td>[&quot;egg&quot;, &quot;bake_powder&quot;, … &quot;buttermilk&quot;]</td><td>&quot;{}&quot;</td><td>[false, false, … false]</td></tr><tr><td>992</td><td>&quot;Blue Muffins&quot;</td><td>[&quot;1 egg&quot;, &quot;1 c. milk&quot;, … &quot;2 c. blueberries&quot;]</td><td>[&quot;Mix thoroughly.&quot;, &quot;Pour into muffin pans and bake at 350°.&quot;]</td><td>&quot;www.cookbooks.com/Recipe-Detai…</td><td>&quot;Gathered&quot;</td><td>&quot;[&quot;egg&quot;, &quot;milk&quot;, &quot;shortening&quot;, …</td><td>[&quot;egg&quot;, &quot;milk&quot;, … &quot;blueberry&quot;]</td><td>&quot;{}&quot;</td><td>[false, false, … false]</td></tr><tr><td>996</td><td>&quot;Victorian Baked French Toast&quot;</td><td>[&quot;1 c. brown sugar&quot;, &quot;1/3 c. butter&quot;, … &quot;1 tsp. cinnamon&quot;]</td><td>[&quot;Cook brown sugar, butter and corn syrup in small saucepan until butter melts.&quot;, &quot;Pour into 9 x 13-inch pan.&quot;, … &quot;Bake at 350° for 30 minutes or until center is done and lightly browned.&quot;]</td><td>&quot;www.cookbooks.com/Recipe-Detai…</td><td>&quot;Gathered&quot;</td><td>&quot;[&quot;brown sugar&quot;, &quot;butter&quot;, &quot;lig…</td><td>[&quot;butter&quot;, &quot;corn_syrup&quot;, … &quot;cinnamon&quot;]</td><td>&quot;{}&quot;</td><td>[false, false, … false]</td></tr></tbody></table></div>"
      ],
      "text/plain": [
       "shape: (300, 10)\n",
       "┌─────┬────────────┬────────────┬────────────┬───┬────────────┬────────────┬───────────┬───────────┐\n",
       "│ C0  ┆ title      ┆ ingredient ┆ directions ┆ … ┆ NER        ┆ BOW_tokens ┆ preps     ┆ optionals │\n",
       "│ --- ┆ ---        ┆ s          ┆ ---        ┆   ┆ ---        ┆ ---        ┆ ---       ┆ ---       │\n",
       "│ i64 ┆ str        ┆ ---        ┆ list[str]  ┆   ┆ str        ┆ list[str]  ┆ str       ┆ list[bool │\n",
       "│     ┆            ┆ list[str]  ┆            ┆   ┆            ┆            ┆           ┆ ]         │\n",
       "╞═════╪════════════╪════════════╪════════════╪═══╪════════════╪════════════╪═══════════╪═══════════╡\n",
       "│ 6   ┆ Rhubarb    ┆ [\"1 1/2 c. ┆ [\"Cream    ┆ … ┆ [\"sugar\",  ┆ [\"sugar\",  ┆ {\"rhubarb ┆ [false,   │\n",
       "│     ┆ Coffee     ┆ sugar\",    ┆ sugar and  ┆   ┆ \"butter\",  ┆ \"butter\",  ┆ \": [\"fine ┆ false, …  │\n",
       "│     ┆ Cake       ┆ \"1/2 c.    ┆ butter.\",  ┆   ┆ \"egg\",     ┆ …          ┆ ly\",      ┆ false]    │\n",
       "│     ┆            ┆ but…       ┆ \"A…        ┆   ┆ \"bu…       ┆ \"rhubarb…  ┆ \"cut\"]}   ┆           │\n",
       "│ 7   ┆ Scalloped  ┆ [\"1 can    ┆ [\"Mix      ┆ … ┆ [\"cream-st ┆ [\"cream_-_ ┆ {\"saltine ┆ [false,   │\n",
       "│     ┆ Corn       ┆ cream-styl ┆ together   ┆   ┆ yle corn\", ┆ style\",    ┆ _cracker\" ┆ false, …  │\n",
       "│     ┆            ┆ e corn\",   ┆ both cans  ┆   ┆ \"whole ke… ┆ \"corn\", …  ┆ : [\"crush ┆ false]    │\n",
       "│     ┆            ┆ \"1 …       ┆ of co…     ┆   ┆            ┆ \"p…        ┆ \"],…      ┆           │\n",
       "│ 20  ┆ Grandma    ┆ [\"1 c.     ┆ [\"Cream    ┆ … ┆ [\"sugar\",  ┆ [\"sugar\",  ┆ {\"banana\" ┆ [false,   │\n",
       "│     ┆ Hanrath'S  ┆ sugar\",    ┆ sugar and  ┆   ┆ \"shortenin ┆ \"egg\", …   ┆ :         ┆ false, …  │\n",
       "│     ┆ Banana     ┆ \"1/2 c.    ┆ shortening ┆   ┆ g\",        ┆ \"banana\"]  ┆ [\"chop\"]} ┆ false]    │\n",
       "│     ┆ Bread…     ┆ shorten…   ┆ .\"…        ┆   ┆ \"eggs\"…    ┆            ┆           ┆           │\n",
       "│ 21  ┆ Chocolate  ┆ [\"1 pkg.   ┆ [\"Mix ingr ┆ … ┆ [\"cake     ┆ [\"cake_mix ┆ {}        ┆ [false,   │\n",
       "│     ┆ Frango     ┆ devil's    ┆ edients    ┆   ┆ mix\",      ┆ \", \"sour_c ┆           ┆ false,    │\n",
       "│     ┆ Mints      ┆ food cake  ┆ together   ┆   ┆ \"chocolate ┆ ream\",     ┆           ┆ false]    │\n",
       "│     ┆            ┆ mix…       ┆ for…       ┆   ┆ fudge …    ┆ \"eg…       ┆           ┆           │\n",
       "│ 24  ┆ Prize-Winn ┆ [\"1 1/2    ┆ [\"Mix      ┆ … ┆ [\"ground   ┆ [\"beef\",   ┆ {\"beef\":  ┆ [false,   │\n",
       "│     ┆ ing Meat   ┆ lb. ground ┆ well.\",    ┆   ┆ beef\",     ┆ \"tomato_ju ┆ [\"ground\" ┆ false, …  │\n",
       "│     ┆ Loaf       ┆ beef\", \"1  ┆ \"Press     ┆   ┆ \"tomato    ┆ ice\", …    ┆ ], \"egg\": ┆ false]    │\n",
       "│     ┆            ┆ c…         ┆ firmly in… ┆   ┆ juice\"…    ┆ \"sa…       ┆ [\"…       ┆           │\n",
       "│ …   ┆ …          ┆ …          ┆ …          ┆ … ┆ …          ┆ …          ┆ …         ┆ …         │\n",
       "│ 987 ┆ French     ┆ [\"4 eggs,  ┆ [\"In a     ┆ … ┆ [\"eggs\",   ┆ [\"egg\",    ┆ {\"egg\":   ┆ [false,   │\n",
       "│     ┆ Toast And  ┆ beaten\",   ┆ wide       ┆   ┆ \"milk\",    ┆ \"milk\", …  ┆ [\"beat\"]} ┆ false, …  │\n",
       "│     ┆ Sauce      ┆ \"1/2 c.    ┆ shallow    ┆   ┆ \"frozen    ┆ \"bread\"]   ┆           ┆ false]    │\n",
       "│     ┆            ┆ mil…       ┆ bowl,      ┆   ┆ lemon…     ┆            ┆           ┆           │\n",
       "│     ┆            ┆            ┆ beat…      ┆   ┆            ┆            ┆           ┆           │\n",
       "│ 988 ┆ Spaghetti  ┆ [\"6 oz.    ┆ [\"Cook     ┆ … ┆ [\"spaghett ┆ [\"olive_oi ┆ {\"parmesa ┆ [false,   │\n",
       "│     ┆ Pie        ┆ spaghetti\" ┆ spaghetti  ┆   ┆ i\", \"olive ┆ l\", \"parme ┆ n_cheese\" ┆ false, …  │\n",
       "│     ┆            ┆ , \"2 Tbsp. ┆ (about 3   ┆   ┆ oil\", \"Pa… ┆ san_cheese ┆ : [\"grate ┆ false]    │\n",
       "│     ┆            ┆ o…         ┆ cups…      ┆   ┆            ┆ …          ┆ \"],…      ┆           │\n",
       "│ 991 ┆ Favorite   ┆ [\"1 3/4 c. ┆ [\"Sift all ┆ … ┆ [\"flour\",  ┆ [\"egg\",    ┆ {}        ┆ [false,   │\n",
       "│     ┆ Chocolate  ┆ flour\", \"2 ┆ dry ingred ┆   ┆ \"eggs\",    ┆ \"bake_powd ┆           ┆ false, …  │\n",
       "│     ┆ Cake       ┆ eggs\", ……  ┆ ients in … ┆   ┆ \"baking    ┆ er\", …     ┆           ┆ false]    │\n",
       "│     ┆            ┆            ┆            ┆   ┆ powd…      ┆ \"butt…     ┆           ┆           │\n",
       "│ 992 ┆ Blue       ┆ [\"1 egg\",  ┆ [\"Mix thor ┆ … ┆ [\"egg\",    ┆ [\"egg\",    ┆ {}        ┆ [false,   │\n",
       "│     ┆ Muffins    ┆ \"1 c.      ┆ oughly.\",  ┆   ┆ \"milk\",    ┆ \"milk\", …  ┆           ┆ false, …  │\n",
       "│     ┆            ┆ milk\", …   ┆ \"Pour      ┆   ┆ \"shortenin ┆ \"blueberry ┆           ┆ false]    │\n",
       "│     ┆            ┆ \"2 c.…     ┆ into…      ┆   ┆ g\", …      ┆ \"]         ┆           ┆           │\n",
       "│ 996 ┆ Victorian  ┆ [\"1 c.     ┆ [\"Cook     ┆ … ┆ [\"brown    ┆ [\"butter\", ┆ {}        ┆ [false,   │\n",
       "│     ┆ Baked      ┆ brown      ┆ brown      ┆   ┆ sugar\",    ┆ \"corn_syru ┆           ┆ false, …  │\n",
       "│     ┆ French     ┆ sugar\",    ┆ sugar,     ┆   ┆ \"butter\",  ┆ p\", … \"ci… ┆           ┆ false]    │\n",
       "│     ┆ Toast      ┆ \"1/3 c. b… ┆ butter     ┆   ┆ \"lig…      ┆            ┆           ┆           │\n",
       "│     ┆            ┆            ┆ and…       ┆   ┆            ┆            ┆           ┆           │\n",
       "└─────┴────────────┴────────────┴────────────┴───┴────────────┴────────────┴───────────┴───────────┘"
      ]
     },
     "execution_count": 380,
     "metadata": {},
     "output_type": "execute_result"
    }
   ],
   "source": [
    "duckdb.sql(\"SELECT * FROM 'test.parquet' AS tbl WHERE list_contains(tbl.BOW_tokens, 'egg')\").pl()"
   ]
  },
  {
   "cell_type": "code",
   "execution_count": 381,
   "id": "57e1da54-44a9-461c-87c8-e160df15cbc6",
   "metadata": {},
   "outputs": [],
   "source": [
    "duckdb.sql(\"COPY(SELECT preps::JSON AS preps, * EXCLUDE (preps) FROM 'test.parquet') TO 'test.parquet' (FORMAT PARQUET, OVERWRITE TRUE)\")"
   ]
  },
  {
   "cell_type": "code",
   "execution_count": 382,
   "id": "cf4cd63c-7637-4415-aa6b-da481156741e",
   "metadata": {},
   "outputs": [],
   "source": [
    "ingredients = ['butter']\n",
    "preps = {'butter': ['cube'], 'cream_cheese': ['cube']}"
   ]
  },
  {
   "cell_type": "code",
   "execution_count": 383,
   "id": "38010aa6-7fdc-401c-a568-9bdf0df2a2ae",
   "metadata": {},
   "outputs": [
    {
     "data": {
      "text/plain": [
       "['butter', 'cream_cheese']"
      ]
     },
     "execution_count": 383,
     "metadata": {},
     "output_type": "execute_result"
    }
   ],
   "source": [
    "list(preps.keys())"
   ]
  },
  {
   "cell_type": "code",
   "execution_count": 384,
   "id": "67e1fa53-b6cf-4414-94bd-a2fd8a381131",
   "metadata": {},
   "outputs": [],
   "source": [
    "def construct_ingredient_query(pq_path: str, ingredients: list, preps: dict):\n",
    "    prep_keys = list(preps.keys())\n",
    "    base_sql = (f\"SELECT *, json_extract(preps, {prep_keys}) AS prep_lists\"\n",
    "                f\" FROM '{pq_path}'\"\n",
    "                \" AS tbl\"\n",
    "                f\" WHERE list_has_all(tbl.BOW_tokens, {ingredients})\"\n",
    "               )\n",
    "    prep_filter = \"\"\n",
    "    for i, (key, value) in enumerate(preps.items()):\n",
    "        prep_filter += (f\" AND (prep_lists->>{i}) IS NOT NULL\"\n",
    "                        f\" AND list_has_all(from_json(prep_lists->>{i}, '[\\\"VARCHAR\\\"]'), {value})\"\n",
    "                       )\n",
    "    sql = base_sql + prep_filter\n",
    "    return sql"
   ]
  },
  {
   "cell_type": "code",
   "execution_count": 385,
   "id": "27714618-d373-4583-a789-d5ba09e0eceb",
   "metadata": {},
   "outputs": [
    {
     "data": {
      "text/html": [
       "<div><style>\n",
       ".dataframe > thead > tr,\n",
       ".dataframe > tbody > tr {\n",
       "  text-align: right;\n",
       "  white-space: pre-wrap;\n",
       "}\n",
       "</style>\n",
       "<small>shape: (1, 11)</small><table border=\"1\" class=\"dataframe\"><thead><tr><th>preps</th><th>C0</th><th>title</th><th>ingredients</th><th>directions</th><th>link</th><th>source</th><th>NER</th><th>BOW_tokens</th><th>optionals</th><th>prep_lists</th></tr><tr><td>str</td><td>i64</td><td>str</td><td>list[str]</td><td>list[str]</td><td>str</td><td>str</td><td>str</td><td>list[str]</td><td>list[bool]</td><td>list[str]</td></tr></thead><tbody><tr><td>&quot;{&quot;cream_cheese&quot;: [&quot;cube&quot;], &quot;bu…</td><td>2</td><td>&quot;Creamy Corn&quot;</td><td>[&quot;2 (16 oz.) pkg. frozen corn&quot;, &quot;1 (8 oz.) pkg. cream cheese, cubed&quot;, … &quot;1/4 tsp. pepper&quot;]</td><td>[&quot;In a slow cooker, combine all ingredients. Cover and cook on low for 4 hours or until heated through and cheese is melted. Stir well before serving. Yields 6 servings.&quot;]</td><td>&quot;www.cookbooks.com/Recipe-Detai…</td><td>&quot;Gathered&quot;</td><td>&quot;[&quot;frozen corn&quot;, &quot;cream cheese&quot;…</td><td>[&quot;corn&quot;, &quot;cream_cheese&quot;, … &quot;pepper&quot;]</td><td>[false, false, … false]</td><td>[&quot;[&quot;cube&quot;]&quot;, &quot;[&quot;cube&quot;]&quot;]</td></tr></tbody></table></div>"
      ],
      "text/plain": [
       "shape: (1, 11)\n",
       "┌─────────────┬─────┬────────┬─────────────┬───┬────────────┬────────────┬────────────┬────────────┐\n",
       "│ preps       ┆ C0  ┆ title  ┆ ingredients ┆ … ┆ NER        ┆ BOW_tokens ┆ optionals  ┆ prep_lists │\n",
       "│ ---         ┆ --- ┆ ---    ┆ ---         ┆   ┆ ---        ┆ ---        ┆ ---        ┆ ---        │\n",
       "│ str         ┆ i64 ┆ str    ┆ list[str]   ┆   ┆ str        ┆ list[str]  ┆ list[bool] ┆ list[str]  │\n",
       "╞═════════════╪═════╪════════╪═════════════╪═══╪════════════╪════════════╪════════════╪════════════╡\n",
       "│ {\"cream_che ┆ 2   ┆ Creamy ┆ [\"2 (16     ┆ … ┆ [\"frozen   ┆ [\"corn\",   ┆ [false,    ┆ [\"[\"cube\"] │\n",
       "│ ese\":       ┆     ┆ Corn   ┆ oz.) pkg.   ┆   ┆ corn\",     ┆ \"cream_che ┆ false, …   ┆ \", \"[\"cube │\n",
       "│ [\"cube\"],   ┆     ┆        ┆ frozen      ┆   ┆ \"cream     ┆ ese\", …    ┆ false]     ┆ \"]\"]       │\n",
       "│ \"bu…        ┆     ┆        ┆ corn\"…      ┆   ┆ cheese\"…   ┆ \"pe…       ┆            ┆            │\n",
       "└─────────────┴─────┴────────┴─────────────┴───┴────────────┴────────────┴────────────┴────────────┘"
      ]
     },
     "execution_count": 385,
     "metadata": {},
     "output_type": "execute_result"
    }
   ],
   "source": [
    "duckdb.sql(construct_ingredient_query('test.parquet', ingredients, preps)).pl()"
   ]
  },
  {
   "cell_type": "code",
   "execution_count": 386,
   "id": "65dbd2e8-8100-46b3-b97b-65a796edd92a",
   "metadata": {},
   "outputs": [
    {
     "name": "stdout",
     "output_type": "stream",
     "text": [
      "###############################\n",
      "####### WITHOUT PREPS #########\n",
      "###############################\n",
      "\n",
      "---- Honey Almond Squares ----\n",
      "1 Duncan Hines white pudding cake mix\n",
      "1 (8 oz.) pkg. cream cheese (at room temperature)\n",
      "1/4 c. alfalfa honey\n",
      "3 to 4 oz. sliced almonds\n",
      "\n",
      "---- Caramel Pie ----\n",
      "16 oz. Cool Whip\n",
      "2 c. coconut\n",
      "3/4 margarine, melted\n",
      "1 c. slivered almonds, chopped fine\n",
      "1 can Eagle Brand milk\n",
      "3 graham cracker crusts\n",
      "8 oz. cream cheese\n",
      "1 jar caramel topping\n",
      "\n",
      "---- Almond Roco ----\n",
      "1 lb. butter (not margarine)\n",
      "2 c. granulated sugar\n",
      "1/2 c. water\n",
      "1/2 c. chopped almonds\n",
      "3 chocolate candy bars\n",
      "1/4 c. chopped almonds or as desired (for topping)\n",
      "\n",
      "---- Crabmeat Au Gratin ----\n",
      "1 can cream of shrimp soup\n",
      "1/2 can milk (use soup can)\n",
      "1 lb. faux crabmeat\n",
      "4 c. celery, chopped\n",
      "1/2 c. green pepper, chopped\n",
      "2 pimentos, chopped\n",
      "2 Tbsp. onions, chopped\n",
      "1/3 c. slivered almonds\n",
      "4 hard-cooked eggs, chopped\n",
      "1 c. shredded sharp Cheddar cheese\n",
      "buttered bread crumbs\n",
      "\n",
      "---- Fresh Broccoli Salad ----\n",
      "2 bunches fresh broccoli\n",
      "10 slices bacon, cooked and crumbled\n",
      "2/3 c. raisins\n",
      "1/2 c. onion, chopped\n",
      "1 c. salad dressing (Miracle Whip)\n",
      "1/2 c. sugar\n",
      "2 Tbsp. vinegar\n",
      "1/2 c. slivered almonds (optional)\n",
      "1/2 c. sharp cheese (optional)\n",
      "\n",
      "---- Luau ----\n",
      "2 lb. pork sausage\n",
      "2 c. white Minute rice\n",
      "1 green pepper, chopped fine\n",
      "2 large onions, chopped fine\n",
      "1 bunch celery, chopped fine\n",
      "3 1/2 oz. chopped almonds\n",
      "2 dry packs Lipton noodle soup\n",
      "\n",
      "---- Chicken Casserole ----\n",
      "4 c. cooked chicken\n",
      "1 c. chopped celery\n",
      "1 c. cooked rice\n",
      "3/4 c. mayonnaise\n",
      "1 can cream of chicken soup\n",
      "1 Tbsp. lemon juice\n",
      "3 Tbsp. chopped onion\n",
      "3 hard-boiled eggs\n",
      "1 can water chestnuts (optional)\n",
      "3/4 to 1 stick butter\n",
      "1/2 c. slivered almonds (optional)\n",
      "1 c. crushed corn flakes\n",
      "\n",
      "---- Broccoli Almond ----\n",
      "2 (10 oz.) pkg. frozen chopped broccoli\n",
      "1/4 c. chopped onion\n",
      "1/4 c. butter\n",
      "2 Tbsp. flour\n",
      "1/2 c. milk\n",
      "1 (8 oz.) jar pasteurized process cheese spread\n",
      "1/2 tsp. salt\n",
      "1/8 tsp. pepper\n",
      "2 eggs, well beaten\n",
      "1/2 c. bread crumbs\n",
      "2 Tbsp. melted butter\n",
      "1/4 c. toasted slivered almonds\n",
      "\n",
      "---- Onion Casserole ----\n",
      "4 cups sliced onions\n",
      "1 can mushroom soup\n",
      "1/2 stick melted butter\n",
      "1/2 cup almonds\n",
      "1 cup cornflakes- crushed\n",
      "\n",
      "---- Squash Casserole ----\n",
      "2 lb. small yellow squash, sliced\n",
      "1 large onion, chopped\n",
      "1 (7 oz.) can water chestnuts, sliced\n",
      "1 stick margarine\n",
      "1/4 c. pimento, chopped\n",
      "1 (3 oz.) pkg. sliced almonds\n",
      "1 c. sour cream\n",
      "1 (10 3/4 oz.) can mushroom soup\n",
      "1 lb. pkg. Pepperidge Farm stuffing mix\n",
      "\n",
      "---- Swedish Heirloom Cookies ----\n",
      "1/2 c. shortening\n",
      "1/2 c. butter, softened\n",
      "1 c. sifted powdered sugar\n",
      "1/2 tsp. salt\n",
      "2 c. all-purpose flour\n",
      "1 Tbsp. water\n",
      "1 Tbsp. vanilla extract\n",
      "1 1/4 c. ground almonds\n",
      "powdered sugar\n",
      "\n",
      "---- Chicken And Pasta Salad ----\n",
      "1 (8 oz.) pkg. egg noodles, cooked and drained\n",
      "3 chicken breasts, cooked and cut up in small pieces\n",
      "seedless green grapes\n",
      "sliced almonds\n",
      "##############################\n",
      "######## WITH PREPS ##########\n",
      "##############################\n",
      "\n",
      "---- Caramel Pie ----\n",
      "16 oz. Cool Whip\n",
      "2 c. coconut\n",
      "3/4 margarine, melted\n",
      "1 c. slivered almonds, chopped fine\n",
      "1 can Eagle Brand milk\n",
      "3 graham cracker crusts\n",
      "8 oz. cream cheese\n",
      "1 jar caramel topping\n",
      "\n",
      "---- Almond Roco ----\n",
      "1 lb. butter (not margarine)\n",
      "2 c. granulated sugar\n",
      "1/2 c. water\n",
      "1/2 c. chopped almonds\n",
      "3 chocolate candy bars\n",
      "1/4 c. chopped almonds or as desired (for topping)\n",
      "\n",
      "---- Luau ----\n",
      "2 lb. pork sausage\n",
      "2 c. white Minute rice\n",
      "1 green pepper, chopped fine\n",
      "2 large onions, chopped fine\n",
      "1 bunch celery, chopped fine\n",
      "3 1/2 oz. chopped almonds\n",
      "2 dry packs Lipton noodle soup\n"
     ]
    }
   ],
   "source": [
    "ingredients = ['almond']\n",
    "preps = {}\n",
    "sql = construct_ingredient_query('test.parquet', ingredients, preps)\n",
    "results = duckdb.sql(sql).pl()\n",
    "print(\"###############################\")\n",
    "print(\"####### WITHOUT PREPS #########\")\n",
    "print(\"###############################\")\n",
    "for title, ingr in results['title', 'ingredients'].iter_rows():\n",
    "    print()\n",
    "    print(f\"---- {title} ----\")\n",
    "    print(\"\\n\".join(ingr))\n",
    "    \n",
    "ingredients = ['almond']\n",
    "preps = {'almond': ['chop']}\n",
    "sql = construct_ingredient_query('test.parquet', ingredients, preps)\n",
    "results = duckdb.sql(sql).pl()\n",
    "print(\"##############################\")\n",
    "print(\"######## WITH PREPS ##########\")\n",
    "print(\"##############################\")\n",
    "for title, ingr in results['title', 'ingredients'].iter_rows():\n",
    "    print()\n",
    "    print(f\"---- {title} ----\")\n",
    "    print(\"\\n\".join(ingr))"
   ]
  },
  {
   "cell_type": "code",
   "execution_count": 387,
   "id": "38b253e1-77bd-4766-9896-57e4e3efdab9",
   "metadata": {},
   "outputs": [],
   "source": []
  },
  {
   "cell_type": "code",
   "execution_count": 388,
   "id": "2d7a971c-7fa6-46d6-82f1-b2f9f1166ce6",
   "metadata": {},
   "outputs": [
    {
     "data": {
      "text/plain": [
       "Int64"
      ]
     },
     "execution_count": 388,
     "metadata": {},
     "output_type": "execute_result"
    }
   ],
   "source": [
    "nlg_ds.schema['index']"
   ]
  },
  {
   "cell_type": "code",
   "execution_count": 389,
   "id": "84eb53e9-5e15-413f-a84f-4b4b5cf6c0b2",
   "metadata": {},
   "outputs": [
    {
     "data": {
      "text/html": [
       "<div><style>\n",
       ".dataframe > thead > tr,\n",
       ".dataframe > tbody > tr {\n",
       "  text-align: right;\n",
       "  white-space: pre-wrap;\n",
       "}\n",
       "</style>\n",
       "<small>shape: (1_000, 11)</small><table border=\"1\" class=\"dataframe\"><thead><tr><th></th><th>title</th><th>ingredients</th><th>directions</th><th>link</th><th>source</th><th>NER</th><th>BOW_tokens</th><th>preps</th><th>optionals</th><th>index</th></tr><tr><td>i64</td><td>str</td><td>list[str]</td><td>list[str]</td><td>str</td><td>str</td><td>str</td><td>list[str]</td><td>str</td><td>list[bool]</td><td>i64</td></tr></thead><tbody><tr><td>0</td><td>&quot;No-Bake Nut Cookies&quot;</td><td>[&quot;1 c. firmly packed brown sugar&quot;, &quot;1/2 c. evaporated milk&quot;, … &quot;3 1/2 c. bite size shredded rice biscuits&quot;]</td><td>[&quot;In a heavy 2-quart saucepan, mix brown sugar, nuts, evaporated milk and butter or margarine.&quot;, &quot;Stir over medium heat until mixture bubbles all over top.&quot;, … &quot;Let stand until firm, about 30 minutes.&quot;]</td><td>&quot;www.cookbooks.com/Recipe-Detai…</td><td>&quot;Gathered&quot;</td><td>&quot;[&quot;brown sugar&quot;, &quot;milk&quot;, &quot;vanil…</td><td>[&quot;brown_sugar&quot;, &quot;milk&quot;, … &quot;butter&quot;]</td><td>&quot;{}&quot;</td><td>[false, false, … false]</td><td>0</td></tr><tr><td>1</td><td>&quot;Jewell Ball&#x27;S Chicken&quot;</td><td>[&quot;1 small jar chipped beef, cut up&quot;, &quot;4 boned chicken breasts&quot;, … &quot;1 carton sour cream&quot;]</td><td>[&quot;Place chipped beef on bottom of baking dish.&quot;, &quot;Place chicken on top of beef.&quot;, &quot;Mix soup and cream together; pour over chicken. Bake, uncovered, at 275° for 3 hours.&quot;]</td><td>&quot;www.cookbooks.com/Recipe-Detai…</td><td>&quot;Gathered&quot;</td><td>&quot;[&quot;beef&quot;, &quot;chicken breasts&quot;, &quot;c…</td><td>[&quot;beef&quot;, &quot;chicken_breast&quot;, … &quot;sour_cream&quot;]</td><td>&quot;{&quot;beef&quot;: [&quot;chip&quot;, &quot;cut&quot;, &quot;up&quot;]…</td><td>[false, false, … false]</td><td>1</td></tr><tr><td>2</td><td>&quot;Creamy Corn&quot;</td><td>[&quot;2 (16 oz.) pkg. frozen corn&quot;, &quot;1 (8 oz.) pkg. cream cheese, cubed&quot;, … &quot;1/4 tsp. pepper&quot;]</td><td>[&quot;In a slow cooker, combine all ingredients. Cover and cook on low for 4 hours or until heated through and cheese is melted. Stir well before serving. Yields 6 servings.&quot;]</td><td>&quot;www.cookbooks.com/Recipe-Detai…</td><td>&quot;Gathered&quot;</td><td>&quot;[&quot;frozen corn&quot;, &quot;cream cheese&quot;…</td><td>[&quot;corn&quot;, &quot;cream_cheese&quot;, … &quot;pepper&quot;]</td><td>&quot;{&quot;cream_cheese&quot;: [&quot;cube&quot;], &quot;bu…</td><td>[false, false, … false]</td><td>2</td></tr><tr><td>3</td><td>&quot;Chicken Funny&quot;</td><td>[&quot;1 large whole chicken&quot;, &quot;2 (10 1/2 oz.) cans chicken gravy&quot;, … &quot;4 oz. shredded cheese&quot;]</td><td>[&quot;Boil and debone chicken.&quot;, &quot;Put bite size pieces in average size square casserole dish.&quot;, … &quot;Sprinkle shredded cheese on top and bake at 350° for approximately 20 minutes or until golden and bubbly.&quot;]</td><td>&quot;www.cookbooks.com/Recipe-Detai…</td><td>&quot;Gathered&quot;</td><td>&quot;[&quot;chicken&quot;, &quot;chicken gravy&quot;, &quot;…</td><td>[&quot;chicken&quot;, &quot;chicken_gravy&quot;, &quot;cream_of_mushroom_soup&quot;]</td><td>&quot;{}&quot;</td><td>[false, false, false]</td><td>3</td></tr><tr><td>4</td><td>&quot;Reeses Cups(Candy)&nbsp;&nbsp;&quot;</td><td>[&quot;1 c. peanut butter&quot;, &quot;3/4 c. graham cracker crumbs&quot;, … &quot;1 large pkg. chocolate chips&quot;]</td><td>[&quot;Combine first four ingredients and press in 13 x 9-inch ungreased pan.&quot;, &quot;Melt chocolate chips and spread over mixture. Refrigerate for about 20 minutes and cut into pieces before chocolate gets hard.&quot;, &quot;Keep in refrigerator.&quot;]</td><td>&quot;www.cookbooks.com/Recipe-Detai…</td><td>&quot;Gathered&quot;</td><td>&quot;[&quot;peanut butter&quot;, &quot;graham crac…</td><td>[&quot;peanut_butter&quot;, &quot;graham_cracker_crumb&quot;, … &quot;chocolate_chip&quot;]</td><td>&quot;{}&quot;</td><td>[false, false, … false]</td><td>4</td></tr><tr><td>&hellip;</td><td>&hellip;</td><td>&hellip;</td><td>&hellip;</td><td>&hellip;</td><td>&hellip;</td><td>&hellip;</td><td>&hellip;</td><td>&hellip;</td><td>&hellip;</td><td>&hellip;</td></tr><tr><td>995</td><td>&quot;Heath Bar Pie&quot;</td><td>[&quot;3 Heath bars, chopped fine&quot;, &quot;1 medium container whipping topping&quot;, … &quot;chocolate curls or chopped nuts&quot;]</td><td>[&quot;Mix chopped Heath bars with whipped topping and pour into crust.&quot;, &quot;Top with chocolate curls or chopped nuts.&quot;, &quot;Refrigerate.&quot;]</td><td>&quot;www.cookbooks.com/Recipe-Detai…</td><td>&quot;Gathered&quot;</td><td>&quot;[&quot;graham cracker pie crust&quot;, &quot;…</td><td>[&quot;bar&quot;, &quot;whip_topping&quot;, … &quot;chocolate_curl&quot;]</td><td>&quot;{&quot;bar&quot;: [&quot;chop&quot;], &quot;chocolate_c…</td><td>[false, false, … false]</td><td>995</td></tr><tr><td>996</td><td>&quot;Victorian Baked French Toast&quot;</td><td>[&quot;1 c. brown sugar&quot;, &quot;1/3 c. butter&quot;, … &quot;1 tsp. cinnamon&quot;]</td><td>[&quot;Cook brown sugar, butter and corn syrup in small saucepan until butter melts.&quot;, &quot;Pour into 9 x 13-inch pan.&quot;, … &quot;Bake at 350° for 30 minutes or until center is done and lightly browned.&quot;]</td><td>&quot;www.cookbooks.com/Recipe-Detai…</td><td>&quot;Gathered&quot;</td><td>&quot;[&quot;brown sugar&quot;, &quot;butter&quot;, &quot;lig…</td><td>[&quot;butter&quot;, &quot;corn_syrup&quot;, … &quot;cinnamon&quot;]</td><td>&quot;{}&quot;</td><td>[false, false, … false]</td><td>996</td></tr><tr><td>997</td><td>&quot;Quick Swedish Meatballs&quot;</td><td>[&quot;1 lb. ground beef&quot;, &quot;1 c. soft bread crumbs&quot;, … &quot;1 pkg. stroganoff sauce mix&quot;]</td><td>[&quot;Combine meat, bread crumbs, cheese, soup mix, seasonings and 1/4 cup milk; mix thoroughly (with hands).&quot;, &quot;Form into small balls. Brown lightly; remove to a baking dish.&quot;, … &quot;Bake in a 350° oven for 30 to 45 minutes.&quot;]</td><td>&quot;www.cookbooks.com/Recipe-Detai…</td><td>&quot;Gathered&quot;</td><td>&quot;[&quot;ground beef&quot;, &quot;bread crumbs&quot;…</td><td>[&quot;beef&quot;, &quot;bread_crumb&quot;, … &quot;milk&quot;]</td><td>&quot;{&quot;beef&quot;: [&quot;ground&quot;]}&quot;</td><td>[false, false, … false]</td><td>997</td></tr><tr><td>998</td><td>&quot;Irish Stew(Microwave)&nbsp;&nbsp;&quot;</td><td>[&quot;2 lb. lamb, cut in 1-inch cubes&quot;, &quot;2 c. water&quot;, … &quot;1/4 c. flour&quot;]</td><td>[&quot;In 4-quart casserole, combine lamb, 1 1/4 cups water, soup mix and bay leaf.&quot;, &quot;Heat, covered, 7 to 8 minutes on High.&quot;, … &quot;Serves 6.&quot;]</td><td>&quot;www.cookbooks.com/Recipe-Detai…</td><td>&quot;Gathered&quot;</td><td>&quot;[&quot;lamb&quot;, &quot;water&quot;, &quot;onion soup&quot;…</td><td>[&quot;lamb&quot;, &quot;onion_soup_mix&quot;, … &quot;flour&quot;]</td><td>&quot;{&quot;lamb&quot;: [&quot;cut&quot;, &quot;in&quot;, &quot;1&quot;, &quot;-…</td><td>[false, false, … false]</td><td>998</td></tr><tr><td>999</td><td>&quot;Peach Salad&quot;</td><td>[&quot;2-3 oz boxes Peach Jello&quot;, &quot;1 large jar Peach Baby food&quot;, … &quot;1 large can crushed pineapple, not drained&quot;]</td><td>[&quot;Mix jello with hot water and sugar. Allow to come to a boil. Take off stove and add peaches and pineapple.&quot;]</td><td>&quot;www.cookbooks.com/Recipe-Detai…</td><td>&quot;Gathered&quot;</td><td>&quot;[&quot;Jello&quot;, &quot;food&quot;, &quot;Condensed M…</td><td>[&quot;milk&quot;, &quot;cream_cheese&quot;, … &quot;pineapple&quot;]</td><td>&quot;{&quot;pineapple&quot;: [&quot;crush&quot;]}&quot;</td><td>[false, false, … false]</td><td>999</td></tr></tbody></table></div>"
      ],
      "text/plain": [
       "shape: (1_000, 11)\n",
       "┌─────┬─────────────┬─────────────┬─────────────┬───┬────────────┬────────────┬────────────┬───────┐\n",
       "│     ┆ title       ┆ ingredients ┆ directions  ┆ … ┆ BOW_tokens ┆ preps      ┆ optionals  ┆ index │\n",
       "│ --- ┆ ---         ┆ ---         ┆ ---         ┆   ┆ ---        ┆ ---        ┆ ---        ┆ ---   │\n",
       "│ i64 ┆ str         ┆ list[str]   ┆ list[str]   ┆   ┆ list[str]  ┆ str        ┆ list[bool] ┆ i64   │\n",
       "╞═════╪═════════════╪═════════════╪═════════════╪═══╪════════════╪════════════╪════════════╪═══════╡\n",
       "│ 0   ┆ No-Bake Nut ┆ [\"1 c.      ┆ [\"In a      ┆ … ┆ [\"brown_su ┆ {}         ┆ [false,    ┆ 0     │\n",
       "│     ┆ Cookies     ┆ firmly      ┆ heavy       ┆   ┆ gar\",      ┆            ┆ false, …   ┆       │\n",
       "│     ┆             ┆ packed      ┆ 2-quart     ┆   ┆ \"milk\", …  ┆            ┆ false]     ┆       │\n",
       "│     ┆             ┆ brown sug…  ┆ saucepan,…  ┆   ┆ \"but…      ┆            ┆            ┆       │\n",
       "│ 1   ┆ Jewell      ┆ [\"1 small   ┆ [\"Place     ┆ … ┆ [\"beef\",   ┆ {\"beef\":   ┆ [false,    ┆ 1     │\n",
       "│     ┆ Ball'S      ┆ jar chipped ┆ chipped     ┆   ┆ \"chicken_b ┆ [\"chip\",   ┆ false, …   ┆       │\n",
       "│     ┆ Chicken     ┆ beef, cu…   ┆ beef on     ┆   ┆ reast\", …  ┆ \"cut\",     ┆ false]     ┆       │\n",
       "│     ┆             ┆             ┆ bottom…     ┆   ┆ \"…         ┆ \"up\"]…     ┆            ┆       │\n",
       "│ 2   ┆ Creamy Corn ┆ [\"2 (16     ┆ [\"In a slow ┆ … ┆ [\"corn\",   ┆ {\"cream_ch ┆ [false,    ┆ 2     │\n",
       "│     ┆             ┆ oz.) pkg.   ┆ cooker,     ┆   ┆ \"cream_che ┆ eese\":     ┆ false, …   ┆       │\n",
       "│     ┆             ┆ frozen      ┆ combine al… ┆   ┆ ese\", …    ┆ [\"cube\"],  ┆ false]     ┆       │\n",
       "│     ┆             ┆ corn\"…      ┆             ┆   ┆ \"pe…       ┆ \"bu…       ┆            ┆       │\n",
       "│ 3   ┆ Chicken     ┆ [\"1 large   ┆ [\"Boil and  ┆ … ┆ [\"chicken\" ┆ {}         ┆ [false,    ┆ 3     │\n",
       "│     ┆ Funny       ┆ whole       ┆ debone      ┆   ┆ , \"chicken ┆            ┆ false,     ┆       │\n",
       "│     ┆             ┆ chicken\",   ┆ chicken.\",  ┆   ┆ _gravy\",   ┆            ┆ false]     ┆       │\n",
       "│     ┆             ┆ \"2 (…       ┆ \"…          ┆   ┆ \"…         ┆            ┆            ┆       │\n",
       "│ 4   ┆ Reeses      ┆ [\"1 c.      ┆ [\"Combine   ┆ … ┆ [\"peanut_b ┆ {}         ┆ [false,    ┆ 4     │\n",
       "│     ┆ Cups(Candy) ┆ peanut      ┆ first four  ┆   ┆ utter\",    ┆            ┆ false, …   ┆       │\n",
       "│     ┆             ┆ butter\",    ┆ ingredien…  ┆   ┆ \"graham_cr ┆            ┆ false]     ┆       │\n",
       "│     ┆             ┆ \"3/4 c.…    ┆             ┆   ┆ ac…        ┆            ┆            ┆       │\n",
       "│ …   ┆ …           ┆ …           ┆ …           ┆ … ┆ …          ┆ …          ┆ …          ┆ …     │\n",
       "│ 995 ┆ Heath Bar   ┆ [\"3 Heath   ┆ [\"Mix       ┆ … ┆ [\"bar\",    ┆ {\"bar\":    ┆ [false,    ┆ 995   │\n",
       "│     ┆ Pie         ┆ bars,       ┆ chopped     ┆   ┆ \"whip_topp ┆ [\"chop\"],  ┆ false, …   ┆       │\n",
       "│     ┆             ┆ chopped     ┆ Heath bars  ┆   ┆ ing\", …    ┆ \"chocolate ┆ false]     ┆       │\n",
       "│     ┆             ┆ fine\",…     ┆ with …      ┆   ┆ \"cho…      ┆ _c…        ┆            ┆       │\n",
       "│ 996 ┆ Victorian   ┆ [\"1 c.      ┆ [\"Cook      ┆ … ┆ [\"butter\", ┆ {}         ┆ [false,    ┆ 996   │\n",
       "│     ┆ Baked       ┆ brown       ┆ brown       ┆   ┆ \"corn_syru ┆            ┆ false, …   ┆       │\n",
       "│     ┆ French      ┆ sugar\",     ┆ sugar,      ┆   ┆ p\", … \"ci… ┆            ┆ false]     ┆       │\n",
       "│     ┆ Toast       ┆ \"1/3 c. b…  ┆ butter and… ┆   ┆            ┆            ┆            ┆       │\n",
       "│ 997 ┆ Quick       ┆ [\"1 lb.     ┆ [\"Combine   ┆ … ┆ [\"beef\",   ┆ {\"beef\":   ┆ [false,    ┆ 997   │\n",
       "│     ┆ Swedish     ┆ ground      ┆ meat, bread ┆   ┆ \"bread_cru ┆ [\"ground\"] ┆ false, …   ┆       │\n",
       "│     ┆ Meatballs   ┆ beef\", \"1   ┆ crumbs, …   ┆   ┆ mb\", …     ┆ }          ┆ false]     ┆       │\n",
       "│     ┆             ┆ c. so…      ┆             ┆   ┆ \"mil…      ┆            ┆            ┆       │\n",
       "│ 998 ┆ Irish Stew( ┆ [\"2 lb.     ┆ [\"In        ┆ … ┆ [\"lamb\",   ┆ {\"lamb\":   ┆ [false,    ┆ 998   │\n",
       "│     ┆ Microwave)  ┆ lamb, cut   ┆ 4-quart     ┆   ┆ \"onion_sou ┆ [\"cut\",    ┆ false, …   ┆       │\n",
       "│     ┆             ┆ in 1-inch   ┆ casserole,  ┆   ┆ p_mix\", …  ┆ \"in\", \"1\", ┆ false]     ┆       │\n",
       "│     ┆             ┆ cu…         ┆ combin…     ┆   ┆ \"…         ┆ \"-…        ┆            ┆       │\n",
       "│ 999 ┆ Peach Salad ┆ [\"2-3 oz    ┆ [\"Mix jello ┆ … ┆ [\"milk\",   ┆ {\"pineappl ┆ [false,    ┆ 999   │\n",
       "│     ┆             ┆ boxes Peach ┆ with hot    ┆   ┆ \"cream_che ┆ e\":        ┆ false, …   ┆       │\n",
       "│     ┆             ┆ Jello\", \"…  ┆ water and…  ┆   ┆ ese\", …    ┆ [\"crush\"]} ┆ false]     ┆       │\n",
       "│     ┆             ┆             ┆             ┆   ┆ \"pi…       ┆            ┆            ┆       │\n",
       "└─────┴─────────────┴─────────────┴─────────────┴───┴────────────┴────────────┴────────────┴───────┘"
      ]
     },
     "execution_count": 389,
     "metadata": {},
     "output_type": "execute_result"
    }
   ],
   "source": [
    "nlg_ds"
   ]
  },
  {
   "cell_type": "code",
   "execution_count": 415,
   "id": "33e57aa1-b955-432a-8505-4cf5cca006d9",
   "metadata": {},
   "outputs": [],
   "source": [
    "import random\n",
    "random.seed(123)\n",
    "eval_data_idx = random.sample(range(0,nlg_ds.shape[0]), k=10000)"
   ]
  },
  {
   "cell_type": "code",
   "execution_count": 416,
   "id": "e468fb2e-bd51-4a1c-bfd7-a3956f57d0ca",
   "metadata": {},
   "outputs": [
    {
     "data": {
      "text/html": [
       "<div><style>\n",
       ".dataframe > thead > tr,\n",
       ".dataframe > tbody > tr {\n",
       "  text-align: right;\n",
       "  white-space: pre-wrap;\n",
       "}\n",
       "</style>\n",
       "<small>shape: (10_000, 8)</small><table border=\"1\" class=\"dataframe\"><thead><tr><th></th><th>title</th><th>ingredients</th><th>directions</th><th>link</th><th>source</th><th>NER</th><th>index</th></tr><tr><td>i64</td><td>str</td><td>list[str]</td><td>list[str]</td><td>str</td><td>str</td><td>str</td><td>i64</td></tr></thead><tbody><tr><td>493</td><td>&quot;Sour Cream Meat Loaf&quot;</td><td>[&quot;2 lb. ground lean beef&quot;, &quot;1 1/2 c. grated raw carrot&quot;, … &quot;2 c. sour cream&quot;]</td><td>[&quot;Combine all ingredients in large mixing bowl; blend well. Pack in a 9 x 5 x 3-inch loaf pan.&quot;, &quot;Bake at 350° for 1 1/2 to 1 3/4 hours.&quot;, &quot;Serves 6.&quot;]</td><td>&quot;www.cookbooks.com/Recipe-Detai…</td><td>&quot;Gathered&quot;</td><td>&quot;[&quot;ground lean beef&quot;, &quot;carrot&quot;,…</td><td>493</td></tr><tr><td>1244</td><td>&quot;Chocolate Pistachio Cake&quot;</td><td>[&quot;1 box Duncan Hines yellow cake mix&quot;, &quot;1 box instant pistachio pudding&quot;, … &quot;1/2 can Hershey&#x27;s chocolate syrup&quot;]</td><td>[&quot;Blend to moisten, then beat for 2 minutes.&quot;, &quot;(Optional: a few drops of green food dye for a richer green color.) Pour about 3/4 batter into a greased and floured Bundt pan.&quot;, … &quot;When cool, dust with confectioners sugar.&quot;]</td><td>&quot;www.cookbooks.com/Recipe-Detai…</td><td>&quot;Gathered&quot;</td><td>&quot;[&quot;orange juice&quot;, &quot;water&quot;, &quot;oil…</td><td>1244</td></tr><tr><td>1292</td><td>&quot;Corn Pudding&quot;</td><td>[&quot;1 can golden crushed corn&quot;, &quot;2 eggs, slightly beaten&quot;, … &quot;sprinkle of paprika&quot;]</td><td>[&quot;Melt butter in casserole.&quot;, &quot;Beat eggs.&quot;, … &quot;Bake at 325° for an hour (it should jiggle and a knife should come out kinda clean).&quot;]</td><td>&quot;www.cookbooks.com/Recipe-Detai…</td><td>&quot;Gathered&quot;</td><td>&quot;[&quot;golden crushed corn&quot;, &quot;eggs&quot;…</td><td>1292</td></tr><tr><td>1461</td><td>&quot;Apricot Cake&quot;</td><td>[&quot;2 c. sugar&quot;, &quot;4 eggs&quot;, … &quot;1/2 c. chopped nuts (English or pecans)&quot;]</td><td>[&quot;Mix together sugar, eggs, oil and baby food.&quot;, &quot;Add flour, baking soda, salt, cinnamon and nuts; bake at 350° for 1 hour and 20 minutes.&quot;, &quot;Make sure cake is completely cooled before frosting it.&quot;]</td><td>&quot;www.cookbooks.com/Recipe-Detai…</td><td>&quot;Gathered&quot;</td><td>&quot;[&quot;sugar&quot;, &quot;eggs&quot;, &quot;Wesson oil&quot;…</td><td>1461</td></tr><tr><td>1487</td><td>&quot;Salmon Bake&quot;</td><td>[&quot;1 1/2 lb. salmon steaks&quot;, &quot;dash of nutmeg&quot;, &quot;1 green apple (a bit tart)&quot;]</td><td>[&quot;Preheat oven to 400° to 450°.&quot;, &quot;Wash and pat dry salmon steaks. Place on sheet of foil.&quot;, … &quot;Bake 15 to 25 minutes, covered, then unwrap and continue baking 5 to 10 minutes longer at lowered temperature of 350°, until salmon pulls into flakes with fork.&quot;]</td><td>&quot;www.cookbooks.com/Recipe-Detai…</td><td>&quot;Gathered&quot;</td><td>&quot;[&quot;salmon steaks&quot;, &quot;nutmeg&quot;, &quot;g…</td><td>1487</td></tr><tr><td>&hellip;</td><td>&hellip;</td><td>&hellip;</td><td>&hellip;</td><td>&hellip;</td><td>&hellip;</td><td>&hellip;</td><td>&hellip;</td></tr><tr><td>2229921</td><td>&quot;Parmesan Casserole Bread&quot;</td><td>[&quot;1 cup flour&quot;, &quot;1 package dry yeast&quot;, … &quot;1 -1 12 cup more flour&quot;]</td><td>[&quot;In a bowl combine the first cup of flour, yeast, sugar, and salt.&quot;, &quot;In a saucepan heat to about 115-120 degrees the milk, water, butter, and parsley and add this to the above.&quot;, … &quot;Bake in a 375 degree oven for 25-30 minutes.&quot;]</td><td>&quot;www.food.com/recipe/parmesan-c…</td><td>&quot;Recipes1M&quot;</td><td>&quot;[&quot;flour&quot;, &quot;yeast&quot;, &quot;sugar&quot;, &quot;s…</td><td>2229921</td></tr><tr><td>2230086</td><td>&quot;Dairy-free Coconut Sherbet&quot;</td><td>[&quot;66 ml Raisins&quot;, &quot;2 tbsp Rum&quot;, … &quot;1 tsp Apple cider vinegar&quot;]</td><td>[&quot;Combine the rum and raisins into a small pot.&quot;, &quot;After bringing to a boil over medium heat, remove from heat and let the raisins absorb the rum as they cool.&quot;, … &quot;Put your finished product in a container with a lid and chill in the freezer.&quot;]</td><td>&quot;cookpad.com/us/recipes/151781-…</td><td>&quot;Recipes1M&quot;</td><td>&quot;[&quot;Raisins&quot;, &quot;Coconut milk&quot;, &quot;s…</td><td>2230086</td></tr><tr><td>2230490</td><td>&quot;Dolores Park Swizzle&quot;</td><td>[&quot;2 ounces white rhum agricole&quot;, &quot;1/4 ounce maraschino liqueur&quot;, … &quot;1 or 2 mint sprigs, for garnish&quot;]</td><td>[&quot;In a chilled collins glass, combine all of the ingredients except the ice and garnishes.&quot;, &quot;Add crushed ice.&quot;, … &quot;Top with the bitters and mint.&quot;]</td><td>&quot;www.foodandwine.com/recipes/do…</td><td>&quot;Recipes1M&quot;</td><td>&quot;[&quot;white rhum&quot;, &quot;maraschino liq…</td><td>2230490</td></tr><tr><td>2230947</td><td>&quot;Coffee Raisin Fudge&quot;</td><td>[&quot;500g TOBLERONE* Milk Chocolate, chopped&quot;, &quot;1 tablespoon instant coffee, dissolved in 2 tablespoons boiling water&quot;, … &quot;1 teaspoon vanilla essence&quot;]</td><td>[&quot;Combine the Toblerone*, coffee mixture and butter in a saucepan over low heat until smooth and chocolate has melted.&quot;, &quot;Continue to cook for another 10 minutes, stirring very gently.&quot;, … &quot;Serve.&quot;]</td><td>&quot;www.kraftrecipes.com/recipes/c…</td><td>&quot;Recipes1M&quot;</td><td>&quot;[&quot;TOBLERONE&quot;, &quot;instant coffee&quot;…</td><td>2230947</td></tr><tr><td>2231140</td><td>&quot;Pan-Roasted Pork Chops With Ap…</td><td>[&quot;1 cup apple cider&quot;, &quot;6 tablespoons sugar&quot;, … &quot;1 cup neutral oil, like canola&quot;]</td><td>[&quot;In a large bowl, mix the apple cider with 4 cups of water, the sugar and the salt.&quot;, &quot;Toast the bay leaves, chilies, juniper berries, caraway seeds, mustard seeds and coriander seeds in a small pan set over medium heat until you can smell them, then add to the brine, and stir to combine.&quot;, … &quot;The usual accompaniment is potato-and-horseradish pierogies sauteed in brown butter, though roasted new potatoes with a topping of butter and freshly grated horseradish will answer almost as well.&quot;]</td><td>&quot;cooking.nytimes.com/recipes/10…</td><td>&quot;Recipes1M&quot;</td><td>&quot;[&quot;apple cider&quot;, &quot;sugar&quot;, &quot;kosh…</td><td>2231140</td></tr></tbody></table></div>"
      ],
      "text/plain": [
       "shape: (10_000, 8)\n",
       "┌─────────┬─────────────┬─────────────┬────────────┬────────────┬───────────┬────────────┬─────────┐\n",
       "│         ┆ title       ┆ ingredients ┆ directions ┆ link       ┆ source    ┆ NER        ┆ index   │\n",
       "│ ---     ┆ ---         ┆ ---         ┆ ---        ┆ ---        ┆ ---       ┆ ---        ┆ ---     │\n",
       "│ i64     ┆ str         ┆ list[str]   ┆ list[str]  ┆ str        ┆ str       ┆ str        ┆ i64     │\n",
       "╞═════════╪═════════════╪═════════════╪════════════╪════════════╪═══════════╪════════════╪═════════╡\n",
       "│ 493     ┆ Sour Cream  ┆ [\"2 lb.     ┆ [\"Combine  ┆ www.cookbo ┆ Gathered  ┆ [\"ground   ┆ 493     │\n",
       "│         ┆ Meat Loaf   ┆ ground lean ┆ all ingred ┆ oks.com/Re ┆           ┆ lean       ┆         │\n",
       "│         ┆             ┆ beef\", \"1 … ┆ ients in   ┆ cipe-Detai ┆           ┆ beef\",     ┆         │\n",
       "│         ┆             ┆             ┆ l…         ┆ …          ┆           ┆ \"carrot\",… ┆         │\n",
       "│ 1244    ┆ Chocolate   ┆ [\"1 box     ┆ [\"Blend to ┆ www.cookbo ┆ Gathered  ┆ [\"orange   ┆ 1244    │\n",
       "│         ┆ Pistachio   ┆ Duncan      ┆ moisten,   ┆ oks.com/Re ┆           ┆ juice\",    ┆         │\n",
       "│         ┆ Cake        ┆ Hines       ┆ then beat  ┆ cipe-Detai ┆           ┆ \"water\",   ┆         │\n",
       "│         ┆             ┆ yellow ca…  ┆ …          ┆ …          ┆           ┆ \"oil…      ┆         │\n",
       "│ 1292    ┆ Corn        ┆ [\"1 can     ┆ [\"Melt     ┆ www.cookbo ┆ Gathered  ┆ [\"golden   ┆ 1292    │\n",
       "│         ┆ Pudding     ┆ golden      ┆ butter in  ┆ oks.com/Re ┆           ┆ crushed    ┆         │\n",
       "│         ┆             ┆ crushed     ┆ casserole. ┆ cipe-Detai ┆           ┆ corn\",     ┆         │\n",
       "│         ┆             ┆ corn\", …    ┆ \", …       ┆ …          ┆           ┆ \"eggs\"…    ┆         │\n",
       "│ 1461    ┆ Apricot     ┆ [\"2 c.      ┆ [\"Mix      ┆ www.cookbo ┆ Gathered  ┆ [\"sugar\",  ┆ 1461    │\n",
       "│         ┆ Cake        ┆ sugar\", \"4  ┆ together   ┆ oks.com/Re ┆           ┆ \"eggs\",    ┆         │\n",
       "│         ┆             ┆ eggs\", …    ┆ sugar,     ┆ cipe-Detai ┆           ┆ \"Wesson    ┆         │\n",
       "│         ┆             ┆ \"1/…        ┆ eggs, oi…  ┆ …          ┆           ┆ oil\"…      ┆         │\n",
       "│ 1487    ┆ Salmon Bake ┆ [\"1 1/2 lb. ┆ [\"Preheat  ┆ www.cookbo ┆ Gathered  ┆ [\"salmon   ┆ 1487    │\n",
       "│         ┆             ┆ salmon      ┆ oven to    ┆ oks.com/Re ┆           ┆ steaks\",   ┆         │\n",
       "│         ┆             ┆ steaks\",    ┆ 400° to    ┆ cipe-Detai ┆           ┆ \"nutmeg\",  ┆         │\n",
       "│         ┆             ┆ \"d…         ┆ 450°…      ┆ …          ┆           ┆ \"g…        ┆         │\n",
       "│ …       ┆ …           ┆ …           ┆ …          ┆ …          ┆ …         ┆ …          ┆ …       │\n",
       "│ 2229921 ┆ Parmesan    ┆ [\"1 cup     ┆ [\"In a     ┆ www.food.c ┆ Recipes1M ┆ [\"flour\",  ┆ 2229921 │\n",
       "│         ┆ Casserole   ┆ flour\", \"1  ┆ bowl       ┆ om/recipe/ ┆           ┆ \"yeast\",   ┆         │\n",
       "│         ┆ Bread       ┆ package     ┆ combine    ┆ parmesan-c ┆           ┆ \"sugar\",   ┆         │\n",
       "│         ┆             ┆ dry…        ┆ the first  ┆ …          ┆           ┆ \"s…        ┆         │\n",
       "│         ┆             ┆             ┆ …          ┆            ┆           ┆            ┆         │\n",
       "│ 2230086 ┆ Dairy-free  ┆ [\"66 ml     ┆ [\"Combine  ┆ cookpad.co ┆ Recipes1M ┆ [\"Raisins\" ┆ 2230086 │\n",
       "│         ┆ Coconut     ┆ Raisins\",   ┆ the rum    ┆ m/us/recip ┆           ┆ , \"Coconut ┆         │\n",
       "│         ┆ Sherbet     ┆ \"2 tbsp     ┆ and        ┆ es/151781- ┆           ┆ milk\", \"s… ┆         │\n",
       "│         ┆             ┆ Rum\"…       ┆ raisins …  ┆ …          ┆           ┆            ┆         │\n",
       "│ 2230490 ┆ Dolores     ┆ [\"2 ounces  ┆ [\"In a     ┆ www.foodan ┆ Recipes1M ┆ [\"white    ┆ 2230490 │\n",
       "│         ┆ Park        ┆ white rhum  ┆ chilled    ┆ dwine.com/ ┆           ┆ rhum\", \"ma ┆         │\n",
       "│         ┆ Swizzle     ┆ agricole…   ┆ collins    ┆ recipes/do ┆           ┆ raschino   ┆         │\n",
       "│         ┆             ┆             ┆ glass, …   ┆ …          ┆           ┆ liq…       ┆         │\n",
       "│ 2230947 ┆ Coffee      ┆ [\"500g      ┆ [\"Combine  ┆ www.kraftr ┆ Recipes1M ┆ [\"TOBLERON ┆ 2230947 │\n",
       "│         ┆ Raisin      ┆ TOBLERONE*  ┆ the Tobler ┆ ecipes.com ┆           ┆ E\",        ┆         │\n",
       "│         ┆ Fudge       ┆ Milk        ┆ one*,      ┆ /recipes/c ┆           ┆ \"instant   ┆         │\n",
       "│         ┆             ┆ Chocola…    ┆ coff…      ┆ …          ┆           ┆ coffee\"…   ┆         │\n",
       "│ 2231140 ┆ Pan-Roasted ┆ [\"1 cup     ┆ [\"In a     ┆ cooking.ny ┆ Recipes1M ┆ [\"apple    ┆ 2231140 │\n",
       "│         ┆ Pork Chops  ┆ apple       ┆ large      ┆ times.com/ ┆           ┆ cider\",    ┆         │\n",
       "│         ┆ With Ap…    ┆ cider\", \"6  ┆ bowl, mix  ┆ recipes/10 ┆           ┆ \"sugar\",   ┆         │\n",
       "│         ┆             ┆ table…      ┆ the app…   ┆ …          ┆           ┆ \"kosh…     ┆         │\n",
       "└─────────┴─────────────┴─────────────┴────────────┴────────────┴───────────┴────────────┴─────────┘"
      ]
     },
     "execution_count": 416,
     "metadata": {},
     "output_type": "execute_result"
    }
   ],
   "source": [
    "datanlg_ds.filter(pl.col(\"index\").is_in(eval_data_idx))"
   ]
  },
  {
   "cell_type": "code",
   "execution_count": 396,
   "id": "3ccb4975-09a8-48fd-b889-a530fa4e0971",
   "metadata": {},
   "outputs": [],
   "source": [
    "with open(\"test.json\", \"w\") as f:\n",
    "    json.dump(nlg_ds.slice(0,10).select('index', 'title', 'ingredients').write_json(), f)"
   ]
  }
 ],
 "metadata": {
  "kernelspec": {
   "display_name": "Python 3 (ipykernel)",
   "language": "python",
   "name": "python3"
  },
  "language_info": {
   "codemirror_mode": {
    "name": "ipython",
    "version": 3
   },
   "file_extension": ".py",
   "mimetype": "text/x-python",
   "name": "python",
   "nbconvert_exporter": "python",
   "pygments_lexer": "ipython3",
   "version": "3.10.16"
  }
 },
 "nbformat": 4,
 "nbformat_minor": 5
}
