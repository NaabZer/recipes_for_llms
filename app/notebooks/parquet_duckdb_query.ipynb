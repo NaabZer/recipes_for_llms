{
 "cells": [
  {
   "cell_type": "code",
   "execution_count": 1,
   "id": "4f0629ab-3b17-4982-a93b-dbdef7d22e0c",
   "metadata": {},
   "outputs": [],
   "source": [
    "import pandas as pd\n",
    "import spacy\n",
    "import os\n",
    "import spacy\n",
    "import polars as pl\n",
    "import mlflow\n",
    "import mlflow.spacy\n",
    "from pathlib import Path\n",
    "import json\n",
    "from spacy.util import minibatch, compounding\n",
    "from spacy.cli.train import train\n",
    "from dotenv import load_dotenv\n",
    "import sys\n",
    "sys.path.insert(0, os.path.abspath('..'))\n",
    "sys.path.insert(0, os.path.abspath('../..'))\n",
    "from app.data_handling.preprocessing import process_ingredient, transform_ingredients_to_tokens"
   ]
  },
  {
   "cell_type": "markdown",
   "id": "853a5efb-b029-4f65-93ee-bc1ee7326068",
   "metadata": {},
   "source": [
    "# Create Dataframe and save as parquet"
   ]
  },
  {
   "cell_type": "code",
   "execution_count": 2,
   "id": "0f166bc3-d62b-4c41-b8e9-b6881f8b67cc",
   "metadata": {},
   "outputs": [
    {
     "data": {
      "text/plain": [
       "True"
      ]
     },
     "execution_count": 2,
     "metadata": {},
     "output_type": "execute_result"
    }
   ],
   "source": [
    "load_dotenv()"
   ]
  },
  {
   "cell_type": "code",
   "execution_count": 3,
   "id": "2040cdf8-20ef-4769-8fec-ff718140b4ee",
   "metadata": {},
   "outputs": [],
   "source": [
    "mlflow.set_tracking_uri(os.getenv(\"MLFLOW_TRACKING_URL\"))"
   ]
  },
  {
   "cell_type": "code",
   "execution_count": 4,
   "id": "60bcd8c1-4f9f-4078-8ab5-08a672f64cf5",
   "metadata": {},
   "outputs": [
    {
     "name": "stderr",
     "output_type": "stream",
     "text": [
      "/home/naabzer/develop/recipe_tm/env/lib/python3.10/site-packages/tqdm/auto.py:21: TqdmWarning: IProgress not found. Please update jupyter and ipywidgets. See https://ipywidgets.readthedocs.io/en/stable/user_install.html\n",
      "  from .autonotebook import tqdm as notebook_tqdm\n",
      "Downloading artifacts: 100%|████████████████████████████████████████████████████████| 17/17 [00:00<00:00, 39.15it/s]\n"
     ]
    }
   ],
   "source": [
    "model_uri = \"models:/recipe_NER@prod\"\n",
    "ner = mlflow.spacy.load_model(model_uri=model_uri)"
   ]
  },
  {
   "cell_type": "code",
   "execution_count": 5,
   "id": "31b8626e-d26d-40ee-9a9d-16703ec2a315",
   "metadata": {},
   "outputs": [],
   "source": [
    "nlg_ds = pd.read_csv('../../data/recipenlg/RecipeNLG_dataset.csv', converters={'ingredients': pd.eval}, nrows=10)"
   ]
  },
  {
   "cell_type": "code",
   "execution_count": 6,
   "id": "7e456b58-e8d7-4f7c-ab2c-9ea799ba8705",
   "metadata": {},
   "outputs": [],
   "source": [
    "nlg_ds = pl.read_csv('../../data/recipenlg/RecipeNLG_dataset.csv',  n_rows=10)\n",
    "nlg_ds = nlg_ds.with_columns(pl.col(\"ingredients\").str.json_decode())\n",
    "nlg_ds = nlg_ds.with_columns(pl.col(\"directions\").str.json_decode())"
   ]
  },
  {
   "cell_type": "code",
   "execution_count": 7,
   "id": "9a218d9d-04d5-49eb-9654-e092dbd6234f",
   "metadata": {},
   "outputs": [
    {
     "data": {
      "text/html": [
       "<div><style>\n",
       ".dataframe > thead > tr,\n",
       ".dataframe > tbody > tr {\n",
       "  text-align: right;\n",
       "  white-space: pre-wrap;\n",
       "}\n",
       "</style>\n",
       "<small>shape: (10, 7)</small><table border=\"1\" class=\"dataframe\"><thead><tr><th></th><th>title</th><th>ingredients</th><th>directions</th><th>link</th><th>source</th><th>NER</th></tr><tr><td>i64</td><td>str</td><td>list[str]</td><td>list[str]</td><td>str</td><td>str</td><td>str</td></tr></thead><tbody><tr><td>0</td><td>&quot;No-Bake Nut Cookies&quot;</td><td>[&quot;1 c. firmly packed brown sugar&quot;, &quot;1/2 c. evaporated milk&quot;, … &quot;3 1/2 c. bite size shredded rice biscuits&quot;]</td><td>[&quot;In a heavy 2-quart saucepan, mix brown sugar, nuts, evaporated milk and butter or margarine.&quot;, &quot;Stir over medium heat until mixture bubbles all over top.&quot;, … &quot;Let stand until firm, about 30 minutes.&quot;]</td><td>&quot;www.cookbooks.com/Recipe-Detai…</td><td>&quot;Gathered&quot;</td><td>&quot;[&quot;brown sugar&quot;, &quot;milk&quot;, &quot;vanil…</td></tr><tr><td>1</td><td>&quot;Jewell Ball&#x27;S Chicken&quot;</td><td>[&quot;1 small jar chipped beef, cut up&quot;, &quot;4 boned chicken breasts&quot;, … &quot;1 carton sour cream&quot;]</td><td>[&quot;Place chipped beef on bottom of baking dish.&quot;, &quot;Place chicken on top of beef.&quot;, &quot;Mix soup and cream together; pour over chicken. Bake, uncovered, at 275° for 3 hours.&quot;]</td><td>&quot;www.cookbooks.com/Recipe-Detai…</td><td>&quot;Gathered&quot;</td><td>&quot;[&quot;beef&quot;, &quot;chicken breasts&quot;, &quot;c…</td></tr><tr><td>2</td><td>&quot;Creamy Corn&quot;</td><td>[&quot;2 (16 oz.) pkg. frozen corn&quot;, &quot;1 (8 oz.) pkg. cream cheese, cubed&quot;, … &quot;1/4 tsp. pepper&quot;]</td><td>[&quot;In a slow cooker, combine all ingredients. Cover and cook on low for 4 hours or until heated through and cheese is melted. Stir well before serving. Yields 6 servings.&quot;]</td><td>&quot;www.cookbooks.com/Recipe-Detai…</td><td>&quot;Gathered&quot;</td><td>&quot;[&quot;frozen corn&quot;, &quot;cream cheese&quot;…</td></tr><tr><td>3</td><td>&quot;Chicken Funny&quot;</td><td>[&quot;1 large whole chicken&quot;, &quot;2 (10 1/2 oz.) cans chicken gravy&quot;, … &quot;4 oz. shredded cheese&quot;]</td><td>[&quot;Boil and debone chicken.&quot;, &quot;Put bite size pieces in average size square casserole dish.&quot;, … &quot;Sprinkle shredded cheese on top and bake at 350° for approximately 20 minutes or until golden and bubbly.&quot;]</td><td>&quot;www.cookbooks.com/Recipe-Detai…</td><td>&quot;Gathered&quot;</td><td>&quot;[&quot;chicken&quot;, &quot;chicken gravy&quot;, &quot;…</td></tr><tr><td>4</td><td>&quot;Reeses Cups(Candy)&nbsp;&nbsp;&quot;</td><td>[&quot;1 c. peanut butter&quot;, &quot;3/4 c. graham cracker crumbs&quot;, … &quot;1 large pkg. chocolate chips&quot;]</td><td>[&quot;Combine first four ingredients and press in 13 x 9-inch ungreased pan.&quot;, &quot;Melt chocolate chips and spread over mixture. Refrigerate for about 20 minutes and cut into pieces before chocolate gets hard.&quot;, &quot;Keep in refrigerator.&quot;]</td><td>&quot;www.cookbooks.com/Recipe-Detai…</td><td>&quot;Gathered&quot;</td><td>&quot;[&quot;peanut butter&quot;, &quot;graham crac…</td></tr><tr><td>5</td><td>&quot;Cheeseburger Potato Soup&quot;</td><td>[&quot;6 baking potatoes&quot;, &quot;1 lb. of extra lean ground beef&quot;, … &quot;1 (8 oz.) carton sour cream (optional)&quot;]</td><td>[&quot;Wash potatoes; prick several times with a fork.&quot;, &quot;Microwave them with a wet paper towel covering the potatoes on high for 6-8 minutes.&quot;, … &quot;Sprinkle with remaining cheese, bacon and green onions.&quot;]</td><td>&quot;www.cookbooks.com/Recipe-Detai…</td><td>&quot;Gathered&quot;</td><td>&quot;[&quot;baking potatoes&quot;, &quot;extra lea…</td></tr><tr><td>6</td><td>&quot;Rhubarb Coffee Cake&quot;</td><td>[&quot;1 1/2 c. sugar&quot;, &quot;1/2 c. butter&quot;, … &quot;1 tsp. vanilla&quot;]</td><td>[&quot;Cream sugar and butter.&quot;, &quot;Add egg and beat well.&quot;, … &quot;Pour into greased 9 x 13-inch pan and add Topping.&quot;]</td><td>&quot;www.cookbooks.com/Recipe-Detai…</td><td>&quot;Gathered&quot;</td><td>&quot;[&quot;sugar&quot;, &quot;butter&quot;, &quot;egg&quot;, &quot;bu…</td></tr><tr><td>7</td><td>&quot;Scalloped Corn&quot;</td><td>[&quot;1 can cream-style corn&quot;, &quot;1 can whole kernel corn&quot;, … &quot;pepper to taste&quot;]</td><td>[&quot;Mix together both cans of corn, crackers, egg, 2 teaspoons of melted butter and pepper and place in a buttered baking dish.&quot;, &quot;Dot with remaining 4 teaspoons of butter.&quot;, &quot;Bake at 350° for 1 hour.&quot;]</td><td>&quot;www.cookbooks.com/Recipe-Detai…</td><td>&quot;Gathered&quot;</td><td>&quot;[&quot;cream-style corn&quot;, &quot;whole ke…</td></tr><tr><td>8</td><td>&quot;Nolan&#x27;S Pepper Steak&quot;</td><td>[&quot;1 1/2 lb. round steak (1-inch thick), cut into strips&quot;, &quot;1 can drained tomatoes, cut up (save liquid)&quot;, … &quot;1/4 c. oil&quot;]</td><td>[&quot;Roll steak strips in flour.&quot;, &quot;Brown in skillet.&quot;, … &quot;Serve over hot cooked rice.&quot;]</td><td>&quot;www.cookbooks.com/Recipe-Detai…</td><td>&quot;Gathered&quot;</td><td>&quot;[&quot;tomatoes&quot;, &quot;water&quot;, &quot;onions&quot;…</td></tr><tr><td>9</td><td>&quot;Millionaire Pie&quot;</td><td>[&quot;1 large container Cool Whip&quot;, &quot;1 large can crushed pineapple&quot;, … &quot;2 graham cracker crusts&quot;]</td><td>[&quot;Empty Cool Whip into a bowl.&quot;, &quot;Drain juice from pineapple.&quot;, … &quot;Makes 2 pies.&quot;]</td><td>&quot;www.cookbooks.com/Recipe-Detai…</td><td>&quot;Gathered&quot;</td><td>&quot;[&quot;pineapple&quot;, &quot;condensed milk&quot;…</td></tr></tbody></table></div>"
      ],
      "text/plain": [
       "shape: (10, 7)\n",
       "┌─────┬────────────────┬────────────────┬───────────────┬───────────────┬──────────┬───────────────┐\n",
       "│     ┆ title          ┆ ingredients    ┆ directions    ┆ link          ┆ source   ┆ NER           │\n",
       "│ --- ┆ ---            ┆ ---            ┆ ---           ┆ ---           ┆ ---      ┆ ---           │\n",
       "│ i64 ┆ str            ┆ list[str]      ┆ list[str]     ┆ str           ┆ str      ┆ str           │\n",
       "╞═════╪════════════════╪════════════════╪═══════════════╪═══════════════╪══════════╪═══════════════╡\n",
       "│ 0   ┆ No-Bake Nut    ┆ [\"1 c. firmly  ┆ [\"In a heavy  ┆ www.cookbooks ┆ Gathered ┆ [\"brown       │\n",
       "│     ┆ Cookies        ┆ packed brown   ┆ 2-quart       ┆ .com/Recipe-D ┆          ┆ sugar\",       │\n",
       "│     ┆                ┆ sug…           ┆ saucepan,…    ┆ etai…         ┆          ┆ \"milk\",       │\n",
       "│     ┆                ┆                ┆               ┆               ┆          ┆ \"vanil…       │\n",
       "│ 1   ┆ Jewell Ball'S  ┆ [\"1 small jar  ┆ [\"Place       ┆ www.cookbooks ┆ Gathered ┆ [\"beef\",      │\n",
       "│     ┆ Chicken        ┆ chipped beef,  ┆ chipped beef  ┆ .com/Recipe-D ┆          ┆ \"chicken      │\n",
       "│     ┆                ┆ cu…            ┆ on bottom…    ┆ etai…         ┆          ┆ breasts\", \"c… │\n",
       "│ 2   ┆ Creamy Corn    ┆ [\"2 (16 oz.)   ┆ [\"In a slow   ┆ www.cookbooks ┆ Gathered ┆ [\"frozen      │\n",
       "│     ┆                ┆ pkg. frozen    ┆ cooker,       ┆ .com/Recipe-D ┆          ┆ corn\", \"cream │\n",
       "│     ┆                ┆ corn\"…         ┆ combine al…   ┆ etai…         ┆          ┆ cheese\"…      │\n",
       "│ 3   ┆ Chicken Funny  ┆ [\"1 large      ┆ [\"Boil and    ┆ www.cookbooks ┆ Gathered ┆ [\"chicken\",   │\n",
       "│     ┆                ┆ whole          ┆ debone        ┆ .com/Recipe-D ┆          ┆ \"chicken      │\n",
       "│     ┆                ┆ chicken\", \"2   ┆ chicken.\", \"… ┆ etai…         ┆          ┆ gravy\", \"…    │\n",
       "│     ┆                ┆ (…             ┆               ┆               ┆          ┆               │\n",
       "│ 4   ┆ Reeses         ┆ [\"1 c. peanut  ┆ [\"Combine     ┆ www.cookbooks ┆ Gathered ┆ [\"peanut      │\n",
       "│     ┆ Cups(Candy)    ┆ butter\", \"3/4  ┆ first four    ┆ .com/Recipe-D ┆          ┆ butter\",      │\n",
       "│     ┆                ┆ c.…            ┆ ingredien…    ┆ etai…         ┆          ┆ \"graham crac… │\n",
       "│ 5   ┆ Cheeseburger   ┆ [\"6 baking     ┆ [\"Wash        ┆ www.cookbooks ┆ Gathered ┆ [\"baking      │\n",
       "│     ┆ Potato Soup    ┆ potatoes\", \"1  ┆ potatoes;     ┆ .com/Recipe-D ┆          ┆ potatoes\",    │\n",
       "│     ┆                ┆ lb. o…         ┆ prick         ┆ etai…         ┆          ┆ \"extra lea…   │\n",
       "│     ┆                ┆                ┆ several…      ┆               ┆          ┆               │\n",
       "│ 6   ┆ Rhubarb Coffee ┆ [\"1 1/2 c.     ┆ [\"Cream sugar ┆ www.cookbooks ┆ Gathered ┆ [\"sugar\",     │\n",
       "│     ┆ Cake           ┆ sugar\", \"1/2   ┆ and butter.\", ┆ .com/Recipe-D ┆          ┆ \"butter\",     │\n",
       "│     ┆                ┆ c. but…        ┆ \"A…           ┆ etai…         ┆          ┆ \"egg\", \"bu…   │\n",
       "│ 7   ┆ Scalloped Corn ┆ [\"1 can        ┆ [\"Mix         ┆ www.cookbooks ┆ Gathered ┆ [\"cream-style │\n",
       "│     ┆                ┆ cream-style    ┆ together both ┆ .com/Recipe-D ┆          ┆ corn\", \"whole │\n",
       "│     ┆                ┆ corn\", \"1 …    ┆ cans of co…   ┆ etai…         ┆          ┆ ke…           │\n",
       "│ 8   ┆ Nolan'S Pepper ┆ [\"1 1/2 lb.    ┆ [\"Roll steak  ┆ www.cookbooks ┆ Gathered ┆ [\"tomatoes\",  │\n",
       "│     ┆ Steak          ┆ round steak    ┆ strips in     ┆ .com/Recipe-D ┆          ┆ \"water\",      │\n",
       "│     ┆                ┆ (1-inc…        ┆ flour.\"…      ┆ etai…         ┆          ┆ \"onions\"…     │\n",
       "│ 9   ┆ Millionaire    ┆ [\"1 large      ┆ [\"Empty Cool  ┆ www.cookbooks ┆ Gathered ┆ [\"pineapple\", │\n",
       "│     ┆ Pie            ┆ container Cool ┆ Whip into a   ┆ .com/Recipe-D ┆          ┆ \"condensed    │\n",
       "│     ┆                ┆ Whip\"…         ┆ bowl.…        ┆ etai…         ┆          ┆ milk\"…        │\n",
       "└─────┴────────────────┴────────────────┴───────────────┴───────────────┴──────────┴───────────────┘"
      ]
     },
     "execution_count": 7,
     "metadata": {},
     "output_type": "execute_result"
    }
   ],
   "source": [
    "nlg_ds"
   ]
  },
  {
   "cell_type": "code",
   "execution_count": 8,
   "id": "902d67a6-a2f2-47f8-a8f0-7ea30df0e307",
   "metadata": {},
   "outputs": [
    {
     "data": {
      "text/html": [
       "<div><style>\n",
       ".dataframe > thead > tr,\n",
       ".dataframe > tbody > tr {\n",
       "  text-align: right;\n",
       "  white-space: pre-wrap;\n",
       "}\n",
       "</style>\n",
       "<small>shape: (6,)</small><table border=\"1\" class=\"dataframe\"><thead><tr><th></th></tr><tr><td>str</td></tr></thead><tbody><tr><td>&quot;1 c. firmly packed brown sugar&quot;</td></tr><tr><td>&quot;1/2 c. evaporated milk&quot;</td></tr><tr><td>&quot;1/2 tsp. vanilla&quot;</td></tr><tr><td>&quot;1/2 c. broken nuts (pecans)&quot;</td></tr><tr><td>&quot;2 Tbsp. butter or margarine&quot;</td></tr><tr><td>&quot;3 1/2 c. bite size shredded ri…</td></tr></tbody></table></div>"
      ],
      "text/plain": [
       "shape: (6,)\n",
       "Series: '' [str]\n",
       "[\n",
       "\t\"1 c. firmly packed brown sugar\"\n",
       "\t\"1/2 c. evaporated milk\"\n",
       "\t\"1/2 tsp. vanilla\"\n",
       "\t\"1/2 c. broken nuts (pecans)\"\n",
       "\t\"2 Tbsp. butter or margarine\"\n",
       "\t\"3 1/2 c. bite size shredded ri…\n",
       "]"
      ]
     },
     "execution_count": 8,
     "metadata": {},
     "output_type": "execute_result"
    }
   ],
   "source": [
    "nlg_ds['ingredients'][0]\n"
   ]
  },
  {
   "cell_type": "code",
   "execution_count": 95,
   "id": "2454040c-245a-484e-90e8-93155cf0bfca",
   "metadata": {},
   "outputs": [],
   "source": [
    "def transform_ds_to_BOW(ds: pl.dataframe.frame.DataFrame, create_vocab=False):  # Assume recipeNLG dataset, where each ingredient line is a list item\n",
    "    tokens = []\n",
    "    preps = []\n",
    "    optionals = []\n",
    "    for i, ingredients in enumerate(ds['ingredients']):\n",
    "        datapoint_obj = transform_ingredients_to_tokens(ingredients, ner, create_vocab)\n",
    "        tokens.append(datapoint_obj['foods'])\n",
    "        preps.append(json.dumps(datapoint_obj['preps']))\n",
    "        optionals.append(datapoint_obj['optionals'])\n",
    "    new_ds = ds.with_columns(\n",
    "        pl.Series(name='BOW_tokens', values=tokens),\n",
    "        pl.Series(name='preps', values=preps),\n",
    "        pl.Series(name='optionals', values=optionals)\n",
    "    )\n",
    "    return new_ds"
   ]
  },
  {
   "cell_type": "code",
   "execution_count": 96,
   "id": "9ac26f3f-8cfc-4e81-b909-a7b39c5f9b2b",
   "metadata": {},
   "outputs": [
    {
     "data": {
      "text/html": [
       "<div><style>\n",
       ".dataframe > thead > tr,\n",
       ".dataframe > tbody > tr {\n",
       "  text-align: right;\n",
       "  white-space: pre-wrap;\n",
       "}\n",
       "</style>\n",
       "<small>shape: (10, 10)</small><table border=\"1\" class=\"dataframe\"><thead><tr><th></th><th>title</th><th>ingredients</th><th>directions</th><th>link</th><th>source</th><th>NER</th><th>BOW_tokens</th><th>preps</th><th>optionals</th></tr><tr><td>i64</td><td>str</td><td>list[str]</td><td>list[str]</td><td>str</td><td>str</td><td>str</td><td>list[str]</td><td>struct[0]</td><td>list[bool]</td></tr></thead><tbody><tr><td>0</td><td>&quot;No-Bake Nut Cookies&quot;</td><td>[&quot;1 c. firmly packed brown sugar&quot;, &quot;1/2 c. evaporated milk&quot;, … &quot;3 1/2 c. bite size shredded rice biscuits&quot;]</td><td>[&quot;In a heavy 2-quart saucepan, mix brown sugar, nuts, evaporated milk and butter or margarine.&quot;, &quot;Stir over medium heat until mixture bubbles all over top.&quot;, … &quot;Let stand until firm, about 30 minutes.&quot;]</td><td>&quot;www.cookbooks.com/Recipe-Detai…</td><td>&quot;Gathered&quot;</td><td>&quot;[&quot;brown sugar&quot;, &quot;milk&quot;, &quot;vanil…</td><td>[&quot;brown_sugar&quot;, &quot;milk&quot;, … &quot;butter&quot;]</td><td>{}</td><td>[false, false, … false]</td></tr><tr><td>1</td><td>&quot;Jewell Ball&#x27;S Chicken&quot;</td><td>[&quot;1 small jar chipped beef, cut up&quot;, &quot;4 boned chicken breasts&quot;, … &quot;1 carton sour cream&quot;]</td><td>[&quot;Place chipped beef on bottom of baking dish.&quot;, &quot;Place chicken on top of beef.&quot;, &quot;Mix soup and cream together; pour over chicken. Bake, uncovered, at 275° for 3 hours.&quot;]</td><td>&quot;www.cookbooks.com/Recipe-Detai…</td><td>&quot;Gathered&quot;</td><td>&quot;[&quot;beef&quot;, &quot;chicken breasts&quot;, &quot;c…</td><td>[&quot;beef&quot;, &quot;chicken_breast&quot;, … &quot;sour_cream&quot;]</td><td>{}</td><td>[false, false, … false]</td></tr><tr><td>2</td><td>&quot;Creamy Corn&quot;</td><td>[&quot;2 (16 oz.) pkg. frozen corn&quot;, &quot;1 (8 oz.) pkg. cream cheese, cubed&quot;, … &quot;1/4 tsp. pepper&quot;]</td><td>[&quot;In a slow cooker, combine all ingredients. Cover and cook on low for 4 hours or until heated through and cheese is melted. Stir well before serving. Yields 6 servings.&quot;]</td><td>&quot;www.cookbooks.com/Recipe-Detai…</td><td>&quot;Gathered&quot;</td><td>&quot;[&quot;frozen corn&quot;, &quot;cream cheese&quot;…</td><td>[&quot;corn&quot;, &quot;cream_cheese&quot;, … &quot;pepper&quot;]</td><td>{}</td><td>[false, false, … false]</td></tr><tr><td>3</td><td>&quot;Chicken Funny&quot;</td><td>[&quot;1 large whole chicken&quot;, &quot;2 (10 1/2 oz.) cans chicken gravy&quot;, … &quot;4 oz. shredded cheese&quot;]</td><td>[&quot;Boil and debone chicken.&quot;, &quot;Put bite size pieces in average size square casserole dish.&quot;, … &quot;Sprinkle shredded cheese on top and bake at 350° for approximately 20 minutes or until golden and bubbly.&quot;]</td><td>&quot;www.cookbooks.com/Recipe-Detai…</td><td>&quot;Gathered&quot;</td><td>&quot;[&quot;chicken&quot;, &quot;chicken gravy&quot;, &quot;…</td><td>[&quot;chicken&quot;, &quot;chicken_gravy&quot;, &quot;cream_of_mushroom_soup&quot;]</td><td>{}</td><td>[false, false, false]</td></tr><tr><td>4</td><td>&quot;Reeses Cups(Candy)&nbsp;&nbsp;&quot;</td><td>[&quot;1 c. peanut butter&quot;, &quot;3/4 c. graham cracker crumbs&quot;, … &quot;1 large pkg. chocolate chips&quot;]</td><td>[&quot;Combine first four ingredients and press in 13 x 9-inch ungreased pan.&quot;, &quot;Melt chocolate chips and spread over mixture. Refrigerate for about 20 minutes and cut into pieces before chocolate gets hard.&quot;, &quot;Keep in refrigerator.&quot;]</td><td>&quot;www.cookbooks.com/Recipe-Detai…</td><td>&quot;Gathered&quot;</td><td>&quot;[&quot;peanut butter&quot;, &quot;graham crac…</td><td>[&quot;peanut_butter&quot;, &quot;graham_cracker_crumb&quot;, … &quot;chocolate_chip&quot;]</td><td>{}</td><td>[false, false, … false]</td></tr><tr><td>5</td><td>&quot;Cheeseburger Potato Soup&quot;</td><td>[&quot;6 baking potatoes&quot;, &quot;1 lb. of extra lean ground beef&quot;, … &quot;1 (8 oz.) carton sour cream (optional)&quot;]</td><td>[&quot;Wash potatoes; prick several times with a fork.&quot;, &quot;Microwave them with a wet paper towel covering the potatoes on high for 6-8 minutes.&quot;, … &quot;Sprinkle with remaining cheese, bacon and green onions.&quot;]</td><td>&quot;www.cookbooks.com/Recipe-Detai…</td><td>&quot;Gathered&quot;</td><td>&quot;[&quot;baking potatoes&quot;, &quot;extra lea…</td><td>[&quot;bake_potato&quot;, &quot;beef&quot;, … &quot;sour_cream&quot;]</td><td>{}</td><td>[false, false, … true]</td></tr><tr><td>6</td><td>&quot;Rhubarb Coffee Cake&quot;</td><td>[&quot;1 1/2 c. sugar&quot;, &quot;1/2 c. butter&quot;, … &quot;1 tsp. vanilla&quot;]</td><td>[&quot;Cream sugar and butter.&quot;, &quot;Add egg and beat well.&quot;, … &quot;Pour into greased 9 x 13-inch pan and add Topping.&quot;]</td><td>&quot;www.cookbooks.com/Recipe-Detai…</td><td>&quot;Gathered&quot;</td><td>&quot;[&quot;sugar&quot;, &quot;butter&quot;, &quot;egg&quot;, &quot;bu…</td><td>[&quot;sugar&quot;, &quot;butter&quot;, … &quot;rhubarb&quot;]</td><td>{}</td><td>[false, false, … false]</td></tr><tr><td>7</td><td>&quot;Scalloped Corn&quot;</td><td>[&quot;1 can cream-style corn&quot;, &quot;1 can whole kernel corn&quot;, … &quot;pepper to taste&quot;]</td><td>[&quot;Mix together both cans of corn, crackers, egg, 2 teaspoons of melted butter and pepper and place in a buttered baking dish.&quot;, &quot;Dot with remaining 4 teaspoons of butter.&quot;, &quot;Bake at 350° for 1 hour.&quot;]</td><td>&quot;www.cookbooks.com/Recipe-Detai…</td><td>&quot;Gathered&quot;</td><td>&quot;[&quot;cream-style corn&quot;, &quot;whole ke…</td><td>[&quot;cream_-_style&quot;, &quot;corn&quot;, … &quot;pepper&quot;]</td><td>{}</td><td>[false, false, … false]</td></tr><tr><td>8</td><td>&quot;Nolan&#x27;S Pepper Steak&quot;</td><td>[&quot;1 1/2 lb. round steak (1-inch thick), cut into strips&quot;, &quot;1 can drained tomatoes, cut up (save liquid)&quot;, … &quot;1/4 c. oil&quot;]</td><td>[&quot;Roll steak strips in flour.&quot;, &quot;Brown in skillet.&quot;, … &quot;Serve over hot cooked rice.&quot;]</td><td>&quot;www.cookbooks.com/Recipe-Detai…</td><td>&quot;Gathered&quot;</td><td>&quot;[&quot;tomatoes&quot;, &quot;water&quot;, &quot;onions&quot;…</td><td>[&quot;tomato&quot;, &quot;worcestershire_sauce&quot;, &quot;green_pepper&quot;]</td><td>{}</td><td>[false, false, false]</td></tr><tr><td>9</td><td>&quot;Millionaire Pie&quot;</td><td>[&quot;1 large container Cool Whip&quot;, &quot;1 large can crushed pineapple&quot;, … &quot;2 graham cracker crusts&quot;]</td><td>[&quot;Empty Cool Whip into a bowl.&quot;, &quot;Drain juice from pineapple.&quot;, … &quot;Makes 2 pies.&quot;]</td><td>&quot;www.cookbooks.com/Recipe-Detai…</td><td>&quot;Gathered&quot;</td><td>&quot;[&quot;pineapple&quot;, &quot;condensed milk&quot;…</td><td>[&quot;pineapple&quot;, &quot;condense_milk&quot;, … &quot;graham_cracker_crust&quot;]</td><td>{}</td><td>[false, false, … false]</td></tr></tbody></table></div>"
      ],
      "text/plain": [
       "shape: (10, 10)\n",
       "┌─────┬────────────┬────────────┬────────────┬───┬────────────┬────────────┬───────────┬───────────┐\n",
       "│     ┆ title      ┆ ingredient ┆ directions ┆ … ┆ NER        ┆ BOW_tokens ┆ preps     ┆ optionals │\n",
       "│ --- ┆ ---        ┆ s          ┆ ---        ┆   ┆ ---        ┆ ---        ┆ ---       ┆ ---       │\n",
       "│ i64 ┆ str        ┆ ---        ┆ list[str]  ┆   ┆ str        ┆ list[str]  ┆ struct[0] ┆ list[bool │\n",
       "│     ┆            ┆ list[str]  ┆            ┆   ┆            ┆            ┆           ┆ ]         │\n",
       "╞═════╪════════════╪════════════╪════════════╪═══╪════════════╪════════════╪═══════════╪═══════════╡\n",
       "│ 0   ┆ No-Bake    ┆ [\"1 c.     ┆ [\"In a     ┆ … ┆ [\"brown    ┆ [\"brown_su ┆ {}        ┆ [false,   │\n",
       "│     ┆ Nut        ┆ firmly     ┆ heavy      ┆   ┆ sugar\",    ┆ gar\",      ┆           ┆ false, …  │\n",
       "│     ┆ Cookies    ┆ packed     ┆ 2-quart    ┆   ┆ \"milk\",    ┆ \"milk\", …  ┆           ┆ false]    │\n",
       "│     ┆            ┆ brown sug… ┆ saucepan,… ┆   ┆ \"vanil…    ┆ \"but…      ┆           ┆           │\n",
       "│ 1   ┆ Jewell     ┆ [\"1 small  ┆ [\"Place    ┆ … ┆ [\"beef\",   ┆ [\"beef\",   ┆ {}        ┆ [false,   │\n",
       "│     ┆ Ball'S     ┆ jar        ┆ chipped    ┆   ┆ \"chicken   ┆ \"chicken_b ┆           ┆ false, …  │\n",
       "│     ┆ Chicken    ┆ chipped    ┆ beef on    ┆   ┆ breasts\",  ┆ reast\", …  ┆           ┆ false]    │\n",
       "│     ┆            ┆ beef, cu…  ┆ bottom…    ┆   ┆ \"c…        ┆ \"…         ┆           ┆           │\n",
       "│ 2   ┆ Creamy     ┆ [\"2 (16    ┆ [\"In a     ┆ … ┆ [\"frozen   ┆ [\"corn\",   ┆ {}        ┆ [false,   │\n",
       "│     ┆ Corn       ┆ oz.) pkg.  ┆ slow       ┆   ┆ corn\",     ┆ \"cream_che ┆           ┆ false, …  │\n",
       "│     ┆            ┆ frozen     ┆ cooker,    ┆   ┆ \"cream     ┆ ese\", …    ┆           ┆ false]    │\n",
       "│     ┆            ┆ corn\"…     ┆ combine    ┆   ┆ cheese\"…   ┆ \"pe…       ┆           ┆           │\n",
       "│     ┆            ┆            ┆ al…        ┆   ┆            ┆            ┆           ┆           │\n",
       "│ 3   ┆ Chicken    ┆ [\"1 large  ┆ [\"Boil and ┆ … ┆ [\"chicken\" ┆ [\"chicken\" ┆ {}        ┆ [false,   │\n",
       "│     ┆ Funny      ┆ whole      ┆ debone     ┆   ┆ , \"chicken ┆ , \"chicken ┆           ┆ false,    │\n",
       "│     ┆            ┆ chicken\",  ┆ chicken.\", ┆   ┆ gravy\", \"… ┆ _gravy\",   ┆           ┆ false]    │\n",
       "│     ┆            ┆ \"2 (…      ┆ \"…         ┆   ┆            ┆ \"…         ┆           ┆           │\n",
       "│ 4   ┆ Reeses Cup ┆ [\"1 c.     ┆ [\"Combine  ┆ … ┆ [\"peanut   ┆ [\"peanut_b ┆ {}        ┆ [false,   │\n",
       "│     ┆ s(Candy)   ┆ peanut     ┆ first four ┆   ┆ butter\",   ┆ utter\",    ┆           ┆ false, …  │\n",
       "│     ┆            ┆ butter\",   ┆ ingredien… ┆   ┆ \"graham    ┆ \"graham_cr ┆           ┆ false]    │\n",
       "│     ┆            ┆ \"3/4 c.…   ┆            ┆   ┆ crac…      ┆ ac…        ┆           ┆           │\n",
       "│ 5   ┆ Cheeseburg ┆ [\"6 baking ┆ [\"Wash     ┆ … ┆ [\"baking   ┆ [\"bake_pot ┆ {}        ┆ [false,   │\n",
       "│     ┆ er Potato  ┆ potatoes\", ┆ potatoes;  ┆   ┆ potatoes\", ┆ ato\",      ┆           ┆ false, …  │\n",
       "│     ┆ Soup       ┆ \"1 lb. o…  ┆ prick      ┆   ┆ \"extra     ┆ \"beef\", …  ┆           ┆ true]     │\n",
       "│     ┆            ┆            ┆ several…   ┆   ┆ lea…       ┆ \"sou…      ┆           ┆           │\n",
       "│ 6   ┆ Rhubarb    ┆ [\"1 1/2 c. ┆ [\"Cream    ┆ … ┆ [\"sugar\",  ┆ [\"sugar\",  ┆ {}        ┆ [false,   │\n",
       "│     ┆ Coffee     ┆ sugar\",    ┆ sugar and  ┆   ┆ \"butter\",  ┆ \"butter\",  ┆           ┆ false, …  │\n",
       "│     ┆ Cake       ┆ \"1/2 c.    ┆ butter.\",  ┆   ┆ \"egg\",     ┆ …          ┆           ┆ false]    │\n",
       "│     ┆            ┆ but…       ┆ \"A…        ┆   ┆ \"bu…       ┆ \"rhubarb…  ┆           ┆           │\n",
       "│ 7   ┆ Scalloped  ┆ [\"1 can    ┆ [\"Mix      ┆ … ┆ [\"cream-st ┆ [\"cream_-_ ┆ {}        ┆ [false,   │\n",
       "│     ┆ Corn       ┆ cream-styl ┆ together   ┆   ┆ yle corn\", ┆ style\",    ┆           ┆ false, …  │\n",
       "│     ┆            ┆ e corn\",   ┆ both cans  ┆   ┆ \"whole ke… ┆ \"corn\", …  ┆           ┆ false]    │\n",
       "│     ┆            ┆ \"1 …       ┆ of co…     ┆   ┆            ┆ \"p…        ┆           ┆           │\n",
       "│ 8   ┆ Nolan'S    ┆ [\"1 1/2    ┆ [\"Roll     ┆ … ┆ [\"tomatoes ┆ [\"tomato\", ┆ {}        ┆ [false,   │\n",
       "│     ┆ Pepper     ┆ lb. round  ┆ steak      ┆   ┆ \",         ┆ \"worcester ┆           ┆ false,    │\n",
       "│     ┆ Steak      ┆ steak      ┆ strips in  ┆   ┆ \"water\",   ┆ shire_sau… ┆           ┆ false]    │\n",
       "│     ┆            ┆ (1-inc…    ┆ flour.\"…   ┆   ┆ \"onions\"…  ┆            ┆           ┆           │\n",
       "│ 9   ┆ Millionair ┆ [\"1 large  ┆ [\"Empty    ┆ … ┆ [\"pineappl ┆ [\"pineappl ┆ {}        ┆ [false,   │\n",
       "│     ┆ e Pie      ┆ container  ┆ Cool Whip  ┆   ┆ e\",        ┆ e\", \"conde ┆           ┆ false, …  │\n",
       "│     ┆            ┆ Cool       ┆ into a     ┆   ┆ \"condensed ┆ nse_milk\", ┆           ┆ false]    │\n",
       "│     ┆            ┆ Whip\"…     ┆ bowl.…     ┆   ┆ milk\"…     ┆ …          ┆           ┆           │\n",
       "└─────┴────────────┴────────────┴────────────┴───┴────────────┴────────────┴───────────┴───────────┘"
      ]
     },
     "execution_count": 96,
     "metadata": {},
     "output_type": "execute_result"
    }
   ],
   "source": [
    "nlg_ds"
   ]
  },
  {
   "cell_type": "code",
   "execution_count": 97,
   "id": "0c3bdcb2-3d0f-4a9f-ba81-fc459aecd29e",
   "metadata": {},
   "outputs": [],
   "source": [
    "nlg_ds = transform_ds_to_BOW(nlg_ds, create_vocab=True)"
   ]
  },
  {
   "cell_type": "code",
   "execution_count": 98,
   "id": "cdbe17f0-2322-44de-be85-f86c2de0cd67",
   "metadata": {},
   "outputs": [
    {
     "data": {
      "text/html": [
       "<div><style>\n",
       ".dataframe > thead > tr,\n",
       ".dataframe > tbody > tr {\n",
       "  text-align: right;\n",
       "  white-space: pre-wrap;\n",
       "}\n",
       "</style>\n",
       "<small>shape: (10, 10)</small><table border=\"1\" class=\"dataframe\"><thead><tr><th></th><th>title</th><th>ingredients</th><th>directions</th><th>link</th><th>source</th><th>NER</th><th>BOW_tokens</th><th>preps</th><th>optionals</th></tr><tr><td>i64</td><td>str</td><td>list[str]</td><td>list[str]</td><td>str</td><td>str</td><td>str</td><td>list[str]</td><td>str</td><td>list[bool]</td></tr></thead><tbody><tr><td>0</td><td>&quot;No-Bake Nut Cookies&quot;</td><td>[&quot;1 c. firmly packed brown sugar&quot;, &quot;1/2 c. evaporated milk&quot;, … &quot;3 1/2 c. bite size shredded rice biscuits&quot;]</td><td>[&quot;In a heavy 2-quart saucepan, mix brown sugar, nuts, evaporated milk and butter or margarine.&quot;, &quot;Stir over medium heat until mixture bubbles all over top.&quot;, … &quot;Let stand until firm, about 30 minutes.&quot;]</td><td>&quot;www.cookbooks.com/Recipe-Detai…</td><td>&quot;Gathered&quot;</td><td>&quot;[&quot;brown sugar&quot;, &quot;milk&quot;, &quot;vanil…</td><td>[&quot;brown_sugar&quot;, &quot;milk&quot;, … &quot;butter&quot;]</td><td>&quot;{}&quot;</td><td>[false, false, … false]</td></tr><tr><td>1</td><td>&quot;Jewell Ball&#x27;S Chicken&quot;</td><td>[&quot;1 small jar chipped beef, cut up&quot;, &quot;4 boned chicken breasts&quot;, … &quot;1 carton sour cream&quot;]</td><td>[&quot;Place chipped beef on bottom of baking dish.&quot;, &quot;Place chicken on top of beef.&quot;, &quot;Mix soup and cream together; pour over chicken. Bake, uncovered, at 275° for 3 hours.&quot;]</td><td>&quot;www.cookbooks.com/Recipe-Detai…</td><td>&quot;Gathered&quot;</td><td>&quot;[&quot;beef&quot;, &quot;chicken breasts&quot;, &quot;c…</td><td>[&quot;beef&quot;, &quot;chicken_breast&quot;, … &quot;sour_cream&quot;]</td><td>&quot;{&quot;beef&quot;: [&quot;chip&quot;, &quot;cut&quot;, &quot;up&quot;]…</td><td>[false, false, … false]</td></tr><tr><td>2</td><td>&quot;Creamy Corn&quot;</td><td>[&quot;2 (16 oz.) pkg. frozen corn&quot;, &quot;1 (8 oz.) pkg. cream cheese, cubed&quot;, … &quot;1/4 tsp. pepper&quot;]</td><td>[&quot;In a slow cooker, combine all ingredients. Cover and cook on low for 4 hours or until heated through and cheese is melted. Stir well before serving. Yields 6 servings.&quot;]</td><td>&quot;www.cookbooks.com/Recipe-Detai…</td><td>&quot;Gathered&quot;</td><td>&quot;[&quot;frozen corn&quot;, &quot;cream cheese&quot;…</td><td>[&quot;corn&quot;, &quot;cream_cheese&quot;, … &quot;pepper&quot;]</td><td>&quot;{&quot;cream_cheese&quot;: [&quot;cube&quot;], &quot;bu…</td><td>[false, false, … false]</td></tr><tr><td>3</td><td>&quot;Chicken Funny&quot;</td><td>[&quot;1 large whole chicken&quot;, &quot;2 (10 1/2 oz.) cans chicken gravy&quot;, … &quot;4 oz. shredded cheese&quot;]</td><td>[&quot;Boil and debone chicken.&quot;, &quot;Put bite size pieces in average size square casserole dish.&quot;, … &quot;Sprinkle shredded cheese on top and bake at 350° for approximately 20 minutes or until golden and bubbly.&quot;]</td><td>&quot;www.cookbooks.com/Recipe-Detai…</td><td>&quot;Gathered&quot;</td><td>&quot;[&quot;chicken&quot;, &quot;chicken gravy&quot;, &quot;…</td><td>[&quot;chicken&quot;, &quot;chicken_gravy&quot;, &quot;cream_of_mushroom_soup&quot;]</td><td>&quot;{}&quot;</td><td>[false, false, false]</td></tr><tr><td>4</td><td>&quot;Reeses Cups(Candy)&nbsp;&nbsp;&quot;</td><td>[&quot;1 c. peanut butter&quot;, &quot;3/4 c. graham cracker crumbs&quot;, … &quot;1 large pkg. chocolate chips&quot;]</td><td>[&quot;Combine first four ingredients and press in 13 x 9-inch ungreased pan.&quot;, &quot;Melt chocolate chips and spread over mixture. Refrigerate for about 20 minutes and cut into pieces before chocolate gets hard.&quot;, &quot;Keep in refrigerator.&quot;]</td><td>&quot;www.cookbooks.com/Recipe-Detai…</td><td>&quot;Gathered&quot;</td><td>&quot;[&quot;peanut butter&quot;, &quot;graham crac…</td><td>[&quot;peanut_butter&quot;, &quot;graham_cracker_crumb&quot;, … &quot;chocolate_chip&quot;]</td><td>&quot;{}&quot;</td><td>[false, false, … false]</td></tr><tr><td>5</td><td>&quot;Cheeseburger Potato Soup&quot;</td><td>[&quot;6 baking potatoes&quot;, &quot;1 lb. of extra lean ground beef&quot;, … &quot;1 (8 oz.) carton sour cream (optional)&quot;]</td><td>[&quot;Wash potatoes; prick several times with a fork.&quot;, &quot;Microwave them with a wet paper towel covering the potatoes on high for 6-8 minutes.&quot;, … &quot;Sprinkle with remaining cheese, bacon and green onions.&quot;]</td><td>&quot;www.cookbooks.com/Recipe-Detai…</td><td>&quot;Gathered&quot;</td><td>&quot;[&quot;baking potatoes&quot;, &quot;extra lea…</td><td>[&quot;bake_potato&quot;, &quot;beef&quot;, … &quot;sour_cream&quot;]</td><td>&quot;{&quot;beef&quot;: [&quot;ground&quot;], &quot;cheddar_…</td><td>[false, false, … true]</td></tr><tr><td>6</td><td>&quot;Rhubarb Coffee Cake&quot;</td><td>[&quot;1 1/2 c. sugar&quot;, &quot;1/2 c. butter&quot;, … &quot;1 tsp. vanilla&quot;]</td><td>[&quot;Cream sugar and butter.&quot;, &quot;Add egg and beat well.&quot;, … &quot;Pour into greased 9 x 13-inch pan and add Topping.&quot;]</td><td>&quot;www.cookbooks.com/Recipe-Detai…</td><td>&quot;Gathered&quot;</td><td>&quot;[&quot;sugar&quot;, &quot;butter&quot;, &quot;egg&quot;, &quot;bu…</td><td>[&quot;sugar&quot;, &quot;butter&quot;, … &quot;rhubarb&quot;]</td><td>&quot;{&quot;rhubarb&quot;: [&quot;finely&quot;, &quot;cut&quot;]}&quot;</td><td>[false, false, … false]</td></tr><tr><td>7</td><td>&quot;Scalloped Corn&quot;</td><td>[&quot;1 can cream-style corn&quot;, &quot;1 can whole kernel corn&quot;, … &quot;pepper to taste&quot;]</td><td>[&quot;Mix together both cans of corn, crackers, egg, 2 teaspoons of melted butter and pepper and place in a buttered baking dish.&quot;, &quot;Dot with remaining 4 teaspoons of butter.&quot;, &quot;Bake at 350° for 1 hour.&quot;]</td><td>&quot;www.cookbooks.com/Recipe-Detai…</td><td>&quot;Gathered&quot;</td><td>&quot;[&quot;cream-style corn&quot;, &quot;whole ke…</td><td>[&quot;cream_-_style&quot;, &quot;corn&quot;, … &quot;pepper&quot;]</td><td>&quot;{&quot;saltine_cracker&quot;: [&quot;crush&quot;],…</td><td>[false, false, … false]</td></tr><tr><td>8</td><td>&quot;Nolan&#x27;S Pepper Steak&quot;</td><td>[&quot;1 1/2 lb. round steak (1-inch thick), cut into strips&quot;, &quot;1 can drained tomatoes, cut up (save liquid)&quot;, … &quot;1/4 c. oil&quot;]</td><td>[&quot;Roll steak strips in flour.&quot;, &quot;Brown in skillet.&quot;, … &quot;Serve over hot cooked rice.&quot;]</td><td>&quot;www.cookbooks.com/Recipe-Detai…</td><td>&quot;Gathered&quot;</td><td>&quot;[&quot;tomatoes&quot;, &quot;water&quot;, &quot;onions&quot;…</td><td>[&quot;tomato&quot;, &quot;worcestershire_sauce&quot;, &quot;green_pepper&quot;]</td><td>&quot;{&quot;tomato&quot;: [&quot;drain&quot;, &quot;cut&quot;, &quot;u…</td><td>[false, false, false]</td></tr><tr><td>9</td><td>&quot;Millionaire Pie&quot;</td><td>[&quot;1 large container Cool Whip&quot;, &quot;1 large can crushed pineapple&quot;, … &quot;2 graham cracker crusts&quot;]</td><td>[&quot;Empty Cool Whip into a bowl.&quot;, &quot;Drain juice from pineapple.&quot;, … &quot;Makes 2 pies.&quot;]</td><td>&quot;www.cookbooks.com/Recipe-Detai…</td><td>&quot;Gathered&quot;</td><td>&quot;[&quot;pineapple&quot;, &quot;condensed milk&quot;…</td><td>[&quot;pineapple&quot;, &quot;condense_milk&quot;, … &quot;graham_cracker_crust&quot;]</td><td>&quot;{&quot;pineapple&quot;: [&quot;crush&quot;]}&quot;</td><td>[false, false, … false]</td></tr></tbody></table></div>"
      ],
      "text/plain": [
       "shape: (10, 10)\n",
       "┌─────┬────────────┬────────────┬────────────┬───┬────────────┬────────────┬───────────┬───────────┐\n",
       "│     ┆ title      ┆ ingredient ┆ directions ┆ … ┆ NER        ┆ BOW_tokens ┆ preps     ┆ optionals │\n",
       "│ --- ┆ ---        ┆ s          ┆ ---        ┆   ┆ ---        ┆ ---        ┆ ---       ┆ ---       │\n",
       "│ i64 ┆ str        ┆ ---        ┆ list[str]  ┆   ┆ str        ┆ list[str]  ┆ str       ┆ list[bool │\n",
       "│     ┆            ┆ list[str]  ┆            ┆   ┆            ┆            ┆           ┆ ]         │\n",
       "╞═════╪════════════╪════════════╪════════════╪═══╪════════════╪════════════╪═══════════╪═══════════╡\n",
       "│ 0   ┆ No-Bake    ┆ [\"1 c.     ┆ [\"In a     ┆ … ┆ [\"brown    ┆ [\"brown_su ┆ {}        ┆ [false,   │\n",
       "│     ┆ Nut        ┆ firmly     ┆ heavy      ┆   ┆ sugar\",    ┆ gar\",      ┆           ┆ false, …  │\n",
       "│     ┆ Cookies    ┆ packed     ┆ 2-quart    ┆   ┆ \"milk\",    ┆ \"milk\", …  ┆           ┆ false]    │\n",
       "│     ┆            ┆ brown sug… ┆ saucepan,… ┆   ┆ \"vanil…    ┆ \"but…      ┆           ┆           │\n",
       "│ 1   ┆ Jewell     ┆ [\"1 small  ┆ [\"Place    ┆ … ┆ [\"beef\",   ┆ [\"beef\",   ┆ {\"beef\":  ┆ [false,   │\n",
       "│     ┆ Ball'S     ┆ jar        ┆ chipped    ┆   ┆ \"chicken   ┆ \"chicken_b ┆ [\"chip\",  ┆ false, …  │\n",
       "│     ┆ Chicken    ┆ chipped    ┆ beef on    ┆   ┆ breasts\",  ┆ reast\", …  ┆ \"cut\",    ┆ false]    │\n",
       "│     ┆            ┆ beef, cu…  ┆ bottom…    ┆   ┆ \"c…        ┆ \"…         ┆ \"up\"]…    ┆           │\n",
       "│ 2   ┆ Creamy     ┆ [\"2 (16    ┆ [\"In a     ┆ … ┆ [\"frozen   ┆ [\"corn\",   ┆ {\"cream_c ┆ [false,   │\n",
       "│     ┆ Corn       ┆ oz.) pkg.  ┆ slow       ┆   ┆ corn\",     ┆ \"cream_che ┆ heese\":   ┆ false, …  │\n",
       "│     ┆            ┆ frozen     ┆ cooker,    ┆   ┆ \"cream     ┆ ese\", …    ┆ [\"cube\"], ┆ false]    │\n",
       "│     ┆            ┆ corn\"…     ┆ combine    ┆   ┆ cheese\"…   ┆ \"pe…       ┆ \"bu…      ┆           │\n",
       "│     ┆            ┆            ┆ al…        ┆   ┆            ┆            ┆           ┆           │\n",
       "│ 3   ┆ Chicken    ┆ [\"1 large  ┆ [\"Boil and ┆ … ┆ [\"chicken\" ┆ [\"chicken\" ┆ {}        ┆ [false,   │\n",
       "│     ┆ Funny      ┆ whole      ┆ debone     ┆   ┆ , \"chicken ┆ , \"chicken ┆           ┆ false,    │\n",
       "│     ┆            ┆ chicken\",  ┆ chicken.\", ┆   ┆ gravy\", \"… ┆ _gravy\",   ┆           ┆ false]    │\n",
       "│     ┆            ┆ \"2 (…      ┆ \"…         ┆   ┆            ┆ \"…         ┆           ┆           │\n",
       "│ 4   ┆ Reeses Cup ┆ [\"1 c.     ┆ [\"Combine  ┆ … ┆ [\"peanut   ┆ [\"peanut_b ┆ {}        ┆ [false,   │\n",
       "│     ┆ s(Candy)   ┆ peanut     ┆ first four ┆   ┆ butter\",   ┆ utter\",    ┆           ┆ false, …  │\n",
       "│     ┆            ┆ butter\",   ┆ ingredien… ┆   ┆ \"graham    ┆ \"graham_cr ┆           ┆ false]    │\n",
       "│     ┆            ┆ \"3/4 c.…   ┆            ┆   ┆ crac…      ┆ ac…        ┆           ┆           │\n",
       "│ 5   ┆ Cheeseburg ┆ [\"6 baking ┆ [\"Wash     ┆ … ┆ [\"baking   ┆ [\"bake_pot ┆ {\"beef\":  ┆ [false,   │\n",
       "│     ┆ er Potato  ┆ potatoes\", ┆ potatoes;  ┆   ┆ potatoes\", ┆ ato\",      ┆ [\"ground\" ┆ false, …  │\n",
       "│     ┆ Soup       ┆ \"1 lb. o…  ┆ prick      ┆   ┆ \"extra     ┆ \"beef\", …  ┆ ], \"chedd ┆ true]     │\n",
       "│     ┆            ┆            ┆ several…   ┆   ┆ lea…       ┆ \"sou…      ┆ ar_…      ┆           │\n",
       "│ 6   ┆ Rhubarb    ┆ [\"1 1/2 c. ┆ [\"Cream    ┆ … ┆ [\"sugar\",  ┆ [\"sugar\",  ┆ {\"rhubarb ┆ [false,   │\n",
       "│     ┆ Coffee     ┆ sugar\",    ┆ sugar and  ┆   ┆ \"butter\",  ┆ \"butter\",  ┆ \": [\"fine ┆ false, …  │\n",
       "│     ┆ Cake       ┆ \"1/2 c.    ┆ butter.\",  ┆   ┆ \"egg\",     ┆ …          ┆ ly\",      ┆ false]    │\n",
       "│     ┆            ┆ but…       ┆ \"A…        ┆   ┆ \"bu…       ┆ \"rhubarb…  ┆ \"cut\"]}   ┆           │\n",
       "│ 7   ┆ Scalloped  ┆ [\"1 can    ┆ [\"Mix      ┆ … ┆ [\"cream-st ┆ [\"cream_-_ ┆ {\"saltine ┆ [false,   │\n",
       "│     ┆ Corn       ┆ cream-styl ┆ together   ┆   ┆ yle corn\", ┆ style\",    ┆ _cracker\" ┆ false, …  │\n",
       "│     ┆            ┆ e corn\",   ┆ both cans  ┆   ┆ \"whole ke… ┆ \"corn\", …  ┆ : [\"crush ┆ false]    │\n",
       "│     ┆            ┆ \"1 …       ┆ of co…     ┆   ┆            ┆ \"p…        ┆ \"],…      ┆           │\n",
       "│ 8   ┆ Nolan'S    ┆ [\"1 1/2    ┆ [\"Roll     ┆ … ┆ [\"tomatoes ┆ [\"tomato\", ┆ {\"tomato\" ┆ [false,   │\n",
       "│     ┆ Pepper     ┆ lb. round  ┆ steak      ┆   ┆ \",         ┆ \"worcester ┆ :         ┆ false,    │\n",
       "│     ┆ Steak      ┆ steak      ┆ strips in  ┆   ┆ \"water\",   ┆ shire_sau… ┆ [\"drain\", ┆ false]    │\n",
       "│     ┆            ┆ (1-inc…    ┆ flour.\"…   ┆   ┆ \"onions\"…  ┆            ┆ \"cut\",    ┆           │\n",
       "│     ┆            ┆            ┆            ┆   ┆            ┆            ┆ \"u…       ┆           │\n",
       "│ 9   ┆ Millionair ┆ [\"1 large  ┆ [\"Empty    ┆ … ┆ [\"pineappl ┆ [\"pineappl ┆ {\"pineapp ┆ [false,   │\n",
       "│     ┆ e Pie      ┆ container  ┆ Cool Whip  ┆   ┆ e\",        ┆ e\", \"conde ┆ le\": [\"cr ┆ false, …  │\n",
       "│     ┆            ┆ Cool       ┆ into a     ┆   ┆ \"condensed ┆ nse_milk\", ┆ ush\"]}    ┆ false]    │\n",
       "│     ┆            ┆ Whip\"…     ┆ bowl.…     ┆   ┆ milk\"…     ┆ …          ┆           ┆           │\n",
       "└─────┴────────────┴────────────┴────────────┴───┴────────────┴────────────┴───────────┴───────────┘"
      ]
     },
     "execution_count": 98,
     "metadata": {},
     "output_type": "execute_result"
    }
   ],
   "source": [
    "nlg_ds"
   ]
  },
  {
   "cell_type": "code",
   "execution_count": 99,
   "id": "63213c3a-045b-4a8a-9cd5-d1ab8d0d1695",
   "metadata": {},
   "outputs": [
    {
     "data": {
      "text/html": [
       "<div><style>\n",
       ".dataframe > thead > tr,\n",
       ".dataframe > tbody > tr {\n",
       "  text-align: right;\n",
       "  white-space: pre-wrap;\n",
       "}\n",
       "</style>\n",
       "<small>shape: (6,)</small><table border=\"1\" class=\"dataframe\"><thead><tr><th></th></tr><tr><td>str</td></tr></thead><tbody><tr><td>&quot;2 (16 oz.) pkg. frozen corn&quot;</td></tr><tr><td>&quot;1 (8 oz.) pkg. cream cheese, c…</td></tr><tr><td>&quot;1/3 c. butter, cubed&quot;</td></tr><tr><td>&quot;1/2 tsp. garlic powder&quot;</td></tr><tr><td>&quot;1/2 tsp. salt&quot;</td></tr><tr><td>&quot;1/4 tsp. pepper&quot;</td></tr></tbody></table></div>"
      ],
      "text/plain": [
       "shape: (6,)\n",
       "Series: '' [str]\n",
       "[\n",
       "\t\"2 (16 oz.) pkg. frozen corn\"\n",
       "\t\"1 (8 oz.) pkg. cream cheese, c…\n",
       "\t\"1/3 c. butter, cubed\"\n",
       "\t\"1/2 tsp. garlic powder\"\n",
       "\t\"1/2 tsp. salt\"\n",
       "\t\"1/4 tsp. pepper\"\n",
       "]"
      ]
     },
     "execution_count": 99,
     "metadata": {},
     "output_type": "execute_result"
    }
   ],
   "source": [
    "nlg_ds['ingredients'][2]"
   ]
  },
  {
   "cell_type": "code",
   "execution_count": 100,
   "id": "63dc8646-7eb1-414e-8062-4fe105a435e0",
   "metadata": {},
   "outputs": [
    {
     "data": {
      "text/html": [
       "<div><style>\n",
       ".dataframe > thead > tr,\n",
       ".dataframe > tbody > tr {\n",
       "  text-align: right;\n",
       "  white-space: pre-wrap;\n",
       "}\n",
       "</style>\n",
       "<small>shape: (6,)</small><table border=\"1\" class=\"dataframe\"><thead><tr><th></th></tr><tr><td>str</td></tr></thead><tbody><tr><td>&quot;corn&quot;</td></tr><tr><td>&quot;cream_cheese&quot;</td></tr><tr><td>&quot;butter&quot;</td></tr><tr><td>&quot;garlic_powder&quot;</td></tr><tr><td>&quot;salt&quot;</td></tr><tr><td>&quot;pepper&quot;</td></tr></tbody></table></div>"
      ],
      "text/plain": [
       "shape: (6,)\n",
       "Series: '' [str]\n",
       "[\n",
       "\t\"corn\"\n",
       "\t\"cream_cheese\"\n",
       "\t\"butter\"\n",
       "\t\"garlic_powder\"\n",
       "\t\"salt\"\n",
       "\t\"pepper\"\n",
       "]"
      ]
     },
     "execution_count": 100,
     "metadata": {},
     "output_type": "execute_result"
    }
   ],
   "source": [
    "nlg_ds['BOW_tokens'][2]"
   ]
  },
  {
   "cell_type": "code",
   "execution_count": 101,
   "id": "b45e0349-928d-4469-9d05-c5e356ff3129",
   "metadata": {},
   "outputs": [
    {
     "data": {
      "text/plain": [
       "'{\"cream_cheese\": [\"cube\"], \"butter\": [\"cube\"]}'"
      ]
     },
     "execution_count": 101,
     "metadata": {},
     "output_type": "execute_result"
    }
   ],
   "source": [
    "nlg_ds['preps'][2]"
   ]
  },
  {
   "cell_type": "code",
   "execution_count": 102,
   "id": "edcf789d-06fc-4b78-92e1-91f234c7a401",
   "metadata": {},
   "outputs": [],
   "source": [
    "nlg_ds.write_parquet('test.parquet')"
   ]
  },
  {
   "cell_type": "markdown",
   "id": "9fd0c2ac-edbb-4a67-aee0-346bcba0eb8a",
   "metadata": {},
   "source": [
    "# Test some queries using DuckDB and parquet"
   ]
  },
  {
   "cell_type": "code",
   "execution_count": 103,
   "id": "a4b2c761-8b5e-4e4f-9938-8ced7a74d54c",
   "metadata": {},
   "outputs": [],
   "source": [
    "import duckdb"
   ]
  },
  {
   "cell_type": "code",
   "execution_count": 104,
   "id": "a183744d-ae2d-4033-942a-ed398176958e",
   "metadata": {},
   "outputs": [
    {
     "data": {
      "text/html": [
       "<div><style>\n",
       ".dataframe > thead > tr,\n",
       ".dataframe > tbody > tr {\n",
       "  text-align: right;\n",
       "  white-space: pre-wrap;\n",
       "}\n",
       "</style>\n",
       "<small>shape: (2, 10)</small><table border=\"1\" class=\"dataframe\"><thead><tr><th>C0</th><th>title</th><th>ingredients</th><th>directions</th><th>link</th><th>source</th><th>NER</th><th>BOW_tokens</th><th>preps</th><th>optionals</th></tr><tr><td>i64</td><td>str</td><td>list[str]</td><td>list[str]</td><td>str</td><td>str</td><td>str</td><td>list[str]</td><td>str</td><td>list[bool]</td></tr></thead><tbody><tr><td>6</td><td>&quot;Rhubarb Coffee Cake&quot;</td><td>[&quot;1 1/2 c. sugar&quot;, &quot;1/2 c. butter&quot;, … &quot;1 tsp. vanilla&quot;]</td><td>[&quot;Cream sugar and butter.&quot;, &quot;Add egg and beat well.&quot;, … &quot;Pour into greased 9 x 13-inch pan and add Topping.&quot;]</td><td>&quot;www.cookbooks.com/Recipe-Detai…</td><td>&quot;Gathered&quot;</td><td>&quot;[&quot;sugar&quot;, &quot;butter&quot;, &quot;egg&quot;, &quot;bu…</td><td>[&quot;sugar&quot;, &quot;butter&quot;, … &quot;rhubarb&quot;]</td><td>&quot;{&quot;rhubarb&quot;: [&quot;finely&quot;, &quot;cut&quot;]}&quot;</td><td>[false, false, … false]</td></tr><tr><td>7</td><td>&quot;Scalloped Corn&quot;</td><td>[&quot;1 can cream-style corn&quot;, &quot;1 can whole kernel corn&quot;, … &quot;pepper to taste&quot;]</td><td>[&quot;Mix together both cans of corn, crackers, egg, 2 teaspoons of melted butter and pepper and place in a buttered baking dish.&quot;, &quot;Dot with remaining 4 teaspoons of butter.&quot;, &quot;Bake at 350° for 1 hour.&quot;]</td><td>&quot;www.cookbooks.com/Recipe-Detai…</td><td>&quot;Gathered&quot;</td><td>&quot;[&quot;cream-style corn&quot;, &quot;whole ke…</td><td>[&quot;cream_-_style&quot;, &quot;corn&quot;, … &quot;pepper&quot;]</td><td>&quot;{&quot;saltine_cracker&quot;: [&quot;crush&quot;],…</td><td>[false, false, … false]</td></tr></tbody></table></div>"
      ],
      "text/plain": [
       "shape: (2, 10)\n",
       "┌─────┬────────────┬────────────┬────────────┬───┬────────────┬────────────┬───────────┬───────────┐\n",
       "│ C0  ┆ title      ┆ ingredient ┆ directions ┆ … ┆ NER        ┆ BOW_tokens ┆ preps     ┆ optionals │\n",
       "│ --- ┆ ---        ┆ s          ┆ ---        ┆   ┆ ---        ┆ ---        ┆ ---       ┆ ---       │\n",
       "│ i64 ┆ str        ┆ ---        ┆ list[str]  ┆   ┆ str        ┆ list[str]  ┆ str       ┆ list[bool │\n",
       "│     ┆            ┆ list[str]  ┆            ┆   ┆            ┆            ┆           ┆ ]         │\n",
       "╞═════╪════════════╪════════════╪════════════╪═══╪════════════╪════════════╪═══════════╪═══════════╡\n",
       "│ 6   ┆ Rhubarb    ┆ [\"1 1/2 c. ┆ [\"Cream    ┆ … ┆ [\"sugar\",  ┆ [\"sugar\",  ┆ {\"rhubarb ┆ [false,   │\n",
       "│     ┆ Coffee     ┆ sugar\",    ┆ sugar and  ┆   ┆ \"butter\",  ┆ \"butter\",  ┆ \": [\"fine ┆ false, …  │\n",
       "│     ┆ Cake       ┆ \"1/2 c.    ┆ butter.\",  ┆   ┆ \"egg\",     ┆ …          ┆ ly\",      ┆ false]    │\n",
       "│     ┆            ┆ but…       ┆ \"A…        ┆   ┆ \"bu…       ┆ \"rhubarb…  ┆ \"cut\"]}   ┆           │\n",
       "│ 7   ┆ Scalloped  ┆ [\"1 can    ┆ [\"Mix      ┆ … ┆ [\"cream-st ┆ [\"cream_-_ ┆ {\"saltine ┆ [false,   │\n",
       "│     ┆ Corn       ┆ cream-styl ┆ together   ┆   ┆ yle corn\", ┆ style\",    ┆ _cracker\" ┆ false, …  │\n",
       "│     ┆            ┆ e corn\",   ┆ both cans  ┆   ┆ \"whole ke… ┆ \"corn\", …  ┆ : [\"crush ┆ false]    │\n",
       "│     ┆            ┆ \"1 …       ┆ of co…     ┆   ┆            ┆ \"p…        ┆ \"],…      ┆           │\n",
       "└─────┴────────────┴────────────┴────────────┴───┴────────────┴────────────┴───────────┴───────────┘"
      ]
     },
     "execution_count": 104,
     "metadata": {},
     "output_type": "execute_result"
    }
   ],
   "source": [
    "duckdb.sql(\"SELECT * FROM 'test.parquet' AS tbl WHERE list_contains(tbl.BOW_tokens, 'egg')\").pl()"
   ]
  },
  {
   "cell_type": "code",
   "execution_count": 106,
   "id": "57e1da54-44a9-461c-87c8-e160df15cbc6",
   "metadata": {},
   "outputs": [],
   "source": [
    "duckdb.sql(\"COPY(SELECT preps::JSON AS preps, * EXCLUDE (preps) FROM 'test.parquet') TO 'test.parquet' (FORMAT PARQUET, OVERWRITE TRUE)\")"
   ]
  },
  {
   "cell_type": "code",
   "execution_count": 131,
   "id": "fbaa124d-83b5-4189-8a40-80d4196a5801",
   "metadata": {},
   "outputs": [
    {
     "data": {
      "text/plain": [
       "┌───────────────────────────────────────────────────────────┐\n",
       "│ json_extract(preps, main.list_value('butter', 'rhubarb')) │\n",
       "│                          json[]                           │\n",
       "├───────────────────────────────────────────────────────────┤\n",
       "│ [NULL, NULL]                                              │\n",
       "│ [NULL, NULL]                                              │\n",
       "│ ['[\"cube\"]', NULL]                                        │\n",
       "│ [NULL, NULL]                                              │\n",
       "│ [NULL, NULL]                                              │\n",
       "│ [NULL, NULL]                                              │\n",
       "│ [NULL, '[\"finely\",\"cut\"]']                                │\n",
       "│ [NULL, NULL]                                              │\n",
       "│ [NULL, NULL]                                              │\n",
       "│ [NULL, NULL]                                              │\n",
       "├───────────────────────────────────────────────────────────┤\n",
       "│                          10 rows                          │\n",
       "└───────────────────────────────────────────────────────────┘"
      ]
     },
     "execution_count": 131,
     "metadata": {},
     "output_type": "execute_result"
    }
   ],
   "source": [
    "duckdb.sql(\"SELECT json_extract(preps, ['butter', 'rhubarb']) FROM 'test.parquet'\")"
   ]
  },
  {
   "cell_type": "code",
   "execution_count": 133,
   "id": "9ff817d3-0329-474a-8942-4582b37c983a",
   "metadata": {},
   "outputs": [
    {
     "data": {
      "text/plain": [
       "┌──────────────────────────────────────────────────────────┐\n",
       "│ json_exists(preps, main.list_value('butter', 'rhubarb')) │\n",
       "│                        boolean[]                         │\n",
       "├──────────────────────────────────────────────────────────┤\n",
       "│ [false, false]                                           │\n",
       "│ [false, false]                                           │\n",
       "│ [true, false]                                            │\n",
       "│ [false, false]                                           │\n",
       "│ [false, false]                                           │\n",
       "│ [false, false]                                           │\n",
       "│ [false, true]                                            │\n",
       "│ [false, false]                                           │\n",
       "│ [false, false]                                           │\n",
       "│ [false, false]                                           │\n",
       "├──────────────────────────────────────────────────────────┤\n",
       "│                         10 rows                          │\n",
       "└──────────────────────────────────────────────────────────┘"
      ]
     },
     "execution_count": 133,
     "metadata": {},
     "output_type": "execute_result"
    }
   ],
   "source": [
    "duckdb.sql(\"SELECT json_exists(preps, ['butter', 'rhubarb']) FROM 'test.parquet'\")"
   ]
  },
  {
   "cell_type": "code",
   "execution_count": 271,
   "id": "cf4cd63c-7637-4415-aa6b-da481156741e",
   "metadata": {},
   "outputs": [],
   "source": [
    "ingredients = ['butter']\n",
    "preps = {'butter': ['cube'], 'cream_cheese': ['cube']}"
   ]
  },
  {
   "cell_type": "code",
   "execution_count": 272,
   "id": "38010aa6-7fdc-401c-a568-9bdf0df2a2ae",
   "metadata": {},
   "outputs": [
    {
     "data": {
      "text/plain": [
       "['butter', 'cream_cheese']"
      ]
     },
     "execution_count": 272,
     "metadata": {},
     "output_type": "execute_result"
    }
   ],
   "source": [
    "list(preps.keys())"
   ]
  },
  {
   "cell_type": "code",
   "execution_count": 275,
   "id": "67e1fa53-b6cf-4414-94bd-a2fd8a381131",
   "metadata": {},
   "outputs": [],
   "source": [
    "def construct_ingredient_query(pq_path: str, ingredients: list, preps: dict):\n",
    "    prep_keys = list(preps.keys())\n",
    "    base_sql = (f\"SELECT *, json_extract(preps, {prep_keys}) AS prep_lists, from_json(prep_lists->>{0}, '[\\\"VARCHAR\\\"]') as testing\"\n",
    "                f\" FROM '{pq_path}'\"\n",
    "                \" AS tbl\"\n",
    "                f\" WHERE list_has_all(tbl.BOW_tokens, {ingredients})\"\n",
    "               )\n",
    "    prep_filter = \"\"\n",
    "    for i, (key, value) in enumerate(preps.items()):\n",
    "        prep_filter += (f\" AND (prep_lists->>{i}) IS NOT NULL\"\n",
    "                        f\" AND list_has_all(from_json(prep_lists->>{i}, '[\\\"VARCHAR\\\"]'), {value})\"\n",
    "                       )\n",
    "    sql = base_sql + prep_filter\n",
    "    return sql"
   ]
  },
  {
   "cell_type": "code",
   "execution_count": 276,
   "id": "27714618-d373-4583-a789-d5ba09e0eceb",
   "metadata": {},
   "outputs": [
    {
     "data": {
      "text/html": [
       "<div><style>\n",
       ".dataframe > thead > tr,\n",
       ".dataframe > tbody > tr {\n",
       "  text-align: right;\n",
       "  white-space: pre-wrap;\n",
       "}\n",
       "</style>\n",
       "<small>shape: (1, 12)</small><table border=\"1\" class=\"dataframe\"><thead><tr><th>preps</th><th>C0</th><th>title</th><th>ingredients</th><th>directions</th><th>link</th><th>source</th><th>NER</th><th>BOW_tokens</th><th>optionals</th><th>prep_lists</th><th>testing</th></tr><tr><td>str</td><td>i64</td><td>str</td><td>list[str]</td><td>list[str]</td><td>str</td><td>str</td><td>str</td><td>list[str]</td><td>list[bool]</td><td>list[str]</td><td>list[str]</td></tr></thead><tbody><tr><td>&quot;{&quot;cream_cheese&quot;: [&quot;cube&quot;], &quot;bu…</td><td>2</td><td>&quot;Creamy Corn&quot;</td><td>[&quot;2 (16 oz.) pkg. frozen corn&quot;, &quot;1 (8 oz.) pkg. cream cheese, cubed&quot;, … &quot;1/4 tsp. pepper&quot;]</td><td>[&quot;In a slow cooker, combine all ingredients. Cover and cook on low for 4 hours or until heated through and cheese is melted. Stir well before serving. Yields 6 servings.&quot;]</td><td>&quot;www.cookbooks.com/Recipe-Detai…</td><td>&quot;Gathered&quot;</td><td>&quot;[&quot;frozen corn&quot;, &quot;cream cheese&quot;…</td><td>[&quot;corn&quot;, &quot;cream_cheese&quot;, … &quot;pepper&quot;]</td><td>[false, false, … false]</td><td>[&quot;[&quot;cube&quot;]&quot;, &quot;[&quot;cube&quot;]&quot;]</td><td>[&quot;cube&quot;]</td></tr></tbody></table></div>"
      ],
      "text/plain": [
       "shape: (1, 12)\n",
       "┌─────────────┬─────┬────────┬─────────────┬───┬─────────────┬────────────┬────────────┬───────────┐\n",
       "│ preps       ┆ C0  ┆ title  ┆ ingredients ┆ … ┆ BOW_tokens  ┆ optionals  ┆ prep_lists ┆ testing   │\n",
       "│ ---         ┆ --- ┆ ---    ┆ ---         ┆   ┆ ---         ┆ ---        ┆ ---        ┆ ---       │\n",
       "│ str         ┆ i64 ┆ str    ┆ list[str]   ┆   ┆ list[str]   ┆ list[bool] ┆ list[str]  ┆ list[str] │\n",
       "╞═════════════╪═════╪════════╪═════════════╪═══╪═════════════╪════════════╪════════════╪═══════════╡\n",
       "│ {\"cream_che ┆ 2   ┆ Creamy ┆ [\"2 (16     ┆ … ┆ [\"corn\",    ┆ [false,    ┆ [\"[\"cube\"] ┆ [\"cube\"]  │\n",
       "│ ese\":       ┆     ┆ Corn   ┆ oz.) pkg.   ┆   ┆ \"cream_chee ┆ false, …   ┆ \", \"[\"cube ┆           │\n",
       "│ [\"cube\"],   ┆     ┆        ┆ frozen      ┆   ┆ se\", … \"pe… ┆ false]     ┆ \"]\"]       ┆           │\n",
       "│ \"bu…        ┆     ┆        ┆ corn\"…      ┆   ┆             ┆            ┆            ┆           │\n",
       "└─────────────┴─────┴────────┴─────────────┴───┴─────────────┴────────────┴────────────┴───────────┘"
      ]
     },
     "execution_count": 276,
     "metadata": {},
     "output_type": "execute_result"
    }
   ],
   "source": [
    "duckdb.sql(construct_ingredient_query('test.parquet', ingredients, preps)).pl()"
   ]
  }
 ],
 "metadata": {
  "kernelspec": {
   "display_name": "Python 3 (ipykernel)",
   "language": "python",
   "name": "python3"
  },
  "language_info": {
   "codemirror_mode": {
    "name": "ipython",
    "version": 3
   },
   "file_extension": ".py",
   "mimetype": "text/x-python",
   "name": "python",
   "nbconvert_exporter": "python",
   "pygments_lexer": "ipython3",
   "version": "3.10.16"
  }
 },
 "nbformat": 4,
 "nbformat_minor": 5
}
