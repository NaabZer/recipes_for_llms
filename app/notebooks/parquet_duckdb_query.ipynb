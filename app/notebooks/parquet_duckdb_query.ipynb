{
 "cells": [
  {
   "cell_type": "code",
   "execution_count": 1,
   "id": "4f0629ab-3b17-4982-a93b-dbdef7d22e0c",
   "metadata": {
    "editable": true,
    "slideshow": {
     "slide_type": ""
    },
    "tags": []
   },
   "outputs": [],
   "source": [
    "import os\n",
    "import spacy\n",
    "import polars as pl\n",
    "import mlflow\n",
    "import mlflow.spacy\n",
    "from pathlib import Path\n",
    "import json\n",
    "from spacy.util import minibatch, compounding\n",
    "from spacy.cli.train import train\n",
    "from dotenv import load_dotenv\n",
    "import sys\n",
    "sys.path.insert(0, os.path.abspath('..'))\n",
    "sys.path.insert(0, os.path.abspath('../..'))\n",
    "from app.data_handling.NER_parquet import process_ingredient, transform_ingredients_to_tokens, transform_ds_to_tokens, construct_ingredient_query"
   ]
  },
  {
   "cell_type": "markdown",
   "id": "853a5efb-b029-4f65-93ee-bc1ee7326068",
   "metadata": {},
   "source": [
    "# Create Dataframe and save as parquet"
   ]
  },
  {
   "cell_type": "code",
   "execution_count": 2,
   "id": "0f166bc3-d62b-4c41-b8e9-b6881f8b67cc",
   "metadata": {},
   "outputs": [
    {
     "data": {
      "text/plain": [
       "True"
      ]
     },
     "execution_count": 2,
     "metadata": {},
     "output_type": "execute_result"
    }
   ],
   "source": [
    "load_dotenv()"
   ]
  },
  {
   "cell_type": "code",
   "execution_count": 3,
   "id": "2040cdf8-20ef-4769-8fec-ff718140b4ee",
   "metadata": {},
   "outputs": [],
   "source": [
    "mlflow.set_tracking_uri(os.getenv(\"MLFLOW_TRACKING_URL\"))"
   ]
  },
  {
   "cell_type": "code",
   "execution_count": 4,
   "id": "60bcd8c1-4f9f-4078-8ab5-08a672f64cf5",
   "metadata": {
    "editable": true,
    "slideshow": {
     "slide_type": ""
    },
    "tags": []
   },
   "outputs": [
    {
     "name": "stderr",
     "output_type": "stream",
     "text": [
      "/home/naabzer/develop/recipe_tm/env/lib/python3.10/site-packages/tqdm/auto.py:21: TqdmWarning: IProgress not found. Please update jupyter and ipywidgets. See https://ipywidgets.readthedocs.io/en/stable/user_install.html\n",
      "  from .autonotebook import tqdm as notebook_tqdm\n",
      "Downloading artifacts: 100%|████████████████████████████████████████████████████████| 17/17 [00:03<00:00,  4.87it/s]\n"
     ]
    }
   ],
   "source": [
    "model_uri = \"models:/recipe_NER@prod\"\n",
    "ner = mlflow.spacy.load_model(model_uri=model_uri)\n"
   ]
  },
  {
   "cell_type": "code",
   "execution_count": 5,
   "id": "8e0eb0b6-463a-4a9e-9ea7-e50ede73114f",
   "metadata": {},
   "outputs": [
    {
     "data": {
      "text/plain": [
       "spacy.lang.en.English"
      ]
     },
     "execution_count": 5,
     "metadata": {},
     "output_type": "execute_result"
    }
   ],
   "source": [
    "type(ner)"
   ]
  },
  {
   "cell_type": "code",
   "execution_count": 6,
   "id": "7e456b58-e8d7-4f7c-ab2c-9ea799ba8705",
   "metadata": {
    "editable": true,
    "slideshow": {
     "slide_type": ""
    },
    "tags": []
   },
   "outputs": [],
   "source": [
    "nlg_ds = pl.read_csv('../../data/recipenlg/RecipeNLG_dataset.csv',  n_rows=1000)\n",
    "nlg_ds = nlg_ds.with_columns(pl.col(\"ingredients\").str.json_decode())\n",
    "nlg_ds = nlg_ds.with_columns(pl.col(\"directions\").str.json_decode())\n",
    "nlg_ds = nlg_ds.with_columns(pl.arange(pl.len()).alias(\"index\"))"
   ]
  },
  {
   "cell_type": "code",
   "execution_count": 7,
   "id": "9a218d9d-04d5-49eb-9654-e092dbd6234f",
   "metadata": {},
   "outputs": [
    {
     "data": {
      "text/html": [
       "<div><style>\n",
       ".dataframe > thead > tr,\n",
       ".dataframe > tbody > tr {\n",
       "  text-align: right;\n",
       "  white-space: pre-wrap;\n",
       "}\n",
       "</style>\n",
       "<small>shape: (5, 8)</small><table border=\"1\" class=\"dataframe\"><thead><tr><th></th><th>title</th><th>ingredients</th><th>directions</th><th>link</th><th>source</th><th>NER</th><th>index</th></tr><tr><td>i64</td><td>str</td><td>list[str]</td><td>list[str]</td><td>str</td><td>str</td><td>str</td><td>i64</td></tr></thead><tbody><tr><td>0</td><td>&quot;No-Bake Nut Cookies&quot;</td><td>[&quot;1 c. firmly packed brown sugar&quot;, &quot;1/2 c. evaporated milk&quot;, … &quot;3 1/2 c. bite size shredded rice biscuits&quot;]</td><td>[&quot;In a heavy 2-quart saucepan, mix brown sugar, nuts, evaporated milk and butter or margarine.&quot;, &quot;Stir over medium heat until mixture bubbles all over top.&quot;, … &quot;Let stand until firm, about 30 minutes.&quot;]</td><td>&quot;www.cookbooks.com/Recipe-Detai…</td><td>&quot;Gathered&quot;</td><td>&quot;[&quot;brown sugar&quot;, &quot;milk&quot;, &quot;vanil…</td><td>0</td></tr><tr><td>1</td><td>&quot;Jewell Ball&#x27;S Chicken&quot;</td><td>[&quot;1 small jar chipped beef, cut up&quot;, &quot;4 boned chicken breasts&quot;, … &quot;1 carton sour cream&quot;]</td><td>[&quot;Place chipped beef on bottom of baking dish.&quot;, &quot;Place chicken on top of beef.&quot;, &quot;Mix soup and cream together; pour over chicken. Bake, uncovered, at 275° for 3 hours.&quot;]</td><td>&quot;www.cookbooks.com/Recipe-Detai…</td><td>&quot;Gathered&quot;</td><td>&quot;[&quot;beef&quot;, &quot;chicken breasts&quot;, &quot;c…</td><td>1</td></tr><tr><td>2</td><td>&quot;Creamy Corn&quot;</td><td>[&quot;2 (16 oz.) pkg. frozen corn&quot;, &quot;1 (8 oz.) pkg. cream cheese, cubed&quot;, … &quot;1/4 tsp. pepper&quot;]</td><td>[&quot;In a slow cooker, combine all ingredients. Cover and cook on low for 4 hours or until heated through and cheese is melted. Stir well before serving. Yields 6 servings.&quot;]</td><td>&quot;www.cookbooks.com/Recipe-Detai…</td><td>&quot;Gathered&quot;</td><td>&quot;[&quot;frozen corn&quot;, &quot;cream cheese&quot;…</td><td>2</td></tr><tr><td>3</td><td>&quot;Chicken Funny&quot;</td><td>[&quot;1 large whole chicken&quot;, &quot;2 (10 1/2 oz.) cans chicken gravy&quot;, … &quot;4 oz. shredded cheese&quot;]</td><td>[&quot;Boil and debone chicken.&quot;, &quot;Put bite size pieces in average size square casserole dish.&quot;, … &quot;Sprinkle shredded cheese on top and bake at 350° for approximately 20 minutes or until golden and bubbly.&quot;]</td><td>&quot;www.cookbooks.com/Recipe-Detai…</td><td>&quot;Gathered&quot;</td><td>&quot;[&quot;chicken&quot;, &quot;chicken gravy&quot;, &quot;…</td><td>3</td></tr><tr><td>4</td><td>&quot;Reeses Cups(Candy)&nbsp;&nbsp;&quot;</td><td>[&quot;1 c. peanut butter&quot;, &quot;3/4 c. graham cracker crumbs&quot;, … &quot;1 large pkg. chocolate chips&quot;]</td><td>[&quot;Combine first four ingredients and press in 13 x 9-inch ungreased pan.&quot;, &quot;Melt chocolate chips and spread over mixture. Refrigerate for about 20 minutes and cut into pieces before chocolate gets hard.&quot;, &quot;Keep in refrigerator.&quot;]</td><td>&quot;www.cookbooks.com/Recipe-Detai…</td><td>&quot;Gathered&quot;</td><td>&quot;[&quot;peanut butter&quot;, &quot;graham crac…</td><td>4</td></tr></tbody></table></div>"
      ],
      "text/plain": [
       "shape: (5, 8)\n",
       "┌─────┬──────────────┬──────────────┬──────────────┬──────────────┬──────────┬─────────────┬───────┐\n",
       "│     ┆ title        ┆ ingredients  ┆ directions   ┆ link         ┆ source   ┆ NER         ┆ index │\n",
       "│ --- ┆ ---          ┆ ---          ┆ ---          ┆ ---          ┆ ---      ┆ ---         ┆ ---   │\n",
       "│ i64 ┆ str          ┆ list[str]    ┆ list[str]    ┆ str          ┆ str      ┆ str         ┆ i64   │\n",
       "╞═════╪══════════════╪══════════════╪══════════════╪══════════════╪══════════╪═════════════╪═══════╡\n",
       "│ 0   ┆ No-Bake Nut  ┆ [\"1 c.       ┆ [\"In a heavy ┆ www.cookbook ┆ Gathered ┆ [\"brown     ┆ 0     │\n",
       "│     ┆ Cookies      ┆ firmly       ┆ 2-quart      ┆ s.com/Recipe ┆          ┆ sugar\",     ┆       │\n",
       "│     ┆              ┆ packed brown ┆ saucepan,…   ┆ -Detai…      ┆          ┆ \"milk\",     ┆       │\n",
       "│     ┆              ┆ sug…         ┆              ┆              ┆          ┆ \"vanil…     ┆       │\n",
       "│ 1   ┆ Jewell       ┆ [\"1 small    ┆ [\"Place      ┆ www.cookbook ┆ Gathered ┆ [\"beef\",    ┆ 1     │\n",
       "│     ┆ Ball'S       ┆ jar chipped  ┆ chipped beef ┆ s.com/Recipe ┆          ┆ \"chicken    ┆       │\n",
       "│     ┆ Chicken      ┆ beef, cu…    ┆ on bottom…   ┆ -Detai…      ┆          ┆ breasts\",   ┆       │\n",
       "│     ┆              ┆              ┆              ┆              ┆          ┆ \"c…         ┆       │\n",
       "│ 2   ┆ Creamy Corn  ┆ [\"2 (16 oz.) ┆ [\"In a slow  ┆ www.cookbook ┆ Gathered ┆ [\"frozen    ┆ 2     │\n",
       "│     ┆              ┆ pkg. frozen  ┆ cooker,      ┆ s.com/Recipe ┆          ┆ corn\",      ┆       │\n",
       "│     ┆              ┆ corn\"…       ┆ combine al…  ┆ -Detai…      ┆          ┆ \"cream      ┆       │\n",
       "│     ┆              ┆              ┆              ┆              ┆          ┆ cheese\"…    ┆       │\n",
       "│ 3   ┆ Chicken      ┆ [\"1 large    ┆ [\"Boil and   ┆ www.cookbook ┆ Gathered ┆ [\"chicken\", ┆ 3     │\n",
       "│     ┆ Funny        ┆ whole        ┆ debone       ┆ s.com/Recipe ┆          ┆ \"chicken    ┆       │\n",
       "│     ┆              ┆ chicken\", \"2 ┆ chicken.\",   ┆ -Detai…      ┆          ┆ gravy\", \"…  ┆       │\n",
       "│     ┆              ┆ (…           ┆ \"…           ┆              ┆          ┆             ┆       │\n",
       "│ 4   ┆ Reeses       ┆ [\"1 c.       ┆ [\"Combine    ┆ www.cookbook ┆ Gathered ┆ [\"peanut    ┆ 4     │\n",
       "│     ┆ Cups(Candy)  ┆ peanut       ┆ first four   ┆ s.com/Recipe ┆          ┆ butter\",    ┆       │\n",
       "│     ┆              ┆ butter\",     ┆ ingredien…   ┆ -Detai…      ┆          ┆ \"graham     ┆       │\n",
       "│     ┆              ┆ \"3/4 c.…     ┆              ┆              ┆          ┆ crac…       ┆       │\n",
       "└─────┴──────────────┴──────────────┴──────────────┴──────────────┴──────────┴─────────────┴───────┘"
      ]
     },
     "execution_count": 7,
     "metadata": {},
     "output_type": "execute_result"
    }
   ],
   "source": [
    "nlg_ds.head()"
   ]
  },
  {
   "cell_type": "code",
   "execution_count": 8,
   "id": "09c82ed2-1948-4a65-9c5f-994cbec4607d",
   "metadata": {},
   "outputs": [
    {
     "data": {
      "text/plain": [
       "(1000, 8)"
      ]
     },
     "execution_count": 8,
     "metadata": {},
     "output_type": "execute_result"
    }
   ],
   "source": [
    "nlg_ds.shape"
   ]
  },
  {
   "cell_type": "code",
   "execution_count": 9,
   "id": "0c3bdcb2-3d0f-4a9f-ba81-fc459aecd29e",
   "metadata": {
    "editable": true,
    "slideshow": {
     "slide_type": ""
    },
    "tags": []
   },
   "outputs": [],
   "source": [
    "nlg_ds = transform_ds_to_tokens(nlg_ds, ner, create_vocab=True)"
   ]
  },
  {
   "cell_type": "code",
   "execution_count": 10,
   "id": "edcf789d-06fc-4b78-92e1-91f234c7a401",
   "metadata": {
    "editable": true,
    "slideshow": {
     "slide_type": ""
    },
    "tags": []
   },
   "outputs": [],
   "source": [
    "nlg_ds.write_parquet('test.parquet')"
   ]
  },
  {
   "cell_type": "markdown",
   "id": "9fd0c2ac-edbb-4a67-aee0-346bcba0eb8a",
   "metadata": {},
   "source": [
    "# Test some queries using DuckDB and parquet"
   ]
  },
  {
   "cell_type": "code",
   "execution_count": 11,
   "id": "a4b2c761-8b5e-4e4f-9938-8ced7a74d54c",
   "metadata": {
    "editable": true,
    "slideshow": {
     "slide_type": ""
    },
    "tags": []
   },
   "outputs": [],
   "source": [
    "import duckdb"
   ]
  },
  {
   "cell_type": "code",
   "execution_count": 12,
   "id": "a183744d-ae2d-4033-942a-ed398176958e",
   "metadata": {},
   "outputs": [
    {
     "data": {
      "text/html": [
       "<div><style>\n",
       ".dataframe > thead > tr,\n",
       ".dataframe > tbody > tr {\n",
       "  text-align: right;\n",
       "  white-space: pre-wrap;\n",
       "}\n",
       "</style>\n",
       "<small>shape: (300, 11)</small><table border=\"1\" class=\"dataframe\"><thead><tr><th>C0</th><th>title</th><th>ingredients</th><th>directions</th><th>link</th><th>source</th><th>NER</th><th>index</th><th>tokens</th><th>preps</th><th>optionals</th></tr><tr><td>i64</td><td>str</td><td>list[str]</td><td>list[str]</td><td>str</td><td>str</td><td>str</td><td>i64</td><td>list[str]</td><td>str</td><td>list[bool]</td></tr></thead><tbody><tr><td>6</td><td>&quot;Rhubarb Coffee Cake&quot;</td><td>[&quot;1 1/2 c. sugar&quot;, &quot;1/2 c. butter&quot;, … &quot;1 tsp. vanilla&quot;]</td><td>[&quot;Cream sugar and butter.&quot;, &quot;Add egg and beat well.&quot;, … &quot;Pour into greased 9 x 13-inch pan and add Topping.&quot;]</td><td>&quot;www.cookbooks.com/Recipe-Detai…</td><td>&quot;Gathered&quot;</td><td>&quot;[&quot;sugar&quot;, &quot;butter&quot;, &quot;egg&quot;, &quot;bu…</td><td>6</td><td>[&quot;sugar&quot;, &quot;butter&quot;, … &quot;rhubarb&quot;]</td><td>&quot;{&quot;rhubarb&quot;: [&quot;finely&quot;, &quot;cut&quot;]}&quot;</td><td>[false, false, … false]</td></tr><tr><td>7</td><td>&quot;Scalloped Corn&quot;</td><td>[&quot;1 can cream-style corn&quot;, &quot;1 can whole kernel corn&quot;, … &quot;pepper to taste&quot;]</td><td>[&quot;Mix together both cans of corn, crackers, egg, 2 teaspoons of melted butter and pepper and place in a buttered baking dish.&quot;, &quot;Dot with remaining 4 teaspoons of butter.&quot;, &quot;Bake at 350° for 1 hour.&quot;]</td><td>&quot;www.cookbooks.com/Recipe-Detai…</td><td>&quot;Gathered&quot;</td><td>&quot;[&quot;cream-style corn&quot;, &quot;whole ke…</td><td>7</td><td>[&quot;cream_-_style&quot;, &quot;corn&quot;, … &quot;pepper&quot;]</td><td>&quot;{&quot;saltine_cracker&quot;: [&quot;crush&quot;],…</td><td>[false, false, … false]</td></tr><tr><td>20</td><td>&quot;Grandma Hanrath&#x27;S Banana Bread…</td><td>[&quot;1 c. sugar&quot;, &quot;1/2 c. shortening&quot;, … &quot;2 over-ripe bananas (chopped)&quot;]</td><td>[&quot;Cream sugar and shortening.&quot;, &quot;Add eggs, salt and soda, then bananas and flour.&quot;, … &quot;Bake in loaf pan at 350° for 1 hour.&quot;]</td><td>&quot;www.cookbooks.com/Recipe-Detai…</td><td>&quot;Gathered&quot;</td><td>&quot;[&quot;sugar&quot;, &quot;shortening&quot;, &quot;eggs&quot;…</td><td>20</td><td>[&quot;sugar&quot;, &quot;egg&quot;, … &quot;banana&quot;]</td><td>&quot;{&quot;banana&quot;: [&quot;chop&quot;]}&quot;</td><td>[false, false, … false]</td></tr><tr><td>21</td><td>&quot;Chocolate Frango Mints&quot;</td><td>[&quot;1 pkg. devil&#x27;s food cake mix&quot;, &quot;1 pkg. chocolate fudge pudding mix (instant)&quot;, … &quot;6 oz. chopped Frango mints&quot;]</td><td>[&quot;Mix ingredients together for 5 minutes.&quot;, &quot;Scrape bowl often. Last fold in chocolate chip mints.&quot;, &quot;Bake at 350° for 35 to 40 minutes or until done (cake mix directions).&quot;]</td><td>&quot;www.cookbooks.com/Recipe-Detai…</td><td>&quot;Gathered&quot;</td><td>&quot;[&quot;cake mix&quot;, &quot;chocolate fudge …</td><td>21</td><td>[&quot;cake_mix&quot;, &quot;sour_cream&quot;, &quot;egg&quot;]</td><td>&quot;{}&quot;</td><td>[false, false, false]</td></tr><tr><td>24</td><td>&quot;Prize-Winning Meat Loaf&quot;</td><td>[&quot;1 1/2 lb. ground beef&quot;, &quot;1 c. tomato juice&quot;, … &quot;1 1/2 tsp. salt&quot;]</td><td>[&quot;Mix well.&quot;, &quot;Press firmly into an 8 1/2 x 4 1/2 x 2 1/2-inch loaf pan.&quot;, … &quot;Makes 8 servings.&quot;]</td><td>&quot;www.cookbooks.com/Recipe-Detai…</td><td>&quot;Gathered&quot;</td><td>&quot;[&quot;ground beef&quot;, &quot;tomato juice&quot;…</td><td>24</td><td>[&quot;beef&quot;, &quot;tomato_juice&quot;, … &quot;salt&quot;]</td><td>&quot;{&quot;beef&quot;: [&quot;ground&quot;], &quot;egg&quot;: [&quot;…</td><td>[false, false, … false]</td></tr><tr><td>&hellip;</td><td>&hellip;</td><td>&hellip;</td><td>&hellip;</td><td>&hellip;</td><td>&hellip;</td><td>&hellip;</td><td>&hellip;</td><td>&hellip;</td><td>&hellip;</td><td>&hellip;</td></tr><tr><td>987</td><td>&quot;French Toast And Sauce&quot;</td><td>[&quot;4 eggs, beaten&quot;, &quot;1/2 c. milk&quot;, … &quot;8 slices day-old bread&quot;]</td><td>[&quot;In a wide shallow bowl, beat 1st four ingredients. For each slice, melt 1 tablespoon of butter in skillet. Dip bread in egg mixture; turn and coat the other side. Cook slices in butter, browning on both sides. Serve with Sauce as follows.&quot;]</td><td>&quot;www.cookbooks.com/Recipe-Detai…</td><td>&quot;Gathered&quot;</td><td>&quot;[&quot;eggs&quot;, &quot;milk&quot;, &quot;frozen lemon…</td><td>987</td><td>[&quot;egg&quot;, &quot;milk&quot;, … &quot;bread&quot;]</td><td>&quot;{&quot;egg&quot;: [&quot;beat&quot;]}&quot;</td><td>[false, false, … false]</td></tr><tr><td>988</td><td>&quot;Spaghetti Pie&quot;</td><td>[&quot;6 oz. spaghetti&quot;, &quot;2 Tbsp. olive oil&quot;, … &quot;1/2 c. shredded Mozzarella (2 oz.)&quot;]</td><td>[&quot;Cook spaghetti (about 3 cups).&quot;, &quot;Stir olive oil into hot spaghetti.&quot;, … &quot;Form spaghetti mixture into a &quot;crust&quot; in a 10-inch pie plate sprayed with Pam. Spread cottage cheese over bottom of spaghetti crust.&quot;]</td><td>&quot;www.cookbooks.com/Recipe-Detai…</td><td>&quot;Gathered&quot;</td><td>&quot;[&quot;spaghetti&quot;, &quot;olive oil&quot;, &quot;Pa…</td><td>988</td><td>[&quot;olive_oil&quot;, &quot;parmesan_cheese&quot;, … &quot;mozzarella&quot;]</td><td>&quot;{&quot;parmesan_cheese&quot;: [&quot;grate&quot;],…</td><td>[false, false, … false]</td></tr><tr><td>991</td><td>&quot;Favorite Chocolate Cake&quot;</td><td>[&quot;1 3/4 c. flour&quot;, &quot;2 eggs&quot;, … &quot;1 c. buttermilk&quot;]</td><td>[&quot;Sift all dry ingredients in a large mixing bowl.&quot;, &quot;Stir.&quot;, … &quot;Tube pan takes 40 minutes.&quot;]</td><td>&quot;www.cookbooks.com/Recipe-Detai…</td><td>&quot;Gathered&quot;</td><td>&quot;[&quot;flour&quot;, &quot;eggs&quot;, &quot;baking powd…</td><td>991</td><td>[&quot;egg&quot;, &quot;bake_powder&quot;, … &quot;buttermilk&quot;]</td><td>&quot;{}&quot;</td><td>[false, false, … false]</td></tr><tr><td>992</td><td>&quot;Blue Muffins&quot;</td><td>[&quot;1 egg&quot;, &quot;1 c. milk&quot;, … &quot;2 c. blueberries&quot;]</td><td>[&quot;Mix thoroughly.&quot;, &quot;Pour into muffin pans and bake at 350°.&quot;]</td><td>&quot;www.cookbooks.com/Recipe-Detai…</td><td>&quot;Gathered&quot;</td><td>&quot;[&quot;egg&quot;, &quot;milk&quot;, &quot;shortening&quot;, …</td><td>992</td><td>[&quot;egg&quot;, &quot;milk&quot;, … &quot;blueberry&quot;]</td><td>&quot;{}&quot;</td><td>[false, false, … false]</td></tr><tr><td>996</td><td>&quot;Victorian Baked French Toast&quot;</td><td>[&quot;1 c. brown sugar&quot;, &quot;1/3 c. butter&quot;, … &quot;1 tsp. cinnamon&quot;]</td><td>[&quot;Cook brown sugar, butter and corn syrup in small saucepan until butter melts.&quot;, &quot;Pour into 9 x 13-inch pan.&quot;, … &quot;Bake at 350° for 30 minutes or until center is done and lightly browned.&quot;]</td><td>&quot;www.cookbooks.com/Recipe-Detai…</td><td>&quot;Gathered&quot;</td><td>&quot;[&quot;brown sugar&quot;, &quot;butter&quot;, &quot;lig…</td><td>996</td><td>[&quot;butter&quot;, &quot;corn_syrup&quot;, … &quot;cinnamon&quot;]</td><td>&quot;{}&quot;</td><td>[false, false, … false]</td></tr></tbody></table></div>"
      ],
      "text/plain": [
       "shape: (300, 11)\n",
       "┌─────┬─────────────┬─────────────┬─────────────┬───┬───────┬────────────┬────────────┬────────────┐\n",
       "│ C0  ┆ title       ┆ ingredients ┆ directions  ┆ … ┆ index ┆ tokens     ┆ preps      ┆ optionals  │\n",
       "│ --- ┆ ---         ┆ ---         ┆ ---         ┆   ┆ ---   ┆ ---        ┆ ---        ┆ ---        │\n",
       "│ i64 ┆ str         ┆ list[str]   ┆ list[str]   ┆   ┆ i64   ┆ list[str]  ┆ str        ┆ list[bool] │\n",
       "╞═════╪═════════════╪═════════════╪═════════════╪═══╪═══════╪════════════╪════════════╪════════════╡\n",
       "│ 6   ┆ Rhubarb     ┆ [\"1 1/2 c.  ┆ [\"Cream     ┆ … ┆ 6     ┆ [\"sugar\",  ┆ {\"rhubarb\" ┆ [false,    │\n",
       "│     ┆ Coffee Cake ┆ sugar\",     ┆ sugar and   ┆   ┆       ┆ \"butter\",  ┆ :          ┆ false, …   │\n",
       "│     ┆             ┆ \"1/2 c.     ┆ butter.\",   ┆   ┆       ┆ …          ┆ [\"finely\", ┆ false]     │\n",
       "│     ┆             ┆ but…        ┆ \"A…         ┆   ┆       ┆ \"rhubarb…  ┆ \"cut\"]}    ┆            │\n",
       "│ 7   ┆ Scalloped   ┆ [\"1 can     ┆ [\"Mix       ┆ … ┆ 7     ┆ [\"cream_-_ ┆ {\"saltine_ ┆ [false,    │\n",
       "│     ┆ Corn        ┆ cream-style ┆ together    ┆   ┆       ┆ style\",    ┆ cracker\":  ┆ false, …   │\n",
       "│     ┆             ┆ corn\", \"1 … ┆ both cans   ┆   ┆       ┆ \"corn\", …  ┆ [\"crush\"], ┆ false]     │\n",
       "│     ┆             ┆             ┆ of co…      ┆   ┆       ┆ \"p…        ┆ …          ┆            │\n",
       "│ 20  ┆ Grandma     ┆ [\"1 c.      ┆ [\"Cream     ┆ … ┆ 20    ┆ [\"sugar\",  ┆ {\"banana\": ┆ [false,    │\n",
       "│     ┆ Hanrath'S   ┆ sugar\",     ┆ sugar and   ┆   ┆       ┆ \"egg\", …   ┆ [\"chop\"]}  ┆ false, …   │\n",
       "│     ┆ Banana      ┆ \"1/2 c.     ┆ shortening. ┆   ┆       ┆ \"banana\"]  ┆            ┆ false]     │\n",
       "│     ┆ Bread…      ┆ shorten…    ┆ \"…          ┆   ┆       ┆            ┆            ┆            │\n",
       "│ 21  ┆ Chocolate   ┆ [\"1 pkg.    ┆ [\"Mix       ┆ … ┆ 21    ┆ [\"cake_mix ┆ {}         ┆ [false,    │\n",
       "│     ┆ Frango      ┆ devil's     ┆ ingredients ┆   ┆       ┆ \", \"sour_c ┆            ┆ false,     │\n",
       "│     ┆ Mints       ┆ food cake   ┆ together    ┆   ┆       ┆ ream\",     ┆            ┆ false]     │\n",
       "│     ┆             ┆ mix…        ┆ for…        ┆   ┆       ┆ \"eg…       ┆            ┆            │\n",
       "│ 24  ┆ Prize-Winni ┆ [\"1 1/2 lb. ┆ [\"Mix       ┆ … ┆ 24    ┆ [\"beef\",   ┆ {\"beef\":   ┆ [false,    │\n",
       "│     ┆ ng Meat     ┆ ground      ┆ well.\",     ┆   ┆       ┆ \"tomato_ju ┆ [\"ground\"] ┆ false, …   │\n",
       "│     ┆ Loaf        ┆ beef\", \"1   ┆ \"Press      ┆   ┆       ┆ ice\", …    ┆ , \"egg\":   ┆ false]     │\n",
       "│     ┆             ┆ c…          ┆ firmly in…  ┆   ┆       ┆ \"sa…       ┆ [\"…        ┆            │\n",
       "│ …   ┆ …           ┆ …           ┆ …           ┆ … ┆ …     ┆ …          ┆ …          ┆ …          │\n",
       "│ 987 ┆ French      ┆ [\"4 eggs,   ┆ [\"In a wide ┆ … ┆ 987   ┆ [\"egg\",    ┆ {\"egg\":    ┆ [false,    │\n",
       "│     ┆ Toast And   ┆ beaten\",    ┆ shallow     ┆   ┆       ┆ \"milk\", …  ┆ [\"beat\"]}  ┆ false, …   │\n",
       "│     ┆ Sauce       ┆ \"1/2 c.     ┆ bowl, beat… ┆   ┆       ┆ \"bread\"]   ┆            ┆ false]     │\n",
       "│     ┆             ┆ mil…        ┆             ┆   ┆       ┆            ┆            ┆            │\n",
       "│ 988 ┆ Spaghetti   ┆ [\"6 oz.     ┆ [\"Cook      ┆ … ┆ 988   ┆ [\"olive_oi ┆ {\"parmesan ┆ [false,    │\n",
       "│     ┆ Pie         ┆ spaghetti\", ┆ spaghetti   ┆   ┆       ┆ l\", \"parme ┆ _cheese\":  ┆ false, …   │\n",
       "│     ┆             ┆ \"2 Tbsp. o… ┆ (about 3    ┆   ┆       ┆ san_cheese ┆ [\"grate\"], ┆ false]     │\n",
       "│     ┆             ┆             ┆ cups…       ┆   ┆       ┆ …          ┆ …          ┆            │\n",
       "│ 991 ┆ Favorite    ┆ [\"1 3/4 c.  ┆ [\"Sift all  ┆ … ┆ 991   ┆ [\"egg\",    ┆ {}         ┆ [false,    │\n",
       "│     ┆ Chocolate   ┆ flour\", \"2  ┆ dry         ┆   ┆       ┆ \"bake_powd ┆            ┆ false, …   │\n",
       "│     ┆ Cake        ┆ eggs\", ……   ┆ ingredients ┆   ┆       ┆ er\", …     ┆            ┆ false]     │\n",
       "│     ┆             ┆             ┆ in …        ┆   ┆       ┆ \"butt…     ┆            ┆            │\n",
       "│ 992 ┆ Blue        ┆ [\"1 egg\",   ┆ [\"Mix thoro ┆ … ┆ 992   ┆ [\"egg\",    ┆ {}         ┆ [false,    │\n",
       "│     ┆ Muffins     ┆ \"1 c.       ┆ ughly.\",    ┆   ┆       ┆ \"milk\", …  ┆            ┆ false, …   │\n",
       "│     ┆             ┆ milk\", … \"2 ┆ \"Pour into… ┆   ┆       ┆ \"blueberry ┆            ┆ false]     │\n",
       "│     ┆             ┆ c.…         ┆             ┆   ┆       ┆ \"]         ┆            ┆            │\n",
       "│ 996 ┆ Victorian   ┆ [\"1 c.      ┆ [\"Cook      ┆ … ┆ 996   ┆ [\"butter\", ┆ {}         ┆ [false,    │\n",
       "│     ┆ Baked       ┆ brown       ┆ brown       ┆   ┆       ┆ \"corn_syru ┆            ┆ false, …   │\n",
       "│     ┆ French      ┆ sugar\",     ┆ sugar,      ┆   ┆       ┆ p\", … \"ci… ┆            ┆ false]     │\n",
       "│     ┆ Toast       ┆ \"1/3 c. b…  ┆ butter and… ┆   ┆       ┆            ┆            ┆            │\n",
       "└─────┴─────────────┴─────────────┴─────────────┴───┴───────┴────────────┴────────────┴────────────┘"
      ]
     },
     "execution_count": 12,
     "metadata": {},
     "output_type": "execute_result"
    }
   ],
   "source": [
    "duckdb.sql(\"SELECT * FROM 'test.parquet' AS tbl WHERE list_contains(tbl.tokens, 'egg')\").pl()"
   ]
  },
  {
   "cell_type": "code",
   "execution_count": 13,
   "id": "57e1da54-44a9-461c-87c8-e160df15cbc6",
   "metadata": {},
   "outputs": [],
   "source": [
    "duckdb.sql(\"COPY(SELECT preps::JSON AS preps, * EXCLUDE (preps) FROM 'test.parquet') TO 'test.parquet' (FORMAT PARQUET, OVERWRITE TRUE)\")"
   ]
  },
  {
   "cell_type": "code",
   "execution_count": 14,
   "id": "cf4cd63c-7637-4415-aa6b-da481156741e",
   "metadata": {},
   "outputs": [],
   "source": [
    "ingredients = ['butter']\n",
    "preps = {'butter': ['cube'], 'cream_cheese': ['cube']}"
   ]
  },
  {
   "cell_type": "code",
   "execution_count": 15,
   "id": "38010aa6-7fdc-401c-a568-9bdf0df2a2ae",
   "metadata": {},
   "outputs": [
    {
     "data": {
      "text/plain": [
       "['butter', 'cream_cheese']"
      ]
     },
     "execution_count": 15,
     "metadata": {},
     "output_type": "execute_result"
    }
   ],
   "source": [
    "list(preps.keys())"
   ]
  },
  {
   "cell_type": "code",
   "execution_count": 16,
   "id": "27714618-d373-4583-a789-d5ba09e0eceb",
   "metadata": {},
   "outputs": [
    {
     "data": {
      "text/html": [
       "<div><style>\n",
       ".dataframe > thead > tr,\n",
       ".dataframe > tbody > tr {\n",
       "  text-align: right;\n",
       "  white-space: pre-wrap;\n",
       "}\n",
       "</style>\n",
       "<small>shape: (1, 12)</small><table border=\"1\" class=\"dataframe\"><thead><tr><th>preps</th><th>C0</th><th>title</th><th>ingredients</th><th>directions</th><th>link</th><th>source</th><th>NER</th><th>index</th><th>tokens</th><th>optionals</th><th>prep_lists</th></tr><tr><td>str</td><td>i64</td><td>str</td><td>list[str]</td><td>list[str]</td><td>str</td><td>str</td><td>str</td><td>i64</td><td>list[str]</td><td>list[bool]</td><td>list[str]</td></tr></thead><tbody><tr><td>&quot;{&quot;cream_cheese&quot;: [&quot;cube&quot;], &quot;bu…</td><td>2</td><td>&quot;Creamy Corn&quot;</td><td>[&quot;2 (16 oz.) pkg. frozen corn&quot;, &quot;1 (8 oz.) pkg. cream cheese, cubed&quot;, … &quot;1/4 tsp. pepper&quot;]</td><td>[&quot;In a slow cooker, combine all ingredients. Cover and cook on low for 4 hours or until heated through and cheese is melted. Stir well before serving. Yields 6 servings.&quot;]</td><td>&quot;www.cookbooks.com/Recipe-Detai…</td><td>&quot;Gathered&quot;</td><td>&quot;[&quot;frozen corn&quot;, &quot;cream cheese&quot;…</td><td>2</td><td>[&quot;corn&quot;, &quot;cream_cheese&quot;, … &quot;pepper&quot;]</td><td>[false, false, … false]</td><td>[&quot;[&quot;cube&quot;]&quot;, &quot;[&quot;cube&quot;]&quot;]</td></tr></tbody></table></div>"
      ],
      "text/plain": [
       "shape: (1, 12)\n",
       "┌──────────────┬─────┬────────┬──────────────┬───┬───────┬─────────────┬─────────────┬─────────────┐\n",
       "│ preps        ┆ C0  ┆ title  ┆ ingredients  ┆ … ┆ index ┆ tokens      ┆ optionals   ┆ prep_lists  │\n",
       "│ ---          ┆ --- ┆ ---    ┆ ---          ┆   ┆ ---   ┆ ---         ┆ ---         ┆ ---         │\n",
       "│ str          ┆ i64 ┆ str    ┆ list[str]    ┆   ┆ i64   ┆ list[str]   ┆ list[bool]  ┆ list[str]   │\n",
       "╞══════════════╪═════╪════════╪══════════════╪═══╪═══════╪═════════════╪═════════════╪═════════════╡\n",
       "│ {\"cream_chee ┆ 2   ┆ Creamy ┆ [\"2 (16 oz.) ┆ … ┆ 2     ┆ [\"corn\",    ┆ [false,     ┆ [\"[\"cube\"]\" │\n",
       "│ se\":         ┆     ┆ Corn   ┆ pkg. frozen  ┆   ┆       ┆ \"cream_chee ┆ false, …    ┆ ,           │\n",
       "│ [\"cube\"],    ┆     ┆        ┆ corn\"…       ┆   ┆       ┆ se\", … \"pe… ┆ false]      ┆ \"[\"cube\"]\"] │\n",
       "│ \"bu…         ┆     ┆        ┆              ┆   ┆       ┆             ┆             ┆             │\n",
       "└──────────────┴─────┴────────┴──────────────┴───┴───────┴─────────────┴─────────────┴─────────────┘"
      ]
     },
     "execution_count": 16,
     "metadata": {},
     "output_type": "execute_result"
    }
   ],
   "source": [
    "duckdb.sql(construct_ingredient_query('test.parquet', ingredients, preps)).pl()"
   ]
  },
  {
   "cell_type": "code",
   "execution_count": 17,
   "id": "65dbd2e8-8100-46b3-b97b-65a796edd92a",
   "metadata": {
    "editable": true,
    "slideshow": {
     "slide_type": ""
    },
    "tags": []
   },
   "outputs": [
    {
     "name": "stdout",
     "output_type": "stream",
     "text": [
      "###############################\n",
      "####### WITHOUT PREPS #########\n",
      "###############################\n",
      "\n",
      "---- Honey Almond Squares ----\n",
      "1 Duncan Hines white pudding cake mix\n",
      "1 (8 oz.) pkg. cream cheese (at room temperature)\n",
      "1/4 c. alfalfa honey\n",
      "3 to 4 oz. sliced almonds\n",
      "\n",
      "---- Caramel Pie ----\n",
      "16 oz. Cool Whip\n",
      "2 c. coconut\n",
      "3/4 margarine, melted\n",
      "1 c. slivered almonds, chopped fine\n",
      "1 can Eagle Brand milk\n",
      "3 graham cracker crusts\n",
      "8 oz. cream cheese\n",
      "1 jar caramel topping\n",
      "\n",
      "---- Almond Roco ----\n",
      "1 lb. butter (not margarine)\n",
      "2 c. granulated sugar\n",
      "1/2 c. water\n",
      "1/2 c. chopped almonds\n",
      "3 chocolate candy bars\n",
      "1/4 c. chopped almonds or as desired (for topping)\n",
      "\n",
      "---- Crabmeat Au Gratin ----\n",
      "1 can cream of shrimp soup\n",
      "1/2 can milk (use soup can)\n",
      "1 lb. faux crabmeat\n",
      "4 c. celery, chopped\n",
      "1/2 c. green pepper, chopped\n",
      "2 pimentos, chopped\n",
      "2 Tbsp. onions, chopped\n",
      "1/3 c. slivered almonds\n",
      "4 hard-cooked eggs, chopped\n",
      "1 c. shredded sharp Cheddar cheese\n",
      "buttered bread crumbs\n",
      "\n",
      "---- Fresh Broccoli Salad ----\n",
      "2 bunches fresh broccoli\n",
      "10 slices bacon, cooked and crumbled\n",
      "2/3 c. raisins\n",
      "1/2 c. onion, chopped\n",
      "1 c. salad dressing (Miracle Whip)\n",
      "1/2 c. sugar\n",
      "2 Tbsp. vinegar\n",
      "1/2 c. slivered almonds (optional)\n",
      "1/2 c. sharp cheese (optional)\n",
      "\n",
      "---- Luau ----\n",
      "2 lb. pork sausage\n",
      "2 c. white Minute rice\n",
      "1 green pepper, chopped fine\n",
      "2 large onions, chopped fine\n",
      "1 bunch celery, chopped fine\n",
      "3 1/2 oz. chopped almonds\n",
      "2 dry packs Lipton noodle soup\n",
      "\n",
      "---- Chicken Casserole ----\n",
      "4 c. cooked chicken\n",
      "1 c. chopped celery\n",
      "1 c. cooked rice\n",
      "3/4 c. mayonnaise\n",
      "1 can cream of chicken soup\n",
      "1 Tbsp. lemon juice\n",
      "3 Tbsp. chopped onion\n",
      "3 hard-boiled eggs\n",
      "1 can water chestnuts (optional)\n",
      "3/4 to 1 stick butter\n",
      "1/2 c. slivered almonds (optional)\n",
      "1 c. crushed corn flakes\n",
      "\n",
      "---- Broccoli Almond ----\n",
      "2 (10 oz.) pkg. frozen chopped broccoli\n",
      "1/4 c. chopped onion\n",
      "1/4 c. butter\n",
      "2 Tbsp. flour\n",
      "1/2 c. milk\n",
      "1 (8 oz.) jar pasteurized process cheese spread\n",
      "1/2 tsp. salt\n",
      "1/8 tsp. pepper\n",
      "2 eggs, well beaten\n",
      "1/2 c. bread crumbs\n",
      "2 Tbsp. melted butter\n",
      "1/4 c. toasted slivered almonds\n",
      "\n",
      "---- Onion Casserole ----\n",
      "4 cups sliced onions\n",
      "1 can mushroom soup\n",
      "1/2 stick melted butter\n",
      "1/2 cup almonds\n",
      "1 cup cornflakes- crushed\n",
      "\n",
      "---- Squash Casserole ----\n",
      "2 lb. small yellow squash, sliced\n",
      "1 large onion, chopped\n",
      "1 (7 oz.) can water chestnuts, sliced\n",
      "1 stick margarine\n",
      "1/4 c. pimento, chopped\n",
      "1 (3 oz.) pkg. sliced almonds\n",
      "1 c. sour cream\n",
      "1 (10 3/4 oz.) can mushroom soup\n",
      "1 lb. pkg. Pepperidge Farm stuffing mix\n",
      "\n",
      "---- Swedish Heirloom Cookies ----\n",
      "1/2 c. shortening\n",
      "1/2 c. butter, softened\n",
      "1 c. sifted powdered sugar\n",
      "1/2 tsp. salt\n",
      "2 c. all-purpose flour\n",
      "1 Tbsp. water\n",
      "1 Tbsp. vanilla extract\n",
      "1 1/4 c. ground almonds\n",
      "powdered sugar\n",
      "\n",
      "---- Chicken And Pasta Salad ----\n",
      "1 (8 oz.) pkg. egg noodles, cooked and drained\n",
      "3 chicken breasts, cooked and cut up in small pieces\n",
      "seedless green grapes\n",
      "sliced almonds\n",
      "##############################\n",
      "######## WITH PREPS ##########\n",
      "##############################\n",
      "\n",
      "---- Caramel Pie ----\n",
      "16 oz. Cool Whip\n",
      "2 c. coconut\n",
      "3/4 margarine, melted\n",
      "1 c. slivered almonds, chopped fine\n",
      "1 can Eagle Brand milk\n",
      "3 graham cracker crusts\n",
      "8 oz. cream cheese\n",
      "1 jar caramel topping\n",
      "\n",
      "---- Almond Roco ----\n",
      "1 lb. butter (not margarine)\n",
      "2 c. granulated sugar\n",
      "1/2 c. water\n",
      "1/2 c. chopped almonds\n",
      "3 chocolate candy bars\n",
      "1/4 c. chopped almonds or as desired (for topping)\n",
      "\n",
      "---- Luau ----\n",
      "2 lb. pork sausage\n",
      "2 c. white Minute rice\n",
      "1 green pepper, chopped fine\n",
      "2 large onions, chopped fine\n",
      "1 bunch celery, chopped fine\n",
      "3 1/2 oz. chopped almonds\n",
      "2 dry packs Lipton noodle soup\n"
     ]
    }
   ],
   "source": [
    "ingredients = ['almond']\n",
    "preps = {}\n",
    "sql = construct_ingredient_query('test.parquet', ingredients, preps)\n",
    "results = duckdb.sql(sql).pl()\n",
    "print(\"###############################\")\n",
    "print(\"####### WITHOUT PREPS #########\")\n",
    "print(\"###############################\")\n",
    "for title, ingr in results['title', 'ingredients'].iter_rows():\n",
    "    print()\n",
    "    print(f\"---- {title} ----\")\n",
    "    print(\"\\n\".join(ingr))\n",
    "    \n",
    "ingredients = ['almond']\n",
    "preps = {'almond': ['chop']}\n",
    "sql = construct_ingredient_query('test.parquet', ingredients, preps)\n",
    "results = duckdb.sql(sql).pl()\n",
    "print(\"##############################\")\n",
    "print(\"######## WITH PREPS ##########\")\n",
    "print(\"##############################\")\n",
    "for title, ingr in results['title', 'ingredients'].iter_rows():\n",
    "    print()\n",
    "    print(f\"---- {title} ----\")\n",
    "    print(\"\\n\".join(ingr))"
   ]
  },
  {
   "cell_type": "code",
   "execution_count": null,
   "id": "08509965-56bf-4d4e-9c3d-62c3669f142f",
   "metadata": {},
   "outputs": [],
   "source": []
  }
 ],
 "metadata": {
  "kernelspec": {
   "display_name": "Python 3 (ipykernel)",
   "language": "python",
   "name": "python3"
  },
  "language_info": {
   "codemirror_mode": {
    "name": "ipython",
    "version": 3
   },
   "file_extension": ".py",
   "mimetype": "text/x-python",
   "name": "python",
   "nbconvert_exporter": "python",
   "pygments_lexer": "ipython3",
   "version": "3.10.16"
  }
 },
 "nbformat": 4,
 "nbformat_minor": 5
}
