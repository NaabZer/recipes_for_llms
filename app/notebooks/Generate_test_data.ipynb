{
 "cells": [
  {
   "cell_type": "code",
   "execution_count": 4,
   "id": "31e5e819-d0f2-47c4-9c2a-bc69144a5788",
   "metadata": {},
   "outputs": [],
   "source": [
    "import random\n",
    "import polars as pl\n",
    "from pathlib import Path\n",
    "import json"
   ]
  },
  {
   "cell_type": "code",
   "execution_count": 5,
   "id": "270e578b-ee48-4836-bb57-faa242a4a96a",
   "metadata": {},
   "outputs": [],
   "source": [
    "nlg_ds = pl.read_csv('../../data/recipenlg/RecipeNLG_dataset.csv')#,  n_rows=1000)\n",
    "nlg_ds = nlg_ds.with_columns(pl.col(\"ingredients\").str.json_decode())\n",
    "nlg_ds = nlg_ds.with_columns(pl.col(\"directions\").str.json_decode())\n",
    "nlg_ds = nlg_ds.with_columns(pl.arange(pl.len()).alias(\"index\"))"
   ]
  },
  {
   "cell_type": "code",
   "execution_count": 11,
   "id": "33e57aa1-b955-432a-8505-4cf5cca006d9",
   "metadata": {},
   "outputs": [],
   "source": [
    "import random\n",
    "random.seed(123)\n",
    "eval_data_idx = random.sample(range(0,nlg_ds.shape[0]), k=1000)"
   ]
  },
  {
   "cell_type": "code",
   "execution_count": 12,
   "id": "59eedc55-8238-486d-b3a2-97017fec8570",
   "metadata": {},
   "outputs": [],
   "source": [
    "out_ds = nlg_ds.filter(pl.col(\"index\").is_in(eval_data_idx))"
   ]
  },
  {
   "cell_type": "code",
   "execution_count": 18,
   "id": "003fa8ce-61b7-4442-977e-17807ed4e064",
   "metadata": {},
   "outputs": [],
   "source": [
    "# Don't accidentally overwrite\n",
    "#with open(\"../../data/eval_data/eval_data.json\", \"w\") as f:\n",
    "    #json.dump(out_ds.select('index', 'title', 'ingredients').to_dicts(), f, indent=2)"
   ]
  },
  {
   "cell_type": "code",
   "execution_count": 34,
   "id": "5d96dc09-3b75-4937-a5f6-3c8c1d89d6b0",
   "metadata": {},
   "outputs": [],
   "source": [
    "with open(\"../../data/eval_data/processed_data.json\", \"r\") as f:\n",
    "    processed_ds = pl.read_json(f)"
   ]
  },
  {
   "cell_type": "code",
   "execution_count": 36,
   "id": "f30f8086-f07e-40ff-88d7-6fcc0b1468dd",
   "metadata": {},
   "outputs": [
    {
     "data": {
      "text/html": [
       "<div><style>\n",
       ".dataframe > thead > tr,\n",
       ".dataframe > tbody > tr {\n",
       "  text-align: right;\n",
       "  white-space: pre-wrap;\n",
       "}\n",
       "</style>\n",
       "<small>shape: (5, 7)</small><table border=\"1\" class=\"dataframe\"><thead><tr><th>index</th><th>title</th><th>ingredients</th><th>google_search_query</th><th>main_food_items_and_preparations</th><th>important_ingredients_for_search</th><th>google_search_query_processed</th></tr><tr><td>i64</td><td>str</td><td>list[str]</td><td>str</td><td>list[str]</td><td>list[str]</td><td>struct[2]</td></tr></thead><tbody><tr><td>1461</td><td>&quot;Apricot Cake&quot;</td><td>[&quot;2 c. sugar&quot;, &quot;4 eggs&quot;, … &quot;1/2 c. chopped nuts (English or pecans)&quot;]</td><td>&quot;apricot cake recipe with baby …</td><td>[&quot;sugar&quot;, &quot;eggs&quot;, … &quot;chopped nuts (English or pecans)&quot;]</td><td>[&quot;apricot baby food&quot;, &quot;flour&quot;, … &quot;Wesson oil&quot;]</td><td>{&quot;Apricot Cake&quot;,[&quot;baby food&quot;, &quot;oil&quot;, … &quot;cinnamon&quot;]}</td></tr><tr><td>1490</td><td>&quot;Angel Delights&quot;</td><td>[&quot;1 c. miniature marshmallows&quot;, &quot;1 c. broken pretzels&quot;, … &quot;1 lb. almond bark&quot;]</td><td>&quot;angel delights recipe with mar…</td><td>[&quot;miniature marshmallows&quot;, &quot;broken pretzels&quot;, … &quot;almond bark&quot;]</td><td>[&quot;marshmallows&quot;, &quot;pretzels&quot;, … &quot;almond bark&quot;]</td><td>{&quot;Angel Delights&quot;,[&quot;marshmallows&quot;, &quot;pretzels&quot;, … &quot;almond bark&quot;]}</td></tr><tr><td>3374</td><td>&quot;Savory Sausage Casserole&quot;</td><td>[&quot;1 lb. bulk pork sausage&quot;, &quot;1 c. uncooked rice&quot;, … &quot;1/2 c. toasted halved or slivered blanched almonds&quot;]</td><td>&quot;sausage and rice casserole wit…</td><td>[&quot;bulk pork sausage&quot;, &quot;uncooked rice&quot;, … &quot;toasted halved or slivered blanched almonds&quot;]</td><td>[&quot;pork sausage&quot;, &quot;rice&quot;, … &quot;almonds&quot;]</td><td>{&quot;Savory Sausage Casserole&quot;,[&quot;rice&quot;, &quot;chicken noodle soup mix&quot;, &quot;almonds&quot;]}</td></tr><tr><td>7006</td><td>&quot;Zemakove Knedliky A Kysele Zel…</td><td>[&quot;2 c. mashed potatoes&quot;, &quot;1/2 tsp. salt&quot;, … &quot;1 1/2 c. flour&quot;]</td><td>&quot;potato dumplings with sauerkra…</td><td>[&quot;mashed potatoes&quot;, &quot;salt&quot;, … &quot;flour&quot;]</td><td>[&quot;mashed potatoes&quot;, &quot;sauerkraut&quot;, … &quot;egg&quot;]</td><td>{&quot;Zemakove Knedliky A Kysele Zeli(Potato Dumplings With Sauerkraut)&nbsp;&nbsp;&quot;,[&quot;sauerkraut&quot;, &quot;mashed potatoes&quot;]}</td></tr><tr><td>9957</td><td>&quot;Scalloped Sweet Potatoes&quot;</td><td>[&quot;1/4 c. sugar&quot;, &quot;1/2 tsp. cinnamon&quot;, … &quot;3 Tbsp. margarine&quot;]</td><td>&quot;scalloped sweet potatoes and a…</td><td>[&quot;sugar&quot;, &quot;cinnamon&quot;, … &quot;margarine&quot;]</td><td>[&quot;sweet potatoes&quot;, &quot;apples&quot;, &quot;cinnamon&quot;]</td><td>{&quot;Scalloped Sweet Potatoes&quot;,[&quot;sweet potatoes&quot;, &quot;apples&quot;]}</td></tr></tbody></table></div>"
      ],
      "text/plain": [
       "shape: (5, 7)\n",
       "┌───────┬───────────────┬──────────────┬──────────────┬──────────────┬──────────────┬──────────────┐\n",
       "│ index ┆ title         ┆ ingredients  ┆ google_searc ┆ main_food_it ┆ important_in ┆ google_searc │\n",
       "│ ---   ┆ ---           ┆ ---          ┆ h_query      ┆ ems_and_prep ┆ gredients_fo ┆ h_query_proc │\n",
       "│ i64   ┆ str           ┆ list[str]    ┆ ---          ┆ aratio…      ┆ r_sear…      ┆ essed        │\n",
       "│       ┆               ┆              ┆ str          ┆ ---          ┆ ---          ┆ ---          │\n",
       "│       ┆               ┆              ┆              ┆ list[str]    ┆ list[str]    ┆ struct[2]    │\n",
       "╞═══════╪═══════════════╪══════════════╪══════════════╪══════════════╪══════════════╪══════════════╡\n",
       "│ 1461  ┆ Apricot Cake  ┆ [\"2 c.       ┆ apricot cake ┆ [\"sugar\",    ┆ [\"apricot    ┆ {\"Apricot    │\n",
       "│       ┆               ┆ sugar\", \"4   ┆ recipe with  ┆ \"eggs\", …    ┆ baby food\",  ┆ Cake\",[\"baby │\n",
       "│       ┆               ┆ eggs\", …     ┆ baby …       ┆ \"chopped n…  ┆ \"flour\",…    ┆ food\", …     │\n",
       "│       ┆               ┆ \"1/…         ┆              ┆              ┆              ┆              │\n",
       "│ 1490  ┆ Angel         ┆ [\"1 c.       ┆ angel        ┆ [\"miniature  ┆ [\"marshmallo ┆ {\"Angel Deli │\n",
       "│       ┆ Delights      ┆ miniature    ┆ delights     ┆ marshmallows ┆ ws\",         ┆ ghts\",[\"mars │\n",
       "│       ┆               ┆ marshmallows ┆ recipe with  ┆ \", \"br…      ┆ \"pretzels\",  ┆ hmallo…      │\n",
       "│       ┆               ┆ \"…           ┆ mar…         ┆              ┆ ……           ┆              │\n",
       "│ 3374  ┆ Savory        ┆ [\"1 lb. bulk ┆ sausage and  ┆ [\"bulk pork  ┆ [\"pork       ┆ {\"Savory     │\n",
       "│       ┆ Sausage       ┆ pork         ┆ rice         ┆ sausage\",    ┆ sausage\",    ┆ Sausage Cass │\n",
       "│       ┆ Casserole     ┆ sausage\",    ┆ casserole    ┆ \"uncooke…    ┆ \"rice\", …    ┆ erole\",[\"…   │\n",
       "│       ┆               ┆ \"1…          ┆ wit…         ┆              ┆ \"al…         ┆              │\n",
       "│ 7006  ┆ Zemakove      ┆ [\"2 c.       ┆ potato       ┆ [\"mashed     ┆ [\"mashed     ┆ {\"Zemakove   │\n",
       "│       ┆ Knedliky A    ┆ mashed       ┆ dumplings    ┆ potatoes\",   ┆ potatoes\",   ┆ Knedliky A   │\n",
       "│       ┆ Kysele Zel…   ┆ potatoes\",   ┆ with         ┆ \"salt\", … …  ┆ \"sauerkrau…  ┆ Kysele Z…    │\n",
       "│       ┆               ┆ \"1/2 …       ┆ sauerkra…    ┆              ┆              ┆              │\n",
       "│ 9957  ┆ Scalloped     ┆ [\"1/4 c.     ┆ scalloped    ┆ [\"sugar\",    ┆ [\"sweet      ┆ {\"Scalloped  │\n",
       "│       ┆ Sweet         ┆ sugar\", \"1/2 ┆ sweet        ┆ \"cinnamon\",  ┆ potatoes\",   ┆ Sweet Potato │\n",
       "│       ┆ Potatoes      ┆ tsp. cin…    ┆ potatoes and ┆ … \"marga…    ┆ \"apples\", \"… ┆ es\",[\"…      │\n",
       "│       ┆               ┆              ┆ a…           ┆              ┆              ┆              │\n",
       "└───────┴───────────────┴──────────────┴──────────────┴──────────────┴──────────────┴──────────────┘"
      ]
     },
     "execution_count": 36,
     "metadata": {},
     "output_type": "execute_result"
    }
   ],
   "source": [
    "processed_ds.head()"
   ]
  },
  {
   "cell_type": "code",
   "execution_count": 37,
   "id": "982af612-433f-4ef7-8099-06967c3917ae",
   "metadata": {},
   "outputs": [],
   "source": [
    "human_eval_data_idx = random.sample(eval_data_idx, k=50)"
   ]
  },
  {
   "cell_type": "code",
   "execution_count": 39,
   "id": "a1cb8a8b-02a6-4277-a1ef-02cd8f03de1f",
   "metadata": {},
   "outputs": [],
   "source": [
    "human_eval_ds = processed_ds.filter(pl.col(\"index\").is_in(human_eval_data_idx))"
   ]
  },
  {
   "cell_type": "code",
   "execution_count": 41,
   "id": "a82f6785-10d9-4721-8b15-21aeeb7a7b38",
   "metadata": {},
   "outputs": [
    {
     "data": {
      "text/html": [
       "<div><style>\n",
       ".dataframe > thead > tr,\n",
       ".dataframe > tbody > tr {\n",
       "  text-align: right;\n",
       "  white-space: pre-wrap;\n",
       "}\n",
       "</style>\n",
       "<small>shape: (5, 7)</small><table border=\"1\" class=\"dataframe\"><thead><tr><th>index</th><th>title</th><th>ingredients</th><th>google_search_query</th><th>main_food_items_and_preparations</th><th>important_ingredients_for_search</th><th>google_search_query_processed</th></tr><tr><td>i64</td><td>str</td><td>list[str]</td><td>str</td><td>list[str]</td><td>list[str]</td><td>struct[2]</td></tr></thead><tbody><tr><td>25000</td><td>&quot;Pineapple Cream Cake&quot;</td><td>[&quot;1 pkg. white cake mix&quot;, &quot;2 small pkg. vanilla instant pudding mix&quot;, … &quot;4 oz. cream cheese&quot;]</td><td>&quot;pineapple cream cake with cake…</td><td>[&quot;white cake mix&quot;, &quot;vanilla instant pudding mix&quot;, … &quot;cream cheese&quot;]</td><td>[&quot;white cake mix&quot;, &quot;vanilla pudding mix&quot;, … &quot;Dream Whip&quot;]</td><td>{&quot;Pineapple Cream Cake&quot;,[&quot;cake mix&quot;, &quot;vanilla pudding&quot;, … &quot;dream whip&quot;]}</td></tr><tr><td>135438</td><td>&quot;Pineapple Casserole&quot;</td><td>[&quot;2 large cans pineapple tidbits, drained&quot;, &quot;3/4 c. flour&quot;, … &quot;1 stick melted butter&quot;]</td><td>&quot;pineapple casserole with chedd…</td><td>[&quot;pineapple tidbits (drained)&quot;, &quot;flour&quot;, … &quot;melted butter&quot;]</td><td>[&quot;pineapple&quot;, &quot;Cheddar cheese&quot;, &quot;Ritz crackers&quot;]</td><td>{&quot;Pineapple Casserole&quot;,[&quot;cheddar cheese&quot;, &quot;ritz crackers&quot;]}</td></tr><tr><td>230315</td><td>&quot;Low-Fat Chili&quot;</td><td>[&quot;1 1/2 lb. ground turkey&quot;, &quot;1 1/2 c. chopped onion&quot;, … &quot;3 c. brown rice, cooked&quot;]</td><td>&quot;low fat turkey chili with blac…</td><td>[&quot;ground turkey&quot;, &quot;onion (chopped)&quot;, … &quot;brown rice (cooked)&quot;]</td><td>[&quot;ground turkey&quot;, &quot;black beans&quot;, … &quot;chili powder&quot;]</td><td>{&quot;Low-Fat Chili&quot;,[&quot;black beans&quot;, &quot;zucchini&quot;, &quot;brown rice&quot;]}</td></tr><tr><td>272288</td><td>&quot;Almond Bars&quot;</td><td>[&quot;1 c. butter&quot;, &quot;2 c. flour&quot;, &quot;1/2 c. powdered sugar&quot;]</td><td>&quot;3 ingredient almond shortbread…</td><td>[&quot;butter&quot;, &quot;flour&quot;, &quot;powdered sugar&quot;]</td><td>[&quot;butter&quot;, &quot;flour&quot;, &quot;powdered sugar&quot;]</td><td>{&quot;Almond Bars&quot;,[]}</td></tr><tr><td>275407</td><td>&quot;Pineapple Icebox Cake&quot;</td><td>[&quot;1 box yellow cake mix&quot;, &quot;1 (20 oz.) can crushed pineapple (with juice)&quot;, … &quot;1 c. chopped pecans&quot;]</td><td>&quot;pineapple icebox cake with yel…</td><td>[&quot;yellow cake mix&quot;, &quot;crushed pineapple (with juice)&quot;, … &quot;chopped pecans&quot;]</td><td>[&quot;yellow cake mix&quot;, &quot;crushed pineapple&quot;, … &quot;whipped topping&quot;]</td><td>{&quot;Pineapple Icebox Cake&quot;,[&quot;yellow cake mix&quot;, &quot;vanilla pudding&quot;]}</td></tr></tbody></table></div>"
      ],
      "text/plain": [
       "shape: (5, 7)\n",
       "┌────────┬──────────────┬──────────────┬──────────────┬──────────────┬──────────────┬──────────────┐\n",
       "│ index  ┆ title        ┆ ingredients  ┆ google_searc ┆ main_food_it ┆ important_in ┆ google_searc │\n",
       "│ ---    ┆ ---          ┆ ---          ┆ h_query      ┆ ems_and_prep ┆ gredients_fo ┆ h_query_proc │\n",
       "│ i64    ┆ str          ┆ list[str]    ┆ ---          ┆ aratio…      ┆ r_sear…      ┆ essed        │\n",
       "│        ┆              ┆              ┆ str          ┆ ---          ┆ ---          ┆ ---          │\n",
       "│        ┆              ┆              ┆              ┆ list[str]    ┆ list[str]    ┆ struct[2]    │\n",
       "╞════════╪══════════════╪══════════════╪══════════════╪══════════════╪══════════════╪══════════════╡\n",
       "│ 25000  ┆ Pineapple    ┆ [\"1 pkg.     ┆ pineapple    ┆ [\"white cake ┆ [\"white cake ┆ {\"Pineapple  │\n",
       "│        ┆ Cream Cake   ┆ white cake   ┆ cream cake   ┆ mix\",        ┆ mix\",        ┆ Cream Cake\", │\n",
       "│        ┆              ┆ mix\", \"2 s…  ┆ with cake…   ┆ \"vanilla in… ┆ \"vanilla pu… ┆ [\"cake…      │\n",
       "│ 135438 ┆ Pineapple    ┆ [\"2 large    ┆ pineapple    ┆ [\"pineapple  ┆ [\"pineapple\" ┆ {\"Pineapple  │\n",
       "│        ┆ Casserole    ┆ cans         ┆ casserole    ┆ tidbits      ┆ , \"Cheddar   ┆ Casserole\",[ │\n",
       "│        ┆              ┆ pineapple    ┆ with chedd…  ┆ (drained)\"…  ┆ cheese\"…     ┆ \"chedd…      │\n",
       "│        ┆              ┆ tidbi…       ┆              ┆              ┆              ┆              │\n",
       "│ 230315 ┆ Low-Fat      ┆ [\"1 1/2 lb.  ┆ low fat      ┆ [\"ground     ┆ [\"ground     ┆ {\"Low-Fat    │\n",
       "│        ┆ Chili        ┆ ground       ┆ turkey chili ┆ turkey\",     ┆ turkey\",     ┆ Chili\",[\"bla │\n",
       "│        ┆              ┆ turkey\", \"1… ┆ with blac…   ┆ \"onion       ┆ \"black       ┆ ck beans…    │\n",
       "│        ┆              ┆              ┆              ┆ (chop…       ┆ beans…       ┆              │\n",
       "│ 272288 ┆ Almond Bars  ┆ [\"1 c.       ┆ 3 ingredient ┆ [\"butter\",   ┆ [\"butter\",   ┆ {\"Almond     │\n",
       "│        ┆              ┆ butter\", \"2  ┆ almond       ┆ \"flour\",     ┆ \"flour\",     ┆ Bars\",[]}    │\n",
       "│        ┆              ┆ c. flour\", … ┆ shortbread…  ┆ \"powdered …  ┆ \"powdered …  ┆              │\n",
       "│ 275407 ┆ Pineapple    ┆ [\"1 box      ┆ pineapple    ┆ [\"yellow     ┆ [\"yellow     ┆ {\"Pineapple  │\n",
       "│        ┆ Icebox Cake  ┆ yellow cake  ┆ icebox cake  ┆ cake mix\",   ┆ cake mix\",   ┆ Icebox       │\n",
       "│        ┆              ┆ mix\", \"1 (…  ┆ with yel…    ┆ \"crushed p…  ┆ \"crushed p…  ┆ Cake\",[\"yel… │\n",
       "└────────┴──────────────┴──────────────┴──────────────┴──────────────┴──────────────┴──────────────┘"
      ]
     },
     "execution_count": 41,
     "metadata": {},
     "output_type": "execute_result"
    }
   ],
   "source": [
    "human_eval_ds.head()"
   ]
  },
  {
   "cell_type": "code",
   "execution_count": 42,
   "id": "26fe193e-3601-4aa8-a40a-6bdee4981d8a",
   "metadata": {},
   "outputs": [],
   "source": [
    "#with open(\"../../data/eval_data/human_annotations.json\", \"w\") as f:\n",
    "#    json.dump(human_eval_ds.select('index', 'title', 'ingredients').to_dicts(), f, indent=2)"
   ]
  },
  {
   "cell_type": "code",
   "execution_count": 44,
   "id": "3aad07e0-29f2-444f-8063-727b6a561eb2",
   "metadata": {},
   "outputs": [],
   "source": [
    "with open(\"../../data/eval_data/human_annotations.json\", \"r\") as f:\n",
    "    human_annotations_ds = pl.read_json(f)"
   ]
  },
  {
   "cell_type": "code",
   "execution_count": 46,
   "id": "2f267460-bdcd-487e-af12-8b37153b39de",
   "metadata": {},
   "outputs": [
    {
     "data": {
      "text/html": [
       "<div><style>\n",
       ".dataframe > thead > tr,\n",
       ".dataframe > tbody > tr {\n",
       "  text-align: right;\n",
       "  white-space: pre-wrap;\n",
       "}\n",
       "</style>\n",
       "<small>shape: (5, 5)</small><table border=\"1\" class=\"dataframe\"><thead><tr><th>index</th><th>title</th><th>ingredients</th><th>human_ingredients</th><th>human_key_ingredients</th></tr><tr><td>i64</td><td>str</td><td>list[str]</td><td>list[str]</td><td>list[str]</td></tr></thead><tbody><tr><td>25000</td><td>&quot;Pineapple Cream Cake&quot;</td><td>[&quot;1 pkg. white cake mix&quot;, &quot;2 small pkg. vanilla instant pudding mix&quot;, … &quot;4 oz. cream cheese&quot;]</td><td>[&quot;cake mix&quot;, &quot;pudding mix&quot;, … &quot;a can of pinapples&quot;]</td><td>[&quot;two packages of vanilla instant pudding mix&quot;, &quot;one can of crushed pineapple&quot;]</td></tr><tr><td>135438</td><td>&quot;Pineapple Casserole&quot;</td><td>[&quot;2 large cans pineapple tidbits, drained&quot;, &quot;3/4 c. flour&quot;, … &quot;1 stick melted butter&quot;]</td><td>[&quot;canned pineapple&quot;, &quot;flour&quot;, … &quot;butter&quot;]</td><td>[&quot;grated cheddar cheese&quot;, &quot;a pack of crushed ritz crackers&quot;]</td></tr><tr><td>230315</td><td>&quot;Low-Fat Chili&quot;</td><td>[&quot;1 1/2 lb. ground turkey&quot;, &quot;1 1/2 c. chopped onion&quot;, … &quot;3 c. brown rice, cooked&quot;]</td><td>[&quot;ground turkey&quot;, &quot;onion&quot;, … &quot;brown rice&quot;]</td><td>[&quot;coarsely chopped tomatoes&quot;, &quot;cooked brown rice&quot;, &quot;diced zucchini&quot;]</td></tr><tr><td>272288</td><td>&quot;Almond Bars&quot;</td><td>[&quot;1 c. butter&quot;, &quot;2 c. flour&quot;, &quot;1/2 c. powdered sugar&quot;]</td><td>[&quot;butter&quot;, &quot;flour&quot;, &quot;powdered sugar&quot;]</td><td>[&quot;butter&quot;, &quot;flour&quot;, &quot;powdered sugar&quot;]</td></tr><tr><td>275407</td><td>&quot;Pineapple Icebox Cake&quot;</td><td>[&quot;1 box yellow cake mix&quot;, &quot;1 (20 oz.) can crushed pineapple (with juice)&quot;, … &quot;1 c. chopped pecans&quot;]</td><td>[&quot;yellow cake mix&quot;, &quot;can of pinapple&quot;, … &quot;pecans&quot;]</td><td>[&quot;a box of yellow cake mix&quot;, &quot;a carton of frozen whipped topping&quot;, &quot;a can of pinapples&quot;]</td></tr></tbody></table></div>"
      ],
      "text/plain": [
       "shape: (5, 5)\n",
       "┌────────┬──────────────────────┬──────────────────────┬─────────────────────┬─────────────────────┐\n",
       "│ index  ┆ title                ┆ ingredients          ┆ human_ingredients   ┆ human_key_ingredien │\n",
       "│ ---    ┆ ---                  ┆ ---                  ┆ ---                 ┆ ts                  │\n",
       "│ i64    ┆ str                  ┆ list[str]            ┆ list[str]           ┆ ---                 │\n",
       "│        ┆                      ┆                      ┆                     ┆ list[str]           │\n",
       "╞════════╪══════════════════════╪══════════════════════╪═════════════════════╪═════════════════════╡\n",
       "│ 25000  ┆ Pineapple Cream Cake ┆ [\"1 pkg. white cake  ┆ [\"cake mix\",        ┆ [\"two packages of   │\n",
       "│        ┆                      ┆ mix\", \"2 s…          ┆ \"pudding mix\", … …  ┆ vanilla inst…       │\n",
       "│ 135438 ┆ Pineapple Casserole  ┆ [\"2 large cans       ┆ [\"canned            ┆ [\"grated cheddar    │\n",
       "│        ┆                      ┆ pineapple tidbi…     ┆ pineapple\",         ┆ cheese\", \"a p…      │\n",
       "│        ┆                      ┆                      ┆ \"flour\", …          ┆                     │\n",
       "│ 230315 ┆ Low-Fat Chili        ┆ [\"1 1/2 lb. ground   ┆ [\"ground turkey\",   ┆ [\"coarsely chopped  │\n",
       "│        ┆                      ┆ turkey\", \"1…         ┆ \"onion\", … \"…       ┆ tomatoes\", …        │\n",
       "│ 272288 ┆ Almond Bars          ┆ [\"1 c. butter\", \"2   ┆ [\"butter\", \"flour\", ┆ [\"butter\", \"flour\", │\n",
       "│        ┆                      ┆ c. flour\", …         ┆ \"powdered …         ┆ \"powdered …         │\n",
       "│ 275407 ┆ Pineapple Icebox     ┆ [\"1 box yellow cake  ┆ [\"yellow cake mix\", ┆ [\"a box of yellow   │\n",
       "│        ┆ Cake                 ┆ mix\", \"1 (…          ┆ \"can of pi…         ┆ cake mix\", \"…       │\n",
       "└────────┴──────────────────────┴──────────────────────┴─────────────────────┴─────────────────────┘"
      ]
     },
     "execution_count": 46,
     "metadata": {},
     "output_type": "execute_result"
    }
   ],
   "source": [
    "human_annotations_ds.head()"
   ]
  },
  {
   "cell_type": "code",
   "execution_count": 51,
   "id": "83b6d6f0-66cf-445e-91d7-2685bb397a5c",
   "metadata": {},
   "outputs": [],
   "source": [
    "human_eval_w_annotations_ds = human_eval_ds.with_columns(human_annotations_ds.select('human_ingredients'))\n",
    "human_eval_w_annotations_ds = human_eval_w_annotations_ds.with_columns(human_annotations_ds.select('human_key_ingredients'))"
   ]
  },
  {
   "cell_type": "code",
   "execution_count": 52,
   "id": "16be2a74-85f0-4c45-8335-1bffee0c506d",
   "metadata": {},
   "outputs": [
    {
     "data": {
      "text/html": [
       "<div><style>\n",
       ".dataframe > thead > tr,\n",
       ".dataframe > tbody > tr {\n",
       "  text-align: right;\n",
       "  white-space: pre-wrap;\n",
       "}\n",
       "</style>\n",
       "<small>shape: (5, 9)</small><table border=\"1\" class=\"dataframe\"><thead><tr><th>index</th><th>title</th><th>ingredients</th><th>google_search_query</th><th>main_food_items_and_preparations</th><th>important_ingredients_for_search</th><th>google_search_query_processed</th><th>human_ingredients</th><th>human_key_ingredients</th></tr><tr><td>i64</td><td>str</td><td>list[str]</td><td>str</td><td>list[str]</td><td>list[str]</td><td>struct[2]</td><td>list[str]</td><td>list[str]</td></tr></thead><tbody><tr><td>25000</td><td>&quot;Pineapple Cream Cake&quot;</td><td>[&quot;1 pkg. white cake mix&quot;, &quot;2 small pkg. vanilla instant pudding mix&quot;, … &quot;4 oz. cream cheese&quot;]</td><td>&quot;pineapple cream cake with cake…</td><td>[&quot;white cake mix&quot;, &quot;vanilla instant pudding mix&quot;, … &quot;cream cheese&quot;]</td><td>[&quot;white cake mix&quot;, &quot;vanilla pudding mix&quot;, … &quot;Dream Whip&quot;]</td><td>{&quot;Pineapple Cream Cake&quot;,[&quot;cake mix&quot;, &quot;vanilla pudding&quot;, … &quot;dream whip&quot;]}</td><td>[&quot;cake mix&quot;, &quot;pudding mix&quot;, … &quot;a can of pinapples&quot;]</td><td>[&quot;two packages of vanilla instant pudding mix&quot;, &quot;one can of crushed pineapple&quot;]</td></tr><tr><td>135438</td><td>&quot;Pineapple Casserole&quot;</td><td>[&quot;2 large cans pineapple tidbits, drained&quot;, &quot;3/4 c. flour&quot;, … &quot;1 stick melted butter&quot;]</td><td>&quot;pineapple casserole with chedd…</td><td>[&quot;pineapple tidbits (drained)&quot;, &quot;flour&quot;, … &quot;melted butter&quot;]</td><td>[&quot;pineapple&quot;, &quot;Cheddar cheese&quot;, &quot;Ritz crackers&quot;]</td><td>{&quot;Pineapple Casserole&quot;,[&quot;cheddar cheese&quot;, &quot;ritz crackers&quot;]}</td><td>[&quot;canned pineapple&quot;, &quot;flour&quot;, … &quot;butter&quot;]</td><td>[&quot;grated cheddar cheese&quot;, &quot;a pack of crushed ritz crackers&quot;]</td></tr><tr><td>230315</td><td>&quot;Low-Fat Chili&quot;</td><td>[&quot;1 1/2 lb. ground turkey&quot;, &quot;1 1/2 c. chopped onion&quot;, … &quot;3 c. brown rice, cooked&quot;]</td><td>&quot;low fat turkey chili with blac…</td><td>[&quot;ground turkey&quot;, &quot;onion (chopped)&quot;, … &quot;brown rice (cooked)&quot;]</td><td>[&quot;ground turkey&quot;, &quot;black beans&quot;, … &quot;chili powder&quot;]</td><td>{&quot;Low-Fat Chili&quot;,[&quot;black beans&quot;, &quot;zucchini&quot;, &quot;brown rice&quot;]}</td><td>[&quot;ground turkey&quot;, &quot;onion&quot;, … &quot;brown rice&quot;]</td><td>[&quot;coarsely chopped tomatoes&quot;, &quot;cooked brown rice&quot;, &quot;diced zucchini&quot;]</td></tr><tr><td>272288</td><td>&quot;Almond Bars&quot;</td><td>[&quot;1 c. butter&quot;, &quot;2 c. flour&quot;, &quot;1/2 c. powdered sugar&quot;]</td><td>&quot;3 ingredient almond shortbread…</td><td>[&quot;butter&quot;, &quot;flour&quot;, &quot;powdered sugar&quot;]</td><td>[&quot;butter&quot;, &quot;flour&quot;, &quot;powdered sugar&quot;]</td><td>{&quot;Almond Bars&quot;,[]}</td><td>[&quot;butter&quot;, &quot;flour&quot;, &quot;powdered sugar&quot;]</td><td>[&quot;butter&quot;, &quot;flour&quot;, &quot;powdered sugar&quot;]</td></tr><tr><td>275407</td><td>&quot;Pineapple Icebox Cake&quot;</td><td>[&quot;1 box yellow cake mix&quot;, &quot;1 (20 oz.) can crushed pineapple (with juice)&quot;, … &quot;1 c. chopped pecans&quot;]</td><td>&quot;pineapple icebox cake with yel…</td><td>[&quot;yellow cake mix&quot;, &quot;crushed pineapple (with juice)&quot;, … &quot;chopped pecans&quot;]</td><td>[&quot;yellow cake mix&quot;, &quot;crushed pineapple&quot;, … &quot;whipped topping&quot;]</td><td>{&quot;Pineapple Icebox Cake&quot;,[&quot;yellow cake mix&quot;, &quot;vanilla pudding&quot;]}</td><td>[&quot;yellow cake mix&quot;, &quot;can of pinapple&quot;, … &quot;pecans&quot;]</td><td>[&quot;a box of yellow cake mix&quot;, &quot;a carton of frozen whipped topping&quot;, &quot;a can of pinapples&quot;]</td></tr></tbody></table></div>"
      ],
      "text/plain": [
       "shape: (5, 9)\n",
       "┌────────┬────────────┬────────────┬───────────┬───┬───────────┬───────────┬───────────┬───────────┐\n",
       "│ index  ┆ title      ┆ ingredient ┆ google_se ┆ … ┆ important ┆ google_se ┆ human_ing ┆ human_key │\n",
       "│ ---    ┆ ---        ┆ s          ┆ arch_quer ┆   ┆ _ingredie ┆ arch_quer ┆ redients  ┆ _ingredie │\n",
       "│ i64    ┆ str        ┆ ---        ┆ y         ┆   ┆ nts_for_s ┆ y_process ┆ ---       ┆ nts       │\n",
       "│        ┆            ┆ list[str]  ┆ ---       ┆   ┆ ear…      ┆ ed        ┆ list[str] ┆ ---       │\n",
       "│        ┆            ┆            ┆ str       ┆   ┆ ---       ┆ ---       ┆           ┆ list[str] │\n",
       "│        ┆            ┆            ┆           ┆   ┆ list[str] ┆ struct[2] ┆           ┆           │\n",
       "╞════════╪════════════╪════════════╪═══════════╪═══╪═══════════╪═══════════╪═══════════╪═══════════╡\n",
       "│ 25000  ┆ Pineapple  ┆ [\"1 pkg.   ┆ pineapple ┆ … ┆ [\"white   ┆ {\"Pineapp ┆ [\"cake    ┆ [\"two     │\n",
       "│        ┆ Cream Cake ┆ white cake ┆ cream     ┆   ┆ cake      ┆ le Cream  ┆ mix\",     ┆ packages  │\n",
       "│        ┆            ┆ mix\", \"2   ┆ cake with ┆   ┆ mix\",     ┆ Cake\",[\"c ┆ \"pudding  ┆ of        │\n",
       "│        ┆            ┆ s…         ┆ cake…     ┆   ┆ \"vanilla  ┆ ake…      ┆ mix\", … … ┆ vanilla   │\n",
       "│        ┆            ┆            ┆           ┆   ┆ pu…       ┆           ┆           ┆ inst…     │\n",
       "│ 135438 ┆ Pineapple  ┆ [\"2 large  ┆ pineapple ┆ … ┆ [\"pineapp ┆ {\"Pineapp ┆ [\"canned  ┆ [\"grated  │\n",
       "│        ┆ Casserole  ┆ cans       ┆ casserole ┆   ┆ le\",      ┆ le Casser ┆ pineapple ┆ cheddar   │\n",
       "│        ┆            ┆ pineapple  ┆ with      ┆   ┆ \"Cheddar  ┆ ole\",[\"ch ┆ \",        ┆ cheese\",  │\n",
       "│        ┆            ┆ tidbi…     ┆ chedd…    ┆   ┆ cheese\"…  ┆ edd…      ┆ \"flour\",  ┆ \"a p…     │\n",
       "│        ┆            ┆            ┆           ┆   ┆           ┆           ┆ …         ┆           │\n",
       "│ 230315 ┆ Low-Fat    ┆ [\"1 1/2    ┆ low fat   ┆ … ┆ [\"ground  ┆ {\"Low-Fat ┆ [\"ground  ┆ [\"coarsel │\n",
       "│        ┆ Chili      ┆ lb. ground ┆ turkey    ┆   ┆ turkey\",  ┆ Chili\",[\" ┆ turkey\",  ┆ y chopped │\n",
       "│        ┆            ┆ turkey\",   ┆ chili     ┆   ┆ \"black    ┆ black     ┆ \"onion\",  ┆ tomatoes\" │\n",
       "│        ┆            ┆ \"1…        ┆ with      ┆   ┆ beans…    ┆ beans…    ┆ … \"…      ┆ , …       │\n",
       "│        ┆            ┆            ┆ blac…     ┆   ┆           ┆           ┆           ┆           │\n",
       "│ 272288 ┆ Almond     ┆ [\"1 c.     ┆ 3 ingredi ┆ … ┆ [\"butter\" ┆ {\"Almond  ┆ [\"butter\" ┆ [\"butter\" │\n",
       "│        ┆ Bars       ┆ butter\",   ┆ ent       ┆   ┆ ,         ┆ Bars\",[]} ┆ ,         ┆ ,         │\n",
       "│        ┆            ┆ \"2 c.      ┆ almond    ┆   ┆ \"flour\",  ┆           ┆ \"flour\",  ┆ \"flour\",  │\n",
       "│        ┆            ┆ flour\", …  ┆ shortbrea ┆   ┆ \"powdered ┆           ┆ \"powdered ┆ \"powdered │\n",
       "│        ┆            ┆            ┆ d…        ┆   ┆ …         ┆           ┆ …         ┆ …         │\n",
       "│ 275407 ┆ Pineapple  ┆ [\"1 box    ┆ pineapple ┆ … ┆ [\"yellow  ┆ {\"Pineapp ┆ [\"yellow  ┆ [\"a box   │\n",
       "│        ┆ Icebox     ┆ yellow     ┆ icebox    ┆   ┆ cake      ┆ le Icebox ┆ cake      ┆ of yellow │\n",
       "│        ┆ Cake       ┆ cake mix\", ┆ cake with ┆   ┆ mix\",     ┆ Cake\",[\"y ┆ mix\",     ┆ cake      │\n",
       "│        ┆            ┆ \"1 (…      ┆ yel…      ┆   ┆ \"crushed  ┆ el…       ┆ \"can of   ┆ mix\", \"…  │\n",
       "│        ┆            ┆            ┆           ┆   ┆ p…        ┆           ┆ pi…       ┆           │\n",
       "└────────┴────────────┴────────────┴───────────┴───┴───────────┴───────────┴───────────┴───────────┘"
      ]
     },
     "execution_count": 52,
     "metadata": {},
     "output_type": "execute_result"
    }
   ],
   "source": [
    "human_eval_w_annotations_ds.head()"
   ]
  },
  {
   "cell_type": "code",
   "execution_count": 54,
   "id": "1ea9c142-1ed5-453e-a7f5-3c83f3b2dc2b",
   "metadata": {},
   "outputs": [],
   "source": [
    "with open(\"../../data/eval_data/human_annot_eval.json\", \"w\") as f:\n",
    "    json.dump(human_eval_w_annotations_ds.to_dicts(), f, indent=2)"
   ]
  },
  {
   "cell_type": "code",
   "execution_count": null,
   "id": "549a7ca0-c12b-4a62-b239-5082357843f6",
   "metadata": {},
   "outputs": [],
   "source": []
  }
 ],
 "metadata": {
  "kernelspec": {
   "display_name": "Python 3 (ipykernel)",
   "language": "python",
   "name": "python3"
  },
  "language_info": {
   "codemirror_mode": {
    "name": "ipython",
    "version": 3
   },
   "file_extension": ".py",
   "mimetype": "text/x-python",
   "name": "python",
   "nbconvert_exporter": "python",
   "pygments_lexer": "ipython3",
   "version": "3.10.16"
  }
 },
 "nbformat": 4,
 "nbformat_minor": 5
}
