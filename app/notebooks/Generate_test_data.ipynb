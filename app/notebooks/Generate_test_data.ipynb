{
 "cells": [
  {
   "cell_type": "code",
   "execution_count": 1,
   "id": "31e5e819-d0f2-47c4-9c2a-bc69144a5788",
   "metadata": {},
   "outputs": [],
   "source": [
    "import random\n",
    "import polars as pl\n",
    "from pathlib import Path\n",
    "import json"
   ]
  },
  {
   "cell_type": "code",
   "execution_count": 2,
   "id": "270e578b-ee48-4836-bb57-faa242a4a96a",
   "metadata": {},
   "outputs": [],
   "source": [
    "nlg_ds = pl.read_csv('../../data/recipenlg/RecipeNLG_dataset.csv')#,  n_rows=1000)\n",
    "nlg_ds = nlg_ds.with_columns(pl.col(\"ingredients\").str.json_decode())\n",
    "nlg_ds = nlg_ds.with_columns(pl.col(\"directions\").str.json_decode())\n",
    "nlg_ds = nlg_ds.with_columns(pl.arange(pl.len()).alias(\"index\"))"
   ]
  },
  {
   "cell_type": "code",
   "execution_count": 3,
   "id": "33e57aa1-b955-432a-8505-4cf5cca006d9",
   "metadata": {},
   "outputs": [],
   "source": [
    "import random\n",
    "random.seed(123)\n",
    "eval_data_idx = random.sample(range(0,nlg_ds.shape[0]), k=1000)"
   ]
  },
  {
   "cell_type": "markdown",
   "id": "d590cc51-6789-404c-8e36-497d2b4b273a",
   "metadata": {},
   "source": [
    "### The above code was used to generate data, but now since it is generated, we use the exact indexes in the generated data"
   ]
  },
  {
   "cell_type": "code",
   "execution_count": 4,
   "id": "aa18b09a-ae9e-46b5-8bd1-b2d58e4fd200",
   "metadata": {},
   "outputs": [],
   "source": [
    "with open(\"../../data/eval_data/eval_data.json\", 'r') as f:\n",
    "    read_idx_ds = pl.read_json(f)"
   ]
  },
  {
   "cell_type": "code",
   "execution_count": 5,
   "id": "82ae8194-1f33-490c-ae69-10f797dc8b34",
   "metadata": {
    "editable": true,
    "slideshow": {
     "slide_type": ""
    },
    "tags": []
   },
   "outputs": [],
   "source": [
    "eval_data_idx = list(read_idx_ds['index'])"
   ]
  },
  {
   "cell_type": "code",
   "execution_count": 6,
   "id": "59eedc55-8238-486d-b3a2-97017fec8570",
   "metadata": {},
   "outputs": [],
   "source": [
    "out_ds = nlg_ds.filter(pl.col(\"index\").is_in(eval_data_idx))"
   ]
  },
  {
   "cell_type": "code",
   "execution_count": 7,
   "id": "003fa8ce-61b7-4442-977e-17807ed4e064",
   "metadata": {},
   "outputs": [],
   "source": [
    "# Don't accidentally overwrite\n",
    "#with open(\"../../data/eval_data/eval_data.json\", \"w\") as f:\n",
    "    #json.dump(out_ds.select('index', 'title', 'ingredients').to_dicts(), f, indent=2)"
   ]
  },
  {
   "cell_type": "code",
   "execution_count": 8,
   "id": "5d96dc09-3b75-4937-a5f6-3c8c1d89d6b0",
   "metadata": {
    "editable": true,
    "slideshow": {
     "slide_type": ""
    },
    "tags": []
   },
   "outputs": [],
   "source": [
    "with open(\"../../data/eval_data/processed_data.json\", \"r\") as f:\n",
    "    processed_ds = pl.read_json(f)"
   ]
  },
  {
   "cell_type": "code",
   "execution_count": 9,
   "id": "f30f8086-f07e-40ff-88d7-6fcc0b1468dd",
   "metadata": {},
   "outputs": [
    {
     "data": {
      "text/html": [
       "<div><style>\n",
       ".dataframe > thead > tr,\n",
       ".dataframe > tbody > tr {\n",
       "  text-align: right;\n",
       "  white-space: pre-wrap;\n",
       "}\n",
       "</style>\n",
       "<small>shape: (5, 7)</small><table border=\"1\" class=\"dataframe\"><thead><tr><th>index</th><th>title</th><th>ingredients</th><th>google_search_query</th><th>main_food_items_and_preparations</th><th>important_ingredients_for_search</th><th>google_search_query_processed</th></tr><tr><td>i64</td><td>str</td><td>list[str]</td><td>str</td><td>list[str]</td><td>list[str]</td><td>struct[2]</td></tr></thead><tbody><tr><td>1461</td><td>&quot;Apricot Cake&quot;</td><td>[&quot;2 c. sugar&quot;, &quot;4 eggs&quot;, … &quot;1/2 c. chopped nuts (English or pecans)&quot;]</td><td>&quot;apricot cake recipe with baby …</td><td>[&quot;sugar&quot;, &quot;eggs&quot;, … &quot;chopped nuts (English or pecans)&quot;]</td><td>[&quot;apricot baby food&quot;, &quot;flour&quot;, … &quot;Wesson oil&quot;]</td><td>{&quot;Apricot Cake&quot;,[&quot;baby food&quot;, &quot;oil&quot;, … &quot;cinnamon&quot;]}</td></tr><tr><td>1490</td><td>&quot;Angel Delights&quot;</td><td>[&quot;1 c. miniature marshmallows&quot;, &quot;1 c. broken pretzels&quot;, … &quot;1 lb. almond bark&quot;]</td><td>&quot;angel delights recipe with mar…</td><td>[&quot;miniature marshmallows&quot;, &quot;broken pretzels&quot;, … &quot;almond bark&quot;]</td><td>[&quot;marshmallows&quot;, &quot;pretzels&quot;, … &quot;almond bark&quot;]</td><td>{&quot;Angel Delights&quot;,[&quot;marshmallows&quot;, &quot;pretzels&quot;, … &quot;almond bark&quot;]}</td></tr><tr><td>3374</td><td>&quot;Savory Sausage Casserole&quot;</td><td>[&quot;1 lb. bulk pork sausage&quot;, &quot;1 c. uncooked rice&quot;, … &quot;1/2 c. toasted halved or slivered blanched almonds&quot;]</td><td>&quot;sausage and rice casserole wit…</td><td>[&quot;bulk pork sausage&quot;, &quot;uncooked rice&quot;, … &quot;toasted halved or slivered blanched almonds&quot;]</td><td>[&quot;pork sausage&quot;, &quot;rice&quot;, … &quot;almonds&quot;]</td><td>{&quot;Savory Sausage Casserole&quot;,[&quot;rice&quot;, &quot;chicken noodle soup mix&quot;, &quot;almonds&quot;]}</td></tr><tr><td>7006</td><td>&quot;Zemakove Knedliky A Kysele Zel…</td><td>[&quot;2 c. mashed potatoes&quot;, &quot;1/2 tsp. salt&quot;, … &quot;1 1/2 c. flour&quot;]</td><td>&quot;potato dumplings with sauerkra…</td><td>[&quot;mashed potatoes&quot;, &quot;salt&quot;, … &quot;flour&quot;]</td><td>[&quot;mashed potatoes&quot;, &quot;sauerkraut&quot;, … &quot;egg&quot;]</td><td>{&quot;Zemakove Knedliky A Kysele Zeli(Potato Dumplings With Sauerkraut)&nbsp;&nbsp;&quot;,[&quot;sauerkraut&quot;, &quot;mashed potatoes&quot;]}</td></tr><tr><td>9957</td><td>&quot;Scalloped Sweet Potatoes&quot;</td><td>[&quot;1/4 c. sugar&quot;, &quot;1/2 tsp. cinnamon&quot;, … &quot;3 Tbsp. margarine&quot;]</td><td>&quot;scalloped sweet potatoes and a…</td><td>[&quot;sugar&quot;, &quot;cinnamon&quot;, … &quot;margarine&quot;]</td><td>[&quot;sweet potatoes&quot;, &quot;apples&quot;, &quot;cinnamon&quot;]</td><td>{&quot;Scalloped Sweet Potatoes&quot;,[&quot;sweet potatoes&quot;, &quot;apples&quot;]}</td></tr></tbody></table></div>"
      ],
      "text/plain": [
       "shape: (5, 7)\n",
       "┌───────┬───────────────┬──────────────┬──────────────┬──────────────┬──────────────┬──────────────┐\n",
       "│ index ┆ title         ┆ ingredients  ┆ google_searc ┆ main_food_it ┆ important_in ┆ google_searc │\n",
       "│ ---   ┆ ---           ┆ ---          ┆ h_query      ┆ ems_and_prep ┆ gredients_fo ┆ h_query_proc │\n",
       "│ i64   ┆ str           ┆ list[str]    ┆ ---          ┆ aratio…      ┆ r_sear…      ┆ essed        │\n",
       "│       ┆               ┆              ┆ str          ┆ ---          ┆ ---          ┆ ---          │\n",
       "│       ┆               ┆              ┆              ┆ list[str]    ┆ list[str]    ┆ struct[2]    │\n",
       "╞═══════╪═══════════════╪══════════════╪══════════════╪══════════════╪══════════════╪══════════════╡\n",
       "│ 1461  ┆ Apricot Cake  ┆ [\"2 c.       ┆ apricot cake ┆ [\"sugar\",    ┆ [\"apricot    ┆ {\"Apricot    │\n",
       "│       ┆               ┆ sugar\", \"4   ┆ recipe with  ┆ \"eggs\", …    ┆ baby food\",  ┆ Cake\",[\"baby │\n",
       "│       ┆               ┆ eggs\", …     ┆ baby …       ┆ \"chopped n…  ┆ \"flour\",…    ┆ food\", …     │\n",
       "│       ┆               ┆ \"1/…         ┆              ┆              ┆              ┆              │\n",
       "│ 1490  ┆ Angel         ┆ [\"1 c.       ┆ angel        ┆ [\"miniature  ┆ [\"marshmallo ┆ {\"Angel Deli │\n",
       "│       ┆ Delights      ┆ miniature    ┆ delights     ┆ marshmallows ┆ ws\",         ┆ ghts\",[\"mars │\n",
       "│       ┆               ┆ marshmallows ┆ recipe with  ┆ \", \"br…      ┆ \"pretzels\",  ┆ hmallo…      │\n",
       "│       ┆               ┆ \"…           ┆ mar…         ┆              ┆ ……           ┆              │\n",
       "│ 3374  ┆ Savory        ┆ [\"1 lb. bulk ┆ sausage and  ┆ [\"bulk pork  ┆ [\"pork       ┆ {\"Savory     │\n",
       "│       ┆ Sausage       ┆ pork         ┆ rice         ┆ sausage\",    ┆ sausage\",    ┆ Sausage Cass │\n",
       "│       ┆ Casserole     ┆ sausage\",    ┆ casserole    ┆ \"uncooke…    ┆ \"rice\", …    ┆ erole\",[\"…   │\n",
       "│       ┆               ┆ \"1…          ┆ wit…         ┆              ┆ \"al…         ┆              │\n",
       "│ 7006  ┆ Zemakove      ┆ [\"2 c.       ┆ potato       ┆ [\"mashed     ┆ [\"mashed     ┆ {\"Zemakove   │\n",
       "│       ┆ Knedliky A    ┆ mashed       ┆ dumplings    ┆ potatoes\",   ┆ potatoes\",   ┆ Knedliky A   │\n",
       "│       ┆ Kysele Zel…   ┆ potatoes\",   ┆ with         ┆ \"salt\", … …  ┆ \"sauerkrau…  ┆ Kysele Z…    │\n",
       "│       ┆               ┆ \"1/2 …       ┆ sauerkra…    ┆              ┆              ┆              │\n",
       "│ 9957  ┆ Scalloped     ┆ [\"1/4 c.     ┆ scalloped    ┆ [\"sugar\",    ┆ [\"sweet      ┆ {\"Scalloped  │\n",
       "│       ┆ Sweet         ┆ sugar\", \"1/2 ┆ sweet        ┆ \"cinnamon\",  ┆ potatoes\",   ┆ Sweet Potato │\n",
       "│       ┆ Potatoes      ┆ tsp. cin…    ┆ potatoes and ┆ … \"marga…    ┆ \"apples\", \"… ┆ es\",[\"…      │\n",
       "│       ┆               ┆              ┆ a…           ┆              ┆              ┆              │\n",
       "└───────┴───────────────┴──────────────┴──────────────┴──────────────┴──────────────┴──────────────┘"
      ]
     },
     "execution_count": 9,
     "metadata": {},
     "output_type": "execute_result"
    }
   ],
   "source": [
    "processed_ds.head()"
   ]
  },
  {
   "cell_type": "code",
   "execution_count": 10,
   "id": "982af612-433f-4ef7-8099-06967c3917ae",
   "metadata": {},
   "outputs": [],
   "source": [
    "human_eval_data_idx = random.sample(eval_data_idx, k=50)"
   ]
  },
  {
   "cell_type": "code",
   "execution_count": 11,
   "id": "a1cb8a8b-02a6-4277-a1ef-02cd8f03de1f",
   "metadata": {},
   "outputs": [],
   "source": [
    "human_eval_ds = processed_ds.filter(pl.col(\"index\").is_in(human_eval_data_idx))"
   ]
  },
  {
   "cell_type": "code",
   "execution_count": 12,
   "id": "a82f6785-10d9-4721-8b15-21aeeb7a7b38",
   "metadata": {},
   "outputs": [
    {
     "data": {
      "text/html": [
       "<div><style>\n",
       ".dataframe > thead > tr,\n",
       ".dataframe > tbody > tr {\n",
       "  text-align: right;\n",
       "  white-space: pre-wrap;\n",
       "}\n",
       "</style>\n",
       "<small>shape: (5, 7)</small><table border=\"1\" class=\"dataframe\"><thead><tr><th>index</th><th>title</th><th>ingredients</th><th>google_search_query</th><th>main_food_items_and_preparations</th><th>important_ingredients_for_search</th><th>google_search_query_processed</th></tr><tr><td>i64</td><td>str</td><td>list[str]</td><td>str</td><td>list[str]</td><td>list[str]</td><td>struct[2]</td></tr></thead><tbody><tr><td>42580</td><td>&quot;Asparagus-Cucumber Mold&quot;</td><td>[&quot;1 (3 oz.) pkg. lime flavored gelatin&quot;, &quot;1/2 c. boiling water&quot;, … &quot;1/4 c. minced fresh parsley&quot;]</td><td>&quot;asparagus cucumber jello mold …</td><td>[&quot;lime flavored gelatin&quot;, &quot;boiling water&quot;, … &quot;parsley (minced, fresh)&quot;]</td><td>[&quot;lime gelatin&quot;, &quot;cream of asparagus soup&quot;, … &quot;mayonnaise&quot;]</td><td>{&quot;Asparagus-Cucumber Mold&quot;,[&quot;jello&quot;, &quot;cream of asparagus soup&quot;]}</td></tr><tr><td>89070</td><td>&quot;Picnic Beans&quot;</td><td>[&quot;1 (16 oz.) can kidney beans&quot;, &quot;1 (16 oz.) can pork and beans&quot;, … &quot;2 Tbsp. minced onion&quot;]</td><td>&quot;picnic beans recipe with bacon…</td><td>[&quot;kidney beans&quot;, &quot;pork and beans&quot;, … &quot;minced onion&quot;]</td><td>[&quot;kidney beans&quot;, &quot;pork and beans&quot;, … &quot;bacon&quot;]</td><td>{&quot;Picnic Beans&quot;,[&quot;bacon&quot;, &quot;kidney beans&quot;, &quot;pork and beans&quot;]}</td></tr><tr><td>102340</td><td>&quot;Supreme Squash Casserole&quot;</td><td>[&quot;2 c. cooked and drained squash&quot;, &quot;1 small onion, chopped&quot;, … &quot;salt and pepper to taste&quot;]</td><td>&quot;squash casserole with sour cre…</td><td>[&quot;squash (cooked, drained)&quot;, &quot;onion (chopped)&quot;, … &quot;salt and pepper&quot;]</td><td>[&quot;squash&quot;, &quot;sour cream&quot;, … &quot;Ritz crackers&quot;]</td><td>{&quot;Supreme Squash Casserole&quot;,[&quot;sour cream&quot;, &quot;cream of chicken soup&quot;, &quot;ritz crackers&quot;]}</td></tr><tr><td>165730</td><td>&quot;Jello Dessert (Or Green Goop)&quot;</td><td>[&quot;1 large Cool Whip&quot;, &quot;1 large cottage cheese&quot;, … &quot;chunk pineapple&quot;]</td><td>&quot;lime jello salad with cool whi…</td><td>[&quot;Cool Whip&quot;, &quot;cottage cheese&quot;, … &quot;chunk pineapple&quot;]</td><td>[&quot;lime jello&quot;, &quot;Cool Whip&quot;, … &quot;pineapple&quot;]</td><td>{&quot;Jello Dessert (Or Green Goop)&quot;,[&quot;cool whip&quot;, &quot;cottage cheese&quot;, … &quot;pineapple&quot;]}</td></tr><tr><td>175496</td><td>&quot;Crepes&quot;</td><td>[&quot;6 eggs, well beaten&quot;, &quot;1/2 tsp. salt&quot;, … &quot;2 Tbsp. milk&quot;]</td><td>&quot;simple crepe recipe with eggs …</td><td>[&quot;eggs (well beaten)&quot;, &quot;salt&quot;, … &quot;milk&quot;]</td><td>[&quot;eggs&quot;, &quot;flour&quot;, &quot;milk&quot;]</td><td>{&quot;Crepes&quot;,[&quot;eggs&quot;, &quot;flour&quot;, &quot;milk&quot;]}</td></tr></tbody></table></div>"
      ],
      "text/plain": [
       "shape: (5, 7)\n",
       "┌────────┬──────────────┬──────────────┬──────────────┬──────────────┬──────────────┬──────────────┐\n",
       "│ index  ┆ title        ┆ ingredients  ┆ google_searc ┆ main_food_it ┆ important_in ┆ google_searc │\n",
       "│ ---    ┆ ---          ┆ ---          ┆ h_query      ┆ ems_and_prep ┆ gredients_fo ┆ h_query_proc │\n",
       "│ i64    ┆ str          ┆ list[str]    ┆ ---          ┆ aratio…      ┆ r_sear…      ┆ essed        │\n",
       "│        ┆              ┆              ┆ str          ┆ ---          ┆ ---          ┆ ---          │\n",
       "│        ┆              ┆              ┆              ┆ list[str]    ┆ list[str]    ┆ struct[2]    │\n",
       "╞════════╪══════════════╪══════════════╪══════════════╪══════════════╪══════════════╪══════════════╡\n",
       "│ 42580  ┆ Asparagus-Cu ┆ [\"1 (3 oz.)  ┆ asparagus    ┆ [\"lime       ┆ [\"lime       ┆ {\"Asparagus- │\n",
       "│        ┆ cumber Mold  ┆ pkg. lime    ┆ cucumber     ┆ flavored     ┆ gelatin\",    ┆ Cucumber     │\n",
       "│        ┆              ┆ flavored…    ┆ jello mold … ┆ gelatin\",    ┆ \"cream of    ┆ Mold\",[\"j…   │\n",
       "│        ┆              ┆              ┆              ┆ \"boi…        ┆ asp…         ┆              │\n",
       "│ 89070  ┆ Picnic Beans ┆ [\"1 (16 oz.) ┆ picnic beans ┆ [\"kidney     ┆ [\"kidney     ┆ {\"Picnic Bea │\n",
       "│        ┆              ┆ can kidney   ┆ recipe with  ┆ beans\",      ┆ beans\",      ┆ ns\",[\"bacon\" │\n",
       "│        ┆              ┆ beans\"…      ┆ bacon…       ┆ \"pork and    ┆ \"pork and    ┆ , \"kid…      │\n",
       "│        ┆              ┆              ┆              ┆ bea…         ┆ bea…         ┆              │\n",
       "│ 102340 ┆ Supreme      ┆ [\"2 c.       ┆ squash       ┆ [\"squash     ┆ [\"squash\",   ┆ {\"Supreme    │\n",
       "│        ┆ Squash       ┆ cooked and   ┆ casserole    ┆ (cooked,     ┆ \"sour        ┆ Squash Casse │\n",
       "│        ┆ Casserole    ┆ drained      ┆ with sour    ┆ drained)\",   ┆ cream\", …    ┆ role\",[\"…    │\n",
       "│        ┆              ┆ squa…        ┆ cre…         ┆ \"…           ┆ \"Ri…         ┆              │\n",
       "│ 165730 ┆ Jello        ┆ [\"1 large    ┆ lime jello   ┆ [\"Cool       ┆ [\"lime       ┆ {\"Jello      │\n",
       "│        ┆ Dessert (Or  ┆ Cool Whip\",  ┆ salad with   ┆ Whip\",       ┆ jello\",      ┆ Dessert (Or  │\n",
       "│        ┆ Green Goop)  ┆ \"1 large…    ┆ cool whi…    ┆ \"cottage     ┆ \"Cool Whip\", ┆ Green Goop…  │\n",
       "│        ┆              ┆              ┆              ┆ cheese\"…     ┆ … …          ┆              │\n",
       "│ 175496 ┆ Crepes       ┆ [\"6 eggs,    ┆ simple crepe ┆ [\"eggs (well ┆ [\"eggs\",     ┆ {\"Crepes\",[\" │\n",
       "│        ┆              ┆ well         ┆ recipe with  ┆ beaten)\",    ┆ \"flour\",     ┆ eggs\",       │\n",
       "│        ┆              ┆ beaten\",     ┆ eggs …       ┆ \"salt\",…     ┆ \"milk\"]      ┆ \"flour\", \"m… │\n",
       "│        ┆              ┆ \"1/2 t…      ┆              ┆              ┆              ┆              │\n",
       "└────────┴──────────────┴──────────────┴──────────────┴──────────────┴──────────────┴──────────────┘"
      ]
     },
     "execution_count": 12,
     "metadata": {},
     "output_type": "execute_result"
    }
   ],
   "source": [
    "human_eval_ds.head()"
   ]
  },
  {
   "cell_type": "code",
   "execution_count": 13,
   "id": "26fe193e-3601-4aa8-a40a-6bdee4981d8a",
   "metadata": {},
   "outputs": [],
   "source": [
    "# Don't accidentally overwrite\n",
    "#with open(\"../../data/eval_data/human_annotations.json\", \"w\") as f:\n",
    "#    json.dump(human_eval_ds.select('index', 'title', 'ingredients').to_dicts(), f, indent=2)"
   ]
  },
  {
   "cell_type": "code",
   "execution_count": 14,
   "id": "3aad07e0-29f2-444f-8063-727b6a561eb2",
   "metadata": {},
   "outputs": [],
   "source": [
    "with open(\"../../data/eval_data/human_annotations.json\", \"r\") as f:\n",
    "    human_annotations_ds = pl.read_json(f)"
   ]
  },
  {
   "cell_type": "code",
   "execution_count": 15,
   "id": "2f267460-bdcd-487e-af12-8b37153b39de",
   "metadata": {},
   "outputs": [
    {
     "data": {
      "text/html": [
       "<div><style>\n",
       ".dataframe > thead > tr,\n",
       ".dataframe > tbody > tr {\n",
       "  text-align: right;\n",
       "  white-space: pre-wrap;\n",
       "}\n",
       "</style>\n",
       "<small>shape: (5, 5)</small><table border=\"1\" class=\"dataframe\"><thead><tr><th>index</th><th>title</th><th>ingredients</th><th>human_ingredients</th><th>human_key_ingredients</th></tr><tr><td>i64</td><td>str</td><td>list[str]</td><td>list[str]</td><td>list[str]</td></tr></thead><tbody><tr><td>25000</td><td>&quot;Pineapple Cream Cake&quot;</td><td>[&quot;1 pkg. white cake mix&quot;, &quot;2 small pkg. vanilla instant pudding mix&quot;, … &quot;4 oz. cream cheese&quot;]</td><td>[&quot;cake mix&quot;, &quot;pudding mix&quot;, … &quot;a can of pinapples&quot;]</td><td>[&quot;two packages of vanilla instant pudding mix&quot;, &quot;one can of crushed pineapple&quot;]</td></tr><tr><td>135438</td><td>&quot;Pineapple Casserole&quot;</td><td>[&quot;2 large cans pineapple tidbits, drained&quot;, &quot;3/4 c. flour&quot;, … &quot;1 stick melted butter&quot;]</td><td>[&quot;canned pineapple&quot;, &quot;flour&quot;, … &quot;butter&quot;]</td><td>[&quot;grated cheddar cheese&quot;, &quot;a pack of crushed ritz crackers&quot;]</td></tr><tr><td>230315</td><td>&quot;Low-Fat Chili&quot;</td><td>[&quot;1 1/2 lb. ground turkey&quot;, &quot;1 1/2 c. chopped onion&quot;, … &quot;3 c. brown rice, cooked&quot;]</td><td>[&quot;ground turkey&quot;, &quot;onion&quot;, … &quot;brown rice&quot;]</td><td>[&quot;coarsely chopped tomatoes&quot;, &quot;cooked brown rice&quot;, &quot;diced zucchini&quot;]</td></tr><tr><td>272288</td><td>&quot;Almond Bars&quot;</td><td>[&quot;1 c. butter&quot;, &quot;2 c. flour&quot;, &quot;1/2 c. powdered sugar&quot;]</td><td>[&quot;butter&quot;, &quot;flour&quot;, &quot;powdered sugar&quot;]</td><td>[&quot;butter&quot;, &quot;flour&quot;, &quot;powdered sugar&quot;]</td></tr><tr><td>275407</td><td>&quot;Pineapple Icebox Cake&quot;</td><td>[&quot;1 box yellow cake mix&quot;, &quot;1 (20 oz.) can crushed pineapple (with juice)&quot;, … &quot;1 c. chopped pecans&quot;]</td><td>[&quot;yellow cake mix&quot;, &quot;can of pinapple&quot;, … &quot;pecans&quot;]</td><td>[&quot;a box of yellow cake mix&quot;, &quot;a carton of frozen whipped topping&quot;, &quot;a can of pinapples&quot;]</td></tr></tbody></table></div>"
      ],
      "text/plain": [
       "shape: (5, 5)\n",
       "┌────────┬──────────────────────┬──────────────────────┬─────────────────────┬─────────────────────┐\n",
       "│ index  ┆ title                ┆ ingredients          ┆ human_ingredients   ┆ human_key_ingredien │\n",
       "│ ---    ┆ ---                  ┆ ---                  ┆ ---                 ┆ ts                  │\n",
       "│ i64    ┆ str                  ┆ list[str]            ┆ list[str]           ┆ ---                 │\n",
       "│        ┆                      ┆                      ┆                     ┆ list[str]           │\n",
       "╞════════╪══════════════════════╪══════════════════════╪═════════════════════╪═════════════════════╡\n",
       "│ 25000  ┆ Pineapple Cream Cake ┆ [\"1 pkg. white cake  ┆ [\"cake mix\",        ┆ [\"two packages of   │\n",
       "│        ┆                      ┆ mix\", \"2 s…          ┆ \"pudding mix\", … …  ┆ vanilla inst…       │\n",
       "│ 135438 ┆ Pineapple Casserole  ┆ [\"2 large cans       ┆ [\"canned            ┆ [\"grated cheddar    │\n",
       "│        ┆                      ┆ pineapple tidbi…     ┆ pineapple\",         ┆ cheese\", \"a p…      │\n",
       "│        ┆                      ┆                      ┆ \"flour\", …          ┆                     │\n",
       "│ 230315 ┆ Low-Fat Chili        ┆ [\"1 1/2 lb. ground   ┆ [\"ground turkey\",   ┆ [\"coarsely chopped  │\n",
       "│        ┆                      ┆ turkey\", \"1…         ┆ \"onion\", … \"…       ┆ tomatoes\", …        │\n",
       "│ 272288 ┆ Almond Bars          ┆ [\"1 c. butter\", \"2   ┆ [\"butter\", \"flour\", ┆ [\"butter\", \"flour\", │\n",
       "│        ┆                      ┆ c. flour\", …         ┆ \"powdered …         ┆ \"powdered …         │\n",
       "│ 275407 ┆ Pineapple Icebox     ┆ [\"1 box yellow cake  ┆ [\"yellow cake mix\", ┆ [\"a box of yellow   │\n",
       "│        ┆ Cake                 ┆ mix\", \"1 (…          ┆ \"can of pi…         ┆ cake mix\", \"…       │\n",
       "└────────┴──────────────────────┴──────────────────────┴─────────────────────┴─────────────────────┘"
      ]
     },
     "execution_count": 15,
     "metadata": {},
     "output_type": "execute_result"
    }
   ],
   "source": [
    "human_annotations_ds.head()"
   ]
  },
  {
   "cell_type": "code",
   "execution_count": 16,
   "id": "83b6d6f0-66cf-445e-91d7-2685bb397a5c",
   "metadata": {},
   "outputs": [],
   "source": [
    "human_eval_w_annotations_ds = human_eval_ds.with_columns(human_annotations_ds.select('human_ingredients'))\n",
    "human_eval_w_annotations_ds = human_eval_w_annotations_ds.with_columns(human_annotations_ds.select('human_key_ingredients'))"
   ]
  },
  {
   "cell_type": "code",
   "execution_count": 17,
   "id": "16be2a74-85f0-4c45-8335-1bffee0c506d",
   "metadata": {},
   "outputs": [
    {
     "data": {
      "text/html": [
       "<div><style>\n",
       ".dataframe > thead > tr,\n",
       ".dataframe > tbody > tr {\n",
       "  text-align: right;\n",
       "  white-space: pre-wrap;\n",
       "}\n",
       "</style>\n",
       "<small>shape: (5, 9)</small><table border=\"1\" class=\"dataframe\"><thead><tr><th>index</th><th>title</th><th>ingredients</th><th>google_search_query</th><th>main_food_items_and_preparations</th><th>important_ingredients_for_search</th><th>google_search_query_processed</th><th>human_ingredients</th><th>human_key_ingredients</th></tr><tr><td>i64</td><td>str</td><td>list[str]</td><td>str</td><td>list[str]</td><td>list[str]</td><td>struct[2]</td><td>list[str]</td><td>list[str]</td></tr></thead><tbody><tr><td>42580</td><td>&quot;Asparagus-Cucumber Mold&quot;</td><td>[&quot;1 (3 oz.) pkg. lime flavored gelatin&quot;, &quot;1/2 c. boiling water&quot;, … &quot;1/4 c. minced fresh parsley&quot;]</td><td>&quot;asparagus cucumber jello mold …</td><td>[&quot;lime flavored gelatin&quot;, &quot;boiling water&quot;, … &quot;parsley (minced, fresh)&quot;]</td><td>[&quot;lime gelatin&quot;, &quot;cream of asparagus soup&quot;, … &quot;mayonnaise&quot;]</td><td>{&quot;Asparagus-Cucumber Mold&quot;,[&quot;jello&quot;, &quot;cream of asparagus soup&quot;]}</td><td>[&quot;cake mix&quot;, &quot;pudding mix&quot;, … &quot;a can of pinapples&quot;]</td><td>[&quot;two packages of vanilla instant pudding mix&quot;, &quot;one can of crushed pineapple&quot;]</td></tr><tr><td>89070</td><td>&quot;Picnic Beans&quot;</td><td>[&quot;1 (16 oz.) can kidney beans&quot;, &quot;1 (16 oz.) can pork and beans&quot;, … &quot;2 Tbsp. minced onion&quot;]</td><td>&quot;picnic beans recipe with bacon…</td><td>[&quot;kidney beans&quot;, &quot;pork and beans&quot;, … &quot;minced onion&quot;]</td><td>[&quot;kidney beans&quot;, &quot;pork and beans&quot;, … &quot;bacon&quot;]</td><td>{&quot;Picnic Beans&quot;,[&quot;bacon&quot;, &quot;kidney beans&quot;, &quot;pork and beans&quot;]}</td><td>[&quot;canned pineapple&quot;, &quot;flour&quot;, … &quot;butter&quot;]</td><td>[&quot;grated cheddar cheese&quot;, &quot;a pack of crushed ritz crackers&quot;]</td></tr><tr><td>102340</td><td>&quot;Supreme Squash Casserole&quot;</td><td>[&quot;2 c. cooked and drained squash&quot;, &quot;1 small onion, chopped&quot;, … &quot;salt and pepper to taste&quot;]</td><td>&quot;squash casserole with sour cre…</td><td>[&quot;squash (cooked, drained)&quot;, &quot;onion (chopped)&quot;, … &quot;salt and pepper&quot;]</td><td>[&quot;squash&quot;, &quot;sour cream&quot;, … &quot;Ritz crackers&quot;]</td><td>{&quot;Supreme Squash Casserole&quot;,[&quot;sour cream&quot;, &quot;cream of chicken soup&quot;, &quot;ritz crackers&quot;]}</td><td>[&quot;ground turkey&quot;, &quot;onion&quot;, … &quot;brown rice&quot;]</td><td>[&quot;coarsely chopped tomatoes&quot;, &quot;cooked brown rice&quot;, &quot;diced zucchini&quot;]</td></tr><tr><td>165730</td><td>&quot;Jello Dessert (Or Green Goop)&quot;</td><td>[&quot;1 large Cool Whip&quot;, &quot;1 large cottage cheese&quot;, … &quot;chunk pineapple&quot;]</td><td>&quot;lime jello salad with cool whi…</td><td>[&quot;Cool Whip&quot;, &quot;cottage cheese&quot;, … &quot;chunk pineapple&quot;]</td><td>[&quot;lime jello&quot;, &quot;Cool Whip&quot;, … &quot;pineapple&quot;]</td><td>{&quot;Jello Dessert (Or Green Goop)&quot;,[&quot;cool whip&quot;, &quot;cottage cheese&quot;, … &quot;pineapple&quot;]}</td><td>[&quot;butter&quot;, &quot;flour&quot;, &quot;powdered sugar&quot;]</td><td>[&quot;butter&quot;, &quot;flour&quot;, &quot;powdered sugar&quot;]</td></tr><tr><td>175496</td><td>&quot;Crepes&quot;</td><td>[&quot;6 eggs, well beaten&quot;, &quot;1/2 tsp. salt&quot;, … &quot;2 Tbsp. milk&quot;]</td><td>&quot;simple crepe recipe with eggs …</td><td>[&quot;eggs (well beaten)&quot;, &quot;salt&quot;, … &quot;milk&quot;]</td><td>[&quot;eggs&quot;, &quot;flour&quot;, &quot;milk&quot;]</td><td>{&quot;Crepes&quot;,[&quot;eggs&quot;, &quot;flour&quot;, &quot;milk&quot;]}</td><td>[&quot;yellow cake mix&quot;, &quot;can of pinapple&quot;, … &quot;pecans&quot;]</td><td>[&quot;a box of yellow cake mix&quot;, &quot;a carton of frozen whipped topping&quot;, &quot;a can of pinapples&quot;]</td></tr></tbody></table></div>"
      ],
      "text/plain": [
       "shape: (5, 9)\n",
       "┌────────┬────────────┬────────────┬───────────┬───┬───────────┬───────────┬───────────┬───────────┐\n",
       "│ index  ┆ title      ┆ ingredient ┆ google_se ┆ … ┆ important ┆ google_se ┆ human_ing ┆ human_key │\n",
       "│ ---    ┆ ---        ┆ s          ┆ arch_quer ┆   ┆ _ingredie ┆ arch_quer ┆ redients  ┆ _ingredie │\n",
       "│ i64    ┆ str        ┆ ---        ┆ y         ┆   ┆ nts_for_s ┆ y_process ┆ ---       ┆ nts       │\n",
       "│        ┆            ┆ list[str]  ┆ ---       ┆   ┆ ear…      ┆ ed        ┆ list[str] ┆ ---       │\n",
       "│        ┆            ┆            ┆ str       ┆   ┆ ---       ┆ ---       ┆           ┆ list[str] │\n",
       "│        ┆            ┆            ┆           ┆   ┆ list[str] ┆ struct[2] ┆           ┆           │\n",
       "╞════════╪════════════╪════════════╪═══════════╪═══╪═══════════╪═══════════╪═══════════╪═══════════╡\n",
       "│ 42580  ┆ Asparagus- ┆ [\"1 (3     ┆ asparagus ┆ … ┆ [\"lime    ┆ {\"Asparag ┆ [\"cake    ┆ [\"two     │\n",
       "│        ┆ Cucumber   ┆ oz.) pkg.  ┆ cucumber  ┆   ┆ gelatin\", ┆ us-Cucumb ┆ mix\",     ┆ packages  │\n",
       "│        ┆ Mold       ┆ lime       ┆ jello     ┆   ┆ \"cream of ┆ er Mold\", ┆ \"pudding  ┆ of        │\n",
       "│        ┆            ┆ flavored…  ┆ mold …    ┆   ┆ asp…      ┆ [\"j…      ┆ mix\", … … ┆ vanilla   │\n",
       "│        ┆            ┆            ┆           ┆   ┆           ┆           ┆           ┆ inst…     │\n",
       "│ 89070  ┆ Picnic     ┆ [\"1 (16    ┆ picnic    ┆ … ┆ [\"kidney  ┆ {\"Picnic  ┆ [\"canned  ┆ [\"grated  │\n",
       "│        ┆ Beans      ┆ oz.) can   ┆ beans     ┆   ┆ beans\",   ┆ Beans\",[\" ┆ pineapple ┆ cheddar   │\n",
       "│        ┆            ┆ kidney     ┆ recipe    ┆   ┆ \"pork and ┆ bacon\",   ┆ \",        ┆ cheese\",  │\n",
       "│        ┆            ┆ beans\"…    ┆ with      ┆   ┆ bea…      ┆ \"kid…     ┆ \"flour\",  ┆ \"a p…     │\n",
       "│        ┆            ┆            ┆ bacon…    ┆   ┆           ┆           ┆ …         ┆           │\n",
       "│ 102340 ┆ Supreme    ┆ [\"2 c.     ┆ squash    ┆ … ┆ [\"squash\" ┆ {\"Supreme ┆ [\"ground  ┆ [\"coarsel │\n",
       "│        ┆ Squash     ┆ cooked and ┆ casserole ┆   ┆ , \"sour   ┆ Squash    ┆ turkey\",  ┆ y chopped │\n",
       "│        ┆ Casserole  ┆ drained    ┆ with sour ┆   ┆ cream\", … ┆ Casserole ┆ \"onion\",  ┆ tomatoes\" │\n",
       "│        ┆            ┆ squa…      ┆ cre…      ┆   ┆ \"Ri…      ┆ \",[\"…     ┆ … \"…      ┆ , …       │\n",
       "│ 165730 ┆ Jello      ┆ [\"1 large  ┆ lime      ┆ … ┆ [\"lime    ┆ {\"Jello   ┆ [\"butter\" ┆ [\"butter\" │\n",
       "│        ┆ Dessert    ┆ Cool       ┆ jello     ┆   ┆ jello\",   ┆ Dessert   ┆ ,         ┆ ,         │\n",
       "│        ┆ (Or Green  ┆ Whip\", \"1  ┆ salad     ┆   ┆ \"Cool     ┆ (Or Green ┆ \"flour\",  ┆ \"flour\",  │\n",
       "│        ┆ Goop)      ┆ large…     ┆ with cool ┆   ┆ Whip\", …  ┆ Goop…     ┆ \"powdered ┆ \"powdered │\n",
       "│        ┆            ┆            ┆ whi…      ┆   ┆ …         ┆           ┆ …         ┆ …         │\n",
       "│ 175496 ┆ Crepes     ┆ [\"6 eggs,  ┆ simple    ┆ … ┆ [\"eggs\",  ┆ {\"Crepes\" ┆ [\"yellow  ┆ [\"a box   │\n",
       "│        ┆            ┆ well       ┆ crepe     ┆   ┆ \"flour\",  ┆ ,[\"eggs\", ┆ cake      ┆ of yellow │\n",
       "│        ┆            ┆ beaten\",   ┆ recipe    ┆   ┆ \"milk\"]   ┆ \"flour\",  ┆ mix\",     ┆ cake      │\n",
       "│        ┆            ┆ \"1/2 t…    ┆ with eggs ┆   ┆           ┆ \"m…       ┆ \"can of   ┆ mix\", \"…  │\n",
       "│        ┆            ┆            ┆ …         ┆   ┆           ┆           ┆ pi…       ┆           │\n",
       "└────────┴────────────┴────────────┴───────────┴───┴───────────┴───────────┴───────────┴───────────┘"
      ]
     },
     "execution_count": 17,
     "metadata": {},
     "output_type": "execute_result"
    }
   ],
   "source": [
    "human_eval_w_annotations_ds.head()"
   ]
  },
  {
   "cell_type": "code",
   "execution_count": 18,
   "id": "1ea9c142-1ed5-453e-a7f5-3c83f3b2dc2b",
   "metadata": {},
   "outputs": [],
   "source": [
    "# Don't accidentally overwrite\n",
    "#with open(\"../../data/eval_data/human_annot_eval.json\", \"w\") as f:\n",
    "#    json.dump(human_eval_w_annotations_ds.to_dicts(), f, indent=2)"
   ]
  },
  {
   "cell_type": "code",
   "execution_count": 19,
   "id": "549a7ca0-c12b-4a62-b239-5082357843f6",
   "metadata": {},
   "outputs": [],
   "source": [
    "non_eval_idx = [i for i in range(nlg_ds.shape[0]) if i not in eval_data_idx]"
   ]
  },
  {
   "cell_type": "code",
   "execution_count": 20,
   "id": "84cd39a4-64a2-4d9a-bcac-06adf63afbbb",
   "metadata": {},
   "outputs": [],
   "source": [
    "eval_10k_idx = list(set(random.sample(non_eval_idx, k=9000) + eval_data_idx))"
   ]
  },
  {
   "cell_type": "code",
   "execution_count": 23,
   "id": "8c7529f7-0a44-46d2-b1e1-8e32797f43d6",
   "metadata": {},
   "outputs": [],
   "source": [
    "with open(\"../../data/eval_data/eval_10k.json\", \"r\") as f:\n",
    "    read_eval_10k_ds = pl.read_json(f)"
   ]
  },
  {
   "cell_type": "code",
   "execution_count": 24,
   "id": "788e22ab-9686-4edf-a967-7e4942ad6baf",
   "metadata": {},
   "outputs": [],
   "source": [
    "eval_10k_idx = read_eval_10k_ds['index'].to_numpy()"
   ]
  },
  {
   "cell_type": "code",
   "execution_count": 25,
   "id": "f617655a-0509-4c95-be80-4fb655144088",
   "metadata": {},
   "outputs": [],
   "source": [
    "non_eval_100k_idx = np.delete(np.arange(nlg_ds.shape[0]), eval_10k_idx)"
   ]
  },
  {
   "cell_type": "code",
   "execution_count": 26,
   "id": "def8b9ee-3d40-439e-9911-e30447180d6a",
   "metadata": {},
   "outputs": [
    {
     "data": {
      "text/plain": [
       "array([      0,       1,       2, ..., 2231139, 2231140, 2231141],\n",
       "      shape=(2221142,))"
      ]
     },
     "execution_count": 26,
     "metadata": {},
     "output_type": "execute_result"
    }
   ],
   "source": [
    "non_eval_100k_idx"
   ]
  },
  {
   "cell_type": "code",
   "execution_count": 29,
   "id": "fc66ee00-67fd-4df0-ba83-98e0e1ac9b01",
   "metadata": {},
   "outputs": [],
   "source": [
    "eval_100k_idx = list(set(random.sample(list(non_eval_100k_idx), k=90000) + list(eval_10k_idx)))"
   ]
  },
  {
   "cell_type": "code",
   "execution_count": 30,
   "id": "3739ad41-32c0-43b9-8eee-9ccd7bff15bf",
   "metadata": {},
   "outputs": [
    {
     "data": {
      "text/plain": [
       "100000"
      ]
     },
     "execution_count": 30,
     "metadata": {},
     "output_type": "execute_result"
    }
   ],
   "source": [
    "len(eval_100k_idx)"
   ]
  },
  {
   "cell_type": "code",
   "execution_count": 24,
   "id": "97a03f8b-0a76-4c87-9f15-acf260b63d09",
   "metadata": {},
   "outputs": [],
   "source": [
    "eval_10k_ds = nlg_ds.filter(pl.col('index').is_in(eval_10k_idx))"
   ]
  },
  {
   "cell_type": "code",
   "execution_count": 25,
   "id": "46cd8daa-5645-44cb-9d75-75bac607d503",
   "metadata": {
    "editable": true,
    "slideshow": {
     "slide_type": ""
    },
    "tags": []
   },
   "outputs": [],
   "source": [
    "# Don't accidentally overwrite\n",
    "#with open(\"../../data/eval_data/eval_10k.json\", \"w\") as f:\n",
    "#    json.dump(eval_10k_ds.to_dicts(), f, indent=2)"
   ]
  },
  {
   "cell_type": "code",
   "execution_count": 32,
   "id": "88d0efd5-082c-4510-af42-8d2a49d6c16e",
   "metadata": {},
   "outputs": [],
   "source": [
    "eval_100k_ds = nlg_ds.filter(pl.col('index').is_in(eval_100k_idx))"
   ]
  },
  {
   "cell_type": "code",
   "execution_count": 33,
   "id": "9faf2ed1-ce34-4d5d-b7e6-99f3e49f4f08",
   "metadata": {},
   "outputs": [],
   "source": [
    "# Don't accidentally overwrite\n",
    "#with open(\"../../data/eval_data/eval_100k.json\", \"w\") as f:\n",
    "#    json.dump(eval_100k_ds.to_dicts(), f, indent=2)"
   ]
  },
  {
   "cell_type": "markdown",
   "id": "203b6f21-7534-442e-b4b8-c2dec347e6ba",
   "metadata": {},
   "source": [
    "### Sanity check that we can read data properly"
   ]
  },
  {
   "cell_type": "code",
   "execution_count": 34,
   "id": "a6ed529b-77a7-43dc-934c-f46e2f4d9340",
   "metadata": {},
   "outputs": [],
   "source": [
    "with open(\"../../data/eval_data/eval_100k.json\", \"r\") as f:\n",
    "    read_eval_100k_ds = pl.read_json(f)"
   ]
  },
  {
   "cell_type": "code",
   "execution_count": 35,
   "id": "696c41c7-1ed9-464d-86ab-7a965eb3c5d2",
   "metadata": {},
   "outputs": [
    {
     "data": {
      "text/html": [
       "<div><style>\n",
       ".dataframe > thead > tr,\n",
       ".dataframe > tbody > tr {\n",
       "  text-align: right;\n",
       "  white-space: pre-wrap;\n",
       "}\n",
       "</style>\n",
       "<small>shape: (0, 8)</small><table border=\"1\" class=\"dataframe\"><thead><tr><th></th><th>title</th><th>ingredients</th><th>directions</th><th>link</th><th>source</th><th>NER</th><th>index</th></tr><tr><td>bool</td><td>bool</td><td>bool</td><td>bool</td><td>bool</td><td>bool</td><td>bool</td><td>bool</td></tr></thead><tbody></tbody></table></div>"
      ],
      "text/plain": [
       "shape: (0, 8)\n",
       "┌──────┬───────┬─────────────┬────────────┬──────┬────────┬──────┬───────┐\n",
       "│      ┆ title ┆ ingredients ┆ directions ┆ link ┆ source ┆ NER  ┆ index │\n",
       "│ ---  ┆ ---   ┆ ---         ┆ ---        ┆ ---  ┆ ---    ┆ ---  ┆ ---   │\n",
       "│ bool ┆ bool  ┆ bool        ┆ bool       ┆ bool ┆ bool   ┆ bool ┆ bool  │\n",
       "╞══════╪═══════╪═════════════╪════════════╪══════╪════════╪══════╪═══════╡\n",
       "└──────┴───────┴─────────────┴────────────┴──────┴────────┴──────┴───────┘"
      ]
     },
     "execution_count": 35,
     "metadata": {},
     "output_type": "execute_result"
    }
   ],
   "source": [
    "(eval_100k_ds == read_eval_100k_ds).filter(pl.col('title') == False)"
   ]
  },
  {
   "cell_type": "markdown",
   "id": "c7b8d687-07dc-4f2b-a951-c8ad003617cc",
   "metadata": {},
   "source": [
    "## Generate 150 datapoint for labeling that is not in any of our evaluation data"
   ]
  },
  {
   "cell_type": "code",
   "execution_count": 36,
   "id": "7186f234-9224-4d3a-a410-ecd8b7f18956",
   "metadata": {},
   "outputs": [],
   "source": [
    "import numpy as np"
   ]
  },
  {
   "cell_type": "code",
   "execution_count": 37,
   "id": "105771fe-0c6a-456a-8e74-1277a4758597",
   "metadata": {},
   "outputs": [],
   "source": [
    "eval_100k_idx = read_eval_100k_ds['index'].to_numpy()"
   ]
  },
  {
   "cell_type": "code",
   "execution_count": 38,
   "id": "2281d6f2-85eb-46b9-9040-6f9ec8309b86",
   "metadata": {},
   "outputs": [
    {
     "data": {
      "text/plain": [
       "array([     64,      83,      88, ..., 2231086, 2231122, 2231137],\n",
       "      shape=(100000,))"
      ]
     },
     "execution_count": 38,
     "metadata": {},
     "output_type": "execute_result"
    }
   ],
   "source": [
    "eval_100k_idx"
   ]
  },
  {
   "cell_type": "code",
   "execution_count": 39,
   "id": "565067b1-702d-4c3e-b278-72aedf043fa3",
   "metadata": {},
   "outputs": [],
   "source": [
    "non_100k_idx = np.delete(np.arange(nlg_ds.shape[0]), eval_100k_idx)"
   ]
  },
  {
   "cell_type": "code",
   "execution_count": 40,
   "id": "0be73bf1-7953-4812-a70e-d1fd722e1a9e",
   "metadata": {},
   "outputs": [
    {
     "data": {
      "text/plain": [
       "array([      0,       1,       2, ..., 2231139, 2231140, 2231141],\n",
       "      shape=(2231142,))"
      ]
     },
     "execution_count": 40,
     "metadata": {},
     "output_type": "execute_result"
    }
   ],
   "source": [
    "np.arange(nlg_ds.shape[0])"
   ]
  },
  {
   "cell_type": "code",
   "execution_count": 41,
   "id": "afbf7e92-862b-43e1-af2d-68c8759af730",
   "metadata": {},
   "outputs": [
    {
     "data": {
      "text/plain": [
       "array([      0,       1,       2, ..., 2231139, 2231140, 2231141],\n",
       "      shape=(2131142,))"
      ]
     },
     "execution_count": 41,
     "metadata": {},
     "output_type": "execute_result"
    }
   ],
   "source": [
    "non_100k_idx"
   ]
  },
  {
   "cell_type": "code",
   "execution_count": 46,
   "id": "7595001d-7c99-48f3-af39-5fae92a2b13f",
   "metadata": {},
   "outputs": [],
   "source": [
    "label_150_idx = np.array(list(set(random.sample(list(non_100k_idx), k=150))))"
   ]
  },
  {
   "cell_type": "code",
   "execution_count": 50,
   "id": "99dd1667-a478-41b4-ac18-8011e0afc883",
   "metadata": {
    "editable": true,
    "slideshow": {
     "slide_type": ""
    },
    "tags": []
   },
   "outputs": [],
   "source": [
    "label_150_idx.sort()"
   ]
  },
  {
   "cell_type": "code",
   "execution_count": 51,
   "id": "9d7d320c-248d-406a-b69d-ac62f24b2224",
   "metadata": {},
   "outputs": [
    {
     "data": {
      "text/plain": [
       "array([  41254,   42099,   60699,   61742,   62233,   63247,   91437,\n",
       "        109467,  146606,  150425,  150466,  185269,  192495,  196691,\n",
       "        197970,  204596,  218859,  225014,  229259,  278795,  297220,\n",
       "        317376,  319738,  346087,  364271,  371377,  375769,  379518,\n",
       "        386200,  391990,  398235,  417520,  422987,  496661,  510940,\n",
       "        526801,  552638,  580596,  589713,  594672,  600311,  600478,\n",
       "        631618,  643177,  659740,  683934,  691275,  703046,  707281,\n",
       "        730945,  735990,  764118,  801349,  820061,  823725,  826954,\n",
       "        831303,  851295,  874570,  896740,  909353,  913607,  921543,\n",
       "        923317,  937613,  972310,  991333, 1034874, 1042441, 1043965,\n",
       "       1081875, 1112769, 1129356, 1158262, 1185614, 1189029, 1196358,\n",
       "       1210700, 1214587, 1214662, 1221175, 1228520, 1231000, 1232842,\n",
       "       1244642, 1252446, 1256357, 1259675, 1260661, 1265192, 1268011,\n",
       "       1297789, 1304555, 1316825, 1352016, 1354643, 1358229, 1390880,\n",
       "       1392526, 1405567, 1410035, 1410877, 1423828, 1435798, 1453571,\n",
       "       1456474, 1469342, 1470318, 1486857, 1547878, 1568520, 1569515,\n",
       "       1578534, 1579828, 1589808, 1598432, 1641553, 1695238, 1731341,\n",
       "       1734385, 1739423, 1779526, 1781224, 1788110, 1827637, 1840917,\n",
       "       1852935, 1856809, 1868327, 1874770, 1921305, 1923852, 1937244,\n",
       "       1945277, 1950825, 1953571, 1961737, 1966550, 2003902, 2003914,\n",
       "       2022617, 2024097, 2035265, 2046911, 2087694, 2089850, 2108094,\n",
       "       2152745, 2178453, 2225939])"
      ]
     },
     "execution_count": 51,
     "metadata": {},
     "output_type": "execute_result"
    }
   ],
   "source": [
    "label_150_idx"
   ]
  },
  {
   "cell_type": "code",
   "execution_count": 52,
   "id": "4499beeb-8c51-4f4e-a817-e907eede219c",
   "metadata": {},
   "outputs": [],
   "source": [
    "label_150_ds = nlg_ds.filter(pl.col('index').is_in(label_150_idx))"
   ]
  },
  {
   "cell_type": "code",
   "execution_count": 54,
   "id": "43048d9f-56b5-44ae-8690-67cdbeab1740",
   "metadata": {
    "editable": true,
    "slideshow": {
     "slide_type": ""
    },
    "tags": []
   },
   "outputs": [],
   "source": [
    "i = 0\n",
    "labels = []\n",
    "for index, ingredients in label_150_ds['index', 'ingredients'].iter_rows():\n",
    "    out_obj= {}\n",
    "    text = \"\\n\".join(ingredients)\n",
    "    out_obj = {\n",
    "        \"data\": {\n",
    "            \"id\": index,\n",
    "            \"text\": text\n",
    "        },\n",
    "    }\n",
    "    labels.append(out_obj)"
   ]
  },
  {
   "cell_type": "code",
   "execution_count": 59,
   "id": "6afb0c3a-8410-40a6-88c2-cc1e556d9b64",
   "metadata": {
    "editable": true,
    "slideshow": {
     "slide_type": ""
    },
    "tags": []
   },
   "outputs": [],
   "source": [
    "with open('../../data/NER_data/recipeNLG_to_label.json', mode='w') as f:\n",
    "    json.dump(labels, f)"
   ]
  },
  {
   "cell_type": "code",
   "execution_count": 71,
   "id": "bf5fe910-d9e5-4ae2-b96f-0242b28251a9",
   "metadata": {
    "editable": true,
    "slideshow": {
     "slide_type": ""
    },
    "tags": []
   },
   "outputs": [
    {
     "name": "stdout",
     "output_type": "stream",
     "text": [
      "2 pounds medium red-skinned potatoes\n",
      "scrubbed Sea salt 1 pound skinless wild salmon fillet Safflower or sunflower oil\n",
      "for greasing and frying Freshly ground pepper 1 bunch scallions (about 6 scallions)\n",
      "coarsely chopped 3 large eggs\n",
      "lightly beaten 3 garlic cloves\n",
      "minced 2 tablespoons minced fresh ginger 1/2 medium red onion\n",
      "finely chopped 1 tablespoon tamari 1 tablespoon toasted sesame oil 1/2 cup plain dry bread crumbs Dill Sauce\n",
      "for serving\n"
     ]
    }
   ],
   "source": [
    "for i in label_150_ds.filter(pl.col('index') == 1297789)['ingredients'][0]:\n",
    "    print(i)"
   ]
  },
  {
   "cell_type": "code",
   "execution_count": null,
   "id": "77529a65-20b6-4adf-b3a0-84addc88166c",
   "metadata": {},
   "outputs": [],
   "source": []
  }
 ],
 "metadata": {
  "kernelspec": {
   "display_name": "Python 3 (ipykernel)",
   "language": "python",
   "name": "python3"
  },
  "language_info": {
   "codemirror_mode": {
    "name": "ipython",
    "version": 3
   },
   "file_extension": ".py",
   "mimetype": "text/x-python",
   "name": "python",
   "nbconvert_exporter": "python",
   "pygments_lexer": "ipython3",
   "version": "3.10.16"
  }
 },
 "nbformat": 4,
 "nbformat_minor": 5
}
