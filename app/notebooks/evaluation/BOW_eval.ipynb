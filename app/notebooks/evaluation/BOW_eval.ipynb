{
 "cells": [
  {
   "cell_type": "markdown",
   "id": "51fa6c3e-8b79-482d-89b6-c2c5daabb187",
   "metadata": {},
   "source": [
    "# BOW Evaluation "
   ]
  },
  {
   "cell_type": "code",
   "execution_count": 1,
   "id": "a8878ef0-d226-493a-a90b-ca8c673cf97a",
   "metadata": {
    "editable": true,
    "slideshow": {
     "slide_type": ""
    },
    "tags": []
   },
   "outputs": [],
   "source": [
    "import mlflow\n",
    "import mlflow.sklearn\n",
    "import polars as pl\n",
    "import seaborn as sns\n",
    "import scipy\n",
    "import duckdb\n",
    "import numpy as np\n",
    "import json\n",
    "import timeit\n",
    "import matplotlib.pyplot as plt"
   ]
  },
  {
   "cell_type": "code",
   "execution_count": 2,
   "id": "7a51787d-7fc7-4033-ba82-66cc5f95841b",
   "metadata": {
    "editable": true,
    "slideshow": {
     "slide_type": ""
    },
    "tags": []
   },
   "outputs": [
    {
     "data": {
      "text/plain": [
       "True"
      ]
     },
     "execution_count": 2,
     "metadata": {},
     "output_type": "execute_result"
    }
   ],
   "source": [
    "import os\n",
    "import sys\n",
    "from dotenv import load_dotenv\n",
    "sys.path.insert(0, os.path.abspath('..'))\n",
    "sys.path.insert(0, os.path.abspath('../..'))\n",
    "sys.path.insert(0, os.path.abspath('../../..'))\n",
    "from app.model_functions import run_BOW_on_line\n",
    "from app.evaluation import reciprocal_rank, rank_BOW_results, precision_at_k\n",
    "from app.data_handling.BOW import transform_ds_to_BOW\n",
    "load_dotenv()"
   ]
  },
  {
   "cell_type": "markdown",
   "id": "865180d3-d89d-4023-8990-d504507ad5b1",
   "metadata": {
    "editable": true,
    "slideshow": {
     "slide_type": ""
    },
    "tags": []
   },
   "source": [
    "# Set up definitions\n",
    "Datasets:\n",
    " - 1k_processed\n",
    " - 10k\n",
    " - 100k\n",
    " - full"
   ]
  },
  {
   "cell_type": "code",
   "execution_count": 3,
   "id": "bce70294-7ce9-4721-b964-b4143494b565",
   "metadata": {},
   "outputs": [],
   "source": [
    "dataset_name = '100k'\n",
    "run_name = 'BOW_100k'"
   ]
  },
  {
   "cell_type": "code",
   "execution_count": 4,
   "id": "44dcca0b-9916-47bd-9102-4c32882e21a4",
   "metadata": {
    "editable": true,
    "slideshow": {
     "slide_type": ""
    },
    "tags": []
   },
   "outputs": [],
   "source": [
    "with open(\"../../../data/eval_data/processed_data.json\", \"r\") as f:\n",
    "    query_ds = pl.read_json(f)\n",
    "with open(\"../../../data/eval_data/human_annotations.json\", \"r\") as f:\n",
    "    human_query_ds = pl.read_json(f)"
   ]
  },
  {
   "cell_type": "code",
   "execution_count": 5,
   "id": "19f5a6ee-a682-41d9-be10-b5fa95f5e8f7",
   "metadata": {},
   "outputs": [],
   "source": [
    "if dataset_name == '1k_processed':\n",
    "    eval_ds = query_ds\n",
    "elif dataset_name == '10k':\n",
    "    with open(\"../../../data/eval_data/eval_10k.json\", \"r\") as f:\n",
    "        eval_ds = pl.read_json(f)\n",
    "elif dataset_name == '100k':\n",
    "    with open(\"../../../data/eval_data/eval_100k.json\", \"r\") as f:\n",
    "        eval_ds = pl.read_json(f)"
   ]
  },
  {
   "cell_type": "code",
   "execution_count": 6,
   "id": "ce0d3ba2-5b9a-416b-99f5-0a0140a4417c",
   "metadata": {},
   "outputs": [
    {
     "data": {
      "text/html": [
       "<div><style>\n",
       ".dataframe > thead > tr,\n",
       ".dataframe > tbody > tr {\n",
       "  text-align: right;\n",
       "  white-space: pre-wrap;\n",
       "}\n",
       "</style>\n",
       "<small>shape: (0, 8)</small><table border=\"1\" class=\"dataframe\"><thead><tr><th>Model</th><th>Eval_Task</th><th>Dataset</th><th>MRR</th><th>TKA</th><th>Time_Tot</th><th>Time_Query</th><th>Error_Count</th></tr><tr><td>str</td><td>str</td><td>str</td><td>f64</td><td>f64</td><td>f64</td><td>f64</td><td>i32</td></tr></thead><tbody></tbody></table></div>"
      ],
      "text/plain": [
       "shape: (0, 8)\n",
       "┌───────┬───────────┬─────────┬─────┬─────┬──────────┬────────────┬─────────────┐\n",
       "│ Model ┆ Eval_Task ┆ Dataset ┆ MRR ┆ TKA ┆ Time_Tot ┆ Time_Query ┆ Error_Count │\n",
       "│ ---   ┆ ---       ┆ ---     ┆ --- ┆ --- ┆ ---      ┆ ---        ┆ ---         │\n",
       "│ str   ┆ str       ┆ str     ┆ f64 ┆ f64 ┆ f64      ┆ f64        ┆ i32         │\n",
       "╞═══════╪═══════════╪═════════╪═════╪═════╪══════════╪════════════╪═════════════╡\n",
       "└───────┴───────────┴─────────┴─────┴─────┴──────────┴────────────┴─────────────┘"
      ]
     },
     "execution_count": 6,
     "metadata": {},
     "output_type": "execute_result"
    }
   ],
   "source": [
    "results_df = pl.DataFrame(\n",
    "    schema={\n",
    "        'Model': pl.String,\n",
    "        'Eval_Task': pl.String,\n",
    "        \"Dataset\": pl.String,\n",
    "        \"MRR\": pl.Float64,\n",
    "        \"TKA\": pl.Float64,\n",
    "        \"Time_Tot\": pl.Float64,\n",
    "        \"Time_Query\": pl.Float64,\n",
    "        \"Error_Count\": pl.Int32\n",
    "    })\n",
    "results_df"
   ]
  },
  {
   "cell_type": "markdown",
   "id": "e81e5272-4b70-4459-aa60-eaf777f24fc2",
   "metadata": {},
   "source": [
    "## Running code"
   ]
  },
  {
   "cell_type": "code",
   "execution_count": 7,
   "id": "f1499171-e12e-425e-8f00-6839b551d442",
   "metadata": {},
   "outputs": [],
   "source": [
    "mlflow.set_tracking_uri(os.getenv(\"MLFLOW_TRACKING_URL\"))"
   ]
  },
  {
   "cell_type": "code",
   "execution_count": 8,
   "id": "fcc6a70b-3ec9-452b-80fe-2da4ae040ad2",
   "metadata": {},
   "outputs": [
    {
     "data": {
      "application/vnd.jupyter.widget-view+json": {
       "model_id": "b42fc32e48264bacbc6a294aa4c734f7",
       "version_major": 2,
       "version_minor": 0
      },
      "text/plain": [
       "Downloading artifacts:   0%|          | 0/5 [00:00<?, ?it/s]"
      ]
     },
     "metadata": {},
     "output_type": "display_data"
    }
   ],
   "source": [
    "model_uri = 'models:/recipe_BOW@prod'\n",
    "BOW_model = mlflow.sklearn.load_model(model_uri)"
   ]
  },
  {
   "cell_type": "markdown",
   "id": "448d3bc1-bb04-4457-96b0-06e246352d41",
   "metadata": {
    "scrolled": true
   },
   "source": [
    "### start = timeit.default_timer()\n",
    "eval_ds_title = transform_ds_to_BOW(eval_ds, BOW_model, use_title=True)\n",
    "time = timeit.default_timer() - start\n",
    "print(f\"Dataset transformation took {time}s, or {time/eval_ds.shape[0]}s/row\")"
   ]
  },
  {
   "cell_type": "code",
   "execution_count": 9,
   "id": "e64ec79f-7cf2-4048-98be-27fe01bb50e0",
   "metadata": {
    "editable": true,
    "slideshow": {
     "slide_type": ""
    },
    "tags": []
   },
   "outputs": [
    {
     "name": "stdout",
     "output_type": "stream",
     "text": [
      "Dataset transformation took 790.39919418504s, or 0.007903991941850399s/row\n"
     ]
    }
   ],
   "source": [
    "start = timeit.default_timer()\n",
    "eval_ds = transform_ds_to_BOW(eval_ds, BOW_model)\n",
    "time = timeit.default_timer() - start\n",
    "print(f\"Dataset transformation took {time}s, or {time/eval_ds.shape[0]}s/row\")"
   ]
  },
  {
   "cell_type": "code",
   "execution_count": 10,
   "id": "7064c630-3b1b-4026-9df8-c20e8a50eb5d",
   "metadata": {},
   "outputs": [
    {
     "data": {
      "application/vnd.jupyter.widget-view+json": {
       "model_id": "038b29cdc0d340698b2c3a2becca6291",
       "version_major": 2,
       "version_minor": 0
      },
      "text/plain": [
       "Downloading artifacts:   0%|          | 0/5 [00:00<?, ?it/s]"
      ]
     },
     "metadata": {},
     "output_type": "display_data"
    },
    {
     "data": {
      "application/vnd.jupyter.widget-view+json": {
       "model_id": "658563fb1f7d4cdda00d038c84f0e4c0",
       "version_major": 2,
       "version_minor": 0
      },
      "text/plain": [
       "Downloading artifacts:   0%|          | 0/1 [00:00<?, ?it/s]"
      ]
     },
     "metadata": {},
     "output_type": "display_data"
    }
   ],
   "source": [
    "# Run once to download model, to put that time into the time measurement\n",
    "emb_query = run_BOW_on_line(\"pecans\", model_uri)"
   ]
  },
  {
   "cell_type": "code",
   "execution_count": 11,
   "id": "84778666-bcc6-4fdb-87f4-945389036b0c",
   "metadata": {},
   "outputs": [],
   "source": [
    "def evaluation_task_BOW(eval_ds: pl.DataFrame, query_ds: pl.DataFrame, query_field: str, results_df: pl.DataFrame,\n",
    "                        task_name: str, use_title: bool = False, model_name: str = \"bow\"):\n",
    "    print(f\"--- Running {task_name} on {dataset_name} using {model_name} ---\")\n",
    "    tot_rr = 0\n",
    "    tot_prec_at_3 = 0\n",
    "    tot_evals = 0\n",
    "    errors = 0\n",
    "    start = timeit.default_timer()\n",
    "    for index, title, q in query_ds.select('index', 'title', query_field).iter_rows():\n",
    "        query = \"\"\n",
    "        if use_title:\n",
    "            query += title + \" \"\n",
    "        if query_field == 'google_search_query_processed':\n",
    "            query += \"\\n\".join(q['ingredients'])\n",
    "        else:\n",
    "            query += \"\\n\".join(q)\n",
    "        emb_query = run_BOW_on_line(query, model_uri)\n",
    "        ranked_ds = rank_BOW_results(eval_ds, emb_query)\n",
    "        tot_rr += reciprocal_rank(ranked_ds, index)\n",
    "        tot_prec_at_3 += precision_at_k(ranked_ds, index)\n",
    "        tot_evals += 1\n",
    "    time = timeit.default_timer() - start\n",
    "    mrr = tot_rr/tot_evals\n",
    "    mprec3 = tot_prec_at_3 / tot_evals\n",
    "    if task_name == 'gold_adversarial_ingredients' or task_name == 'gold_adversarial_subset_ingredients' or task_name == 'added_prep_suffixes':\n",
    "        mrr = 1-mrr\n",
    "        mprec3 = 1-mprec3\n",
    "    result_data = {\n",
    "        \"Model\": [model_name],\n",
    "        'Eval_Task': [task_name],\n",
    "        'Dataset': [dataset_name],\n",
    "        \"MRR\": [mrr],\n",
    "        \"TKA\": [mprec3],\n",
    "        \"Time_Tot\": time,\n",
    "        \"Time_Query\": time/tot_evals,\n",
    "        \"Error_Count\": errors\n",
    "    }\n",
    "    result_df = pl.DataFrame(result_data)\n",
    "    results_df = results_df.vstack(result_df)\n",
    "    print(f\"--- COMPLETED {task_name} in {time}s ---\")\n",
    "    return results_df"
   ]
  },
  {
   "cell_type": "code",
   "execution_count": 12,
   "id": "68b8963e-5b64-4ca0-9320-065bcc741e1f",
   "metadata": {},
   "outputs": [
    {
     "name": "stdout",
     "output_type": "stream",
     "text": [
      "--- Running identity on 100k using bow ---\n",
      "--- COMPLETED identity in 1936.1246248109965s ---\n",
      "--- Running llm1 on 100k using bow ---\n",
      "--- COMPLETED llm1 in 1897.3799467729405s ---\n",
      "--- Running llm2 on 100k using bow ---\n",
      "--- COMPLETED llm2 in 1622.3781642259564s ---\n",
      "--- Running llm3 on 100k using bow ---\n",
      "--- COMPLETED llm3 in 1243.842302201083s ---\n"
     ]
    }
   ],
   "source": [
    "results_df = evaluation_task_BOW(eval_ds, query_ds, 'ingredients', results_df, 'identity')\n",
    "results_df = evaluation_task_BOW(eval_ds, query_ds, 'main_food_items_and_preparations', results_df, 'llm1')\n",
    "results_df = evaluation_task_BOW(eval_ds, query_ds, 'important_ingredients_for_search', results_df, 'llm2')\n",
    "results_df = evaluation_task_BOW(eval_ds, query_ds, 'google_search_query_processed', results_df, 'llm3')"
   ]
  },
  {
   "cell_type": "code",
   "execution_count": 13,
   "id": "a01fcbb2-7b48-4d4f-9636-08ae81ed7fd2",
   "metadata": {},
   "outputs": [
    {
     "name": "stdout",
     "output_type": "stream",
     "text": [
      "--- Running gold_ingredients on 100k using bow ---\n",
      "--- COMPLETED gold_ingredients in 80.75183058995754s ---\n",
      "--- Running gold_key_ingredients on 100k using bow ---\n",
      "--- COMPLETED gold_key_ingredients in 80.91088773403317s ---\n"
     ]
    }
   ],
   "source": [
    "results_df = evaluation_task_BOW(eval_ds, human_query_ds, 'human_ingredients', results_df, 'gold_ingredients')\n",
    "results_df = evaluation_task_BOW(eval_ds, human_query_ds, 'human_key_ingredients', results_df, 'gold_key_ingredients')"
   ]
  },
  {
   "cell_type": "code",
   "execution_count": 14,
   "id": "e1530f03-8865-4c7d-9ab9-486f2d902b99",
   "metadata": {},
   "outputs": [
    {
     "name": "stdout",
     "output_type": "stream",
     "text": [
      "--- Running added_prep_suffixes on 100k using bow ---\n",
      "--- COMPLETED added_prep_suffixes in 1993.680767904967s ---\n",
      "--- Running gold_adversarial_ingredients on 100k using bow ---\n",
      "--- COMPLETED gold_adversarial_ingredients in 85.70343147404492s ---\n",
      "--- Running gold_adversarial_subset_ingredients on 100k using bow ---\n",
      "--- COMPLETED gold_adversarial_subset_ingredients in 90.85712778591551s ---\n"
     ]
    }
   ],
   "source": [
    "results_df = evaluation_task_BOW(eval_ds, query_ds, 'added_preps', results_df, 'added_prep_suffixes')\n",
    "results_df = evaluation_task_BOW(eval_ds, human_query_ds, 'human_adv_ingredients', results_df, 'gold_adversarial_ingredients')\n",
    "results_df = evaluation_task_BOW(eval_ds, human_query_ds, 'human_adv_subset_ingredients', results_df, 'gold_adversarial_subset_ingredients')"
   ]
  },
  {
   "cell_type": "markdown",
   "id": "1b92fd2f-8560-4aeb-a085-ab9d16c0afa5",
   "metadata": {},
   "source": [
    "### results_df = evaluation_task_BOW(eval_ds_title, query_ds, 'ingredients', results_df, 'identity', use_title=True, model_name='bow_title')\n",
    "results_df = evaluation_task_BOW(eval_ds_title, query_ds, 'main_food_items_and_preparations', results_df, 'llm1', model_name='bow_title')\n",
    "results_df = evaluation_task_BOW(eval_ds_title, query_ds, 'important_ingredients_for_search', results_df, 'llm2', model_name='bow_title')\n",
    "results_df = evaluation_task_BOW(eval_ds_title, query_ds, 'google_search_query_processed', results_df, 'llm3', model_name='bow_title')"
   ]
  },
  {
   "cell_type": "markdown",
   "id": "3ecb6333-7b29-491f-a721-0cee2d3e9e71",
   "metadata": {},
   "source": [
    "### results_df = evaluation_task_BOW(eval_ds_title, human_query_ds, 'human_ingredients', results_df, 'gold_ingredients', model_name='bow_title')\n",
    "results_df = evaluation_task_BOW(eval_ds_title, human_query_ds, 'human_key_ingredients', results_df, 'gold_key_ingredients', model_name='bow_title')"
   ]
  },
  {
   "cell_type": "code",
   "execution_count": 15,
   "id": "e3db77b6-4b3e-4273-84d2-3d3f42fd0537",
   "metadata": {},
   "outputs": [
    {
     "data": {
      "text/html": [
       "<div><style>\n",
       ".dataframe > thead > tr,\n",
       ".dataframe > tbody > tr {\n",
       "  text-align: right;\n",
       "  white-space: pre-wrap;\n",
       "}\n",
       "</style>\n",
       "<small>shape: (9, 8)</small><table border=\"1\" class=\"dataframe\"><thead><tr><th>Model</th><th>Eval_Task</th><th>Dataset</th><th>MRR</th><th>TKA</th><th>Time_Tot</th><th>Time_Query</th><th>Error_Count</th></tr><tr><td>str</td><td>str</td><td>str</td><td>f64</td><td>f64</td><td>f64</td><td>f64</td><td>i32</td></tr></thead><tbody><tr><td>&quot;bow&quot;</td><td>&quot;identity&quot;</td><td>&quot;100k&quot;</td><td>0.999</td><td>1.0</td><td>1936.124625</td><td>1.936125</td><td>0</td></tr><tr><td>&quot;bow&quot;</td><td>&quot;llm1&quot;</td><td>&quot;100k&quot;</td><td>0.929226</td><td>0.949</td><td>1897.379947</td><td>1.89738</td><td>0</td></tr><tr><td>&quot;bow&quot;</td><td>&quot;llm2&quot;</td><td>&quot;100k&quot;</td><td>0.421733</td><td>0.473</td><td>1622.378164</td><td>1.622378</td><td>0</td></tr><tr><td>&quot;bow&quot;</td><td>&quot;llm3&quot;</td><td>&quot;100k&quot;</td><td>0.149401</td><td>0.154</td><td>1243.842302</td><td>1.243842</td><td>0</td></tr><tr><td>&quot;bow&quot;</td><td>&quot;gold_ingredients&quot;</td><td>&quot;100k&quot;</td><td>0.707309</td><td>0.8</td><td>80.751831</td><td>1.615037</td><td>0</td></tr><tr><td>&quot;bow&quot;</td><td>&quot;gold_key_ingredients&quot;</td><td>&quot;100k&quot;</td><td>0.63576</td><td>0.7</td><td>80.910888</td><td>1.618218</td><td>0</td></tr><tr><td>&quot;bow&quot;</td><td>&quot;added_prep_suffixes&quot;</td><td>&quot;100k&quot;</td><td>0.001</td><td>0.0</td><td>1993.680768</td><td>1.993681</td><td>0</td></tr><tr><td>&quot;bow&quot;</td><td>&quot;gold_adversarial_ingredients&quot;</td><td>&quot;100k&quot;</td><td>0.430641</td><td>0.36</td><td>85.703431</td><td>1.714069</td><td>0</td></tr><tr><td>&quot;bow&quot;</td><td>&quot;gold_adversarial_subset_ingred…</td><td>&quot;100k&quot;</td><td>0.951375</td><td>0.98</td><td>90.857128</td><td>1.817143</td><td>0</td></tr></tbody></table></div>"
      ],
      "text/plain": [
       "shape: (9, 8)\n",
       "┌───────┬────────────────────┬─────────┬──────────┬───────┬─────────────┬────────────┬─────────────┐\n",
       "│ Model ┆ Eval_Task          ┆ Dataset ┆ MRR      ┆ TKA   ┆ Time_Tot    ┆ Time_Query ┆ Error_Count │\n",
       "│ ---   ┆ ---                ┆ ---     ┆ ---      ┆ ---   ┆ ---         ┆ ---        ┆ ---         │\n",
       "│ str   ┆ str                ┆ str     ┆ f64      ┆ f64   ┆ f64         ┆ f64        ┆ i32         │\n",
       "╞═══════╪════════════════════╪═════════╪══════════╪═══════╪═════════════╪════════════╪═════════════╡\n",
       "│ bow   ┆ identity           ┆ 100k    ┆ 0.999    ┆ 1.0   ┆ 1936.124625 ┆ 1.936125   ┆ 0           │\n",
       "│ bow   ┆ llm1               ┆ 100k    ┆ 0.929226 ┆ 0.949 ┆ 1897.379947 ┆ 1.89738    ┆ 0           │\n",
       "│ bow   ┆ llm2               ┆ 100k    ┆ 0.421733 ┆ 0.473 ┆ 1622.378164 ┆ 1.622378   ┆ 0           │\n",
       "│ bow   ┆ llm3               ┆ 100k    ┆ 0.149401 ┆ 0.154 ┆ 1243.842302 ┆ 1.243842   ┆ 0           │\n",
       "│ bow   ┆ gold_ingredients   ┆ 100k    ┆ 0.707309 ┆ 0.8   ┆ 80.751831   ┆ 1.615037   ┆ 0           │\n",
       "│ bow   ┆ gold_key_ingredien ┆ 100k    ┆ 0.63576  ┆ 0.7   ┆ 80.910888   ┆ 1.618218   ┆ 0           │\n",
       "│       ┆ ts                 ┆         ┆          ┆       ┆             ┆            ┆             │\n",
       "│ bow   ┆ added_prep_suffixe ┆ 100k    ┆ 0.001    ┆ 0.0   ┆ 1993.680768 ┆ 1.993681   ┆ 0           │\n",
       "│       ┆ s                  ┆         ┆          ┆       ┆             ┆            ┆             │\n",
       "│ bow   ┆ gold_adversarial_i ┆ 100k    ┆ 0.430641 ┆ 0.36  ┆ 85.703431   ┆ 1.714069   ┆ 0           │\n",
       "│       ┆ ngredients         ┆         ┆          ┆       ┆             ┆            ┆             │\n",
       "│ bow   ┆ gold_adversarial_s ┆ 100k    ┆ 0.951375 ┆ 0.98  ┆ 90.857128   ┆ 1.817143   ┆ 0           │\n",
       "│       ┆ ubset_ingred…      ┆         ┆          ┆       ┆             ┆            ┆             │\n",
       "└───────┴────────────────────┴─────────┴──────────┴───────┴─────────────┴────────────┴─────────────┘"
      ]
     },
     "execution_count": 15,
     "metadata": {},
     "output_type": "execute_result"
    }
   ],
   "source": [
    "results_df"
   ]
  },
  {
   "cell_type": "code",
   "execution_count": 16,
   "id": "8be6f4a5-ff2f-442c-aa8e-c6ee614f767d",
   "metadata": {
    "editable": true,
    "slideshow": {
     "slide_type": ""
    },
    "tags": []
   },
   "outputs": [],
   "source": [
    "from datetime import datetime\n",
    "date_time = datetime.now().strftime(\"%Y_%m_%d__%H_%M\")"
   ]
  },
  {
   "cell_type": "code",
   "execution_count": 17,
   "id": "141cd3da-5997-4f15-b9de-552c150aa067",
   "metadata": {},
   "outputs": [
    {
     "data": {
      "text/plain": [
       "'2025_06_12__20_25'"
      ]
     },
     "execution_count": 17,
     "metadata": {},
     "output_type": "execute_result"
    }
   ],
   "source": [
    "date_time"
   ]
  },
  {
   "cell_type": "code",
   "execution_count": 18,
   "id": "b0706229-6f60-4447-805c-a3161c3450d9",
   "metadata": {},
   "outputs": [],
   "source": [
    "results_df.write_parquet(f\"../../../data/results/BOW/{run_name}_{date_time}.parquet\")"
   ]
  },
  {
   "cell_type": "code",
   "execution_count": 19,
   "id": "17aeb4bb-0988-446f-88bd-0a597f47bf53",
   "metadata": {
    "editable": true,
    "slideshow": {
     "slide_type": ""
    },
    "tags": []
   },
   "outputs": [
    {
     "data": {
      "text/html": [
       "<div><style>\n",
       ".dataframe > thead > tr,\n",
       ".dataframe > tbody > tr {\n",
       "  text-align: right;\n",
       "  white-space: pre-wrap;\n",
       "}\n",
       "</style>\n",
       "<small>shape: (9, 8)</small><table border=\"1\" class=\"dataframe\"><thead><tr><th>Model</th><th>Eval_Task</th><th>Dataset</th><th>MRR</th><th>TKA</th><th>Time_Tot</th><th>Time_Query</th><th>Error_Count</th></tr><tr><td>str</td><td>str</td><td>str</td><td>f64</td><td>f64</td><td>f64</td><td>f64</td><td>i32</td></tr></thead><tbody><tr><td>&quot;bow&quot;</td><td>&quot;identity&quot;</td><td>&quot;100k&quot;</td><td>0.999</td><td>1.0</td><td>1936.124625</td><td>1.936125</td><td>0</td></tr><tr><td>&quot;bow&quot;</td><td>&quot;llm1&quot;</td><td>&quot;100k&quot;</td><td>0.929226</td><td>0.949</td><td>1897.379947</td><td>1.89738</td><td>0</td></tr><tr><td>&quot;bow&quot;</td><td>&quot;llm2&quot;</td><td>&quot;100k&quot;</td><td>0.421733</td><td>0.473</td><td>1622.378164</td><td>1.622378</td><td>0</td></tr><tr><td>&quot;bow&quot;</td><td>&quot;llm3&quot;</td><td>&quot;100k&quot;</td><td>0.149401</td><td>0.154</td><td>1243.842302</td><td>1.243842</td><td>0</td></tr><tr><td>&quot;bow&quot;</td><td>&quot;gold_ingredients&quot;</td><td>&quot;100k&quot;</td><td>0.707309</td><td>0.8</td><td>80.751831</td><td>1.615037</td><td>0</td></tr><tr><td>&quot;bow&quot;</td><td>&quot;gold_key_ingredients&quot;</td><td>&quot;100k&quot;</td><td>0.63576</td><td>0.7</td><td>80.910888</td><td>1.618218</td><td>0</td></tr><tr><td>&quot;bow&quot;</td><td>&quot;added_prep_suffixes&quot;</td><td>&quot;100k&quot;</td><td>0.001</td><td>0.0</td><td>1993.680768</td><td>1.993681</td><td>0</td></tr><tr><td>&quot;bow&quot;</td><td>&quot;gold_adversarial_ingredients&quot;</td><td>&quot;100k&quot;</td><td>0.430641</td><td>0.36</td><td>85.703431</td><td>1.714069</td><td>0</td></tr><tr><td>&quot;bow&quot;</td><td>&quot;gold_adversarial_subset_ingred…</td><td>&quot;100k&quot;</td><td>0.951375</td><td>0.98</td><td>90.857128</td><td>1.817143</td><td>0</td></tr></tbody></table></div>"
      ],
      "text/plain": [
       "shape: (9, 8)\n",
       "┌───────┬────────────────────┬─────────┬──────────┬───────┬─────────────┬────────────┬─────────────┐\n",
       "│ Model ┆ Eval_Task          ┆ Dataset ┆ MRR      ┆ TKA   ┆ Time_Tot    ┆ Time_Query ┆ Error_Count │\n",
       "│ ---   ┆ ---                ┆ ---     ┆ ---      ┆ ---   ┆ ---         ┆ ---        ┆ ---         │\n",
       "│ str   ┆ str                ┆ str     ┆ f64      ┆ f64   ┆ f64         ┆ f64        ┆ i32         │\n",
       "╞═══════╪════════════════════╪═════════╪══════════╪═══════╪═════════════╪════════════╪═════════════╡\n",
       "│ bow   ┆ identity           ┆ 100k    ┆ 0.999    ┆ 1.0   ┆ 1936.124625 ┆ 1.936125   ┆ 0           │\n",
       "│ bow   ┆ llm1               ┆ 100k    ┆ 0.929226 ┆ 0.949 ┆ 1897.379947 ┆ 1.89738    ┆ 0           │\n",
       "│ bow   ┆ llm2               ┆ 100k    ┆ 0.421733 ┆ 0.473 ┆ 1622.378164 ┆ 1.622378   ┆ 0           │\n",
       "│ bow   ┆ llm3               ┆ 100k    ┆ 0.149401 ┆ 0.154 ┆ 1243.842302 ┆ 1.243842   ┆ 0           │\n",
       "│ bow   ┆ gold_ingredients   ┆ 100k    ┆ 0.707309 ┆ 0.8   ┆ 80.751831   ┆ 1.615037   ┆ 0           │\n",
       "│ bow   ┆ gold_key_ingredien ┆ 100k    ┆ 0.63576  ┆ 0.7   ┆ 80.910888   ┆ 1.618218   ┆ 0           │\n",
       "│       ┆ ts                 ┆         ┆          ┆       ┆             ┆            ┆             │\n",
       "│ bow   ┆ added_prep_suffixe ┆ 100k    ┆ 0.001    ┆ 0.0   ┆ 1993.680768 ┆ 1.993681   ┆ 0           │\n",
       "│       ┆ s                  ┆         ┆          ┆       ┆             ┆            ┆             │\n",
       "│ bow   ┆ gold_adversarial_i ┆ 100k    ┆ 0.430641 ┆ 0.36  ┆ 85.703431   ┆ 1.714069   ┆ 0           │\n",
       "│       ┆ ngredients         ┆         ┆          ┆       ┆             ┆            ┆             │\n",
       "│ bow   ┆ gold_adversarial_s ┆ 100k    ┆ 0.951375 ┆ 0.98  ┆ 90.857128   ┆ 1.817143   ┆ 0           │\n",
       "│       ┆ ubset_ingred…      ┆         ┆          ┆       ┆             ┆            ┆             │\n",
       "└───────┴────────────────────┴─────────┴──────────┴───────┴─────────────┴────────────┴─────────────┘"
      ]
     },
     "execution_count": 19,
     "metadata": {},
     "output_type": "execute_result"
    }
   ],
   "source": [
    "pl.read_parquet(f\"../../../data/results/BOW/{run_name}_{date_time}.parquet\")"
   ]
  },
  {
   "cell_type": "code",
   "execution_count": null,
   "id": "08b317cf-15df-4e13-a5f1-112160f441c5",
   "metadata": {
    "editable": true,
    "slideshow": {
     "slide_type": ""
    },
    "tags": []
   },
   "outputs": [],
   "source": []
  }
 ],
 "metadata": {
  "kernelspec": {
   "display_name": "Python 3 (ipykernel)",
   "language": "python",
   "name": "python3"
  },
  "language_info": {
   "codemirror_mode": {
    "name": "ipython",
    "version": 3
   },
   "file_extension": ".py",
   "mimetype": "text/x-python",
   "name": "python",
   "nbconvert_exporter": "python",
   "pygments_lexer": "ipython3",
   "version": "3.10.16"
  }
 },
 "nbformat": 4,
 "nbformat_minor": 5
}
