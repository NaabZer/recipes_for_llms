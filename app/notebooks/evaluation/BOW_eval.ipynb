{
 "cells": [
  {
   "cell_type": "markdown",
   "id": "51fa6c3e-8b79-482d-89b6-c2c5daabb187",
   "metadata": {},
   "source": [
    "# BOW Evaluation "
   ]
  },
  {
   "cell_type": "code",
   "execution_count": 22,
   "id": "a8878ef0-d226-493a-a90b-ca8c673cf97a",
   "metadata": {
    "editable": true,
    "slideshow": {
     "slide_type": ""
    },
    "tags": []
   },
   "outputs": [],
   "source": [
    "import mlflow\n",
    "import mlflow.sklearn\n",
    "import polars as pl\n",
    "import seaborn as sns\n",
    "import scipy\n",
    "import duckdb\n",
    "import numpy as np\n",
    "import json\n",
    "import timeit\n",
    "import matplotlib.pyplot as plt"
   ]
  },
  {
   "cell_type": "code",
   "execution_count": 23,
   "id": "7a51787d-7fc7-4033-ba82-66cc5f95841b",
   "metadata": {
    "editable": true,
    "slideshow": {
     "slide_type": ""
    },
    "tags": []
   },
   "outputs": [
    {
     "data": {
      "text/plain": [
       "True"
      ]
     },
     "execution_count": 23,
     "metadata": {},
     "output_type": "execute_result"
    }
   ],
   "source": [
    "import os\n",
    "import sys\n",
    "from dotenv import load_dotenv\n",
    "sys.path.insert(0, os.path.abspath('..'))\n",
    "sys.path.insert(0, os.path.abspath('../..'))\n",
    "sys.path.insert(0, os.path.abspath('../../..'))\n",
    "from app.model_functions import run_BOW_on_line\n",
    "from app.evaluation import reciprocal_rank, rank_BOW_results, precision_at_k\n",
    "from app.data_handling.BOW import transform_ds_to_BOW\n",
    "load_dotenv()"
   ]
  },
  {
   "cell_type": "markdown",
   "id": "865180d3-d89d-4023-8990-d504507ad5b1",
   "metadata": {
    "editable": true,
    "slideshow": {
     "slide_type": ""
    },
    "tags": []
   },
   "source": [
    "# Set up definitions\n",
    "Datasets:\n",
    " - 1k_processed\n",
    " - 10k\n",
    " - 100k\n",
    " - full"
   ]
  },
  {
   "cell_type": "code",
   "execution_count": 3,
   "id": "bce70294-7ce9-4721-b964-b4143494b565",
   "metadata": {},
   "outputs": [],
   "source": [
    "dataset_name = '1k_processed'\n",
    "run_name = 'first_BOW'"
   ]
  },
  {
   "cell_type": "code",
   "execution_count": 4,
   "id": "44dcca0b-9916-47bd-9102-4c32882e21a4",
   "metadata": {
    "editable": true,
    "slideshow": {
     "slide_type": ""
    },
    "tags": []
   },
   "outputs": [],
   "source": [
    "with open(\"../../../data/eval_data/processed_data.json\", \"r\") as f:\n",
    "    query_ds = pl.read_json(f)\n",
    "with open(\"../../../data/eval_data/human_annotations.json\", \"r\") as f:\n",
    "    human_query_ds = pl.read_json(f)"
   ]
  },
  {
   "cell_type": "code",
   "execution_count": 5,
   "id": "19f5a6ee-a682-41d9-be10-b5fa95f5e8f7",
   "metadata": {},
   "outputs": [],
   "source": [
    "if dataset_name == '1k_processed':\n",
    "    eval_ds = query_ds\n",
    "elif dataset_name == '10k':\n",
    "    with open(\"../../../data/eval_data/eval_10k.json\", \"r\") as f:\n",
    "        eval_ds = pl.read_json(f)\n",
    "elif dataset_name == '100k':\n",
    "    with open(\"../../../data/eval_data/eval_100k.json\", \"r\") as f:\n",
    "        eval_ds = pl.read_json(f)"
   ]
  },
  {
   "cell_type": "code",
   "execution_count": 6,
   "id": "ce0d3ba2-5b9a-416b-99f5-0a0140a4417c",
   "metadata": {},
   "outputs": [
    {
     "data": {
      "text/html": [
       "<div><style>\n",
       ".dataframe > thead > tr,\n",
       ".dataframe > tbody > tr {\n",
       "  text-align: right;\n",
       "  white-space: pre-wrap;\n",
       "}\n",
       "</style>\n",
       "<small>shape: (0, 8)</small><table border=\"1\" class=\"dataframe\"><thead><tr><th>Model</th><th>Eval_Task</th><th>Dataset</th><th>MRR</th><th>P@3</th><th>Time_Tot</th><th>Time_Query</th><th>Error_Count</th></tr><tr><td>str</td><td>str</td><td>str</td><td>f64</td><td>f64</td><td>f64</td><td>f64</td><td>i32</td></tr></thead><tbody></tbody></table></div>"
      ],
      "text/plain": [
       "shape: (0, 8)\n",
       "┌───────┬───────────┬─────────┬─────┬─────┬──────────┬────────────┬─────────────┐\n",
       "│ Model ┆ Eval_Task ┆ Dataset ┆ MRR ┆ P@3 ┆ Time_Tot ┆ Time_Query ┆ Error_Count │\n",
       "│ ---   ┆ ---       ┆ ---     ┆ --- ┆ --- ┆ ---      ┆ ---        ┆ ---         │\n",
       "│ str   ┆ str       ┆ str     ┆ f64 ┆ f64 ┆ f64      ┆ f64        ┆ i32         │\n",
       "╞═══════╪═══════════╪═════════╪═════╪═════╪══════════╪════════════╪═════════════╡\n",
       "└───────┴───────────┴─────────┴─────┴─────┴──────────┴────────────┴─────────────┘"
      ]
     },
     "execution_count": 6,
     "metadata": {},
     "output_type": "execute_result"
    }
   ],
   "source": [
    "results_df = pl.DataFrame(\n",
    "    schema={\n",
    "        'Model': pl.String,\n",
    "        'Eval_Task': pl.String,\n",
    "        \"Dataset\": pl.String,\n",
    "        \"MRR\": pl.Float64,\n",
    "        \"P@3\": pl.Float64,\n",
    "        \"Time_Tot\": pl.Float64,\n",
    "        \"Time_Query\": pl.Float64,\n",
    "        \"Error_Count\": pl.Int32\n",
    "    })\n",
    "results_df"
   ]
  },
  {
   "cell_type": "markdown",
   "id": "e81e5272-4b70-4459-aa60-eaf777f24fc2",
   "metadata": {},
   "source": [
    "## Running code"
   ]
  },
  {
   "cell_type": "code",
   "execution_count": 7,
   "id": "f1499171-e12e-425e-8f00-6839b551d442",
   "metadata": {},
   "outputs": [],
   "source": [
    "mlflow.set_tracking_uri(os.getenv(\"MLFLOW_TRACKING_URL\"))"
   ]
  },
  {
   "cell_type": "code",
   "execution_count": 8,
   "id": "fcc6a70b-3ec9-452b-80fe-2da4ae040ad2",
   "metadata": {},
   "outputs": [
    {
     "data": {
      "application/vnd.jupyter.widget-view+json": {
       "model_id": "e00fc85064f648fda0b1d29ea00ea22f",
       "version_major": 2,
       "version_minor": 0
      },
      "text/plain": [
       "Downloading artifacts:   0%|          | 0/5 [00:00<?, ?it/s]"
      ]
     },
     "metadata": {},
     "output_type": "display_data"
    }
   ],
   "source": [
    "model_uri = 'models:/recipe_BOW@prod'\n",
    "BOW_model = mlflow.sklearn.load_model(model_uri)"
   ]
  },
  {
   "cell_type": "code",
   "execution_count": 9,
   "id": "dd9743f1-d6ab-4ddb-875f-57a2e8cabc52",
   "metadata": {
    "scrolled": true
   },
   "outputs": [
    {
     "name": "stdout",
     "output_type": "stream",
     "text": [
      "Dataset transformation took 6.538566679984797s, or 0.006538566679984797s/row\n"
     ]
    }
   ],
   "source": [
    "start = timeit.default_timer()\n",
    "eval_ds_title = transform_ds_to_BOW(eval_ds, BOW_model, use_title=True)\n",
    "time = timeit.default_timer() - start\n",
    "print(f\"Dataset transformation took {time}s, or {time/eval_ds.shape[0]}s/row\")"
   ]
  },
  {
   "cell_type": "code",
   "execution_count": 10,
   "id": "e64ec79f-7cf2-4048-98be-27fe01bb50e0",
   "metadata": {
    "editable": true,
    "slideshow": {
     "slide_type": ""
    },
    "tags": []
   },
   "outputs": [
    {
     "name": "stdout",
     "output_type": "stream",
     "text": [
      "Dataset transformation took 5.008462523983326s, or 0.0050084625239833255s/row\n"
     ]
    }
   ],
   "source": [
    "start = timeit.default_timer()\n",
    "eval_ds = transform_ds_to_BOW(eval_ds, BOW_model)\n",
    "time = timeit.default_timer() - start\n",
    "print(f\"Dataset transformation took {time}s, or {time/eval_ds.shape[0]}s/row\")"
   ]
  },
  {
   "cell_type": "code",
   "execution_count": 11,
   "id": "7064c630-3b1b-4026-9df8-c20e8a50eb5d",
   "metadata": {},
   "outputs": [
    {
     "data": {
      "application/vnd.jupyter.widget-view+json": {
       "model_id": "f41ddd62d4f2499f9209c1a84ad42a2e",
       "version_major": 2,
       "version_minor": 0
      },
      "text/plain": [
       "Downloading artifacts:   0%|          | 0/5 [00:00<?, ?it/s]"
      ]
     },
     "metadata": {},
     "output_type": "display_data"
    },
    {
     "data": {
      "application/vnd.jupyter.widget-view+json": {
       "model_id": "33890dc14ca14e338a03515118ead43e",
       "version_major": 2,
       "version_minor": 0
      },
      "text/plain": [
       "Downloading artifacts:   0%|          | 0/1 [00:00<?, ?it/s]"
      ]
     },
     "metadata": {},
     "output_type": "display_data"
    }
   ],
   "source": [
    "# Run once to download model, to put that time into the time measurement\n",
    "emb_query = run_BOW_on_line(\"pecans\", model_uri)"
   ]
  },
  {
   "cell_type": "code",
   "execution_count": 12,
   "id": "84778666-bcc6-4fdb-87f4-945389036b0c",
   "metadata": {},
   "outputs": [],
   "source": [
    "def evaluation_task_BOW(eval_ds: pl.DataFrame, query_ds: pl.DataFrame, query_field: str, results_df: pl.DataFrame,\n",
    "                        task_name: str, use_title: bool = False, model_name: str = \"bow\"):\n",
    "    tot_rr = 0\n",
    "    tot_prec_at_3 = 0\n",
    "    tot_evals = 0\n",
    "    errors = 0\n",
    "    start = timeit.default_timer()\n",
    "    for index, title, q in query_ds.select('index', 'title', query_field).iter_rows():\n",
    "        query = \"\"\n",
    "        if use_title:\n",
    "            query += title + \" \"\n",
    "        if query_field == 'google_search_query_processed':\n",
    "            query += \"\\n\".join(q['ingredients'])\n",
    "        else:\n",
    "            query += \"\\n\".join(q)\n",
    "        emb_query = run_BOW_on_line(query, model_uri)\n",
    "        ranked_ds = rank_BOW_results(eval_ds, emb_query)\n",
    "        tot_rr += reciprocal_rank(ranked_ds, index)\n",
    "        tot_prec_at_3 += precision_at_k(ranked_ds, index)\n",
    "        tot_evals += 1\n",
    "    time = timeit.default_timer() - start\n",
    "    mrr = tot_rr/tot_evals\n",
    "    mprec3 = tot_prec_at_3 / tot_evals\n",
    "    result_data = {\n",
    "        \"Model\": [model_name],\n",
    "        'Eval_Task': [task_name],\n",
    "        'Dataset': dataset_name,\n",
    "        \"MRR\": [mrr],\n",
    "        \"P@3\": [mprec3],\n",
    "        \"Time_Tot\": time,\n",
    "        \"Time_Query\": time/tot_evals,\n",
    "        \"Error_Count\": errors\n",
    "    }\n",
    "    result_df = pl.DataFrame(result_data)\n",
    "    results_df = results_df.vstack(result_df)\n",
    "    return results_df"
   ]
  },
  {
   "cell_type": "code",
   "execution_count": 13,
   "id": "68b8963e-5b64-4ca0-9320-065bcc741e1f",
   "metadata": {},
   "outputs": [],
   "source": [
    "results_df = evaluation_task_BOW(eval_ds, query_ds, 'ingredients', results_df, 'identity')\n",
    "results_df = evaluation_task_BOW(eval_ds, query_ds, 'main_food_items_and_preparations', results_df, 'llm1')\n",
    "results_df = evaluation_task_BOW(eval_ds, query_ds, 'important_ingredients_for_search', results_df, 'llm2')\n",
    "results_df = evaluation_task_BOW(eval_ds, query_ds, 'google_search_query_processed', results_df, 'llm3')"
   ]
  },
  {
   "cell_type": "code",
   "execution_count": 14,
   "id": "a01fcbb2-7b48-4d4f-9636-08ae81ed7fd2",
   "metadata": {},
   "outputs": [],
   "source": [
    "results_df = evaluation_task_BOW(eval_ds, human_query_ds, 'human_ingredients', results_df, 'gold_ingredients')\n",
    "results_df = evaluation_task_BOW(eval_ds, human_query_ds, 'human_key_ingredients', results_df, 'gold_key_ingredients')"
   ]
  },
  {
   "cell_type": "code",
   "execution_count": 15,
   "id": "4cda5ea1-08b0-49bd-8a55-0e35325f28b5",
   "metadata": {},
   "outputs": [],
   "source": [
    "results_df = evaluation_task_BOW(eval_ds_title, query_ds, 'ingredients', results_df, 'identity', use_title=True, model_name='bow_title')\n",
    "results_df = evaluation_task_BOW(eval_ds_title, query_ds, 'main_food_items_and_preparations', results_df, 'llm1', model_name='bow_title')\n",
    "results_df = evaluation_task_BOW(eval_ds_title, query_ds, 'important_ingredients_for_search', results_df, 'llm2', model_name='bow_title')\n",
    "results_df = evaluation_task_BOW(eval_ds_title, query_ds, 'google_search_query_processed', results_df, 'llm3', model_name='bow_title')"
   ]
  },
  {
   "cell_type": "code",
   "execution_count": 16,
   "id": "3b405ff6-5c1b-4dcd-a7c1-4bb19b70c9d2",
   "metadata": {},
   "outputs": [],
   "source": [
    "results_df = evaluation_task_BOW(eval_ds_title, human_query_ds, 'human_ingredients', results_df, 'gold_ingredients', model_name='bow_title')\n",
    "results_df = evaluation_task_BOW(eval_ds_title, human_query_ds, 'human_key_ingredients', results_df, 'gold_key_ingredients', model_name='bow_title')"
   ]
  },
  {
   "cell_type": "code",
   "execution_count": 17,
   "id": "e3db77b6-4b3e-4273-84d2-3d3f42fd0537",
   "metadata": {},
   "outputs": [
    {
     "data": {
      "text/html": [
       "<div><style>\n",
       ".dataframe > thead > tr,\n",
       ".dataframe > tbody > tr {\n",
       "  text-align: right;\n",
       "  white-space: pre-wrap;\n",
       "}\n",
       "</style>\n",
       "<small>shape: (12, 8)</small><table border=\"1\" class=\"dataframe\"><thead><tr><th>Model</th><th>Eval_Task</th><th>Dataset</th><th>MRR</th><th>P@3</th><th>Time_Tot</th><th>Time_Query</th><th>Error_Count</th></tr><tr><td>str</td><td>str</td><td>str</td><td>f64</td><td>f64</td><td>f64</td><td>f64</td><td>i32</td></tr></thead><tbody><tr><td>&quot;bow&quot;</td><td>&quot;identity&quot;</td><td>&quot;1k_processed&quot;</td><td>1.0</td><td>1.0</td><td>26.316563</td><td>0.026317</td><td>0</td></tr><tr><td>&quot;bow&quot;</td><td>&quot;llm1&quot;</td><td>&quot;1k_processed&quot;</td><td>0.99385</td><td>0.998</td><td>27.107453</td><td>0.027107</td><td>0</td></tr><tr><td>&quot;bow&quot;</td><td>&quot;llm2&quot;</td><td>&quot;1k_processed&quot;</td><td>0.887626</td><td>0.938</td><td>23.876507</td><td>0.023877</td><td>0</td></tr><tr><td>&quot;bow&quot;</td><td>&quot;llm3&quot;</td><td>&quot;1k_processed&quot;</td><td>0.620577</td><td>0.686</td><td>20.794182</td><td>0.020794</td><td>0</td></tr><tr><td>&quot;bow&quot;</td><td>&quot;gold_ingredients&quot;</td><td>&quot;1k_processed&quot;</td><td>0.985</td><td>0.98</td><td>1.205586</td><td>0.024112</td><td>0</td></tr><tr><td>&hellip;</td><td>&hellip;</td><td>&hellip;</td><td>&hellip;</td><td>&hellip;</td><td>&hellip;</td><td>&hellip;</td><td>&hellip;</td></tr><tr><td>&quot;bow_title&quot;</td><td>&quot;llm1&quot;</td><td>&quot;1k_processed&quot;</td><td>0.994071</td><td>0.999</td><td>31.860938</td><td>0.031861</td><td>0</td></tr><tr><td>&quot;bow_title&quot;</td><td>&quot;llm2&quot;</td><td>&quot;1k_processed&quot;</td><td>0.901975</td><td>0.954</td><td>20.554046</td><td>0.020554</td><td>0</td></tr><tr><td>&quot;bow_title&quot;</td><td>&quot;llm3&quot;</td><td>&quot;1k_processed&quot;</td><td>0.62323</td><td>0.708</td><td>19.460755</td><td>0.019461</td><td>0</td></tr><tr><td>&quot;bow_title&quot;</td><td>&quot;gold_ingredients&quot;</td><td>&quot;1k_processed&quot;</td><td>1.0</td><td>1.0</td><td>1.653312</td><td>0.033066</td><td>0</td></tr><tr><td>&quot;bow_title&quot;</td><td>&quot;gold_key_ingredients&quot;</td><td>&quot;1k_processed&quot;</td><td>0.92</td><td>0.96</td><td>1.109343</td><td>0.022187</td><td>0</td></tr></tbody></table></div>"
      ],
      "text/plain": [
       "shape: (12, 8)\n",
       "┌───────────┬──────────────┬─────────────┬──────────┬───────┬───────────┬────────────┬─────────────┐\n",
       "│ Model     ┆ Eval_Task    ┆ Dataset     ┆ MRR      ┆ P@3   ┆ Time_Tot  ┆ Time_Query ┆ Error_Count │\n",
       "│ ---       ┆ ---          ┆ ---         ┆ ---      ┆ ---   ┆ ---       ┆ ---        ┆ ---         │\n",
       "│ str       ┆ str          ┆ str         ┆ f64      ┆ f64   ┆ f64       ┆ f64        ┆ i32         │\n",
       "╞═══════════╪══════════════╪═════════════╪══════════╪═══════╪═══════════╪════════════╪═════════════╡\n",
       "│ bow       ┆ identity     ┆ 1k_processe ┆ 1.0      ┆ 1.0   ┆ 26.316563 ┆ 0.026317   ┆ 0           │\n",
       "│           ┆              ┆ d           ┆          ┆       ┆           ┆            ┆             │\n",
       "│ bow       ┆ llm1         ┆ 1k_processe ┆ 0.99385  ┆ 0.998 ┆ 27.107453 ┆ 0.027107   ┆ 0           │\n",
       "│           ┆              ┆ d           ┆          ┆       ┆           ┆            ┆             │\n",
       "│ bow       ┆ llm2         ┆ 1k_processe ┆ 0.887626 ┆ 0.938 ┆ 23.876507 ┆ 0.023877   ┆ 0           │\n",
       "│           ┆              ┆ d           ┆          ┆       ┆           ┆            ┆             │\n",
       "│ bow       ┆ llm3         ┆ 1k_processe ┆ 0.620577 ┆ 0.686 ┆ 20.794182 ┆ 0.020794   ┆ 0           │\n",
       "│           ┆              ┆ d           ┆          ┆       ┆           ┆            ┆             │\n",
       "│ bow       ┆ gold_ingredi ┆ 1k_processe ┆ 0.985    ┆ 0.98  ┆ 1.205586  ┆ 0.024112   ┆ 0           │\n",
       "│           ┆ ents         ┆ d           ┆          ┆       ┆           ┆            ┆             │\n",
       "│ …         ┆ …            ┆ …           ┆ …        ┆ …     ┆ …         ┆ …          ┆ …           │\n",
       "│ bow_title ┆ llm1         ┆ 1k_processe ┆ 0.994071 ┆ 0.999 ┆ 31.860938 ┆ 0.031861   ┆ 0           │\n",
       "│           ┆              ┆ d           ┆          ┆       ┆           ┆            ┆             │\n",
       "│ bow_title ┆ llm2         ┆ 1k_processe ┆ 0.901975 ┆ 0.954 ┆ 20.554046 ┆ 0.020554   ┆ 0           │\n",
       "│           ┆              ┆ d           ┆          ┆       ┆           ┆            ┆             │\n",
       "│ bow_title ┆ llm3         ┆ 1k_processe ┆ 0.62323  ┆ 0.708 ┆ 19.460755 ┆ 0.019461   ┆ 0           │\n",
       "│           ┆              ┆ d           ┆          ┆       ┆           ┆            ┆             │\n",
       "│ bow_title ┆ gold_ingredi ┆ 1k_processe ┆ 1.0      ┆ 1.0   ┆ 1.653312  ┆ 0.033066   ┆ 0           │\n",
       "│           ┆ ents         ┆ d           ┆          ┆       ┆           ┆            ┆             │\n",
       "│ bow_title ┆ gold_key_ing ┆ 1k_processe ┆ 0.92     ┆ 0.96  ┆ 1.109343  ┆ 0.022187   ┆ 0           │\n",
       "│           ┆ redients     ┆ d           ┆          ┆       ┆           ┆            ┆             │\n",
       "└───────────┴──────────────┴─────────────┴──────────┴───────┴───────────┴────────────┴─────────────┘"
      ]
     },
     "execution_count": 17,
     "metadata": {},
     "output_type": "execute_result"
    }
   ],
   "source": [
    "results_df"
   ]
  },
  {
   "cell_type": "code",
   "execution_count": 18,
   "id": "8be6f4a5-ff2f-442c-aa8e-c6ee614f767d",
   "metadata": {
    "editable": true,
    "slideshow": {
     "slide_type": ""
    },
    "tags": []
   },
   "outputs": [],
   "source": [
    "from datetime import datetime\n",
    "date_time = datetime.now().strftime(\"%Y_%m_%d__%H_%M\")"
   ]
  },
  {
   "cell_type": "code",
   "execution_count": 19,
   "id": "141cd3da-5997-4f15-b9de-552c150aa067",
   "metadata": {},
   "outputs": [
    {
     "data": {
      "text/plain": [
       "'2025_06_11__14_20'"
      ]
     },
     "execution_count": 19,
     "metadata": {},
     "output_type": "execute_result"
    }
   ],
   "source": [
    "date_time"
   ]
  },
  {
   "cell_type": "code",
   "execution_count": 20,
   "id": "b0706229-6f60-4447-805c-a3161c3450d9",
   "metadata": {},
   "outputs": [],
   "source": [
    "results_df.write_parquet(f\"../../../data/results/BOW/{run_name}_{date_time}.parquet\")"
   ]
  },
  {
   "cell_type": "code",
   "execution_count": 21,
   "id": "17aeb4bb-0988-446f-88bd-0a597f47bf53",
   "metadata": {
    "editable": true,
    "slideshow": {
     "slide_type": ""
    },
    "tags": []
   },
   "outputs": [
    {
     "data": {
      "text/html": [
       "<div><style>\n",
       ".dataframe > thead > tr,\n",
       ".dataframe > tbody > tr {\n",
       "  text-align: right;\n",
       "  white-space: pre-wrap;\n",
       "}\n",
       "</style>\n",
       "<small>shape: (12, 8)</small><table border=\"1\" class=\"dataframe\"><thead><tr><th>Model</th><th>Eval_Task</th><th>Dataset</th><th>MRR</th><th>P@3</th><th>Time_Tot</th><th>Time_Query</th><th>Error_Count</th></tr><tr><td>str</td><td>str</td><td>str</td><td>f64</td><td>f64</td><td>f64</td><td>f64</td><td>i32</td></tr></thead><tbody><tr><td>&quot;bow&quot;</td><td>&quot;identity&quot;</td><td>&quot;1k_processed&quot;</td><td>1.0</td><td>1.0</td><td>26.316563</td><td>0.026317</td><td>0</td></tr><tr><td>&quot;bow&quot;</td><td>&quot;llm1&quot;</td><td>&quot;1k_processed&quot;</td><td>0.99385</td><td>0.998</td><td>27.107453</td><td>0.027107</td><td>0</td></tr><tr><td>&quot;bow&quot;</td><td>&quot;llm2&quot;</td><td>&quot;1k_processed&quot;</td><td>0.887626</td><td>0.938</td><td>23.876507</td><td>0.023877</td><td>0</td></tr><tr><td>&quot;bow&quot;</td><td>&quot;llm3&quot;</td><td>&quot;1k_processed&quot;</td><td>0.620577</td><td>0.686</td><td>20.794182</td><td>0.020794</td><td>0</td></tr><tr><td>&quot;bow&quot;</td><td>&quot;gold_ingredients&quot;</td><td>&quot;1k_processed&quot;</td><td>0.985</td><td>0.98</td><td>1.205586</td><td>0.024112</td><td>0</td></tr><tr><td>&hellip;</td><td>&hellip;</td><td>&hellip;</td><td>&hellip;</td><td>&hellip;</td><td>&hellip;</td><td>&hellip;</td><td>&hellip;</td></tr><tr><td>&quot;bow_title&quot;</td><td>&quot;llm1&quot;</td><td>&quot;1k_processed&quot;</td><td>0.994071</td><td>0.999</td><td>31.860938</td><td>0.031861</td><td>0</td></tr><tr><td>&quot;bow_title&quot;</td><td>&quot;llm2&quot;</td><td>&quot;1k_processed&quot;</td><td>0.901975</td><td>0.954</td><td>20.554046</td><td>0.020554</td><td>0</td></tr><tr><td>&quot;bow_title&quot;</td><td>&quot;llm3&quot;</td><td>&quot;1k_processed&quot;</td><td>0.62323</td><td>0.708</td><td>19.460755</td><td>0.019461</td><td>0</td></tr><tr><td>&quot;bow_title&quot;</td><td>&quot;gold_ingredients&quot;</td><td>&quot;1k_processed&quot;</td><td>1.0</td><td>1.0</td><td>1.653312</td><td>0.033066</td><td>0</td></tr><tr><td>&quot;bow_title&quot;</td><td>&quot;gold_key_ingredients&quot;</td><td>&quot;1k_processed&quot;</td><td>0.92</td><td>0.96</td><td>1.109343</td><td>0.022187</td><td>0</td></tr></tbody></table></div>"
      ],
      "text/plain": [
       "shape: (12, 8)\n",
       "┌───────────┬──────────────┬─────────────┬──────────┬───────┬───────────┬────────────┬─────────────┐\n",
       "│ Model     ┆ Eval_Task    ┆ Dataset     ┆ MRR      ┆ P@3   ┆ Time_Tot  ┆ Time_Query ┆ Error_Count │\n",
       "│ ---       ┆ ---          ┆ ---         ┆ ---      ┆ ---   ┆ ---       ┆ ---        ┆ ---         │\n",
       "│ str       ┆ str          ┆ str         ┆ f64      ┆ f64   ┆ f64       ┆ f64        ┆ i32         │\n",
       "╞═══════════╪══════════════╪═════════════╪══════════╪═══════╪═══════════╪════════════╪═════════════╡\n",
       "│ bow       ┆ identity     ┆ 1k_processe ┆ 1.0      ┆ 1.0   ┆ 26.316563 ┆ 0.026317   ┆ 0           │\n",
       "│           ┆              ┆ d           ┆          ┆       ┆           ┆            ┆             │\n",
       "│ bow       ┆ llm1         ┆ 1k_processe ┆ 0.99385  ┆ 0.998 ┆ 27.107453 ┆ 0.027107   ┆ 0           │\n",
       "│           ┆              ┆ d           ┆          ┆       ┆           ┆            ┆             │\n",
       "│ bow       ┆ llm2         ┆ 1k_processe ┆ 0.887626 ┆ 0.938 ┆ 23.876507 ┆ 0.023877   ┆ 0           │\n",
       "│           ┆              ┆ d           ┆          ┆       ┆           ┆            ┆             │\n",
       "│ bow       ┆ llm3         ┆ 1k_processe ┆ 0.620577 ┆ 0.686 ┆ 20.794182 ┆ 0.020794   ┆ 0           │\n",
       "│           ┆              ┆ d           ┆          ┆       ┆           ┆            ┆             │\n",
       "│ bow       ┆ gold_ingredi ┆ 1k_processe ┆ 0.985    ┆ 0.98  ┆ 1.205586  ┆ 0.024112   ┆ 0           │\n",
       "│           ┆ ents         ┆ d           ┆          ┆       ┆           ┆            ┆             │\n",
       "│ …         ┆ …            ┆ …           ┆ …        ┆ …     ┆ …         ┆ …          ┆ …           │\n",
       "│ bow_title ┆ llm1         ┆ 1k_processe ┆ 0.994071 ┆ 0.999 ┆ 31.860938 ┆ 0.031861   ┆ 0           │\n",
       "│           ┆              ┆ d           ┆          ┆       ┆           ┆            ┆             │\n",
       "│ bow_title ┆ llm2         ┆ 1k_processe ┆ 0.901975 ┆ 0.954 ┆ 20.554046 ┆ 0.020554   ┆ 0           │\n",
       "│           ┆              ┆ d           ┆          ┆       ┆           ┆            ┆             │\n",
       "│ bow_title ┆ llm3         ┆ 1k_processe ┆ 0.62323  ┆ 0.708 ┆ 19.460755 ┆ 0.019461   ┆ 0           │\n",
       "│           ┆              ┆ d           ┆          ┆       ┆           ┆            ┆             │\n",
       "│ bow_title ┆ gold_ingredi ┆ 1k_processe ┆ 1.0      ┆ 1.0   ┆ 1.653312  ┆ 0.033066   ┆ 0           │\n",
       "│           ┆ ents         ┆ d           ┆          ┆       ┆           ┆            ┆             │\n",
       "│ bow_title ┆ gold_key_ing ┆ 1k_processe ┆ 0.92     ┆ 0.96  ┆ 1.109343  ┆ 0.022187   ┆ 0           │\n",
       "│           ┆ redients     ┆ d           ┆          ┆       ┆           ┆            ┆             │\n",
       "└───────────┴──────────────┴─────────────┴──────────┴───────┴───────────┴────────────┴─────────────┘"
      ]
     },
     "execution_count": 21,
     "metadata": {},
     "output_type": "execute_result"
    }
   ],
   "source": [
    "pl.read_parquet(f\"../../../data/results/BOW/{run_name}_{date_time}.parquet\")"
   ]
  },
  {
   "cell_type": "code",
   "execution_count": null,
   "id": "08b317cf-15df-4e13-a5f1-112160f441c5",
   "metadata": {
    "editable": true,
    "slideshow": {
     "slide_type": ""
    },
    "tags": []
   },
   "outputs": [],
   "source": []
  }
 ],
 "metadata": {
  "kernelspec": {
   "display_name": "Python 3 (ipykernel)",
   "language": "python",
   "name": "python3"
  },
  "language_info": {
   "codemirror_mode": {
    "name": "ipython",
    "version": 3
   },
   "file_extension": ".py",
   "mimetype": "text/x-python",
   "name": "python",
   "nbconvert_exporter": "python",
   "pygments_lexer": "ipython3",
   "version": "3.10.16"
  }
 },
 "nbformat": 4,
 "nbformat_minor": 5
}
