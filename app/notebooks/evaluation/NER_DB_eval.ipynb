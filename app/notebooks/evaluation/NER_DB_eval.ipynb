{
 "cells": [
  {
   "cell_type": "markdown",
   "id": "51fa6c3e-8b79-482d-89b6-c2c5daabb187",
   "metadata": {
    "editable": true,
    "slideshow": {
     "slide_type": ""
    },
    "tags": []
   },
   "source": [
    "# NER + parquet/duckdbEvaluation "
   ]
  },
  {
   "cell_type": "code",
   "execution_count": 1,
   "id": "a8878ef0-d226-493a-a90b-ca8c673cf97a",
   "metadata": {
    "editable": true,
    "slideshow": {
     "slide_type": ""
    },
    "tags": []
   },
   "outputs": [],
   "source": [
    "import spacy\n",
    "import mlflow\n",
    "import mlflow.spacy\n",
    "import polars as pl\n",
    "import scipy\n",
    "import duckdb\n",
    "import numpy as np\n",
    "import json\n",
    "import timeit\n",
    "import matplotlib.pyplot as plt\n",
    "from rank_bm25 import BM25Okapi"
   ]
  },
  {
   "cell_type": "code",
   "execution_count": 2,
   "id": "7a51787d-7fc7-4033-ba82-66cc5f95841b",
   "metadata": {
    "editable": true,
    "slideshow": {
     "slide_type": ""
    },
    "tags": []
   },
   "outputs": [
    {
     "data": {
      "text/plain": [
       "True"
      ]
     },
     "execution_count": 2,
     "metadata": {},
     "output_type": "execute_result"
    }
   ],
   "source": [
    "import os\n",
    "import sys\n",
    "from dotenv import load_dotenv\n",
    "sys.path.insert(0, os.path.abspath('..'))\n",
    "sys.path.insert(0, os.path.abspath('../..'))\n",
    "sys.path.insert(0, os.path.abspath('../../..'))\n",
    "from app.evaluation import reciprocal_rank, rank_BOW_results, precision_at_k\n",
    "from app.data_handling.NER_parquet import (\n",
    "process_ingredient,\n",
    "transform_ingredients_to_tokens,\n",
    "transform_data_to_tokens,\n",
    "construct_ingredient_query,\n",
    "ParquetDefinition,\n",
    "create_parquet_file\n",
    ")\n",
    "load_dotenv()"
   ]
  },
  {
   "cell_type": "markdown",
   "id": "865180d3-d89d-4023-8990-d504507ad5b1",
   "metadata": {},
   "source": [
    "# Set up definitions\n",
    "Datasets:\n",
    " - 1k_processed\n",
    " - 10k\n",
    " - 100k\n",
    " - full"
   ]
  },
  {
   "cell_type": "code",
   "execution_count": 3,
   "id": "bce70294-7ce9-4721-b964-b4143494b565",
   "metadata": {
    "editable": true,
    "slideshow": {
     "slide_type": ""
    },
    "tags": []
   },
   "outputs": [],
   "source": [
    "dataset_name = '1k_processed'\n",
    "run_name = 'line_only_pre_lemma_v6_extra'\n",
    "model_name = run_name\n",
    "force_overwrite_pq = False\n",
    "model_uri = 'models:/recipe_NER@prod'\n",
    "#model_uri = 'runs:/e00edb7abff845f3913810918de00fe8/model'"
   ]
  },
  {
   "cell_type": "code",
   "execution_count": 4,
   "id": "44dcca0b-9916-47bd-9102-4c32882e21a4",
   "metadata": {
    "editable": true,
    "slideshow": {
     "slide_type": ""
    },
    "tags": []
   },
   "outputs": [],
   "source": [
    "with open(\"../../../data/eval_data/processed_data.json\", \"r\") as f:\n",
    "    query_ds = pl.read_json(f)\n",
    "with open(\"../../../data/eval_data/human_annotations.json\", \"r\") as f:\n",
    "    human_query_ds = pl.read_json(f)"
   ]
  },
  {
   "cell_type": "code",
   "execution_count": 5,
   "id": "19f5a6ee-a682-41d9-be10-b5fa95f5e8f7",
   "metadata": {
    "editable": true,
    "slideshow": {
     "slide_type": ""
    },
    "tags": []
   },
   "outputs": [],
   "source": [
    "if dataset_name == '1k_processed':\n",
    "    eval_ds = query_ds\n",
    "elif dataset_name == '10k':\n",
    "    with open(\"../../../data/eval_data/eval_10k.json\", \"r\") as f:\n",
    "        eval_ds = pl.read_json(f)\n",
    "elif dataset_name == '100k':\n",
    "    with open(\"../../../data/eval_data/eval_100k.json\", \"r\") as f:\n",
    "        eval_ds = pl.read_json(f)"
   ]
  },
  {
   "cell_type": "code",
   "execution_count": 6,
   "id": "ce0d3ba2-5b9a-416b-99f5-0a0140a4417c",
   "metadata": {
    "editable": true,
    "slideshow": {
     "slide_type": ""
    },
    "tags": []
   },
   "outputs": [
    {
     "data": {
      "text/html": [
       "<div><style>\n",
       ".dataframe > thead > tr,\n",
       ".dataframe > tbody > tr {\n",
       "  text-align: right;\n",
       "  white-space: pre-wrap;\n",
       "}\n",
       "</style>\n",
       "<small>shape: (0, 8)</small><table border=\"1\" class=\"dataframe\"><thead><tr><th>Model</th><th>Eval_Task</th><th>Dataset</th><th>MRR</th><th>TKA</th><th>Time_Tot</th><th>Time_Query</th><th>Error_Count</th></tr><tr><td>str</td><td>str</td><td>str</td><td>f64</td><td>f64</td><td>f64</td><td>f64</td><td>i32</td></tr></thead><tbody></tbody></table></div>"
      ],
      "text/plain": [
       "shape: (0, 8)\n",
       "┌───────┬───────────┬─────────┬─────┬─────┬──────────┬────────────┬─────────────┐\n",
       "│ Model ┆ Eval_Task ┆ Dataset ┆ MRR ┆ TKA ┆ Time_Tot ┆ Time_Query ┆ Error_Count │\n",
       "│ ---   ┆ ---       ┆ ---     ┆ --- ┆ --- ┆ ---      ┆ ---        ┆ ---         │\n",
       "│ str   ┆ str       ┆ str     ┆ f64 ┆ f64 ┆ f64      ┆ f64        ┆ i32         │\n",
       "╞═══════╪═══════════╪═════════╪═════╪═════╪══════════╪════════════╪═════════════╡\n",
       "└───────┴───────────┴─────────┴─────┴─────┴──────────┴────────────┴─────────────┘"
      ]
     },
     "execution_count": 6,
     "metadata": {},
     "output_type": "execute_result"
    }
   ],
   "source": [
    "results_df = pl.DataFrame(\n",
    "    schema={\n",
    "        'Model': pl.String,\n",
    "        'Eval_Task': pl.String,\n",
    "        \"Dataset\": pl.String,\n",
    "        \"MRR\": pl.Float64,\n",
    "        \"TKA\": pl.Float64,\n",
    "        \"Time_Tot\": pl.Float64,\n",
    "        \"Time_Query\": pl.Float64,\n",
    "        \"Error_Count\": pl.Int32\n",
    "    })\n",
    "results_df"
   ]
  },
  {
   "cell_type": "markdown",
   "id": "e81e5272-4b70-4459-aa60-eaf777f24fc2",
   "metadata": {},
   "source": [
    "## Running code"
   ]
  },
  {
   "cell_type": "code",
   "execution_count": 7,
   "id": "f1499171-e12e-425e-8f00-6839b551d442",
   "metadata": {},
   "outputs": [],
   "source": [
    "mlflow.set_tracking_uri(os.getenv(\"MLFLOW_TRACKING_URL\"))"
   ]
  },
  {
   "cell_type": "code",
   "execution_count": 8,
   "id": "fcc6a70b-3ec9-452b-80fe-2da4ae040ad2",
   "metadata": {
    "editable": true,
    "slideshow": {
     "slide_type": ""
    },
    "tags": []
   },
   "outputs": [
    {
     "data": {
      "application/vnd.jupyter.widget-view+json": {
       "model_id": "8bf2ecf799dd423381e9b27fd0751728",
       "version_major": 2,
       "version_minor": 0
      },
      "text/plain": [
       "Downloading artifacts:   0%|          | 0/17 [00:00<?, ?it/s]"
      ]
     },
     "metadata": {},
     "output_type": "display_data"
    }
   ],
   "source": [
    "#model_uri = 'models:/recipe_NER@prod'\n",
    "NER_model = mlflow.spacy.load_model(model_uri)"
   ]
  },
  {
   "cell_type": "code",
   "execution_count": 9,
   "id": "a4db3577-6879-4aff-aa67-e350804547c4",
   "metadata": {
    "editable": true,
    "slideshow": {
     "slide_type": ""
    },
    "tags": []
   },
   "outputs": [],
   "source": [
    "pq_filen = f\"{dataset_name}.parquet\""
   ]
  },
  {
   "cell_type": "code",
   "execution_count": 10,
   "id": "f6bd232d-3130-4ce7-844b-4a3a1122107b",
   "metadata": {
    "editable": true,
    "slideshow": {
     "slide_type": ""
    },
    "tags": []
   },
   "outputs": [],
   "source": [
    "def rank_results(df: pl.DataFrame, query: list[str]):\n",
    "    if df.shape[0] == 0:\n",
    "        return df\n",
    "    corpus = list(df['tokens'])\n",
    "    bm25 = BM25Okapi(corpus)\n",
    "    scores = bm25.get_scores(query)\n",
    "    ranked_ds = df.with_columns(\n",
    "        pl.Series(name='rank', values=scores)\n",
    "    ).sort('rank', descending=True)\n",
    "    return ranked_ds"
   ]
  },
  {
   "cell_type": "code",
   "execution_count": 11,
   "id": "d0cefed0-7754-4156-b041-11c0a531efdd",
   "metadata": {
    "editable": true,
    "slideshow": {
     "slide_type": ""
    },
    "tags": []
   },
   "outputs": [],
   "source": [
    "def evaluation_task_NER(parquet_path:str, query_ds: pl.DataFrame, query_field: str, results_df: pl.DataFrame, task_name: str, debug = False, model_name='ner',\n",
    "                       use_var=False, use_alt=False):\n",
    "    print(f\"--- Running {task_name} on {dataset_name} using {model_name} ---\")\n",
    "    tot_rr = 0\n",
    "    tot_prec_at_3 = 0\n",
    "    tot_evals = 0\n",
    "    errors = 0\n",
    "    start = timeit.default_timer()\n",
    "    for index, query in query_ds.select('index', query_field).iter_rows():\n",
    "        if query_field == 'google_search_query_processed':\n",
    "            query_obj = transform_ingredients_to_tokens(query['ingredients'], NER_model, include_variety=use_var)\n",
    "        else:\n",
    "            query_obj = transform_ingredients_to_tokens(query, NER_model, include_variety=use_var)\n",
    "        if use_var:\n",
    "            sql = construct_ingredient_query(parquet_path, query_obj['foods'], query_obj['preps'], query_obj['vars'], use_alt=use_alt)\n",
    "        else:\n",
    "            sql = construct_ingredient_query(parquet_path, query_obj['foods'], query_obj['preps'], use_alt=use_alt)\n",
    "        try:\n",
    "            results = duckdb.sql(sql).pl()\n",
    "            results = rank_results(results, query_obj['foods'])\n",
    "            tot_rr += reciprocal_rank(results, index)\n",
    "            tot_prec_at_3 += precision_at_k(results, index)\n",
    "            tot_evals += 1\n",
    "        except Exception as e:\n",
    "            errors += 1\n",
    "            print(e)\n",
    "            continue\n",
    "    time = timeit.default_timer() - start\n",
    "    mrr = tot_rr/tot_evals\n",
    "    mprec3 = tot_prec_at_3 / tot_evals\n",
    "    if task_name == 'gold_adversarial_ingredients' or task_name == 'gold_adversarial_subset_ingredients' or task_name == 'added_prep_suffixes':\n",
    "        mrr = 1-mrr\n",
    "        mprec3 = 1-mprec3\n",
    "    result_data = {\n",
    "        \"Model\": [model_name],\n",
    "        'Eval_Task': [task_name],\n",
    "        'Dataset': [dataset_name],\n",
    "        \"MRR\": [mrr],\n",
    "        \"TKA\": [mprec3],\n",
    "        \"Time_Tot\": time,\n",
    "        \"Time_Query\": time/tot_evals,\n",
    "        \"Error_Count\": errors\n",
    "    }\n",
    "    result_df = pl.DataFrame(result_data)\n",
    "    results_df = results_df.vstack(result_df)\n",
    "    print(f\"--- COMPLETED {task_name} in {time}s ---\")\n",
    "    return results_df"
   ]
  },
  {
   "cell_type": "code",
   "execution_count": 12,
   "id": "19e0764a-7c84-401b-9f34-207a11cb0fef",
   "metadata": {
    "editable": true,
    "slideshow": {
     "slide_type": ""
    },
    "tags": []
   },
   "outputs": [],
   "source": [
    "from datetime import datetime\n",
    "datasets = ['100k']\n",
    "model_name = \"prod_prep_alt\"\n",
    "date_time = datetime.now().strftime(\"%Y_%m_%d__%H_%M\")\n",
    "use_var = False\n",
    "use_alt = True"
   ]
  },
  {
   "cell_type": "code",
   "execution_count": 13,
   "id": "258393c7-eb30-4436-b56d-433c6e4a8fa8",
   "metadata": {
    "editable": true,
    "scrolled": true,
    "slideshow": {
     "slide_type": ""
    },
    "tags": []
   },
   "outputs": [
    {
     "name": "stdout",
     "output_type": "stream",
     "text": [
      "--- Running gold_ingredients on 100k using prod_prep_alt ---\n",
      "--- COMPLETED gold_ingredients in 35.728461399907246s ---\n",
      "--- Running gold_key_ingredients on 100k using prod_prep_alt ---\n",
      "--- COMPLETED gold_key_ingredients in 27.233477127039805s ---\n",
      "--- Running gold_adversarial_ingredients on 100k using prod_prep_alt ---\n",
      "--- COMPLETED gold_adversarial_ingredients in 17.88959748391062s ---\n",
      "--- Running gold_adversarial_subset_ingredients on 100k using prod_prep_alt ---\n",
      "--- COMPLETED gold_adversarial_subset_ingredients in 17.30488138704095s ---\n"
     ]
    }
   ],
   "source": [
    "for dataset_name in datasets:\n",
    "    results_df = pl.DataFrame(\n",
    "        schema={\n",
    "            'Model': pl.String,\n",
    "            'Eval_Task': pl.String,\n",
    "            \"Dataset\": pl.String,\n",
    "            \"MRR\": pl.Float64,\n",
    "            \"TKA\": pl.Float64,\n",
    "            \"Time_Tot\": pl.Float64,\n",
    "            \"Time_Query\": pl.Float64,\n",
    "            \"Error_Count\": pl.Int32\n",
    "        }\n",
    "    )\n",
    "    run_name = f\"{model_name}_{dataset_name}\"\n",
    "    if dataset_name == '10k':\n",
    "        pq_filen = \"../../../data/databases/10k.parquet\"\n",
    "    elif dataset_name == '100k':\n",
    "        pq_filen = \"../../../data/databases/100k.parquet\"\n",
    "    #pq_filen='1k_processed.parquet'\n",
    "    #results_df = evaluation_task_NER(pq_filen, query_ds, 'ingredients', results_df, 'identity', model_name=model_name, use_var=use_var, use_alt=use_alt)\n",
    "    #results_df = evaluation_task_NER(pq_filen, query_ds, 'main_food_items_and_preparations', results_df, 'llm1', model_name=model_name, use_var=use_var, use_alt=use_alt)\n",
    "    #results_df = evaluation_task_NER(pq_filen, query_ds, 'important_ingredients_for_search', results_df, 'llm2', model_name=model_name, use_var=use_var, use_alt=use_alt)\n",
    "    #results_df = evaluation_task_NER(pq_filen, query_ds, 'google_search_query_processed', results_df, 'llm3', model_name=model_name, use_var=use_var, use_alt=use_alt)\n",
    "    #results_df = evaluation_task_NER(pq_filen, query_ds, 'added_preps', results_df, 'added_prep_suffixes', model_name=model_name, use_var=use_var, use_alt=use_alt)\n",
    "    results_df = evaluation_task_NER(pq_filen, human_query_ds, 'human_ingredients', results_df, 'gold_ingredients', model_name=model_name, use_var=use_var, use_alt=use_alt)\n",
    "    results_df = evaluation_task_NER(pq_filen, human_query_ds, 'human_key_ingredients', results_df, 'gold_key_ingredients', model_name=model_name, use_var=use_var, use_alt=use_alt)\n",
    "    results_df = evaluation_task_NER(pq_filen, human_query_ds, 'human_adv_ingredients', results_df, 'gold_adversarial_ingredients', model_name=model_name, use_var=use_var, use_alt=use_alt)\n",
    "    results_df = evaluation_task_NER(pq_filen, human_query_ds, 'human_adv_subset_ingredients', results_df, 'gold_adversarial_subset_ingredients', model_name=model_name, use_var=use_var, use_alt=use_alt)\n",
    "    \n",
    "    results_df.write_parquet(f\"../../../data/results/NER/{run_name}_{date_time}.parquet\")"
   ]
  },
  {
   "cell_type": "code",
   "execution_count": null,
   "id": "fedb22b6-8078-4552-939a-52c5eaf653ce",
   "metadata": {},
   "outputs": [],
   "source": []
  },
  {
   "cell_type": "code",
   "execution_count": 14,
   "id": "0635af67-2fb5-4c0c-b193-2179fe2b45f4",
   "metadata": {
    "editable": true,
    "slideshow": {
     "slide_type": ""
    },
    "tags": []
   },
   "outputs": [
    {
     "data": {
      "text/html": [
       "<div><style>\n",
       ".dataframe > thead > tr,\n",
       ".dataframe > tbody > tr {\n",
       "  text-align: right;\n",
       "  white-space: pre-wrap;\n",
       "}\n",
       "</style>\n",
       "<small>shape: (4, 8)</small><table border=\"1\" class=\"dataframe\"><thead><tr><th>Model</th><th>Eval_Task</th><th>Dataset</th><th>MRR</th><th>TKA</th><th>Time_Tot</th><th>Time_Query</th><th>Error_Count</th></tr><tr><td>str</td><td>str</td><td>str</td><td>f64</td><td>f64</td><td>f64</td><td>f64</td><td>i32</td></tr></thead><tbody><tr><td>&quot;prod_prep_alt&quot;</td><td>&quot;gold_ingredients&quot;</td><td>&quot;100k&quot;</td><td>0.37</td><td>0.42</td><td>35.728461</td><td>0.714569</td><td>0</td></tr><tr><td>&quot;prod_prep_alt&quot;</td><td>&quot;gold_key_ingredients&quot;</td><td>&quot;100k&quot;</td><td>0.511952</td><td>0.54</td><td>27.233477</td><td>0.54467</td><td>0</td></tr><tr><td>&quot;prod_prep_alt&quot;</td><td>&quot;gold_adversarial_ingredients&quot;</td><td>&quot;100k&quot;</td><td>0.95</td><td>0.94</td><td>17.889597</td><td>0.357792</td><td>0</td></tr><tr><td>&quot;prod_prep_alt&quot;</td><td>&quot;gold_adversarial_subset_ingred…</td><td>&quot;100k&quot;</td><td>0.98942</td><td>0.98</td><td>17.304881</td><td>0.346098</td><td>0</td></tr></tbody></table></div>"
      ],
      "text/plain": [
       "shape: (4, 8)\n",
       "┌───────────────┬───────────────┬─────────┬──────────┬──────┬───────────┬────────────┬─────────────┐\n",
       "│ Model         ┆ Eval_Task     ┆ Dataset ┆ MRR      ┆ TKA  ┆ Time_Tot  ┆ Time_Query ┆ Error_Count │\n",
       "│ ---           ┆ ---           ┆ ---     ┆ ---      ┆ ---  ┆ ---       ┆ ---        ┆ ---         │\n",
       "│ str           ┆ str           ┆ str     ┆ f64      ┆ f64  ┆ f64       ┆ f64        ┆ i32         │\n",
       "╞═══════════════╪═══════════════╪═════════╪══════════╪══════╪═══════════╪════════════╪═════════════╡\n",
       "│ prod_prep_alt ┆ gold_ingredie ┆ 100k    ┆ 0.37     ┆ 0.42 ┆ 35.728461 ┆ 0.714569   ┆ 0           │\n",
       "│               ┆ nts           ┆         ┆          ┆      ┆           ┆            ┆             │\n",
       "│ prod_prep_alt ┆ gold_key_ingr ┆ 100k    ┆ 0.511952 ┆ 0.54 ┆ 27.233477 ┆ 0.54467    ┆ 0           │\n",
       "│               ┆ edients       ┆         ┆          ┆      ┆           ┆            ┆             │\n",
       "│ prod_prep_alt ┆ gold_adversar ┆ 100k    ┆ 0.95     ┆ 0.94 ┆ 17.889597 ┆ 0.357792   ┆ 0           │\n",
       "│               ┆ ial_ingredien ┆         ┆          ┆      ┆           ┆            ┆             │\n",
       "│               ┆ ts            ┆         ┆          ┆      ┆           ┆            ┆             │\n",
       "│ prod_prep_alt ┆ gold_adversar ┆ 100k    ┆ 0.98942  ┆ 0.98 ┆ 17.304881 ┆ 0.346098   ┆ 0           │\n",
       "│               ┆ ial_subset_in ┆         ┆          ┆      ┆           ┆            ┆             │\n",
       "│               ┆ gred…         ┆         ┆          ┆      ┆           ┆            ┆             │\n",
       "└───────────────┴───────────────┴─────────┴──────────┴──────┴───────────┴────────────┴─────────────┘"
      ]
     },
     "execution_count": 14,
     "metadata": {},
     "output_type": "execute_result"
    }
   ],
   "source": [
    "results_df"
   ]
  },
  {
   "cell_type": "markdown",
   "id": "7e62ac42-d196-4f59-9c15-d96cb43be19a",
   "metadata": {},
   "source": [
    "### results_df.write_parquet(f\"../../../data/results/NER/{run_name}_{date_time}.parquet\")"
   ]
  },
  {
   "cell_type": "markdown",
   "id": "c39051b1-d4c1-4321-84b3-8013c45f0d1b",
   "metadata": {
    "editable": true,
    "slideshow": {
     "slide_type": ""
    },
    "tags": []
   },
   "source": [
    "### pl.read_parquet(f\"../../../data/results/NER/{run_name}_{date_time}.parquet\")"
   ]
  }
 ],
 "metadata": {
  "kernelspec": {
   "display_name": "Python 3 (ipykernel)",
   "language": "python",
   "name": "python3"
  },
  "language_info": {
   "codemirror_mode": {
    "name": "ipython",
    "version": 3
   },
   "file_extension": ".py",
   "mimetype": "text/x-python",
   "name": "python",
   "nbconvert_exporter": "python",
   "pygments_lexer": "ipython3",
   "version": "3.10.16"
  }
 },
 "nbformat": 4,
 "nbformat_minor": 5
}
