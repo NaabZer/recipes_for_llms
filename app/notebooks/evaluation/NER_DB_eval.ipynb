{
 "cells": [
  {
   "cell_type": "markdown",
   "id": "51fa6c3e-8b79-482d-89b6-c2c5daabb187",
   "metadata": {
    "editable": true,
    "slideshow": {
     "slide_type": ""
    },
    "tags": []
   },
   "source": [
    "# NER + parquet/duckdbEvaluation "
   ]
  },
  {
   "cell_type": "code",
   "execution_count": 1,
   "id": "a8878ef0-d226-493a-a90b-ca8c673cf97a",
   "metadata": {
    "editable": true,
    "slideshow": {
     "slide_type": ""
    },
    "tags": []
   },
   "outputs": [],
   "source": [
    "import spacy\n",
    "import mlflow\n",
    "import mlflow.spacy\n",
    "import polars as pl\n",
    "import scipy\n",
    "import duckdb\n",
    "import numpy as np\n",
    "import json\n",
    "import timeit\n",
    "import matplotlib.pyplot as plt\n",
    "from rank_bm25 import BM25Okapi"
   ]
  },
  {
   "cell_type": "code",
   "execution_count": 2,
   "id": "7a51787d-7fc7-4033-ba82-66cc5f95841b",
   "metadata": {
    "editable": true,
    "slideshow": {
     "slide_type": ""
    },
    "tags": []
   },
   "outputs": [
    {
     "data": {
      "text/plain": [
       "True"
      ]
     },
     "execution_count": 2,
     "metadata": {},
     "output_type": "execute_result"
    }
   ],
   "source": [
    "import os\n",
    "import sys\n",
    "from dotenv import load_dotenv\n",
    "sys.path.insert(0, os.path.abspath('..'))\n",
    "sys.path.insert(0, os.path.abspath('../..'))\n",
    "sys.path.insert(0, os.path.abspath('../../..'))\n",
    "from app.evaluation import reciprocal_rank, rank_BOW_results, precision_at_k\n",
    "from app.data_handling.NER_parquet import (\n",
    "process_ingredient,\n",
    "transform_ingredients_to_tokens,\n",
    "transform_data_to_tokens,\n",
    "construct_ingredient_query,\n",
    "ParquetDefinition,\n",
    "create_parquet_file\n",
    ")\n",
    "load_dotenv()"
   ]
  },
  {
   "cell_type": "markdown",
   "id": "865180d3-d89d-4023-8990-d504507ad5b1",
   "metadata": {},
   "source": [
    "# Set up definitions\n",
    "Datasets:\n",
    " - 1k_processed\n",
    " - 10k\n",
    " - 100k\n",
    " - full"
   ]
  },
  {
   "cell_type": "code",
   "execution_count": 3,
   "id": "bce70294-7ce9-4721-b964-b4143494b565",
   "metadata": {
    "editable": true,
    "slideshow": {
     "slide_type": ""
    },
    "tags": []
   },
   "outputs": [],
   "source": [
    "dataset_name = '1k_processed'\n",
    "run_name = 'line_only_pre_lemma_v5'\n",
    "model_name = run_name\n",
    "force_overwrite_pq = True\n",
    "model_uri = 'models:/recipe_NER@prod'\n",
    "#model_uri = 'runs:/e00edb7abff845f3913810918de00fe8/model'"
   ]
  },
  {
   "cell_type": "code",
   "execution_count": 4,
   "id": "44dcca0b-9916-47bd-9102-4c32882e21a4",
   "metadata": {
    "editable": true,
    "slideshow": {
     "slide_type": ""
    },
    "tags": []
   },
   "outputs": [],
   "source": [
    "with open(\"../../../data/eval_data/processed_data.json\", \"r\") as f:\n",
    "    query_ds = pl.read_json(f)\n",
    "with open(\"../../../data/eval_data/human_annotations.json\", \"r\") as f:\n",
    "    human_query_ds = pl.read_json(f)"
   ]
  },
  {
   "cell_type": "code",
   "execution_count": 5,
   "id": "19f5a6ee-a682-41d9-be10-b5fa95f5e8f7",
   "metadata": {
    "editable": true,
    "slideshow": {
     "slide_type": ""
    },
    "tags": []
   },
   "outputs": [],
   "source": [
    "if dataset_name == '1k_processed':\n",
    "    eval_ds = query_ds\n",
    "elif dataset_name == '10k':\n",
    "    with open(\"../../../data/eval_data/eval_10k.json\", \"r\") as f:\n",
    "        eval_ds = pl.read_json(f)\n",
    "elif dataset_name == '100k':\n",
    "    with open(\"../../../data/eval_data/eval_100k.json\", \"r\") as f:\n",
    "        eval_ds = pl.read_json(f)"
   ]
  },
  {
   "cell_type": "code",
   "execution_count": 6,
   "id": "ce0d3ba2-5b9a-416b-99f5-0a0140a4417c",
   "metadata": {
    "editable": true,
    "slideshow": {
     "slide_type": ""
    },
    "tags": []
   },
   "outputs": [
    {
     "data": {
      "text/html": [
       "<div><style>\n",
       ".dataframe > thead > tr,\n",
       ".dataframe > tbody > tr {\n",
       "  text-align: right;\n",
       "  white-space: pre-wrap;\n",
       "}\n",
       "</style>\n",
       "<small>shape: (0, 8)</small><table border=\"1\" class=\"dataframe\"><thead><tr><th>Model</th><th>Eval_Task</th><th>Dataset</th><th>MRR</th><th>P@3</th><th>Time_Tot</th><th>Time_Query</th><th>Error_Count</th></tr><tr><td>str</td><td>str</td><td>str</td><td>f64</td><td>f64</td><td>f64</td><td>f64</td><td>i32</td></tr></thead><tbody></tbody></table></div>"
      ],
      "text/plain": [
       "shape: (0, 8)\n",
       "┌───────┬───────────┬─────────┬─────┬─────┬──────────┬────────────┬─────────────┐\n",
       "│ Model ┆ Eval_Task ┆ Dataset ┆ MRR ┆ P@3 ┆ Time_Tot ┆ Time_Query ┆ Error_Count │\n",
       "│ ---   ┆ ---       ┆ ---     ┆ --- ┆ --- ┆ ---      ┆ ---        ┆ ---         │\n",
       "│ str   ┆ str       ┆ str     ┆ f64 ┆ f64 ┆ f64      ┆ f64        ┆ i32         │\n",
       "╞═══════╪═══════════╪═════════╪═════╪═════╪══════════╪════════════╪═════════════╡\n",
       "└───────┴───────────┴─────────┴─────┴─────┴──────────┴────────────┴─────────────┘"
      ]
     },
     "execution_count": 6,
     "metadata": {},
     "output_type": "execute_result"
    }
   ],
   "source": [
    "results_df = pl.DataFrame(\n",
    "    schema={\n",
    "        'Model': pl.String,\n",
    "        'Eval_Task': pl.String,\n",
    "        \"Dataset\": pl.String,\n",
    "        \"MRR\": pl.Float64,\n",
    "        \"P@3\": pl.Float64,\n",
    "        \"Time_Tot\": pl.Float64,\n",
    "        \"Time_Query\": pl.Float64,\n",
    "        \"Error_Count\": pl.Int32\n",
    "    })\n",
    "results_df"
   ]
  },
  {
   "cell_type": "markdown",
   "id": "e81e5272-4b70-4459-aa60-eaf777f24fc2",
   "metadata": {},
   "source": [
    "## Running code"
   ]
  },
  {
   "cell_type": "code",
   "execution_count": 7,
   "id": "f1499171-e12e-425e-8f00-6839b551d442",
   "metadata": {},
   "outputs": [],
   "source": [
    "mlflow.set_tracking_uri(os.getenv(\"MLFLOW_TRACKING_URL\"))"
   ]
  },
  {
   "cell_type": "code",
   "execution_count": 8,
   "id": "fcc6a70b-3ec9-452b-80fe-2da4ae040ad2",
   "metadata": {
    "editable": true,
    "slideshow": {
     "slide_type": ""
    },
    "tags": []
   },
   "outputs": [
    {
     "data": {
      "application/vnd.jupyter.widget-view+json": {
       "model_id": "0bc02d71d45f4e658f8da16687c7ae6e",
       "version_major": 2,
       "version_minor": 0
      },
      "text/plain": [
       "Downloading artifacts:   0%|          | 0/17 [00:00<?, ?it/s]"
      ]
     },
     "metadata": {},
     "output_type": "display_data"
    }
   ],
   "source": [
    "#model_uri = 'models:/recipe_NER@prod'\n",
    "NER_model = mlflow.spacy.load_model(model_uri)"
   ]
  },
  {
   "cell_type": "code",
   "execution_count": 9,
   "id": "a4db3577-6879-4aff-aa67-e350804547c4",
   "metadata": {
    "editable": true,
    "slideshow": {
     "slide_type": ""
    },
    "tags": []
   },
   "outputs": [],
   "source": [
    "pq_filen = f\"{dataset_name}.parquet\""
   ]
  },
  {
   "cell_type": "code",
   "execution_count": 10,
   "id": "f6bd232d-3130-4ce7-844b-4a3a1122107b",
   "metadata": {
    "editable": true,
    "slideshow": {
     "slide_type": ""
    },
    "tags": []
   },
   "outputs": [],
   "source": [
    "def rank_results(df: pl.DataFrame, query: list[str]):\n",
    "    if df.shape[0] == 0:\n",
    "        return df\n",
    "    corpus = list(df['tokens'])\n",
    "    bm25 = BM25Okapi(corpus)\n",
    "    scores = bm25.get_scores(query)\n",
    "    ranked_ds = df.with_columns(\n",
    "        pl.Series(name='rank', values=scores)\n",
    "    ).sort('rank', descending=True)\n",
    "    return ranked_ds"
   ]
  },
  {
   "cell_type": "code",
   "execution_count": 11,
   "id": "dee82162-22fa-4ac7-9021-386a05f6b410",
   "metadata": {
    "editable": true,
    "slideshow": {
     "slide_type": ""
    },
    "tags": []
   },
   "outputs": [],
   "source": [
    "start = timeit.default_timer()\n",
    "tokens, preps, optionals, varieties, brands, alt_foods = transform_data_to_tokens(\n",
    "    eval_ds['ingredients'], NER_model,\n",
    "    True, True, True\n",
    ")"
   ]
  },
  {
   "cell_type": "code",
   "execution_count": 12,
   "id": "d8cde1dc-cda4-41f8-b8c7-f0b35172569e",
   "metadata": {
    "editable": true,
    "slideshow": {
     "slide_type": ""
    },
    "tags": []
   },
   "outputs": [],
   "source": [
    "inp = [\n",
    "    ParquetDefinition(data=tokens, name=\"tokens\"),\n",
    "    ParquetDefinition(data=preps, name=\"preps\", is_map=True),\n",
    "    ParquetDefinition(data=optionals, name=\"optionals\"),\n",
    "    ParquetDefinition(data=varieties, name=\"varieties\", is_map=True),\n",
    "    ParquetDefinition(data=brands, name=\"brands\", is_map=True),\n",
    "    ParquetDefinition(data=alt_foods, name=\"alt_foods\"),\n",
    "]\n",
    "create_parquet_file(pq_filen, eval_ds.select(pl.exclude('tfidf')), inp, force_overwrite=force_overwrite_pq)\n",
    "time = timeit.default_timer() - start"
   ]
  },
  {
   "cell_type": "code",
   "execution_count": 13,
   "id": "c129b163-2c30-4731-b93c-f684d3650a4e",
   "metadata": {
    "editable": true,
    "slideshow": {
     "slide_type": ""
    },
    "tags": []
   },
   "outputs": [
    {
     "name": "stdout",
     "output_type": "stream",
     "text": [
      "Dataset transformation took 59.46693890495226s, or 0.059466938904952256s/row\n"
     ]
    }
   ],
   "source": [
    "print(f\"Dataset transformation took {time}s, or {time/eval_ds.shape[0]}s/row\")"
   ]
  },
  {
   "cell_type": "code",
   "execution_count": 14,
   "id": "d0cefed0-7754-4156-b041-11c0a531efdd",
   "metadata": {
    "editable": true,
    "slideshow": {
     "slide_type": ""
    },
    "tags": []
   },
   "outputs": [],
   "source": [
    "def evaluation_task_NER(parquet_path:str, query_ds: pl.DataFrame, query_field: str, results_df: pl.DataFrame, task_name: str, debug = False, model_name='ner'):\n",
    "    tot_rr = 0\n",
    "    tot_prec_at_3 = 0\n",
    "    tot_evals = 0\n",
    "    errors = 0\n",
    "    start = timeit.default_timer()\n",
    "    for index, query in query_ds.select('index', query_field).iter_rows():\n",
    "        if query_field == 'google_search_query_processed':\n",
    "            query_obj = transform_ingredients_to_tokens(query['ingredients'], NER_model)\n",
    "        else:\n",
    "            query_obj = transform_ingredients_to_tokens(query, NER_model)\n",
    "        sql = construct_ingredient_query(parquet_path, query_obj['foods'], query_obj['preps'])\n",
    "        try:\n",
    "            results = duckdb.sql(sql).pl()\n",
    "            if debug and results.shape[0] == 0:\n",
    "                print(sql)\n",
    "                print(\"-- Zero results --\")\n",
    "                print(index)\n",
    "                print(\"- Target -\")\n",
    "                t = duckdb.sql(f\"SELECT preps, tokens FROM '{parquet_path}' WHERE index == {index}\").pl()\n",
    "                print(list(t[0, 1]))\n",
    "                print(list(t[0, 0]))\n",
    "                #print(\" \".join(list(t[0])))\n",
    "                print(\"- Query -\")\n",
    "                print(\" \".join(query_obj['foods']))\n",
    "                print(query_obj['preps'])\n",
    "            results = rank_results(results, query_obj['foods'])\n",
    "            tot_rr += reciprocal_rank(results, index)\n",
    "            tot_prec_at_3 += precision_at_k(results, index)\n",
    "            tot_evals += 1\n",
    "        except Exception as e:\n",
    "            errors += 1\n",
    "            print(e)\n",
    "            continue\n",
    "    time = timeit.default_timer() - start\n",
    "    mrr = tot_rr/tot_evals\n",
    "    mprec3 = tot_prec_at_3 / tot_evals\n",
    "    result_data = {\n",
    "        \"Model\": [model_name],\n",
    "        'Eval_Task': [task_name],\n",
    "        'Dataset': [dataset_name],\n",
    "        \"MRR\": [mrr],\n",
    "        \"P@3\": [mprec3],\n",
    "        \"Time_Tot\": time,\n",
    "        \"Time_Query\": time/tot_evals,\n",
    "        \"Error_Count\": errors\n",
    "    }\n",
    "    result_df = pl.DataFrame(result_data)\n",
    "    results_df = results_df.vstack(result_df)\n",
    "    return results_df"
   ]
  },
  {
   "cell_type": "code",
   "execution_count": 15,
   "id": "0b57e310-390d-48ce-ae25-368861e8fe57",
   "metadata": {
    "editable": true,
    "slideshow": {
     "slide_type": ""
    },
    "tags": []
   },
   "outputs": [
    {
     "name": "stdout",
     "output_type": "stream",
     "text": [
      "Binder Error: Referenced column \"duncan_hines_moist_deluxe_devil_'s_food\" not found in FROM clause!\n",
      "Candidate bindings: \"varieties\", \"main_food_items_and_preparations\", \"important_ingredients_for_search\", \"ingredients\", \"google_search_query_processed\"\n",
      "Binder Error: Referenced column \"'s\" not found in FROM clause!\n",
      "Candidate bindings: \"google_search_query\", \"google_search_query_processed\", \"main_food_items_and_preparations\"\n",
      "Binder Error: Referenced column \"d'espelette\" not found in FROM clause!\n",
      "Candidate bindings: \"index\", \"ingredients\", \"preps\", \"tokens\", \"brands\"\n",
      "Binder Error: Referenced column \"campbell_'s_condense_tomato_soup\" not found in FROM clause!\n",
      "Candidate bindings: \"main_food_items_and_preparations\", \"important_ingredients_for_search\", \"google_search_query_processed\", \"preps\", \"alt_foods\"\n",
      "Binder Error: Referenced column \"bottlefrank_'s_original\" not found in FROM clause!\n",
      "Candidate bindings: \"brands\", \"title\", \"tokens\", \"important_ingredients_for_search\", \"optionals\"\n",
      "Binder Error: Referenced column \"d'espelette\" not found in FROM clause!\n",
      "Candidate bindings: \"index\", \"ingredients\", \"preps\", \"tokens\", \"brands\"\n"
     ]
    }
   ],
   "source": [
    "results_df = evaluation_task_NER(pq_filen, query_ds, 'ingredients', results_df, 'identity', model_name=model_name)\n",
    "results_df = evaluation_task_NER(pq_filen, query_ds, 'main_food_items_and_preparations', results_df, 'llm1', model_name=model_name)\n",
    "results_df = evaluation_task_NER(pq_filen, query_ds, 'important_ingredients_for_search', results_df, 'llm2', model_name=model_name)\n",
    "results_df = evaluation_task_NER(pq_filen, query_ds, 'google_search_query_processed', results_df, 'llm3', model_name=model_name)"
   ]
  },
  {
   "cell_type": "code",
   "execution_count": 16,
   "id": "0635af67-2fb5-4c0c-b193-2179fe2b45f4",
   "metadata": {
    "editable": true,
    "slideshow": {
     "slide_type": ""
    },
    "tags": []
   },
   "outputs": [],
   "source": [
    "results_df = evaluation_task_NER(pq_filen, human_query_ds, 'human_ingredients', results_df, 'gold_ingredients', model_name=model_name)\n",
    "results_df = evaluation_task_NER(pq_filen, human_query_ds, 'human_key_ingredients', results_df, 'gold_key_ingredients', model_name=model_name)"
   ]
  },
  {
   "cell_type": "code",
   "execution_count": 17,
   "id": "e3db77b6-4b3e-4273-84d2-3d3f42fd0537",
   "metadata": {},
   "outputs": [
    {
     "data": {
      "text/html": [
       "<div><style>\n",
       ".dataframe > thead > tr,\n",
       ".dataframe > tbody > tr {\n",
       "  text-align: right;\n",
       "  white-space: pre-wrap;\n",
       "}\n",
       "</style>\n",
       "<small>shape: (6, 8)</small><table border=\"1\" class=\"dataframe\"><thead><tr><th>Model</th><th>Eval_Task</th><th>Dataset</th><th>MRR</th><th>P@3</th><th>Time_Tot</th><th>Time_Query</th><th>Error_Count</th></tr><tr><td>str</td><td>str</td><td>str</td><td>f64</td><td>f64</td><td>f64</td><td>f64</td><td>i32</td></tr></thead><tbody><tr><td>&quot;line_only_pre_lemma_v5&quot;</td><td>&quot;identity&quot;</td><td>&quot;1k_processed&quot;</td><td>0.989782</td><td>0.99799</td><td>70.821171</td><td>0.071177</td><td>5</td></tr><tr><td>&quot;line_only_pre_lemma_v5&quot;</td><td>&quot;llm1&quot;</td><td>&quot;1k_processed&quot;</td><td>0.569989</td><td>0.580581</td><td>60.77093</td><td>0.060832</td><td>1</td></tr><tr><td>&quot;line_only_pre_lemma_v5&quot;</td><td>&quot;llm2&quot;</td><td>&quot;1k_processed&quot;</td><td>0.443578</td><td>0.478</td><td>32.486376</td><td>0.032486</td><td>0</td></tr><tr><td>&quot;line_only_pre_lemma_v5&quot;</td><td>&quot;llm3&quot;</td><td>&quot;1k_processed&quot;</td><td>0.262138</td><td>0.297</td><td>27.698316</td><td>0.027698</td><td>0</td></tr><tr><td>&quot;line_only_pre_lemma_v5&quot;</td><td>&quot;gold_ingredients&quot;</td><td>&quot;1k_processed&quot;</td><td>0.32</td><td>0.32</td><td>2.093862</td><td>0.041877</td><td>0</td></tr><tr><td>&quot;line_only_pre_lemma_v5&quot;</td><td>&quot;gold_key_ingredients&quot;</td><td>&quot;1k_processed&quot;</td><td>0.542953</td><td>0.54</td><td>1.342176</td><td>0.026844</td><td>0</td></tr></tbody></table></div>"
      ],
      "text/plain": [
       "shape: (6, 8)\n",
       "┌────────────┬────────────┬────────────┬──────────┬──────────┬───────────┬────────────┬────────────┐\n",
       "│ Model      ┆ Eval_Task  ┆ Dataset    ┆ MRR      ┆ P@3      ┆ Time_Tot  ┆ Time_Query ┆ Error_Coun │\n",
       "│ ---        ┆ ---        ┆ ---        ┆ ---      ┆ ---      ┆ ---       ┆ ---        ┆ t          │\n",
       "│ str        ┆ str        ┆ str        ┆ f64      ┆ f64      ┆ f64       ┆ f64        ┆ ---        │\n",
       "│            ┆            ┆            ┆          ┆          ┆           ┆            ┆ i32        │\n",
       "╞════════════╪════════════╪════════════╪══════════╪══════════╪═══════════╪════════════╪════════════╡\n",
       "│ line_only_ ┆ identity   ┆ 1k_process ┆ 0.989782 ┆ 0.99799  ┆ 70.821171 ┆ 0.071177   ┆ 5          │\n",
       "│ pre_lemma_ ┆            ┆ ed         ┆          ┆          ┆           ┆            ┆            │\n",
       "│ v5         ┆            ┆            ┆          ┆          ┆           ┆            ┆            │\n",
       "│ line_only_ ┆ llm1       ┆ 1k_process ┆ 0.569989 ┆ 0.580581 ┆ 60.77093  ┆ 0.060832   ┆ 1          │\n",
       "│ pre_lemma_ ┆            ┆ ed         ┆          ┆          ┆           ┆            ┆            │\n",
       "│ v5         ┆            ┆            ┆          ┆          ┆           ┆            ┆            │\n",
       "│ line_only_ ┆ llm2       ┆ 1k_process ┆ 0.443578 ┆ 0.478    ┆ 32.486376 ┆ 0.032486   ┆ 0          │\n",
       "│ pre_lemma_ ┆            ┆ ed         ┆          ┆          ┆           ┆            ┆            │\n",
       "│ v5         ┆            ┆            ┆          ┆          ┆           ┆            ┆            │\n",
       "│ line_only_ ┆ llm3       ┆ 1k_process ┆ 0.262138 ┆ 0.297    ┆ 27.698316 ┆ 0.027698   ┆ 0          │\n",
       "│ pre_lemma_ ┆            ┆ ed         ┆          ┆          ┆           ┆            ┆            │\n",
       "│ v5         ┆            ┆            ┆          ┆          ┆           ┆            ┆            │\n",
       "│ line_only_ ┆ gold_ingre ┆ 1k_process ┆ 0.32     ┆ 0.32     ┆ 2.093862  ┆ 0.041877   ┆ 0          │\n",
       "│ pre_lemma_ ┆ dients     ┆ ed         ┆          ┆          ┆           ┆            ┆            │\n",
       "│ v5         ┆            ┆            ┆          ┆          ┆           ┆            ┆            │\n",
       "│ line_only_ ┆ gold_key_i ┆ 1k_process ┆ 0.542953 ┆ 0.54     ┆ 1.342176  ┆ 0.026844   ┆ 0          │\n",
       "│ pre_lemma_ ┆ ngredients ┆ ed         ┆          ┆          ┆           ┆            ┆            │\n",
       "│ v5         ┆            ┆            ┆          ┆          ┆           ┆            ┆            │\n",
       "└────────────┴────────────┴────────────┴──────────┴──────────┴───────────┴────────────┴────────────┘"
      ]
     },
     "execution_count": 17,
     "metadata": {},
     "output_type": "execute_result"
    }
   ],
   "source": [
    "results_df"
   ]
  },
  {
   "cell_type": "code",
   "execution_count": 18,
   "id": "8be6f4a5-ff2f-442c-aa8e-c6ee614f767d",
   "metadata": {
    "editable": true,
    "slideshow": {
     "slide_type": ""
    },
    "tags": []
   },
   "outputs": [],
   "source": [
    "from datetime import datetime\n",
    "date_time = datetime.now().strftime(\"%Y_%m_%d__%H_%M\")"
   ]
  },
  {
   "cell_type": "code",
   "execution_count": 19,
   "id": "141cd3da-5997-4f15-b9de-552c150aa067",
   "metadata": {},
   "outputs": [
    {
     "data": {
      "text/plain": [
       "'2025_06_11__23_09'"
      ]
     },
     "execution_count": 19,
     "metadata": {},
     "output_type": "execute_result"
    }
   ],
   "source": [
    "date_time"
   ]
  },
  {
   "cell_type": "code",
   "execution_count": 20,
   "id": "b0706229-6f60-4447-805c-a3161c3450d9",
   "metadata": {},
   "outputs": [],
   "source": [
    "results_df.write_parquet(f\"../../../data/results/NER/{run_name}_{date_time}.parquet\")"
   ]
  },
  {
   "cell_type": "code",
   "execution_count": 21,
   "id": "17aeb4bb-0988-446f-88bd-0a597f47bf53",
   "metadata": {
    "editable": true,
    "slideshow": {
     "slide_type": ""
    },
    "tags": []
   },
   "outputs": [
    {
     "data": {
      "text/html": [
       "<div><style>\n",
       ".dataframe > thead > tr,\n",
       ".dataframe > tbody > tr {\n",
       "  text-align: right;\n",
       "  white-space: pre-wrap;\n",
       "}\n",
       "</style>\n",
       "<small>shape: (6, 8)</small><table border=\"1\" class=\"dataframe\"><thead><tr><th>Model</th><th>Eval_Task</th><th>Dataset</th><th>MRR</th><th>P@3</th><th>Time_Tot</th><th>Time_Query</th><th>Error_Count</th></tr><tr><td>str</td><td>str</td><td>str</td><td>f64</td><td>f64</td><td>f64</td><td>f64</td><td>i32</td></tr></thead><tbody><tr><td>&quot;line_only_pre_lemma_v5&quot;</td><td>&quot;identity&quot;</td><td>&quot;1k_processed&quot;</td><td>0.989782</td><td>0.99799</td><td>70.821171</td><td>0.071177</td><td>5</td></tr><tr><td>&quot;line_only_pre_lemma_v5&quot;</td><td>&quot;llm1&quot;</td><td>&quot;1k_processed&quot;</td><td>0.569989</td><td>0.580581</td><td>60.77093</td><td>0.060832</td><td>1</td></tr><tr><td>&quot;line_only_pre_lemma_v5&quot;</td><td>&quot;llm2&quot;</td><td>&quot;1k_processed&quot;</td><td>0.443578</td><td>0.478</td><td>32.486376</td><td>0.032486</td><td>0</td></tr><tr><td>&quot;line_only_pre_lemma_v5&quot;</td><td>&quot;llm3&quot;</td><td>&quot;1k_processed&quot;</td><td>0.262138</td><td>0.297</td><td>27.698316</td><td>0.027698</td><td>0</td></tr><tr><td>&quot;line_only_pre_lemma_v5&quot;</td><td>&quot;gold_ingredients&quot;</td><td>&quot;1k_processed&quot;</td><td>0.32</td><td>0.32</td><td>2.093862</td><td>0.041877</td><td>0</td></tr><tr><td>&quot;line_only_pre_lemma_v5&quot;</td><td>&quot;gold_key_ingredients&quot;</td><td>&quot;1k_processed&quot;</td><td>0.542953</td><td>0.54</td><td>1.342176</td><td>0.026844</td><td>0</td></tr></tbody></table></div>"
      ],
      "text/plain": [
       "shape: (6, 8)\n",
       "┌────────────┬────────────┬────────────┬──────────┬──────────┬───────────┬────────────┬────────────┐\n",
       "│ Model      ┆ Eval_Task  ┆ Dataset    ┆ MRR      ┆ P@3      ┆ Time_Tot  ┆ Time_Query ┆ Error_Coun │\n",
       "│ ---        ┆ ---        ┆ ---        ┆ ---      ┆ ---      ┆ ---       ┆ ---        ┆ t          │\n",
       "│ str        ┆ str        ┆ str        ┆ f64      ┆ f64      ┆ f64       ┆ f64        ┆ ---        │\n",
       "│            ┆            ┆            ┆          ┆          ┆           ┆            ┆ i32        │\n",
       "╞════════════╪════════════╪════════════╪══════════╪══════════╪═══════════╪════════════╪════════════╡\n",
       "│ line_only_ ┆ identity   ┆ 1k_process ┆ 0.989782 ┆ 0.99799  ┆ 70.821171 ┆ 0.071177   ┆ 5          │\n",
       "│ pre_lemma_ ┆            ┆ ed         ┆          ┆          ┆           ┆            ┆            │\n",
       "│ v5         ┆            ┆            ┆          ┆          ┆           ┆            ┆            │\n",
       "│ line_only_ ┆ llm1       ┆ 1k_process ┆ 0.569989 ┆ 0.580581 ┆ 60.77093  ┆ 0.060832   ┆ 1          │\n",
       "│ pre_lemma_ ┆            ┆ ed         ┆          ┆          ┆           ┆            ┆            │\n",
       "│ v5         ┆            ┆            ┆          ┆          ┆           ┆            ┆            │\n",
       "│ line_only_ ┆ llm2       ┆ 1k_process ┆ 0.443578 ┆ 0.478    ┆ 32.486376 ┆ 0.032486   ┆ 0          │\n",
       "│ pre_lemma_ ┆            ┆ ed         ┆          ┆          ┆           ┆            ┆            │\n",
       "│ v5         ┆            ┆            ┆          ┆          ┆           ┆            ┆            │\n",
       "│ line_only_ ┆ llm3       ┆ 1k_process ┆ 0.262138 ┆ 0.297    ┆ 27.698316 ┆ 0.027698   ┆ 0          │\n",
       "│ pre_lemma_ ┆            ┆ ed         ┆          ┆          ┆           ┆            ┆            │\n",
       "│ v5         ┆            ┆            ┆          ┆          ┆           ┆            ┆            │\n",
       "│ line_only_ ┆ gold_ingre ┆ 1k_process ┆ 0.32     ┆ 0.32     ┆ 2.093862  ┆ 0.041877   ┆ 0          │\n",
       "│ pre_lemma_ ┆ dients     ┆ ed         ┆          ┆          ┆           ┆            ┆            │\n",
       "│ v5         ┆            ┆            ┆          ┆          ┆           ┆            ┆            │\n",
       "│ line_only_ ┆ gold_key_i ┆ 1k_process ┆ 0.542953 ┆ 0.54     ┆ 1.342176  ┆ 0.026844   ┆ 0          │\n",
       "│ pre_lemma_ ┆ ngredients ┆ ed         ┆          ┆          ┆           ┆            ┆            │\n",
       "│ v5         ┆            ┆            ┆          ┆          ┆           ┆            ┆            │\n",
       "└────────────┴────────────┴────────────┴──────────┴──────────┴───────────┴────────────┴────────────┘"
      ]
     },
     "execution_count": 21,
     "metadata": {},
     "output_type": "execute_result"
    }
   ],
   "source": [
    "pl.read_parquet(f\"../../../data/results/NER/{run_name}_{date_time}.parquet\")"
   ]
  },
  {
   "cell_type": "code",
   "execution_count": null,
   "id": "08b317cf-15df-4e13-a5f1-112160f441c5",
   "metadata": {
    "editable": true,
    "slideshow": {
     "slide_type": ""
    },
    "tags": []
   },
   "outputs": [],
   "source": []
  }
 ],
 "metadata": {
  "kernelspec": {
   "display_name": "Python 3 (ipykernel)",
   "language": "python",
   "name": "python3"
  },
  "language_info": {
   "codemirror_mode": {
    "name": "ipython",
    "version": 3
   },
   "file_extension": ".py",
   "mimetype": "text/x-python",
   "name": "python",
   "nbconvert_exporter": "python",
   "pygments_lexer": "ipython3",
   "version": "3.10.16"
  }
 },
 "nbformat": 4,
 "nbformat_minor": 5
}
