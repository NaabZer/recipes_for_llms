{
 "cells": [
  {
   "cell_type": "markdown",
   "id": "51fa6c3e-8b79-482d-89b6-c2c5daabb187",
   "metadata": {
    "editable": true,
    "slideshow": {
     "slide_type": ""
    },
    "tags": []
   },
   "source": [
    "# NER + parquet/duckdbEvaluation "
   ]
  },
  {
   "cell_type": "code",
   "execution_count": 1,
   "id": "a8878ef0-d226-493a-a90b-ca8c673cf97a",
   "metadata": {
    "editable": true,
    "slideshow": {
     "slide_type": ""
    },
    "tags": []
   },
   "outputs": [],
   "source": [
    "import spacy\n",
    "import mlflow\n",
    "import mlflow.spacy\n",
    "import polars as pl\n",
    "import scipy\n",
    "import duckdb\n",
    "import numpy as np\n",
    "import json\n",
    "import timeit\n",
    "import matplotlib.pyplot as plt\n",
    "from rank_bm25 import BM25Okapi"
   ]
  },
  {
   "cell_type": "code",
   "execution_count": 2,
   "id": "7a51787d-7fc7-4033-ba82-66cc5f95841b",
   "metadata": {
    "editable": true,
    "slideshow": {
     "slide_type": ""
    },
    "tags": []
   },
   "outputs": [
    {
     "data": {
      "text/plain": [
       "True"
      ]
     },
     "execution_count": 2,
     "metadata": {},
     "output_type": "execute_result"
    }
   ],
   "source": [
    "import os\n",
    "import sys\n",
    "from dotenv import load_dotenv\n",
    "sys.path.insert(0, os.path.abspath('..'))\n",
    "sys.path.insert(0, os.path.abspath('../..'))\n",
    "sys.path.insert(0, os.path.abspath('../../..'))\n",
    "from app.evaluation import reciprocal_rank, rank_BOW_results, precision_at_k\n",
    "from app.data_handling.NER_parquet import (\n",
    "process_ingredient,\n",
    "transform_ingredients_to_tokens,\n",
    "transform_data_to_tokens,\n",
    "construct_ingredient_query,\n",
    "ParquetDefinition,\n",
    "create_parquet_file\n",
    ")\n",
    "load_dotenv()"
   ]
  },
  {
   "cell_type": "markdown",
   "id": "865180d3-d89d-4023-8990-d504507ad5b1",
   "metadata": {},
   "source": [
    "# Set up definitions\n",
    "Datasets:\n",
    " - 1k_processed\n",
    " - 10k\n",
    " - 100k\n",
    " - full"
   ]
  },
  {
   "cell_type": "code",
   "execution_count": 3,
   "id": "bce70294-7ce9-4721-b964-b4143494b565",
   "metadata": {
    "editable": true,
    "slideshow": {
     "slide_type": ""
    },
    "tags": []
   },
   "outputs": [],
   "source": [
    "dataset_name = '1k_processed'\n",
    "run_name = 'line_only_pre_lemma_v6'\n",
    "model_name = run_name\n",
    "force_overwrite_pq = True\n",
    "#model_uri = 'runs:/e00edb7abff845f3913810918de00fe8/model'"
   ]
  },
  {
   "cell_type": "code",
   "execution_count": 4,
   "id": "2e42b43e-a399-4692-9a3d-e01b80ee5bbc",
   "metadata": {},
   "outputs": [],
   "source": [
    "nlg_ds = pl.read_csv('../../../data/recipenlg/RecipeNLG_dataset.csv')#,  n_rows=1000)\n",
    "nlg_ds = nlg_ds.with_columns(pl.col(\"ingredients\").str.json_decode())\n",
    "nlg_ds = nlg_ds.with_columns(pl.col(\"directions\").str.json_decode())\n",
    "nlg_ds = nlg_ds.with_columns(pl.arange(pl.len()).alias(\"index\"))"
   ]
  },
  {
   "cell_type": "code",
   "execution_count": 5,
   "id": "24a5faef-0848-4b8c-bef2-648e708aa002",
   "metadata": {
    "editable": true,
    "slideshow": {
     "slide_type": ""
    },
    "tags": []
   },
   "outputs": [],
   "source": [
    "eval_ds = nlg_ds"
   ]
  },
  {
   "cell_type": "markdown",
   "id": "e81e5272-4b70-4459-aa60-eaf777f24fc2",
   "metadata": {},
   "source": [
    "## Running code"
   ]
  },
  {
   "cell_type": "markdown",
   "id": "f13a3244-983f-42e0-b068-8eb7fe2db45f",
   "metadata": {},
   "source": [
    "### Normal model"
   ]
  },
  {
   "cell_type": "code",
   "execution_count": 6,
   "id": "caaabde2-10e1-42f9-8baa-4e3a4eba98c3",
   "metadata": {},
   "outputs": [],
   "source": [
    "mlflow.set_tracking_uri(os.getenv(\"MLFLOW_TRACKING_URL\"))"
   ]
  },
  {
   "cell_type": "code",
   "execution_count": 7,
   "id": "f1499171-e12e-425e-8f00-6839b551d442",
   "metadata": {},
   "outputs": [],
   "source": [
    "model_uri = 'models:/recipe_NER@prod'"
   ]
  },
  {
   "cell_type": "code",
   "execution_count": 8,
   "id": "fcc6a70b-3ec9-452b-80fe-2da4ae040ad2",
   "metadata": {
    "editable": true,
    "slideshow": {
     "slide_type": ""
    },
    "tags": []
   },
   "outputs": [
    {
     "data": {
      "application/vnd.jupyter.widget-view+json": {
       "model_id": "ff98854368af4ad3a223435cf653e7b8",
       "version_major": 2,
       "version_minor": 0
      },
      "text/plain": [
       "Downloading artifacts:   0%|          | 0/17 [00:00<?, ?it/s]"
      ]
     },
     "metadata": {},
     "output_type": "display_data"
    }
   ],
   "source": [
    "NER_model = mlflow.spacy.load_model(model_uri)"
   ]
  },
  {
   "cell_type": "code",
   "execution_count": 9,
   "id": "a4db3577-6879-4aff-aa67-e350804547c4",
   "metadata": {
    "editable": true,
    "slideshow": {
     "slide_type": ""
    },
    "tags": []
   },
   "outputs": [],
   "source": [
    "pq_filen = \"../../../data/databases/full.parquet\""
   ]
  },
  {
   "cell_type": "code",
   "execution_count": 10,
   "id": "dee82162-22fa-4ac7-9021-386a05f6b410",
   "metadata": {
    "editable": true,
    "slideshow": {
     "slide_type": ""
    },
    "tags": []
   },
   "outputs": [],
   "source": [
    "start = timeit.default_timer()\n",
    "tokens, preps, optionals, varieties, brands, alt_foods = transform_data_to_tokens(\n",
    "    eval_ds['ingredients'], NER_model,\n",
    "    True, True, True\n",
    ")"
   ]
  },
  {
   "cell_type": "code",
   "execution_count": 11,
   "id": "d8cde1dc-cda4-41f8-b8c7-f0b35172569e",
   "metadata": {
    "editable": true,
    "slideshow": {
     "slide_type": ""
    },
    "tags": []
   },
   "outputs": [],
   "source": [
    "inp = [\n",
    "    ParquetDefinition(data=tokens, name=\"tokens\"),\n",
    "    ParquetDefinition(data=preps, name=\"preps\", is_map=True),\n",
    "    ParquetDefinition(data=optionals, name=\"optionals\"),\n",
    "    ParquetDefinition(data=varieties, name=\"varieties\", is_map=True),\n",
    "    ParquetDefinition(data=brands, name=\"brands\", is_map=True),\n",
    "    ParquetDefinition(data=alt_foods, name=\"alt_foods\"),\n",
    "]\n",
    "create_parquet_file(pq_filen, eval_ds, inp, force_overwrite=force_overwrite_pq)\n",
    "time = timeit.default_timer() - start"
   ]
  },
  {
   "cell_type": "code",
   "execution_count": 12,
   "id": "c129b163-2c30-4731-b93c-f684d3650a4e",
   "metadata": {
    "editable": true,
    "slideshow": {
     "slide_type": ""
    },
    "tags": []
   },
   "outputs": [
    {
     "name": "stdout",
     "output_type": "stream",
     "text": [
      "Dataset transformation took 0.23875798098742962s, or 0.047751596197485924s/row\n"
     ]
    }
   ],
   "source": [
    "print(f\"Dataset transformation took {time}s, or {time/eval_ds.shape[0]}s/row\")"
   ]
  },
  {
   "cell_type": "code",
   "execution_count": 14,
   "id": "bf935144-fccc-47a5-9571-9f9c4a0fc5b5",
   "metadata": {},
   "outputs": [
    {
     "ename": "NameError",
     "evalue": "name 'tokens' is not defined",
     "output_type": "error",
     "traceback": [
      "\u001b[0;31m---------------------------------------------------------------------------\u001b[0m",
      "\u001b[0;31mNameError\u001b[0m                                 Traceback (most recent call last)",
      "Cell \u001b[0;32mIn[14], line 1\u001b[0m\n\u001b[0;32m----> 1\u001b[0m \u001b[38;5;28;01mdel\u001b[39;00m tokens, preps, optionals, varieties, brands, alt_food, inp\n",
      "\u001b[0;31mNameError\u001b[0m: name 'tokens' is not defined"
     ]
    }
   ],
   "source": [
    "del tokens, preps, optionals, varieties, brands, alt_food, inp"
   ]
  },
  {
   "cell_type": "markdown",
   "id": "3e0da1ad-df12-4b46-b79e-d8facd879213",
   "metadata": {
    "editable": true,
    "slideshow": {
     "slide_type": ""
    },
    "tags": []
   },
   "source": [
    "### Additional preprocessed data model"
   ]
  },
  {
   "cell_type": "code",
   "execution_count": 15,
   "id": "eb641942-5882-4e19-8911-173851010f6c",
   "metadata": {},
   "outputs": [],
   "source": [
    "mlflow.set_tracking_uri(os.getenv(\"MLFLOW_TRACKING_URL\"))"
   ]
  },
  {
   "cell_type": "code",
   "execution_count": 16,
   "id": "861e2d49-019b-4f78-b0df-d7e99c230aee",
   "metadata": {},
   "outputs": [],
   "source": [
    "model_uri = 'models:/recipe_NER@prod_extra'"
   ]
  },
  {
   "cell_type": "code",
   "execution_count": 17,
   "id": "c0bfee62-f46f-4318-b207-fb83cf788522",
   "metadata": {
    "editable": true,
    "slideshow": {
     "slide_type": ""
    },
    "tags": []
   },
   "outputs": [
    {
     "data": {
      "application/vnd.jupyter.widget-view+json": {
       "model_id": "c826c59e089b45d5a2f473c6acbeb63b",
       "version_major": 2,
       "version_minor": 0
      },
      "text/plain": [
       "Downloading artifacts:   0%|          | 0/17 [00:00<?, ?it/s]"
      ]
     },
     "metadata": {},
     "output_type": "display_data"
    }
   ],
   "source": [
    "NER_model = mlflow.spacy.load_model(model_uri)"
   ]
  },
  {
   "cell_type": "code",
   "execution_count": 32,
   "id": "90956149-5fe8-456a-aa76-c79e15b1c7d6",
   "metadata": {
    "editable": true,
    "slideshow": {
     "slide_type": ""
    },
    "tags": []
   },
   "outputs": [],
   "source": [
    "pq_filen = \"../../../data/databases/full_extra.parquet\""
   ]
  },
  {
   "cell_type": "code",
   "execution_count": 33,
   "id": "f2d821fc-c2e9-4658-9ff5-f3fbf3ee9311",
   "metadata": {
    "editable": true,
    "slideshow": {
     "slide_type": ""
    },
    "tags": []
   },
   "outputs": [],
   "source": [
    "start = timeit.default_timer()\n",
    "tokens, preps, optionals, varieties, brands, alt_foods = transform_data_to_tokens(\n",
    "    eval_ds['ingredients'], NER_model,\n",
    "    True, True, True\n",
    ")"
   ]
  },
  {
   "cell_type": "code",
   "execution_count": 34,
   "id": "fc8c92b7-25aa-4b15-9224-f72251504bce",
   "metadata": {
    "editable": true,
    "slideshow": {
     "slide_type": ""
    },
    "tags": []
   },
   "outputs": [],
   "source": [
    "inp = [\n",
    "    ParquetDefinition(data=tokens, name=\"tokens\"),\n",
    "    ParquetDefinition(data=preps, name=\"preps\", is_map=True),\n",
    "    ParquetDefinition(data=optionals, name=\"optionals\"),\n",
    "    ParquetDefinition(data=varieties, name=\"varieties\", is_map=True),\n",
    "    ParquetDefinition(data=brands, name=\"brands\", is_map=True),\n",
    "    ParquetDefinition(data=alt_foods, name=\"alt_foods\"),\n",
    "]\n",
    "create_parquet_file(pq_filen, eval_ds.select(pl.exclude('tfidf')), inp, force_overwrite=force_overwrite_pq)\n",
    "time = timeit.default_timer() - start"
   ]
  },
  {
   "cell_type": "code",
   "execution_count": 35,
   "id": "f00f4994-499a-4df0-a96d-55ef7cef7b2d",
   "metadata": {
    "editable": true,
    "slideshow": {
     "slide_type": ""
    },
    "tags": []
   },
   "outputs": [
    {
     "name": "stdout",
     "output_type": "stream",
     "text": [
      "Dataset transformation took 0.36488505703164265s, or 0.07297701140632853s/row\n"
     ]
    }
   ],
   "source": [
    "print(f\"Dataset transformation took {time}s, or {time/eval_ds.shape[0]}s/row\")"
   ]
  },
  {
   "cell_type": "code",
   "execution_count": 37,
   "id": "206e22cd-7d39-4103-bf4c-892489e5729d",
   "metadata": {},
   "outputs": [
    {
     "data": {
      "text/plain": [
       "┌───────┬───────────────────────┬───────────────────────────────────────────────────────────────────────────────────────────────────────────────────────────────────────────────────────────────────────────────────┬─────────────────────────────────────────────────────────────────────────────────────────────────────────────────────────────────────────────────────────────────────────────────────────────────────────────────────────────────────────────────────────────────────────────────────────────────────────────────────────────────────────────────────────────────────────────────────────────┬─────────────────────────────────────────────────┬──────────┬───────────────────────────────────────────────────────────────────────────────────────────┬───────┬───────────────────────────────────────────────────────────────────────┬────────────────────────────────────────────┬──────────────────────────────────────────────────────────────────────────┬─────────┬────────────────────┬────────────────────────────────────────────┐\n",
       "│  C0   │         title         │                                                                                    ingredients                                                                                    │                                                                                                                                                                                         directions                                                                                                                                                                                          │                      link                       │  source  │                                            NER                                            │ index │                                tokens                                 │                 optionals                  │                                varieties                                 │ brands  │     alt_foods      │                   preps                    │\n",
       "│ int64 │        varchar        │                                                                                     varchar[]                                                                                     │                                                                                                                                                                                          varchar[]                                                                                                                                                                                          │                     varchar                     │ varchar  │                                          varchar                                          │ int64 │                               varchar[]                               │                 boolean[]                  │                struct(\"key\" varchar, \"value\" varchar[])[]                │ int32[] │     varchar[]      │          map(varchar, varchar[])           │\n",
       "├───────┼───────────────────────┼───────────────────────────────────────────────────────────────────────────────────────────────────────────────────────────────────────────────────────────────────────────────────┼─────────────────────────────────────────────────────────────────────────────────────────────────────────────────────────────────────────────────────────────────────────────────────────────────────────────────────────────────────────────────────────────────────────────────────────────────────────────────────────────────────────────────────────────────────────────────────────────┼─────────────────────────────────────────────────┼──────────┼───────────────────────────────────────────────────────────────────────────────────────────┼───────┼───────────────────────────────────────────────────────────────────────┼────────────────────────────────────────────┼──────────────────────────────────────────────────────────────────────────┼─────────┼────────────────────┼────────────────────────────────────────────┤\n",
       "│     0 │ No-Bake Nut Cookies   │ [1 c. firmly packed brown sugar, 1/2 c. evaporated milk, 1/2 tsp. vanilla, '1/2 c. broken nuts (pecans)', 2 Tbsp. butter or margarine, 3 1/2 c. bite size shredded rice biscuits] │ ['In a heavy 2-quart saucepan, mix brown sugar, nuts, evaporated milk and butter or margarine.', Stir over medium heat until mixture bubbles all over top., Boil and stir 5 minutes more. Take off heat., Stir in vanilla and cereal; mix well., 'Using 2 teaspoons, drop and shape into 30 clusters on wax paper.', 'Let stand until firm, about 30 minutes.']                             │ www.cookbooks.com/Recipe-Details.aspx?id=44874  │ Gathered │ [\"brown sugar\", \"milk\", \"vanilla\", \"nuts\", \"butter\", \"bite size shredded rice biscuits\"]  │     0 │ [brown_sugar, evaporate_milk, vanilla, nut, butter, rice_biscuit]     │ [false, false, false, false, false, false] │ [{'key': nut, 'value': [break]}, {'key': rice_biscuit, 'value': [bite]}] │ []      │ [pecan, margarine] │ {brown_sugar=[pack], rice_biscuit=[shred]} │\n",
       "│     1 │ Jewell Ball'S Chicken │ ['1 small jar chipped beef, cut up', 4 boned chicken breasts, 1 can cream of mushroom soup, 1 carton sour cream]                                                                  │ [Place chipped beef on bottom of baking dish., Place chicken on top of beef., 'Mix soup and cream together; pour over chicken. Bake, uncovered, at 275° for 3 hours.']                                                                                                                                                                                                                      │ www.cookbooks.com/Recipe-Details.aspx?id=699419 │ Gathered │ [\"beef\", \"chicken breasts\", \"cream of mushroom soup\", \"sour cream\"]                       │     1 │ [beef, chicken_breast, cream_of_mushroom_soup, sour_cream]            │ [false, false, false, false]               │ [{'key': chicken_breast, 'value': [bone]}]                               │ []      │ []                 │ {beef=[chip, cut, up]}                     │\n",
       "│     2 │ Creamy Corn           │ ['2 (16 oz.) pkg. frozen corn', '1 (8 oz.) pkg. cream cheese, cubed', '1/3 c. butter, cubed', 1/2 tsp. garlic powder, 1/2 tsp. salt, 1/4 tsp. pepper]                             │ ['In a slow cooker, combine all ingredients. Cover and cook on low for 4 hours or until heated through and cheese is melted. Stir well before serving. Yields 6 servings.']                                                                                                                                                                                                                 │ www.cookbooks.com/Recipe-Details.aspx?id=10570  │ Gathered │ [\"frozen corn\", \"cream cheese\", \"butter\", \"garlic powder\", \"salt\", \"pepper\"]              │     2 │ [corn, cream_cheese, butter, garlic_powder]                           │ [false, false, false, false]               │ []                                                                       │ []      │ []                 │ {cream_cheese=[cube], butter=[cube]}       │\n",
       "│     3 │ Chicken Funny         │ [1 large whole chicken, '2 (10 1/2 oz.) cans chicken gravy', '1 (10 1/2 oz.) can cream of mushroom soup', '1 (6 oz.) box Stove Top stuffing', 4 oz. shredded cheese]              │ [Boil and debone chicken., Put bite size pieces in average size square casserole dish., Pour gravy and cream of mushroom soup over chicken; level., 'Make stuffing according to instructions on box (do not make too moist).', Put stuffing on top of chicken and gravy; level., Sprinkle shredded cheese on top and bake at 350° for approximately 20 minutes or until golden and bubbly.] │ www.cookbooks.com/Recipe-Details.aspx?id=897570 │ Gathered │ [\"chicken\", \"chicken gravy\", \"cream of mushroom soup\", \"shredded cheese\"]                 │     3 │ [chicken, chicken_gravy, cream_of_mushroom_soup, cheese]              │ [false, false, false, false]               │ [{'key': chicken, 'value': [whole]}]                                     │ []      │ []                 │ {cheese=[shred]}                           │\n",
       "│     4 │ Reeses Cups(Candy)    │ [1 c. peanut butter, 3/4 c. graham cracker crumbs, 1 c. melted butter, '1 lb. (3 1/2 c.) powdered sugar', 1 large pkg. chocolate chips]                                           │ [Combine first four ingredients and press in 13 x 9-inch ungreased pan., Melt chocolate chips and spread over mixture. Refrigerate for about 20 minutes and cut into pieces before chocolate gets hard., Keep in refrigerator.]                                                                                                                                                             │ www.cookbooks.com/Recipe-Details.aspx?id=659239 │ Gathered │ [\"peanut butter\", \"graham cracker crumbs\", \"butter\", \"powdered sugar\", \"chocolate chips\"] │     4 │ [peanut_butter, graham_cracker, butter, powder_sugar, chocolate_chip] │ [false, false, false, false, false]        │ [{'key': graham_cracker, 'value': [crumb]}]                              │ []      │ []                 │ {butter=[melt]}                            │\n",
       "└───────┴───────────────────────┴───────────────────────────────────────────────────────────────────────────────────────────────────────────────────────────────────────────────────────────────────────────────────┴─────────────────────────────────────────────────────────────────────────────────────────────────────────────────────────────────────────────────────────────────────────────────────────────────────────────────────────────────────────────────────────────────────────────────────────────────────────────────────────────────────────────────────────────────────────────────────────────┴─────────────────────────────────────────────────┴──────────┴───────────────────────────────────────────────────────────────────────────────────────────┴───────┴───────────────────────────────────────────────────────────────────────┴────────────────────────────────────────────┴──────────────────────────────────────────────────────────────────────────┴─────────┴────────────────────┴────────────────────────────────────────────┘"
      ]
     },
     "execution_count": 37,
     "metadata": {},
     "output_type": "execute_result"
    }
   ],
   "source": [
    "duckdb.sql(f\"SELECT * FROM read_parquet('{pq_filen}')\")"
   ]
  },
  {
   "cell_type": "code",
   "execution_count": null,
   "id": "70040954-ccdd-49da-a278-6f9028234acc",
   "metadata": {},
   "outputs": [],
   "source": []
  }
 ],
 "metadata": {
  "kernelspec": {
   "display_name": "Python 3 (ipykernel)",
   "language": "python",
   "name": "python3"
  },
  "language_info": {
   "codemirror_mode": {
    "name": "ipython",
    "version": 3
   },
   "file_extension": ".py",
   "mimetype": "text/x-python",
   "name": "python",
   "nbconvert_exporter": "python",
   "pygments_lexer": "ipython3",
   "version": "3.10.16"
  }
 },
 "nbformat": 4,
 "nbformat_minor": 5
}
