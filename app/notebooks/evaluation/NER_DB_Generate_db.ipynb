{
 "cells": [
  {
   "cell_type": "markdown",
   "id": "51fa6c3e-8b79-482d-89b6-c2c5daabb187",
   "metadata": {
    "editable": true,
    "slideshow": {
     "slide_type": ""
    },
    "tags": []
   },
   "source": [
    "# NER + parquet/duckdbEvaluation "
   ]
  },
  {
   "cell_type": "code",
   "execution_count": 27,
   "id": "a8878ef0-d226-493a-a90b-ca8c673cf97a",
   "metadata": {
    "editable": true,
    "slideshow": {
     "slide_type": ""
    },
    "tags": []
   },
   "outputs": [],
   "source": [
    "import spacy\n",
    "import mlflow\n",
    "import mlflow.spacy\n",
    "import polars as pl\n",
    "import scipy\n",
    "import duckdb\n",
    "import numpy as np\n",
    "import json\n",
    "import timeit\n",
    "import matplotlib.pyplot as plt\n",
    "from rank_bm25 import BM25Okapi"
   ]
  },
  {
   "cell_type": "code",
   "execution_count": 28,
   "id": "7a51787d-7fc7-4033-ba82-66cc5f95841b",
   "metadata": {
    "editable": true,
    "slideshow": {
     "slide_type": ""
    },
    "tags": []
   },
   "outputs": [
    {
     "data": {
      "text/plain": [
       "True"
      ]
     },
     "execution_count": 28,
     "metadata": {},
     "output_type": "execute_result"
    }
   ],
   "source": [
    "import os\n",
    "import sys\n",
    "from dotenv import load_dotenv\n",
    "sys.path.insert(0, os.path.abspath('..'))\n",
    "sys.path.insert(0, os.path.abspath('../..'))\n",
    "sys.path.insert(0, os.path.abspath('../../..'))\n",
    "from app.evaluation import reciprocal_rank, rank_BOW_results, precision_at_k\n",
    "from app.data_handling.NER_parquet import (\n",
    "process_ingredient,\n",
    "transform_ingredients_to_tokens,\n",
    "transform_data_to_tokens,\n",
    "construct_ingredient_query,\n",
    "ParquetDefinition,\n",
    "create_parquet_file\n",
    ")\n",
    "load_dotenv()"
   ]
  },
  {
   "cell_type": "markdown",
   "id": "865180d3-d89d-4023-8990-d504507ad5b1",
   "metadata": {},
   "source": [
    "# Set up definitions\n",
    "Datasets:\n",
    " - 1k_processed\n",
    " - 10k\n",
    " - 100k\n",
    " - full"
   ]
  },
  {
   "cell_type": "code",
   "execution_count": 29,
   "id": "bce70294-7ce9-4721-b964-b4143494b565",
   "metadata": {
    "editable": true,
    "slideshow": {
     "slide_type": ""
    },
    "tags": []
   },
   "outputs": [],
   "source": [
    "dataset_name = '1k_processed'\n",
    "run_name = 'line_only_pre_lemma_v6'\n",
    "model_name = run_name\n",
    "force_overwrite_pq = True\n",
    "#model_uri = 'runs:/e00edb7abff845f3913810918de00fe8/model'"
   ]
  },
  {
   "cell_type": "code",
   "execution_count": 30,
   "id": "39b986db-210e-470f-9d86-70c36536a004",
   "metadata": {},
   "outputs": [],
   "source": [
    "with open(\"../../../data/eval_data/eval_10k.json\", \"r\") as f:\n",
    "    ds_10k = pl.read_json(f)\n",
    "with open(\"../../../data/eval_data/eval_100k.json\", \"r\") as f:\n",
    "    ds_100k = pl.read_json(f)"
   ]
  },
  {
   "cell_type": "markdown",
   "id": "e81e5272-4b70-4459-aa60-eaf777f24fc2",
   "metadata": {},
   "source": [
    "##  code"
   ]
  },
  {
   "cell_type": "markdown",
   "id": "f13a3244-983f-42e0-b068-8eb7fe2db45f",
   "metadata": {},
   "source": [
    "### Normal 10k"
   ]
  },
  {
   "cell_type": "code",
   "execution_count": 5,
   "id": "caaabde2-10e1-42f9-8baa-4e3a4eba98c3",
   "metadata": {},
   "outputs": [],
   "source": [
    "mlflow.set_tracking_uri(os.getenv(\"MLFLOW_TRACKING_URL\"))"
   ]
  },
  {
   "cell_type": "code",
   "execution_count": 6,
   "id": "f1499171-e12e-425e-8f00-6839b551d442",
   "metadata": {},
   "outputs": [],
   "source": [
    "model_uri = 'models:/recipe_NER@prod'"
   ]
  },
  {
   "cell_type": "code",
   "execution_count": 7,
   "id": "fcc6a70b-3ec9-452b-80fe-2da4ae040ad2",
   "metadata": {
    "editable": true,
    "slideshow": {
     "slide_type": ""
    },
    "tags": []
   },
   "outputs": [
    {
     "data": {
      "application/vnd.jupyter.widget-view+json": {
       "model_id": "fe2b7f2b05a747039741e3eb9d92f32a",
       "version_major": 2,
       "version_minor": 0
      },
      "text/plain": [
       "Downloading artifacts:   0%|          | 0/17 [00:00<?, ?it/s]"
      ]
     },
     "metadata": {},
     "output_type": "display_data"
    }
   ],
   "source": [
    "NER_model = mlflow.spacy.load_model(model_uri)"
   ]
  },
  {
   "cell_type": "code",
   "execution_count": 8,
   "id": "a4db3577-6879-4aff-aa67-e350804547c4",
   "metadata": {
    "editable": true,
    "slideshow": {
     "slide_type": ""
    },
    "tags": []
   },
   "outputs": [],
   "source": [
    "pq_filen = \"../../../data/databases/10k.parquet\""
   ]
  },
  {
   "cell_type": "code",
   "execution_count": 9,
   "id": "dee82162-22fa-4ac7-9021-386a05f6b410",
   "metadata": {
    "editable": true,
    "slideshow": {
     "slide_type": ""
    },
    "tags": []
   },
   "outputs": [],
   "source": [
    "start = timeit.default_timer()\n",
    "tokens, preps, optionals, varieties, brands, alt_foods = transform_data_to_tokens(\n",
    "    ds_10k['ingredients'], NER_model,\n",
    "    True, True, True\n",
    ")"
   ]
  },
  {
   "cell_type": "code",
   "execution_count": 10,
   "id": "d8cde1dc-cda4-41f8-b8c7-f0b35172569e",
   "metadata": {
    "editable": true,
    "slideshow": {
     "slide_type": ""
    },
    "tags": []
   },
   "outputs": [],
   "source": [
    "inp = [\n",
    "    ParquetDefinition(data=tokens, name=\"tokens\"),\n",
    "    ParquetDefinition(data=preps, name=\"preps\", is_map=True),\n",
    "    ParquetDefinition(data=optionals, name=\"optionals\"),\n",
    "    ParquetDefinition(data=varieties, name=\"varieties\", is_map=True),\n",
    "    ParquetDefinition(data=brands, name=\"brands\", is_map=True),\n",
    "    ParquetDefinition(data=alt_foods, name=\"alt_foods\"),\n",
    "]\n",
    "create_parquet_file(pq_filen, ds_10k, inp, force_overwrite=force_overwrite_pq)\n",
    "time = timeit.default_timer() - start"
   ]
  },
  {
   "cell_type": "code",
   "execution_count": 12,
   "id": "c129b163-2c30-4731-b93c-f684d3650a4e",
   "metadata": {
    "editable": true,
    "slideshow": {
     "slide_type": ""
    },
    "tags": []
   },
   "outputs": [
    {
     "name": "stdout",
     "output_type": "stream",
     "text": [
      "Dataset transformation took 485.9048548399005s, or 0.04859048548399005s/row\n"
     ]
    }
   ],
   "source": [
    "print(f\"Dataset transformation took {time}s, or {time/ds_10k.shape[0]}s/row\")"
   ]
  },
  {
   "cell_type": "code",
   "execution_count": 13,
   "id": "bf935144-fccc-47a5-9571-9f9c4a0fc5b5",
   "metadata": {},
   "outputs": [],
   "source": [
    "del tokens, preps, optionals, varieties, brands, alt_foods, inp"
   ]
  },
  {
   "cell_type": "markdown",
   "id": "3e0da1ad-df12-4b46-b79e-d8facd879213",
   "metadata": {
    "editable": true,
    "slideshow": {
     "slide_type": ""
    },
    "tags": []
   },
   "source": [
    "### Additional preprocessed data model 10k"
   ]
  },
  {
   "cell_type": "code",
   "execution_count": 14,
   "id": "861e2d49-019b-4f78-b0df-d7e99c230aee",
   "metadata": {},
   "outputs": [],
   "source": [
    "model_uri = 'models:/recipe_NER@prod_extra'"
   ]
  },
  {
   "cell_type": "code",
   "execution_count": 15,
   "id": "c0bfee62-f46f-4318-b207-fb83cf788522",
   "metadata": {
    "editable": true,
    "slideshow": {
     "slide_type": ""
    },
    "tags": []
   },
   "outputs": [
    {
     "data": {
      "application/vnd.jupyter.widget-view+json": {
       "model_id": "6a7066feb2594ea1854d388db455d6d3",
       "version_major": 2,
       "version_minor": 0
      },
      "text/plain": [
       "Downloading artifacts:   0%|          | 0/17 [00:00<?, ?it/s]"
      ]
     },
     "metadata": {},
     "output_type": "display_data"
    }
   ],
   "source": [
    "NER_model = mlflow.spacy.load_model(model_uri)"
   ]
  },
  {
   "cell_type": "code",
   "execution_count": 16,
   "id": "90956149-5fe8-456a-aa76-c79e15b1c7d6",
   "metadata": {
    "editable": true,
    "slideshow": {
     "slide_type": ""
    },
    "tags": []
   },
   "outputs": [],
   "source": [
    "pq_filen = \"../../../data/databases/10k_extra.parquet\""
   ]
  },
  {
   "cell_type": "code",
   "execution_count": 17,
   "id": "f2d821fc-c2e9-4658-9ff5-f3fbf3ee9311",
   "metadata": {
    "editable": true,
    "slideshow": {
     "slide_type": ""
    },
    "tags": []
   },
   "outputs": [],
   "source": [
    "start = timeit.default_timer()\n",
    "tokens, preps, optionals, varieties, brands, alt_foods = transform_data_to_tokens(\n",
    "    ds_10k['ingredients'], NER_model,\n",
    "    True, True, True\n",
    ")"
   ]
  },
  {
   "cell_type": "code",
   "execution_count": 18,
   "id": "fc8c92b7-25aa-4b15-9224-f72251504bce",
   "metadata": {
    "editable": true,
    "slideshow": {
     "slide_type": ""
    },
    "tags": []
   },
   "outputs": [],
   "source": [
    "inp = [\n",
    "    ParquetDefinition(data=tokens, name=\"tokens\"),\n",
    "    ParquetDefinition(data=preps, name=\"preps\", is_map=True),\n",
    "    ParquetDefinition(data=optionals, name=\"optionals\"),\n",
    "    ParquetDefinition(data=varieties, name=\"varieties\", is_map=True),\n",
    "    ParquetDefinition(data=brands, name=\"brands\", is_map=True),\n",
    "    ParquetDefinition(data=alt_foods, name=\"alt_foods\"),\n",
    "]\n",
    "create_parquet_file(pq_filen, ds_10k, inp, force_overwrite=force_overwrite_pq)\n",
    "time = timeit.default_timer() - start"
   ]
  },
  {
   "cell_type": "code",
   "execution_count": 19,
   "id": "f00f4994-499a-4df0-a96d-55ef7cef7b2d",
   "metadata": {
    "editable": true,
    "slideshow": {
     "slide_type": ""
    },
    "tags": []
   },
   "outputs": [
    {
     "name": "stdout",
     "output_type": "stream",
     "text": [
      "Dataset transformation took 507.80475788994227s, or 0.05078047578899423s/row\n"
     ]
    }
   ],
   "source": [
    "print(f\"Dataset transformation took {time}s, or {time/ds_10k.shape[0]}s/row\")"
   ]
  },
  {
   "cell_type": "code",
   "execution_count": null,
   "id": "206e22cd-7d39-4103-bf4c-892489e5729d",
   "metadata": {},
   "outputs": [],
   "source": []
  },
  {
   "cell_type": "code",
   "execution_count": 20,
   "id": "e2e63543-4a9d-497a-9d63-b8580b67b9a3",
   "metadata": {},
   "outputs": [],
   "source": [
    "del tokens, preps, optionals, varieties, brands, alt_foods, inp"
   ]
  },
  {
   "cell_type": "markdown",
   "id": "5bee1c4e-52cb-4eb2-9651-a2175dfda33d",
   "metadata": {},
   "source": [
    "### Normal 100k"
   ]
  },
  {
   "cell_type": "code",
   "execution_count": 31,
   "id": "396fa5bd-6f84-42e1-96eb-68955a2bbc61",
   "metadata": {},
   "outputs": [],
   "source": [
    "model_uri = 'models:/recipe_NER@prod'"
   ]
  },
  {
   "cell_type": "code",
   "execution_count": 32,
   "id": "c072e4f6-c74c-43ca-b936-ede0fc07514a",
   "metadata": {
    "editable": true,
    "slideshow": {
     "slide_type": ""
    },
    "tags": []
   },
   "outputs": [
    {
     "data": {
      "application/vnd.jupyter.widget-view+json": {
       "model_id": "4d0dff0bc52b474e80bc42a6b3d957d4",
       "version_major": 2,
       "version_minor": 0
      },
      "text/plain": [
       "Downloading artifacts:   0%|          | 0/17 [00:00<?, ?it/s]"
      ]
     },
     "metadata": {},
     "output_type": "display_data"
    }
   ],
   "source": [
    "NER_model = mlflow.spacy.load_model(model_uri)"
   ]
  },
  {
   "cell_type": "code",
   "execution_count": 33,
   "id": "685ff8fd-9ddc-4c48-9f5c-b0d6dc573196",
   "metadata": {
    "editable": true,
    "slideshow": {
     "slide_type": ""
    },
    "tags": []
   },
   "outputs": [],
   "source": [
    "pq_filen = \"../../../data/databases/100k.parquet\""
   ]
  },
  {
   "cell_type": "code",
   "execution_count": 34,
   "id": "ed1d7e15-1d35-4884-8903-568945183fb8",
   "metadata": {
    "editable": true,
    "slideshow": {
     "slide_type": ""
    },
    "tags": []
   },
   "outputs": [],
   "source": [
    "start = timeit.default_timer()\n",
    "tokens, preps, optionals, varieties, brands, alt_foods = transform_data_to_tokens(\n",
    "    ds_100k['ingredients'], NER_model,\n",
    "    True, True, True\n",
    ")"
   ]
  },
  {
   "cell_type": "code",
   "execution_count": 35,
   "id": "977d8ec6-c695-4ad2-8ba2-7d883bf1dd21",
   "metadata": {
    "editable": true,
    "slideshow": {
     "slide_type": ""
    },
    "tags": []
   },
   "outputs": [],
   "source": [
    "inp = [\n",
    "    ParquetDefinition(data=tokens, name=\"tokens\"),\n",
    "    ParquetDefinition(data=preps, name=\"preps\", is_map=True),\n",
    "    ParquetDefinition(data=optionals, name=\"optionals\"),\n",
    "    ParquetDefinition(data=varieties, name=\"varieties\", is_map=True),\n",
    "    ParquetDefinition(data=brands, name=\"brands\", is_map=True),\n",
    "    ParquetDefinition(data=alt_foods, name=\"alt_foods\"),\n",
    "]\n",
    "create_parquet_file(pq_filen, ds_100k, inp, force_overwrite=force_overwrite_pq)\n",
    "time = timeit.default_timer() - start"
   ]
  },
  {
   "cell_type": "code",
   "execution_count": 36,
   "id": "37de9cb3-6860-449f-b156-64ef9655748c",
   "metadata": {
    "editable": true,
    "slideshow": {
     "slide_type": ""
    },
    "tags": []
   },
   "outputs": [
    {
     "name": "stdout",
     "output_type": "stream",
     "text": [
      "Dataset transformation took 5761.082738347002s, or 0.05761082738347002s/row\n"
     ]
    }
   ],
   "source": [
    "print(f\"Dataset transformation took {time}s, or {time/ds_100k.shape[0]}s/row\")"
   ]
  },
  {
   "cell_type": "code",
   "execution_count": null,
   "id": "2470d279-3111-4c71-b013-4ee7556084d2",
   "metadata": {},
   "outputs": [],
   "source": []
  }
 ],
 "metadata": {
  "kernelspec": {
   "display_name": "Python 3 (ipykernel)",
   "language": "python",
   "name": "python3"
  },
  "language_info": {
   "codemirror_mode": {
    "name": "ipython",
    "version": 3
   },
   "file_extension": ".py",
   "mimetype": "text/x-python",
   "name": "python",
   "nbconvert_exporter": "python",
   "pygments_lexer": "ipython3",
   "version": "3.10.16"
  }
 },
 "nbformat": 4,
 "nbformat_minor": 5
}
