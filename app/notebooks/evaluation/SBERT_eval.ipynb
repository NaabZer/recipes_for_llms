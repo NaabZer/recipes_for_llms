{
 "cells": [
  {
   "cell_type": "markdown",
   "id": "51fa6c3e-8b79-482d-89b6-c2c5daabb187",
   "metadata": {
    "editable": true,
    "slideshow": {
     "slide_type": ""
    },
    "tags": []
   },
   "source": [
    "# SentenceBERT Evaluation "
   ]
  },
  {
   "cell_type": "code",
   "execution_count": 11,
   "id": "a8878ef0-d226-493a-a90b-ca8c673cf97a",
   "metadata": {
    "editable": true,
    "slideshow": {
     "slide_type": ""
    },
    "tags": []
   },
   "outputs": [],
   "source": [
    "import polars as pl\n",
    "import seaborn as sns\n",
    "import numpy as np\n",
    "import json\n",
    "import timeit\n",
    "import matplotlib.pyplot as plt\n",
    "from sentence_transformers import SentenceTransformer, CrossEncoder"
   ]
  },
  {
   "cell_type": "code",
   "execution_count": 85,
   "id": "7a51787d-7fc7-4033-ba82-66cc5f95841b",
   "metadata": {
    "editable": true,
    "slideshow": {
     "slide_type": ""
    },
    "tags": []
   },
   "outputs": [
    {
     "data": {
      "text/plain": [
       "True"
      ]
     },
     "execution_count": 85,
     "metadata": {},
     "output_type": "execute_result"
    }
   ],
   "source": [
    "import os\n",
    "import sys\n",
    "from dotenv import load_dotenv\n",
    "sys.path.insert(0, os.path.abspath('..'))\n",
    "sys.path.insert(0, os.path.abspath('../..'))\n",
    "sys.path.insert(0, os.path.abspath('../../..'))\n",
    "from app.evaluation import reciprocal_rank, rank_BOW_results, precision_at_k\n",
    "load_dotenv()"
   ]
  },
  {
   "cell_type": "markdown",
   "id": "865180d3-d89d-4023-8990-d504507ad5b1",
   "metadata": {
    "editable": true,
    "slideshow": {
     "slide_type": ""
    },
    "tags": []
   },
   "source": [
    "# Set up definitions\n",
    "Datasets:\n",
    " - 1k_processed\n",
    " - 10k\n",
    " - 100k\n",
    " - full"
   ]
  },
  {
   "cell_type": "code",
   "execution_count": 74,
   "id": "bce70294-7ce9-4721-b964-b4143494b565",
   "metadata": {},
   "outputs": [],
   "source": [
    "dataset_name = '10k'\n",
    "run_name = 'first_SBERT'"
   ]
  },
  {
   "cell_type": "code",
   "execution_count": 75,
   "id": "44dcca0b-9916-47bd-9102-4c32882e21a4",
   "metadata": {
    "editable": true,
    "slideshow": {
     "slide_type": ""
    },
    "tags": []
   },
   "outputs": [],
   "source": [
    "with open(\"../../../data/eval_data/processed_data.json\", \"r\") as f:\n",
    "    query_ds = pl.read_json(f)\n",
    "with open(\"../../../data/eval_data/human_annotations.json\", \"r\") as f:\n",
    "    human_query_ds = pl.read_json(f)"
   ]
  },
  {
   "cell_type": "code",
   "execution_count": 76,
   "id": "19f5a6ee-a682-41d9-be10-b5fa95f5e8f7",
   "metadata": {},
   "outputs": [],
   "source": [
    "if dataset_name == '1k_processed':\n",
    "    eval_ds = query_ds\n",
    "elif dataset_name == '10k':\n",
    "    with open(\"../../../data/eval_data/eval_10k.json\", \"r\") as f:\n",
    "        eval_ds = pl.read_json(f)\n",
    "elif dataset_name == '100k':\n",
    "    with open(\"../../../data/eval_data/eval_100k.json\", \"r\") as f:\n",
    "        eval_ds = pl.read_json(f)"
   ]
  },
  {
   "cell_type": "code",
   "execution_count": 91,
   "id": "ce0d3ba2-5b9a-416b-99f5-0a0140a4417c",
   "metadata": {},
   "outputs": [
    {
     "data": {
      "text/html": [
       "<div><style>\n",
       ".dataframe > thead > tr,\n",
       ".dataframe > tbody > tr {\n",
       "  text-align: right;\n",
       "  white-space: pre-wrap;\n",
       "}\n",
       "</style>\n",
       "<small>shape: (0, 8)</small><table border=\"1\" class=\"dataframe\"><thead><tr><th>Model</th><th>Eval_Task</th><th>Dataset</th><th>MRR</th><th>TKA</th><th>Time_Tot</th><th>Time_Query</th><th>Error_Count</th></tr><tr><td>str</td><td>str</td><td>str</td><td>f64</td><td>f64</td><td>f64</td><td>f64</td><td>i32</td></tr></thead><tbody></tbody></table></div>"
      ],
      "text/plain": [
       "shape: (0, 8)\n",
       "┌───────┬───────────┬─────────┬─────┬─────┬──────────┬────────────┬─────────────┐\n",
       "│ Model ┆ Eval_Task ┆ Dataset ┆ MRR ┆ TKA ┆ Time_Tot ┆ Time_Query ┆ Error_Count │\n",
       "│ ---   ┆ ---       ┆ ---     ┆ --- ┆ --- ┆ ---      ┆ ---        ┆ ---         │\n",
       "│ str   ┆ str       ┆ str     ┆ f64 ┆ f64 ┆ f64      ┆ f64        ┆ i32         │\n",
       "╞═══════╪═══════════╪═════════╪═════╪═════╪══════════╪════════════╪═════════════╡\n",
       "└───────┴───────────┴─────────┴─────┴─────┴──────────┴────────────┴─────────────┘"
      ]
     },
     "execution_count": 91,
     "metadata": {},
     "output_type": "execute_result"
    }
   ],
   "source": [
    "results_df = pl.DataFrame(\n",
    "    schema={\n",
    "        'Model': pl.String,\n",
    "        'Eval_Task': pl.String,\n",
    "        \"Dataset\": pl.String,\n",
    "        \"MRR\": pl.Float64,\n",
    "        \"TKA\": pl.Float64,\n",
    "        \"Time_Tot\": pl.Float64,\n",
    "        \"Time_Query\": pl.Float64,\n",
    "        \"Error_Count\": pl.Int32\n",
    "    })\n",
    "results_df"
   ]
  },
  {
   "cell_type": "code",
   "execution_count": 78,
   "id": "6303122f-e46d-46db-a036-7a8868c3af8e",
   "metadata": {},
   "outputs": [],
   "source": [
    "sbert_model = SentenceTransformer(\"all-MiniLM-L6-v2\")"
   ]
  },
  {
   "cell_type": "code",
   "execution_count": 79,
   "id": "7845f0d5-b2b8-424f-a0ce-61933ab392f2",
   "metadata": {},
   "outputs": [],
   "source": [
    "sents = [\"\\n\".join(ing) for ing in eval_ds['ingredients']]"
   ]
  },
  {
   "cell_type": "code",
   "execution_count": 80,
   "id": "9612716b-0ef8-43ca-af25-3398830a5475",
   "metadata": {},
   "outputs": [],
   "source": [
    "embeddings = sbert_model.encode(sents)"
   ]
  },
  {
   "cell_type": "code",
   "execution_count": 82,
   "id": "45b61455-056c-455f-a544-b9dcd7b994d2",
   "metadata": {},
   "outputs": [],
   "source": [
    "eval_ds = eval_ds.with_columns(pl.Series(name=\"sbert\", values=embeddings))"
   ]
  },
  {
   "cell_type": "markdown",
   "id": "e81e5272-4b70-4459-aa60-eaf777f24fc2",
   "metadata": {},
   "source": [
    "## Running code"
   ]
  },
  {
   "cell_type": "code",
   "execution_count": null,
   "id": "5bfadc7e-25d1-4f1b-89f9-634ae45b5554",
   "metadata": {},
   "outputs": [],
   "source": []
  },
  {
   "cell_type": "markdown",
   "id": "cf4664ed-5e3b-45a1-a087-00c13132ca43",
   "metadata": {
    "scrolled": true
   },
   "source": [
    "### start = timeit.default_timer()\n",
    "embeddings = sbert_model.encode(eval_ds['\n",
    "time = timeit.default_timer() - start\n",
    "print(f\"Dataset transformation took {time}s, or {time/eval_ds.shape[0]}s/row\")"
   ]
  },
  {
   "cell_type": "code",
   "execution_count": 92,
   "id": "84778666-bcc6-4fdb-87f4-945389036b0c",
   "metadata": {},
   "outputs": [],
   "source": [
    "def evaluation_task_SBERT(eval_ds: pl.DataFrame, query_ds: pl.DataFrame, query_field: str, results_df: pl.DataFrame,\n",
    "                          task_name: str, use_title: bool = False, model_name: str = \"sbert\"):\n",
    "    print(f\"--- Running {task_name} on {dataset_name} using {model_name} ---\")\n",
    "    tot_rr = 0\n",
    "    tot_prec_at_3 = 0\n",
    "    tot_evals = 0\n",
    "    errors = 0\n",
    "    start = timeit.default_timer()\n",
    "    for index, q in query_ds.select('index', query_field).iter_rows():\n",
    "        query = \"\"\n",
    "        if query_field == 'google_search_query_processed':\n",
    "            query += \"\\n\".join(q['ingredients'])\n",
    "        else:\n",
    "            query += \"\\n\".join(q)\n",
    "\n",
    "        query_emb = sbert_model.encode(query)\n",
    "        similarities = sbert_model.similarity(query_emb, eval_ds['sbert'])\n",
    "        ranked_ds = eval_ds.with_columns(\n",
    "                pl.Series(name='rank', values=similarities[0])\n",
    "            ).filter(pl.col('rank') > 0).sort('rank', descending=True)\n",
    "        tot_rr += reciprocal_rank(ranked_ds, index)\n",
    "        tot_prec_at_3 += precision_at_k(ranked_ds, index)\n",
    "        tot_evals += 1\n",
    "    time = timeit.default_timer() - start\n",
    "    mrr = tot_rr/tot_evals\n",
    "    mprec3 = tot_prec_at_3 / tot_evals\n",
    "    if task_name == 'gold_adversarial_ingredients' or task_name == 'gold_adversarial_subset_ingredients' or task_name == 'added_prep_suffixes':\n",
    "        mrr = 1-mrr\n",
    "        mprec3 = 1-mprec3\n",
    "    result_data = {\n",
    "        \"Model\": [model_name],\n",
    "        'Eval_Task': [task_name],\n",
    "        'Dataset': dataset_name,\n",
    "        \"MRR\": [mrr],\n",
    "        \"TKA\": [mprec3],\n",
    "        \"Time_Tot\": time,\n",
    "        \"Time_Query\": time/tot_evals,\n",
    "        \"Error_Count\": errors\n",
    "    }\n",
    "    result_df = pl.DataFrame(result_data)\n",
    "    results_df = results_df.vstack(result_df)\n",
    "    print(f\"--- COMPLETED {task_name} in {time}s ---\")\n",
    "    return results_df"
   ]
  },
  {
   "cell_type": "code",
   "execution_count": 13,
   "id": "68b8963e-5b64-4ca0-9320-065bcc741e1f",
   "metadata": {},
   "outputs": [],
   "source": [
    "results_df = evaluation_task_SBERT(eval_ds, query_ds, 'ingredients', results_df, 'identity')\n",
    "results_df = evaluation_task_SBERT(eval_ds, query_ds, 'main_food_items_and_preparations', results_df, 'llm1')\n",
    "results_df = evaluation_task_SBERT(eval_ds, query_ds, 'important_ingredients_for_search', results_df, 'llm2')\n",
    "results_df = evaluation_task_SBERT(eval_ds, query_ds, 'google_search_query_processed', results_df, 'llm3')"
   ]
  },
  {
   "cell_type": "code",
   "execution_count": 93,
   "id": "a01fcbb2-7b48-4d4f-9636-08ae81ed7fd2",
   "metadata": {},
   "outputs": [
    {
     "name": "stdout",
     "output_type": "stream",
     "text": [
      "--- Running gold_ingredients on 10k using sbert ---\n",
      "--- COMPLETED gold_ingredients in 182.10980565601494s ---\n",
      "--- Running gold_key_ingredients on 10k using sbert ---\n",
      "--- COMPLETED gold_key_ingredients in 196.45251754496712s ---\n"
     ]
    }
   ],
   "source": [
    "results_df = evaluation_task_SBERT(eval_ds, human_query_ds, 'human_ingredients', results_df, 'gold_ingredients')\n",
    "results_df = evaluation_task_SBERT(eval_ds, human_query_ds, 'human_key_ingredients', results_df, 'gold_key_ingredients')"
   ]
  },
  {
   "cell_type": "code",
   "execution_count": null,
   "id": "746147a4-0f2b-42e7-88ab-869791e6787b",
   "metadata": {},
   "outputs": [],
   "source": [
    "results_df = evaluation_task_SBERT(eval_ds, query_ds, 'added_preps', results_df, 'added_prep_suffixes')"
   ]
  },
  {
   "cell_type": "code",
   "execution_count": 94,
   "id": "171aaa16-c94b-45ea-b05d-295bf153a6c5",
   "metadata": {},
   "outputs": [
    {
     "name": "stdout",
     "output_type": "stream",
     "text": [
      "--- Running gold_adversarial_ingredients on 10k using sbert ---\n",
      "--- COMPLETED gold_adversarial_ingredients in 202.4209078020649s ---\n",
      "--- Running gold_adversarial_subset_ingredients on 10k using sbert ---\n",
      "--- COMPLETED gold_adversarial_subset_ingredients in 205.59320931194816s ---\n"
     ]
    }
   ],
   "source": [
    "results_df = evaluation_task_SBERT(eval_ds, human_query_ds, 'human_adv_ingredients', results_df, 'gold_adversarial_ingredients')\n",
    "results_df = evaluation_task_SBERT(eval_ds, human_query_ds, 'human_adv_subset_ingredients', results_df, 'gold_adversarial_subset_ingredients')"
   ]
  },
  {
   "cell_type": "code",
   "execution_count": 95,
   "id": "e3db77b6-4b3e-4273-84d2-3d3f42fd0537",
   "metadata": {},
   "outputs": [
    {
     "data": {
      "text/html": [
       "<div><style>\n",
       ".dataframe > thead > tr,\n",
       ".dataframe > tbody > tr {\n",
       "  text-align: right;\n",
       "  white-space: pre-wrap;\n",
       "}\n",
       "</style>\n",
       "<small>shape: (4, 8)</small><table border=\"1\" class=\"dataframe\"><thead><tr><th>Model</th><th>Eval_Task</th><th>Dataset</th><th>MRR</th><th>TKA</th><th>Time_Tot</th><th>Time_Query</th><th>Error_Count</th></tr><tr><td>str</td><td>str</td><td>str</td><td>f64</td><td>f64</td><td>f64</td><td>f64</td><td>i32</td></tr></thead><tbody><tr><td>&quot;sbert&quot;</td><td>&quot;gold_ingredients&quot;</td><td>&quot;10k&quot;</td><td>0.791362</td><td>0.84</td><td>182.109806</td><td>3.642196</td><td>0</td></tr><tr><td>&quot;sbert&quot;</td><td>&quot;gold_key_ingredients&quot;</td><td>&quot;10k&quot;</td><td>0.651571</td><td>0.68</td><td>196.452518</td><td>3.92905</td><td>0</td></tr><tr><td>&quot;sbert&quot;</td><td>&quot;gold_adversarial_ingredients&quot;</td><td>&quot;10k&quot;</td><td>0.232163</td><td>0.12</td><td>202.420908</td><td>4.048418</td><td>0</td></tr><tr><td>&quot;sbert&quot;</td><td>&quot;gold_adversarial_subset_ingred…</td><td>&quot;10k&quot;</td><td>0.70695</td><td>0.68</td><td>205.593209</td><td>4.111864</td><td>0</td></tr></tbody></table></div>"
      ],
      "text/plain": [
       "shape: (4, 8)\n",
       "┌───────┬──────────────────────┬─────────┬──────────┬──────┬────────────┬────────────┬─────────────┐\n",
       "│ Model ┆ Eval_Task            ┆ Dataset ┆ MRR      ┆ TKA  ┆ Time_Tot   ┆ Time_Query ┆ Error_Count │\n",
       "│ ---   ┆ ---                  ┆ ---     ┆ ---      ┆ ---  ┆ ---        ┆ ---        ┆ ---         │\n",
       "│ str   ┆ str                  ┆ str     ┆ f64      ┆ f64  ┆ f64        ┆ f64        ┆ i32         │\n",
       "╞═══════╪══════════════════════╪═════════╪══════════╪══════╪════════════╪════════════╪═════════════╡\n",
       "│ sbert ┆ gold_ingredients     ┆ 10k     ┆ 0.791362 ┆ 0.84 ┆ 182.109806 ┆ 3.642196   ┆ 0           │\n",
       "│ sbert ┆ gold_key_ingredients ┆ 10k     ┆ 0.651571 ┆ 0.68 ┆ 196.452518 ┆ 3.92905    ┆ 0           │\n",
       "│ sbert ┆ gold_adversarial_ing ┆ 10k     ┆ 0.232163 ┆ 0.12 ┆ 202.420908 ┆ 4.048418   ┆ 0           │\n",
       "│       ┆ redients             ┆         ┆          ┆      ┆            ┆            ┆             │\n",
       "│ sbert ┆ gold_adversarial_sub ┆ 10k     ┆ 0.70695  ┆ 0.68 ┆ 205.593209 ┆ 4.111864   ┆ 0           │\n",
       "│       ┆ set_ingred…          ┆         ┆          ┆      ┆            ┆            ┆             │\n",
       "└───────┴──────────────────────┴─────────┴──────────┴──────┴────────────┴────────────┴─────────────┘"
      ]
     },
     "execution_count": 95,
     "metadata": {},
     "output_type": "execute_result"
    }
   ],
   "source": [
    "results_df"
   ]
  },
  {
   "cell_type": "code",
   "execution_count": 96,
   "id": "8be6f4a5-ff2f-442c-aa8e-c6ee614f767d",
   "metadata": {
    "editable": true,
    "slideshow": {
     "slide_type": ""
    },
    "tags": []
   },
   "outputs": [],
   "source": [
    "from datetime import datetime\n",
    "date_time = datetime.now().strftime(\"%Y_%m_%d__%H_%M\")"
   ]
  },
  {
   "cell_type": "code",
   "execution_count": 97,
   "id": "141cd3da-5997-4f15-b9de-552c150aa067",
   "metadata": {},
   "outputs": [
    {
     "data": {
      "text/plain": [
       "'2025_06_12__21_25'"
      ]
     },
     "execution_count": 97,
     "metadata": {},
     "output_type": "execute_result"
    }
   ],
   "source": [
    "date_time"
   ]
  },
  {
   "cell_type": "code",
   "execution_count": 98,
   "id": "b0706229-6f60-4447-805c-a3161c3450d9",
   "metadata": {},
   "outputs": [],
   "source": [
    "results_df.write_parquet(f\"../../../data/results/SBERT/{run_name}_{date_time}.parquet\")"
   ]
  },
  {
   "cell_type": "code",
   "execution_count": 99,
   "id": "17aeb4bb-0988-446f-88bd-0a597f47bf53",
   "metadata": {
    "editable": true,
    "slideshow": {
     "slide_type": ""
    },
    "tags": []
   },
   "outputs": [
    {
     "data": {
      "text/html": [
       "<div><style>\n",
       ".dataframe > thead > tr,\n",
       ".dataframe > tbody > tr {\n",
       "  text-align: right;\n",
       "  white-space: pre-wrap;\n",
       "}\n",
       "</style>\n",
       "<small>shape: (4, 8)</small><table border=\"1\" class=\"dataframe\"><thead><tr><th>Model</th><th>Eval_Task</th><th>Dataset</th><th>MRR</th><th>TKA</th><th>Time_Tot</th><th>Time_Query</th><th>Error_Count</th></tr><tr><td>str</td><td>str</td><td>str</td><td>f64</td><td>f64</td><td>f64</td><td>f64</td><td>i32</td></tr></thead><tbody><tr><td>&quot;sbert&quot;</td><td>&quot;gold_ingredients&quot;</td><td>&quot;10k&quot;</td><td>0.791362</td><td>0.84</td><td>182.109806</td><td>3.642196</td><td>0</td></tr><tr><td>&quot;sbert&quot;</td><td>&quot;gold_key_ingredients&quot;</td><td>&quot;10k&quot;</td><td>0.651571</td><td>0.68</td><td>196.452518</td><td>3.92905</td><td>0</td></tr><tr><td>&quot;sbert&quot;</td><td>&quot;gold_adversarial_ingredients&quot;</td><td>&quot;10k&quot;</td><td>0.232163</td><td>0.12</td><td>202.420908</td><td>4.048418</td><td>0</td></tr><tr><td>&quot;sbert&quot;</td><td>&quot;gold_adversarial_subset_ingred…</td><td>&quot;10k&quot;</td><td>0.70695</td><td>0.68</td><td>205.593209</td><td>4.111864</td><td>0</td></tr></tbody></table></div>"
      ],
      "text/plain": [
       "shape: (4, 8)\n",
       "┌───────┬──────────────────────┬─────────┬──────────┬──────┬────────────┬────────────┬─────────────┐\n",
       "│ Model ┆ Eval_Task            ┆ Dataset ┆ MRR      ┆ TKA  ┆ Time_Tot   ┆ Time_Query ┆ Error_Count │\n",
       "│ ---   ┆ ---                  ┆ ---     ┆ ---      ┆ ---  ┆ ---        ┆ ---        ┆ ---         │\n",
       "│ str   ┆ str                  ┆ str     ┆ f64      ┆ f64  ┆ f64        ┆ f64        ┆ i32         │\n",
       "╞═══════╪══════════════════════╪═════════╪══════════╪══════╪════════════╪════════════╪═════════════╡\n",
       "│ sbert ┆ gold_ingredients     ┆ 10k     ┆ 0.791362 ┆ 0.84 ┆ 182.109806 ┆ 3.642196   ┆ 0           │\n",
       "│ sbert ┆ gold_key_ingredients ┆ 10k     ┆ 0.651571 ┆ 0.68 ┆ 196.452518 ┆ 3.92905    ┆ 0           │\n",
       "│ sbert ┆ gold_adversarial_ing ┆ 10k     ┆ 0.232163 ┆ 0.12 ┆ 202.420908 ┆ 4.048418   ┆ 0           │\n",
       "│       ┆ redients             ┆         ┆          ┆      ┆            ┆            ┆             │\n",
       "│ sbert ┆ gold_adversarial_sub ┆ 10k     ┆ 0.70695  ┆ 0.68 ┆ 205.593209 ┆ 4.111864   ┆ 0           │\n",
       "│       ┆ set_ingred…          ┆         ┆          ┆      ┆            ┆            ┆             │\n",
       "└───────┴──────────────────────┴─────────┴──────────┴──────┴────────────┴────────────┴─────────────┘"
      ]
     },
     "execution_count": 99,
     "metadata": {},
     "output_type": "execute_result"
    }
   ],
   "source": [
    "pl.read_parquet(f\"../../../data/results/SBERT/{run_name}_{date_time}.parquet\")"
   ]
  },
  {
   "cell_type": "code",
   "execution_count": null,
   "id": "08b317cf-15df-4e13-a5f1-112160f441c5",
   "metadata": {
    "editable": true,
    "slideshow": {
     "slide_type": ""
    },
    "tags": []
   },
   "outputs": [],
   "source": []
  }
 ],
 "metadata": {
  "kernelspec": {
   "display_name": "Python 3 (ipykernel)",
   "language": "python",
   "name": "python3"
  },
  "language_info": {
   "codemirror_mode": {
    "name": "ipython",
    "version": 3
   },
   "file_extension": ".py",
   "mimetype": "text/x-python",
   "name": "python",
   "nbconvert_exporter": "python",
   "pygments_lexer": "ipython3",
   "version": "3.10.16"
  }
 },
 "nbformat": 4,
 "nbformat_minor": 5
}
