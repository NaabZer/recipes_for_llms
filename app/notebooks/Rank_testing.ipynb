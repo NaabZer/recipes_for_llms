{
 "cells": [
  {
   "cell_type": "code",
   "execution_count": 1,
   "id": "27ee8b8e-5e8b-4fa9-8ab6-9a812f35bf19",
   "metadata": {
    "editable": true,
    "slideshow": {
     "slide_type": ""
    },
    "tags": []
   },
   "outputs": [
    {
     "name": "stderr",
     "output_type": "stream",
     "text": [
      "/home/naabzer/develop/recipe_tm/env/lib/python3.10/site-packages/tqdm/auto.py:21: TqdmWarning: IProgress not found. Please update jupyter and ipywidgets. See https://ipywidgets.readthedocs.io/en/stable/user_install.html\n",
      "  from .autonotebook import tqdm as notebook_tqdm\n"
     ]
    }
   ],
   "source": [
    "import polars as pl\n",
    "import duckdb\n",
    "from rank_bm25 import BM25Okapi\n",
    "import timeit\n",
    "import bm25s"
   ]
  },
  {
   "cell_type": "code",
   "execution_count": 39,
   "id": "b92a4d37-5202-4961-b5cb-76e7398341cd",
   "metadata": {},
   "outputs": [],
   "source": [
    "df = duckdb.sql(\"SELECT * FROM 'eval_test.parquet'\").pl()"
   ]
  },
  {
   "cell_type": "code",
   "execution_count": 67,
   "id": "c2eaa439-a5ac-4f78-961d-0e49165378e6",
   "metadata": {
    "editable": true,
    "slideshow": {
     "slide_type": ""
    },
    "tags": []
   },
   "outputs": [],
   "source": [
    "start = timeit.default_timer()\n",
    "corpus = list(df['tokens'].slice(0,100))\n",
    "bm25 = BM25Okapi(corpus)\n",
    "bm25.get_scores(\"red_onion butter olive_oil\".split(\" \"))\n",
    "time = timeit.default_timer() - start"
   ]
  },
  {
   "cell_type": "code",
   "execution_count": 68,
   "id": "0d736421-285d-4f5d-ba02-555ea0e9446c",
   "metadata": {
    "editable": true,
    "slideshow": {
     "slide_type": ""
    },
    "tags": []
   },
   "outputs": [
    {
     "name": "stdout",
     "output_type": "stream",
     "text": [
      "0.011778720014262944\n"
     ]
    }
   ],
   "source": [
    "print(time)"
   ]
  },
  {
   "cell_type": "code",
   "execution_count": 60,
   "id": "83050206-2971-4c50-a608-388b518b0170",
   "metadata": {
    "editable": true,
    "slideshow": {
     "slide_type": ""
    },
    "tags": []
   },
   "outputs": [
    {
     "data": {
      "text/plain": [
       "array([0.        , 0.        , 1.17074143, ..., 0.        , 0.        ,\n",
       "       1.56839375], shape=(10000,))"
      ]
     },
     "execution_count": 60,
     "metadata": {},
     "output_type": "execute_result"
    }
   ],
   "source": []
  },
  {
   "cell_type": "code",
   "execution_count": 30,
   "id": "99a77e63-b11e-4378-8249-5b2f02c3b043",
   "metadata": {
    "editable": true,
    "slideshow": {
     "slide_type": ""
    },
    "tags": []
   },
   "outputs": [
    {
     "name": "stderr",
     "output_type": "stream",
     "text": [
      "                                                                                                                    "
     ]
    }
   ],
   "source": [
    "corpus = [\" \".join(tokens) for tokens in df['tokens']]\n",
    "start = timeit.default_timer()\n",
    "bm25_tokens = bm25s.tokenize(corpus)\n",
    "time = timeit.default_timer() - start"
   ]
  },
  {
   "cell_type": "code",
   "execution_count": 31,
   "id": "bb02cbf4-3d1c-4dae-afdc-4056b7bb2805",
   "metadata": {},
   "outputs": [
    {
     "name": "stdout",
     "output_type": "stream",
     "text": [
      "0.14562488498631865\n"
     ]
    }
   ],
   "source": [
    "print(time)"
   ]
  },
  {
   "cell_type": "code",
   "execution_count": 32,
   "id": "a46fcd55-6eab-477f-b682-1fdd015ba3b9",
   "metadata": {
    "editable": true,
    "slideshow": {
     "slide_type": ""
    },
    "tags": []
   },
   "outputs": [
    {
     "name": "stderr",
     "output_type": "stream",
     "text": [
      "                                                                                                                    "
     ]
    }
   ],
   "source": [
    "start = timeit.default_timer()\n",
    "retriever = bm25s.BM25()\n",
    "retriever.index(bm25_tokens)\n",
    "time = timeit.default_timer() - start"
   ]
  },
  {
   "cell_type": "code",
   "execution_count": 33,
   "id": "0865315b-6e70-46dc-9eb2-ad06757872d5",
   "metadata": {},
   "outputs": [
    {
     "data": {
      "text/plain": [
       "0.47601976996520534"
      ]
     },
     "execution_count": 33,
     "metadata": {},
     "output_type": "execute_result"
    }
   ],
   "source": [
    "time"
   ]
  },
  {
   "cell_type": "code",
   "execution_count": 34,
   "id": "f66d9d4b-0589-43bb-a52f-17362342d43d",
   "metadata": {},
   "outputs": [
    {
     "name": "stderr",
     "output_type": "stream",
     "text": [
      "                                                                                                                    "
     ]
    }
   ],
   "source": [
    "query_t = bm25s.tokenize(\"red_onion butter olive_oil\")\n",
    "results, scores = retriever.retrieve(query_t, corpus=corpus)"
   ]
  },
  {
   "cell_type": "code",
   "execution_count": 35,
   "id": "1ba691f6-b5c5-452e-b941-5f2d08b6a63c",
   "metadata": {},
   "outputs": [
    {
     "data": {
      "text/plain": [
       "array([['olive_oil butter red_onion balsamic_vinegar salt',\n",
       "        'red_onion olive_oil balsamic_vinegar honey black_pepper',\n",
       "        'cucumber feta red_onion dijon_mustard olive_oil sugar',\n",
       "        'red_onion cooking_spray olive_oil balsamic_vinegar salt black_pepper',\n",
       "        'orange red_onion olive salt pepper basil olive_oil tbsp',\n",
       "        'beet olive_oil lemon_juice vinegar honey salt pepper grapefruit red_onion',\n",
       "        'potato salt parsley red_onion cherry_pepper chive sweet_relish caper olive_oil salt',\n",
       "        'flour milk egg salt aromatic_cheese red_onion butter pepper chive',\n",
       "        'pasta tightly_pack_tear chicken tomato red_onion italian_dressing',\n",
       "        'gratin olive_oil red_onion garlic salt flour chickpea spinach breadcrumb olive_oil garlic smoke_paprika salt bread']],\n",
       "      dtype='<U114')"
      ]
     },
     "execution_count": 35,
     "metadata": {},
     "output_type": "execute_result"
    }
   ],
   "source": [
    "results"
   ]
  },
  {
   "cell_type": "code",
   "execution_count": null,
   "id": "eb438694-9618-4f69-8b52-f6b7f7f5c139",
   "metadata": {},
   "outputs": [],
   "source": []
  }
 ],
 "metadata": {
  "kernelspec": {
   "display_name": "Python 3 (ipykernel)",
   "language": "python",
   "name": "python3"
  },
  "language_info": {
   "codemirror_mode": {
    "name": "ipython",
    "version": 3
   },
   "file_extension": ".py",
   "mimetype": "text/x-python",
   "name": "python",
   "nbconvert_exporter": "python",
   "pygments_lexer": "ipython3",
   "version": "3.10.16"
  }
 },
 "nbformat": 4,
 "nbformat_minor": 5
}
