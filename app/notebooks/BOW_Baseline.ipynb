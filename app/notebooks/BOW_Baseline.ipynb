{
 "cells": [
  {
   "cell_type": "code",
   "execution_count": 37,
   "id": "4f0629ab-3b17-4982-a93b-dbdef7d22e0c",
   "metadata": {},
   "outputs": [
    {
     "data": {
      "text/plain": [
       "True"
      ]
     },
     "execution_count": 37,
     "metadata": {},
     "output_type": "execute_result"
    }
   ],
   "source": [
    "import polars as pl\n",
    "import scipy\n",
    "import mlflow\n",
    "import mlflow.sklearn\n",
    "from sklearn.feature_extraction.text import TfidfVectorizer\n",
    "from sklearn.feature_extraction import text\n",
    "from dotenv import load_dotenv\n",
    "import os\n",
    "import sys\n",
    "sys.path.insert(0, os.path.abspath('..'))\n",
    "sys.path.insert(0, os.path.abspath('../..'))\n",
    "from app.data_handling.preprocessing import lemmatize_line\n",
    "\n",
    "load_dotenv()"
   ]
  },
  {
   "cell_type": "code",
   "execution_count": 2,
   "id": "5b9b6b2b-e084-48ee-9612-5aba78b59c5d",
   "metadata": {},
   "outputs": [],
   "source": [
    "mlflow.set_tracking_uri(os.getenv(\"MLFLOW_TRACKING_URL\"))\n",
    "mlflow.set_experiment(\"recipe_BOW\")\n",
    "mlflow.sklearn.autolog()"
   ]
  },
  {
   "cell_type": "code",
   "execution_count": 3,
   "id": "31b8626e-d26d-40ee-9a9d-16703ec2a315",
   "metadata": {},
   "outputs": [
    {
     "name": "stderr",
     "output_type": "stream",
     "text": [
      "\n",
      "KeyboardInterrupt\n",
      "\n"
     ]
    }
   ],
   "source": [
    "#nlg_ds = pd.read_csv('../../data/recipenlg/RecipeNLG_dataset.csv', converters={'ingredients': pd.eval})"
   ]
  },
  {
   "cell_type": "code",
   "execution_count": 6,
   "id": "270e578b-ee48-4836-bb57-faa242a4a96a",
   "metadata": {},
   "outputs": [],
   "source": [
    "nlg_ds = pl.read_csv('../../data/recipenlg/RecipeNLG_dataset.csv')#,  n_rows=1000)\n",
    "nlg_ds = nlg_ds.with_columns(pl.col(\"ingredients\").str.json_decode())\n",
    "nlg_ds = nlg_ds.with_columns(pl.col(\"directions\").str.json_decode())\n",
    "nlg_ds = nlg_ds.with_columns(pl.arange(pl.len()).alias(\"index\"))"
   ]
  },
  {
   "cell_type": "code",
   "execution_count": 8,
   "id": "f43509d4-9992-44db-8624-75d3f68b4e00",
   "metadata": {},
   "outputs": [
    {
     "name": "stdout",
     "output_type": "stream",
     "text": [
      "No-Bake Nut Cookies ['1 c. firmly packed brown sugar', '1/2 c. evaporated milk', '1/2 tsp. vanilla', '1/2 c. broken nuts (pecans)', '2 Tbsp. butter or margarine', '3 1/2 c. bite size shredded rice biscuits']\n"
     ]
    }
   ],
   "source": [
    "for t, i in nlg_ds.select('title','ingredients').iter_rows():\n",
    "    print(t, i)\n",
    "    break"
   ]
  },
  {
   "cell_type": "code",
   "execution_count": 39,
   "id": "294b2b22-1ffb-414e-b94d-b70f466a4d75",
   "metadata": {},
   "outputs": [],
   "source": [
    "def ingredient_iter(ds):\n",
    "    for title, ingredient_list in nlg_ds.select('title','ingredients').iter_rows():\n",
    "        yield lemmatize_line(title)\n",
    "        for ingredient_line in ingredient_list:\n",
    "            yield lemmatize_line(ingredient_line)"
   ]
  },
  {
   "cell_type": "code",
   "execution_count": null,
   "id": "83241c79-c56d-4f3c-9563-83bdb2b25150",
   "metadata": {},
   "outputs": [],
   "source": [
    "vectorizer = TfidfVectorizer(stop_words='english')\n",
    "with mlflow.start_run() as run:\n",
    "    vectorizer.fit(ingredient_iter(nlg_ds))\n",
    "    mlflow.sklearn.log_model(sk_model=vectorizer, artifact_path=\"model\")"
   ]
  },
  {
   "cell_type": "code",
   "execution_count": null,
   "id": "b2d2d38d-c317-4c69-aa90-4b8d4ab26cec",
   "metadata": {},
   "outputs": [],
   "source": [
    "model_uri = f\"runs:/{run.info.run_id}/model\""
   ]
  },
  {
   "cell_type": "code",
   "execution_count": null,
   "id": "cf9c2f6d-90e0-47d2-b75b-57af5e712980",
   "metadata": {},
   "outputs": [],
   "source": [
    "sk_model = mlflow.sklearn.load_model(model_uri)"
   ]
  },
  {
   "cell_type": "code",
   "execution_count": null,
   "id": "865f37b9-a3d0-4806-9d9f-9b0702ca40c4",
   "metadata": {},
   "outputs": [],
   "source": [
    "\"\\n\".join(nlg_ds['ingredients'][0])"
   ]
  },
  {
   "cell_type": "code",
   "execution_count": null,
   "id": "59e0bec3-ea87-405f-b78b-24f7076661f8",
   "metadata": {},
   "outputs": [],
   "source": [
    "sk_model.transform([\"\\n\".join(nlg_ds['ingredients'][0])])"
   ]
  },
  {
   "cell_type": "code",
   "execution_count": 14,
   "id": "25fb6305-5b46-48bf-96ea-c28705a9b6dd",
   "metadata": {},
   "outputs": [
    {
     "data": {
      "text/plain": [
       "<Compressed Sparse Row sparse matrix of dtype 'float64'\n",
       "\twith 19 stored elements and shape (1, 130236)>"
      ]
     },
     "execution_count": 14,
     "metadata": {},
     "output_type": "execute_result"
    }
   ],
   "source": [
    "sk_model.transform([\"\\n\".join(nlg_ds['ingredients'][0])])"
   ]
  },
  {
   "cell_type": "code",
   "execution_count": 18,
   "id": "2454040c-245a-484e-90e8-93155cf0bfca",
   "metadata": {},
   "outputs": [],
   "source": [
    "def transform_ds_to_BOW(ds: pd.core.frame.DataFrame, model):\n",
    "    ds['tfidf'] = \"\"\n",
    "    ds['tfidf'] = ds['tfidf'].astype('object')\n",
    "    for i, ingredients in enumerate(ds['ingredients']):\n",
    "        datapoint_tfidf = model.transform([\"\\n\".join(ingredients)])\n",
    "        ds.at[i, 'tfidf'] = datapoint_tfidf"
   ]
  },
  {
   "cell_type": "code",
   "execution_count": 19,
   "id": "0c3bdcb2-3d0f-4a9f-ba81-fc459aecd29e",
   "metadata": {},
   "outputs": [],
   "source": [
    "transform_ds_to_BOW(nlg_ds, sk_model)"
   ]
  },
  {
   "cell_type": "code",
   "execution_count": 20,
   "id": "63dc8646-7eb1-414e-8062-4fe105a435e0",
   "metadata": {},
   "outputs": [
    {
     "data": {
      "text/plain": [
       "<Compressed Sparse Row sparse matrix of dtype 'float64'\n",
       "\twith 20 stored elements and shape (1, 2964)>"
      ]
     },
     "execution_count": 20,
     "metadata": {},
     "output_type": "execute_result"
    }
   ],
   "source": [
    "nlg_ds['tfidf'][0]"
   ]
  },
  {
   "cell_type": "code",
   "execution_count": 21,
   "id": "68980373-91fb-4732-b456-b9cfdc493db4",
   "metadata": {},
   "outputs": [
    {
     "data": {
      "text/html": [
       "<div>\n",
       "<style scoped>\n",
       "    .dataframe tbody tr th:only-of-type {\n",
       "        vertical-align: middle;\n",
       "    }\n",
       "\n",
       "    .dataframe tbody tr th {\n",
       "        vertical-align: top;\n",
       "    }\n",
       "\n",
       "    .dataframe thead th {\n",
       "        text-align: right;\n",
       "    }\n",
       "</style>\n",
       "<table border=\"1\" class=\"dataframe\">\n",
       "  <thead>\n",
       "    <tr style=\"text-align: right;\">\n",
       "      <th></th>\n",
       "      <th>Unnamed: 0</th>\n",
       "      <th>title</th>\n",
       "      <th>ingredients</th>\n",
       "      <th>directions</th>\n",
       "      <th>link</th>\n",
       "      <th>source</th>\n",
       "      <th>NER</th>\n",
       "      <th>tfidf</th>\n",
       "    </tr>\n",
       "  </thead>\n",
       "  <tbody>\n",
       "    <tr>\n",
       "      <th>0</th>\n",
       "      <td>0</td>\n",
       "      <td>No-Bake Nut Cookies</td>\n",
       "      <td>[1 c. firmly packed brown sugar, 1/2 c. evapor...</td>\n",
       "      <td>[\"In a heavy 2-quart saucepan, mix brown sugar...</td>\n",
       "      <td>www.cookbooks.com/Recipe-Details.aspx?id=44874</td>\n",
       "      <td>Gathered</td>\n",
       "      <td>[\"brown sugar\", \"milk\", \"vanilla\", \"nuts\", \"bu...</td>\n",
       "      <td>&lt;Compressed Sparse Row sparse matrix of dtype ...</td>\n",
       "    </tr>\n",
       "    <tr>\n",
       "      <th>1</th>\n",
       "      <td>1</td>\n",
       "      <td>Jewell Ball'S Chicken</td>\n",
       "      <td>[1 small jar chipped beef, cut up, 4 boned chi...</td>\n",
       "      <td>[\"Place chipped beef on bottom of baking dish....</td>\n",
       "      <td>www.cookbooks.com/Recipe-Details.aspx?id=699419</td>\n",
       "      <td>Gathered</td>\n",
       "      <td>[\"beef\", \"chicken breasts\", \"cream of mushroom...</td>\n",
       "      <td>&lt;Compressed Sparse Row sparse matrix of dtype ...</td>\n",
       "    </tr>\n",
       "    <tr>\n",
       "      <th>2</th>\n",
       "      <td>2</td>\n",
       "      <td>Creamy Corn</td>\n",
       "      <td>[2 (16 oz.) pkg. frozen corn, 1 (8 oz.) pkg. c...</td>\n",
       "      <td>[\"In a slow cooker, combine all ingredients. C...</td>\n",
       "      <td>www.cookbooks.com/Recipe-Details.aspx?id=10570</td>\n",
       "      <td>Gathered</td>\n",
       "      <td>[\"frozen corn\", \"cream cheese\", \"butter\", \"gar...</td>\n",
       "      <td>&lt;Compressed Sparse Row sparse matrix of dtype ...</td>\n",
       "    </tr>\n",
       "    <tr>\n",
       "      <th>3</th>\n",
       "      <td>3</td>\n",
       "      <td>Chicken Funny</td>\n",
       "      <td>[1 large whole chicken, 2 (10 1/2 oz.) cans ch...</td>\n",
       "      <td>[\"Boil and debone chicken.\", \"Put bite size pi...</td>\n",
       "      <td>www.cookbooks.com/Recipe-Details.aspx?id=897570</td>\n",
       "      <td>Gathered</td>\n",
       "      <td>[\"chicken\", \"chicken gravy\", \"cream of mushroo...</td>\n",
       "      <td>&lt;Compressed Sparse Row sparse matrix of dtype ...</td>\n",
       "    </tr>\n",
       "    <tr>\n",
       "      <th>4</th>\n",
       "      <td>4</td>\n",
       "      <td>Reeses Cups(Candy)</td>\n",
       "      <td>[1 c. peanut butter, 3/4 c. graham cracker cru...</td>\n",
       "      <td>[\"Combine first four ingredients and press in ...</td>\n",
       "      <td>www.cookbooks.com/Recipe-Details.aspx?id=659239</td>\n",
       "      <td>Gathered</td>\n",
       "      <td>[\"peanut butter\", \"graham cracker crumbs\", \"bu...</td>\n",
       "      <td>&lt;Compressed Sparse Row sparse matrix of dtype ...</td>\n",
       "    </tr>\n",
       "    <tr>\n",
       "      <th>...</th>\n",
       "      <td>...</td>\n",
       "      <td>...</td>\n",
       "      <td>...</td>\n",
       "      <td>...</td>\n",
       "      <td>...</td>\n",
       "      <td>...</td>\n",
       "      <td>...</td>\n",
       "      <td>...</td>\n",
       "    </tr>\n",
       "    <tr>\n",
       "      <th>9995</th>\n",
       "      <td>9995</td>\n",
       "      <td>Pink Fruit Salad</td>\n",
       "      <td>[1 can cherry pie filling, 1 can sweetened con...</td>\n",
       "      <td>[\"Combine all ingredients and chill.\"]</td>\n",
       "      <td>www.cookbooks.com/Recipe-Details.aspx?id=183170</td>\n",
       "      <td>Gathered</td>\n",
       "      <td>[\"cherry pie filling\", \"condensed milk\", \"pine...</td>\n",
       "      <td>&lt;Compressed Sparse Row sparse matrix of dtype ...</td>\n",
       "    </tr>\n",
       "    <tr>\n",
       "      <th>9996</th>\n",
       "      <td>9996</td>\n",
       "      <td>Peppered Steak</td>\n",
       "      <td>[1 lb. round steak, 1 bell pepper, 1 onion, 1 ...</td>\n",
       "      <td>[\"Cut steaks into strips; brown in cooking oil...</td>\n",
       "      <td>www.cookbooks.com/Recipe-Details.aspx?id=462037</td>\n",
       "      <td>Gathered</td>\n",
       "      <td>[\"bell pepper\", \"onion\", \"tomatoes\", \"salt\", \"...</td>\n",
       "      <td>&lt;Compressed Sparse Row sparse matrix of dtype ...</td>\n",
       "    </tr>\n",
       "    <tr>\n",
       "      <th>9997</th>\n",
       "      <td>9997</td>\n",
       "      <td>Chicken Casserole</td>\n",
       "      <td>[3 lb. fryer, 1 large onion, 1 large green pep...</td>\n",
       "      <td>[\"Stew and bone fryer.\", \"Saute in small amoun...</td>\n",
       "      <td>www.cookbooks.com/Recipe-Details.aspx?id=292083</td>\n",
       "      <td>Gathered</td>\n",
       "      <td>[\"fryer\", \"onion\", \"green pepper\", \"celery\", \"...</td>\n",
       "      <td>&lt;Compressed Sparse Row sparse matrix of dtype ...</td>\n",
       "    </tr>\n",
       "    <tr>\n",
       "      <th>9998</th>\n",
       "      <td>9998</td>\n",
       "      <td>Sweet Potatoes Casserole</td>\n",
       "      <td>[1 large can yams, 1 c. sugar, 1 egg, 1/3 c. m...</td>\n",
       "      <td>[\"Mix together for 2 or 3 minutes. Put into gr...</td>\n",
       "      <td>www.cookbooks.com/Recipe-Details.aspx?id=56276</td>\n",
       "      <td>Gathered</td>\n",
       "      <td>[\"yams\", \"sugar\", \"egg\", \"milk\", \"vanilla flav...</td>\n",
       "      <td>&lt;Compressed Sparse Row sparse matrix of dtype ...</td>\n",
       "    </tr>\n",
       "    <tr>\n",
       "      <th>9999</th>\n",
       "      <td>9999</td>\n",
       "      <td>7 Layer Salad</td>\n",
       "      <td>[10 to 12 leaves spinach, torn up, 8 to 10 mus...</td>\n",
       "      <td>[\"Layer each ingredients, prepared according t...</td>\n",
       "      <td>www.cookbooks.com/Recipe-Details.aspx?id=631292</td>\n",
       "      <td>Gathered</td>\n",
       "      <td>[\"spinach\", \"mushrooms\", \"Bermuda onion\", \"egg...</td>\n",
       "      <td>&lt;Compressed Sparse Row sparse matrix of dtype ...</td>\n",
       "    </tr>\n",
       "  </tbody>\n",
       "</table>\n",
       "<p>10000 rows × 8 columns</p>\n",
       "</div>"
      ],
      "text/plain": [
       "      Unnamed: 0                     title  \\\n",
       "0              0       No-Bake Nut Cookies   \n",
       "1              1     Jewell Ball'S Chicken   \n",
       "2              2               Creamy Corn   \n",
       "3              3             Chicken Funny   \n",
       "4              4      Reeses Cups(Candy)     \n",
       "...          ...                       ...   \n",
       "9995        9995          Pink Fruit Salad   \n",
       "9996        9996            Peppered Steak   \n",
       "9997        9997         Chicken Casserole   \n",
       "9998        9998  Sweet Potatoes Casserole   \n",
       "9999        9999             7 Layer Salad   \n",
       "\n",
       "                                            ingredients  \\\n",
       "0     [1 c. firmly packed brown sugar, 1/2 c. evapor...   \n",
       "1     [1 small jar chipped beef, cut up, 4 boned chi...   \n",
       "2     [2 (16 oz.) pkg. frozen corn, 1 (8 oz.) pkg. c...   \n",
       "3     [1 large whole chicken, 2 (10 1/2 oz.) cans ch...   \n",
       "4     [1 c. peanut butter, 3/4 c. graham cracker cru...   \n",
       "...                                                 ...   \n",
       "9995  [1 can cherry pie filling, 1 can sweetened con...   \n",
       "9996  [1 lb. round steak, 1 bell pepper, 1 onion, 1 ...   \n",
       "9997  [3 lb. fryer, 1 large onion, 1 large green pep...   \n",
       "9998  [1 large can yams, 1 c. sugar, 1 egg, 1/3 c. m...   \n",
       "9999  [10 to 12 leaves spinach, torn up, 8 to 10 mus...   \n",
       "\n",
       "                                             directions  \\\n",
       "0     [\"In a heavy 2-quart saucepan, mix brown sugar...   \n",
       "1     [\"Place chipped beef on bottom of baking dish....   \n",
       "2     [\"In a slow cooker, combine all ingredients. C...   \n",
       "3     [\"Boil and debone chicken.\", \"Put bite size pi...   \n",
       "4     [\"Combine first four ingredients and press in ...   \n",
       "...                                                 ...   \n",
       "9995             [\"Combine all ingredients and chill.\"]   \n",
       "9996  [\"Cut steaks into strips; brown in cooking oil...   \n",
       "9997  [\"Stew and bone fryer.\", \"Saute in small amoun...   \n",
       "9998  [\"Mix together for 2 or 3 minutes. Put into gr...   \n",
       "9999  [\"Layer each ingredients, prepared according t...   \n",
       "\n",
       "                                                 link    source  \\\n",
       "0      www.cookbooks.com/Recipe-Details.aspx?id=44874  Gathered   \n",
       "1     www.cookbooks.com/Recipe-Details.aspx?id=699419  Gathered   \n",
       "2      www.cookbooks.com/Recipe-Details.aspx?id=10570  Gathered   \n",
       "3     www.cookbooks.com/Recipe-Details.aspx?id=897570  Gathered   \n",
       "4     www.cookbooks.com/Recipe-Details.aspx?id=659239  Gathered   \n",
       "...                                               ...       ...   \n",
       "9995  www.cookbooks.com/Recipe-Details.aspx?id=183170  Gathered   \n",
       "9996  www.cookbooks.com/Recipe-Details.aspx?id=462037  Gathered   \n",
       "9997  www.cookbooks.com/Recipe-Details.aspx?id=292083  Gathered   \n",
       "9998   www.cookbooks.com/Recipe-Details.aspx?id=56276  Gathered   \n",
       "9999  www.cookbooks.com/Recipe-Details.aspx?id=631292  Gathered   \n",
       "\n",
       "                                                    NER  \\\n",
       "0     [\"brown sugar\", \"milk\", \"vanilla\", \"nuts\", \"bu...   \n",
       "1     [\"beef\", \"chicken breasts\", \"cream of mushroom...   \n",
       "2     [\"frozen corn\", \"cream cheese\", \"butter\", \"gar...   \n",
       "3     [\"chicken\", \"chicken gravy\", \"cream of mushroo...   \n",
       "4     [\"peanut butter\", \"graham cracker crumbs\", \"bu...   \n",
       "...                                                 ...   \n",
       "9995  [\"cherry pie filling\", \"condensed milk\", \"pine...   \n",
       "9996  [\"bell pepper\", \"onion\", \"tomatoes\", \"salt\", \"...   \n",
       "9997  [\"fryer\", \"onion\", \"green pepper\", \"celery\", \"...   \n",
       "9998  [\"yams\", \"sugar\", \"egg\", \"milk\", \"vanilla flav...   \n",
       "9999  [\"spinach\", \"mushrooms\", \"Bermuda onion\", \"egg...   \n",
       "\n",
       "                                                  tfidf  \n",
       "0     <Compressed Sparse Row sparse matrix of dtype ...  \n",
       "1     <Compressed Sparse Row sparse matrix of dtype ...  \n",
       "2     <Compressed Sparse Row sparse matrix of dtype ...  \n",
       "3     <Compressed Sparse Row sparse matrix of dtype ...  \n",
       "4     <Compressed Sparse Row sparse matrix of dtype ...  \n",
       "...                                                 ...  \n",
       "9995  <Compressed Sparse Row sparse matrix of dtype ...  \n",
       "9996  <Compressed Sparse Row sparse matrix of dtype ...  \n",
       "9997  <Compressed Sparse Row sparse matrix of dtype ...  \n",
       "9998  <Compressed Sparse Row sparse matrix of dtype ...  \n",
       "9999  <Compressed Sparse Row sparse matrix of dtype ...  \n",
       "\n",
       "[10000 rows x 8 columns]"
      ]
     },
     "execution_count": 21,
     "metadata": {},
     "output_type": "execute_result"
    }
   ],
   "source": [
    "nlg_ds"
   ]
  },
  {
   "cell_type": "code",
   "execution_count": 27,
   "id": "025e2e5c-7134-43af-983e-7065a6b0558f",
   "metadata": {
    "editable": true,
    "slideshow": {
     "slide_type": ""
    },
    "tags": []
   },
   "outputs": [],
   "source": [
    "from sklearn.metrics.pairwise import cosine_similarity\n",
    "import numpy as np\n",
    "q_emb = sk_model.transform([\"tomato, bell pepper, cream\"])"
   ]
  },
  {
   "cell_type": "code",
   "execution_count": 30,
   "id": "b7accf17-a697-4cb5-9183-66d183b3be29",
   "metadata": {},
   "outputs": [],
   "source": [
    "# Calculate cosine similarity between query and each embedding\n",
    "nlg_ds['similarity'] = nlg_ds['tfidf'].apply(lambda x: cosine_similarity(q_emb, x))"
   ]
  },
  {
   "cell_type": "code",
   "execution_count": 32,
   "id": "9651f64d-b5ae-43d9-a903-71bf66aa8896",
   "metadata": {},
   "outputs": [],
   "source": [
    "# Sort by similarity score\n",
    "df_sorted = nlg_ds.sort_values('similarity', ascending=False)"
   ]
  }
 ],
 "metadata": {
  "kernelspec": {
   "display_name": "Python 3 (ipykernel)",
   "language": "python",
   "name": "python3"
  },
  "language_info": {
   "codemirror_mode": {
    "name": "ipython",
    "version": 3
   },
   "file_extension": ".py",
   "mimetype": "text/x-python",
   "name": "python",
   "nbconvert_exporter": "python",
   "pygments_lexer": "ipython3",
   "version": "3.10.16"
  }
 },
 "nbformat": 4,
 "nbformat_minor": 5
}
