{
 "cells": [
  {
   "cell_type": "code",
   "execution_count": 98,
   "id": "a8878ef0-d226-493a-a90b-ca8c673cf97a",
   "metadata": {},
   "outputs": [],
   "source": [
    "import mlflow\n",
    "import mlflow.spacy\n",
    "import mlflow.sklearn\n",
    "import polars as pl\n",
    "import seaborn as sns\n",
    "import scipy\n",
    "import duckdb\n",
    "import numpy as np"
   ]
  },
  {
   "cell_type": "code",
   "execution_count": 54,
   "id": "7a51787d-7fc7-4033-ba82-66cc5f95841b",
   "metadata": {},
   "outputs": [
    {
     "data": {
      "text/plain": [
       "True"
      ]
     },
     "execution_count": 54,
     "metadata": {},
     "output_type": "execute_result"
    }
   ],
   "source": [
    "import os\n",
    "import sys\n",
    "from dotenv import load_dotenv\n",
    "sys.path.insert(0, os.path.abspath('..'))\n",
    "sys.path.insert(0, os.path.abspath('../..'))\n",
    "from app.data_handling.preprocessing import process_ingredient, transform_ingredients_to_tokens\n",
    "from app.data_handling.model_functions import run_BOW_on_line\n",
    "\n",
    "load_dotenv()"
   ]
  },
  {
   "cell_type": "code",
   "execution_count": 33,
   "id": "f1499171-e12e-425e-8f00-6839b551d442",
   "metadata": {},
   "outputs": [],
   "source": [
    "mlflow.set_tracking_uri(os.getenv(\"MLFLOW_TRACKING_URL\"))"
   ]
  },
  {
   "cell_type": "code",
   "execution_count": 5,
   "id": "44dcca0b-9916-47bd-9102-4c32882e21a4",
   "metadata": {},
   "outputs": [],
   "source": [
    "with open(\"../../data/eval_data/processed_data.json\", \"r\") as f:\n",
    "    eval_ds = pl.read_json(f)"
   ]
  },
  {
   "cell_type": "code",
   "execution_count": 20,
   "id": "e031c036-933a-4a63-8b92-b56d763c39bc",
   "metadata": {},
   "outputs": [],
   "source": [
    "filtered_ds = eval_ds.with_row_index(\"id\").filter(pl.col(\"index\") == 7006)"
   ]
  },
  {
   "cell_type": "code",
   "execution_count": 130,
   "id": "4e1a0d94-f4ba-45d2-a38e-1894d94dfbdc",
   "metadata": {},
   "outputs": [],
   "source": [
    "def reciprocal_rank(ranked_ds: pl.dataframe.frame.DataFrame, correct_idx: int):\n",
    "    filtered_ds = ranked_ds.with_row_index(\"id\", offset=1).filter(pl.col(\"index\") == correct_idx)\n",
    "    if filtered_ds.shape[0] == 0:  # Index not found, reciprocal rank is 0\n",
    "        return 0\n",
    "    return 1 / filtered_ds.select('id')[0,0]"
   ]
  },
  {
   "cell_type": "code",
   "execution_count": 34,
   "id": "fcc6a70b-3ec9-452b-80fe-2da4ae040ad2",
   "metadata": {},
   "outputs": [
    {
     "name": "stderr",
     "output_type": "stream",
     "text": [
      "/home/naabzer/develop/recipe_tm/env/lib/python3.10/site-packages/tqdm/auto.py:21: TqdmWarning: IProgress not found. Please update jupyter and ipywidgets. See https://ipywidgets.readthedocs.io/en/stable/user_install.html\n",
      "  from .autonotebook import tqdm as notebook_tqdm\n",
      "Downloading artifacts: 100%|██████████████████████████████████████████████████████████| 5/5 [00:02<00:00,  1.90it/s]\n"
     ]
    }
   ],
   "source": [
    "model_uri = 'runs:/083d261eafb942a2878f1dab36056631/model'\n",
    "BOW_model = mlflow.sklearn.load_model(model_uri)"
   ]
  },
  {
   "cell_type": "code",
   "execution_count": 117,
   "id": "5e7563b8-31d5-48be-b34d-c140bba5ce70",
   "metadata": {},
   "outputs": [],
   "source": [
    "def transform_ds_to_BOW(ds: pl.DataFrame, model):\n",
    "    tfidfs = []\n",
    "    for ingredients in ds.select('ingredients').iter_rows():\n",
    "        datapoint_tfidf = model.transform([\"\\n\".join(ingredients[0])])\n",
    "        tfidfs.append(datapoint_tfidf)\n",
    "    return ds.with_columns(pl.Series(name=\"tfidf\", values=tfidfs))"
   ]
  },
  {
   "cell_type": "code",
   "execution_count": 121,
   "id": "96b6540d-945d-4127-9504-dbcbdc76ca36",
   "metadata": {},
   "outputs": [],
   "source": [
    "def rank_results(ds: pl.DataFrame, embedding: scipy.sparse._csr.csr_matrix, embedding_col='tfidf'):\n",
    "    similarities = cosine_similarity(emb_query, scipy.sparse.vstack(eval_ds_tfidf['tfidf']))\n",
    "    ranked_ds = eval_ds_tfidf.with_columns(pl.Series(name='rank', values=similarities[0])).filter(pl.col('rank') > 0).sort('rank', descending=True)\n",
    "    return ranked_ds"
   ]
  },
  {
   "cell_type": "code",
   "execution_count": 133,
   "id": "dfde8b64-ace0-4ecc-b8dc-8fe5efc037f5",
   "metadata": {},
   "outputs": [],
   "source": [
    "tot_rr = 0\n",
    "tot_evals = 0\n",
    "                                    \n",
    "for index, ingredient_list in eval_ds.select('index', 'ingredients').iter_rows():\n",
    "    emb_query = run_BOW_on_line(\"\\n\".join(ingredient_list), model_uri)\n",
    "    ranked_ds = rank_results(eval_ds, emb_query)\n",
    "    tot_rr += reciprocal_rank(ranked_ds, index)\n",
    "    tot_evals += 1"
   ]
  },
  {
   "cell_type": "code",
   "execution_count": 134,
   "id": "d518ef62-3e21-4c2e-956a-77fc2609730d",
   "metadata": {},
   "outputs": [
    {
     "name": "stdout",
     "output_type": "stream",
     "text": [
      "996.8928571428571\n",
      "1000\n"
     ]
    }
   ],
   "source": [
    "print(tot_rr)\n",
    "print(tot_evals)"
   ]
  },
  {
   "cell_type": "code",
   "execution_count": 135,
   "id": "840fd4ec-fcbe-4748-ae01-c0dfb345f400",
   "metadata": {},
   "outputs": [],
   "source": [
    "mrr = tot_rr/tot_evals"
   ]
  }
 ],
 "metadata": {
  "kernelspec": {
   "display_name": "Python 3 (ipykernel)",
   "language": "python",
   "name": "python3"
  },
  "language_info": {
   "codemirror_mode": {
    "name": "ipython",
    "version": 3
   },
   "file_extension": ".py",
   "mimetype": "text/x-python",
   "name": "python",
   "nbconvert_exporter": "python",
   "pygments_lexer": "ipython3",
   "version": "3.10.16"
  }
 },
 "nbformat": 4,
 "nbformat_minor": 5
}
