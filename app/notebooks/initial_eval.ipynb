{
 "cells": [
  {
   "cell_type": "code",
   "execution_count": 1,
   "id": "a8878ef0-d226-493a-a90b-ca8c673cf97a",
   "metadata": {},
   "outputs": [],
   "source": [
    "import mlflow\n",
    "import mlflow.spacy\n",
    "import mlflow.sklearn\n",
    "import polars as pl\n",
    "import seaborn as sns\n",
    "import scipy\n",
    "import duckdb\n",
    "import numpy as np\n",
    "import json"
   ]
  },
  {
   "cell_type": "code",
   "execution_count": 2,
   "id": "7a51787d-7fc7-4033-ba82-66cc5f95841b",
   "metadata": {
    "editable": true,
    "slideshow": {
     "slide_type": ""
    },
    "tags": []
   },
   "outputs": [
    {
     "data": {
      "text/plain": [
       "True"
      ]
     },
     "execution_count": 2,
     "metadata": {},
     "output_type": "execute_result"
    }
   ],
   "source": [
    "import os\n",
    "import sys\n",
    "from dotenv import load_dotenv\n",
    "sys.path.insert(0, os.path.abspath('..'))\n",
    "sys.path.insert(0, os.path.abspath('../..'))\n",
    "from app.model_functions import run_BOW_on_line\n",
    "from app.evaluation import reciprocal_rank, rank_results, precision_at_k\n",
    "from app.data_handling.BOW import transform_ds_to_BOW\n",
    "from app.data_handling.NER_parquet import process_ingredient, transform_ingredients_to_tokens, transform_data_to_tokens, construct_ingredient_query\n",
    "\n",
    "load_dotenv()"
   ]
  },
  {
   "cell_type": "code",
   "execution_count": 3,
   "id": "f1499171-e12e-425e-8f00-6839b551d442",
   "metadata": {},
   "outputs": [],
   "source": [
    "mlflow.set_tracking_uri(os.getenv(\"MLFLOW_TRACKING_URL\"))"
   ]
  },
  {
   "cell_type": "code",
   "execution_count": 4,
   "id": "44dcca0b-9916-47bd-9102-4c32882e21a4",
   "metadata": {},
   "outputs": [],
   "source": [
    "with open(\"../../data/eval_data/processed_data.json\", \"r\") as f:\n",
    "    eval_ds = pl.read_json(f)"
   ]
  },
  {
   "cell_type": "code",
   "execution_count": 5,
   "id": "fcc6a70b-3ec9-452b-80fe-2da4ae040ad2",
   "metadata": {},
   "outputs": [
    {
     "name": "stderr",
     "output_type": "stream",
     "text": [
      "/home/naabzer/develop/recipe_tm/env/lib/python3.10/site-packages/tqdm/auto.py:21: TqdmWarning: IProgress not found. Please update jupyter and ipywidgets. See https://ipywidgets.readthedocs.io/en/stable/user_install.html\n",
      "  from .autonotebook import tqdm as notebook_tqdm\n",
      "Downloading artifacts: 100%|██████████████████████████████████████████████████████████| 5/5 [00:02<00:00,  1.70it/s]\n"
     ]
    }
   ],
   "source": [
    "model_uri = 'runs:/083d261eafb942a2878f1dab36056631/model'\n",
    "BOW_model = mlflow.sklearn.load_model(model_uri)"
   ]
  },
  {
   "cell_type": "markdown",
   "id": "57268091-ee80-4faa-984e-b694226de23f",
   "metadata": {},
   "source": [
    "# BOW Evaluation "
   ]
  },
  {
   "cell_type": "code",
   "execution_count": 6,
   "id": "e64ec79f-7cf2-4048-98be-27fe01bb50e0",
   "metadata": {},
   "outputs": [],
   "source": [
    "eval_ds = transform_ds_to_BOW(eval_ds, BOW_model)"
   ]
  },
  {
   "cell_type": "code",
   "execution_count": 7,
   "id": "31457dca-254d-446f-b32b-7807ed2e7d45",
   "metadata": {},
   "outputs": [
    {
     "data": {
      "text/html": [
       "<div><style>\n",
       ".dataframe > thead > tr,\n",
       ".dataframe > tbody > tr {\n",
       "  text-align: right;\n",
       "  white-space: pre-wrap;\n",
       "}\n",
       "</style>\n",
       "<small>shape: (5, 8)</small><table border=\"1\" class=\"dataframe\"><thead><tr><th>index</th><th>title</th><th>ingredients</th><th>google_search_query</th><th>main_food_items_and_preparations</th><th>important_ingredients_for_search</th><th>google_search_query_processed</th><th>tfidf</th></tr><tr><td>i64</td><td>str</td><td>list[str]</td><td>str</td><td>list[str]</td><td>list[str]</td><td>struct[2]</td><td>object</td></tr></thead><tbody><tr><td>1461</td><td>&quot;Apricot Cake&quot;</td><td>[&quot;2 c. sugar&quot;, &quot;4 eggs&quot;, … &quot;1/2 c. chopped nuts (English or pecans)&quot;]</td><td>&quot;apricot cake recipe with baby …</td><td>[&quot;sugar&quot;, &quot;eggs&quot;, … &quot;chopped nuts (English or pecans)&quot;]</td><td>[&quot;apricot baby food&quot;, &quot;flour&quot;, … &quot;Wesson oil&quot;]</td><td>{&quot;Apricot Cake&quot;,[&quot;baby food&quot;, &quot;oil&quot;, … &quot;cinnamon&quot;]}</td><td>&lt;Compressed Sparse Row sparse matrix of dtype &#x27;float64&#x27;\n",
       "\twith 21 stored elements and shape (1, 130236)&gt;\n",
       "&nbsp;&nbsp;Coords\tValues\n",
       "&nbsp;&nbsp;(0, 9283)\t0.21712884633218843\n",
       "&nbsp;&nbsp;(0, 11227)\t0.1983406079654085\n",
       "&nbsp;&nbsp;(0, 11950)\t0.1435427933001902\n",
       "&nbsp;&nbsp;(0, 27801)\t0.10397334298783731\n",
       "&nbsp;&nbsp;(0, 28655)\t0.1545387933857181\n",
       "&nbsp;&nbsp;(0, 40188)\t0.13477667718333167\n",
       "&nbsp;&nbsp;(0, 41158)\t0.22558277653043618\n",
       "&nbsp;&nbsp;(0, 45373)\t0.12492984261939608\n",
       "&nbsp;&nbsp;(0, 45749)\t0.20424254996450877\n",
       "&nbsp;&nbsp;(0, 59855)\t0.49958837040533793\n",
       "&nbsp;&nbsp;(0, 61279)\t0.3252229750070988\n",
       "&nbsp;&nbsp;(0, 82354)\t0.175862530653854\n",
       "&nbsp;&nbsp;(0, 82985)\t0.12296912118731682\n",
       "&nbsp;&nbsp;(0, 88411)\t0.17669976855051128\n",
       "&nbsp;&nbsp;(0, 101700)\t0.10744209625000255\n",
       "&nbsp;&nbsp;(0, 108170)\t0.14579595442297072\n",
       "&nbsp;&nbsp;(0, 108877)\t0.1595550757864492\n",
       "&nbsp;&nbsp;(0, 113207)\t0.10989552183156677\n",
       "&nbsp;&nbsp;(0, 115704)\t0.2507885160635505\n",
       "&nbsp;&nbsp;(0, 120835)\t0.3147401308886549\n",
       "&nbsp;&nbsp;(0, 126098)\t0.2586934565664201</td></tr><tr><td>1490</td><td>&quot;Angel Delights&quot;</td><td>[&quot;1 c. miniature marshmallows&quot;, &quot;1 c. broken pretzels&quot;, … &quot;1 lb. almond bark&quot;]</td><td>&quot;angel delights recipe with mar…</td><td>[&quot;miniature marshmallows&quot;, &quot;broken pretzels&quot;, … &quot;almond bark&quot;]</td><td>[&quot;marshmallows&quot;, &quot;pretzels&quot;, … &quot;almond bark&quot;]</td><td>{&quot;Angel Delights&quot;,[&quot;marshmallows&quot;, &quot;pretzels&quot;, … &quot;almond bark&quot;]}</td><td>&lt;Compressed Sparse Row sparse matrix of dtype &#x27;float64&#x27;\n",
       "\twith 11 stored elements and shape (1, 130236)&gt;\n",
       "&nbsp;&nbsp;Coords\tValues\n",
       "&nbsp;&nbsp;(0, 7337)\t0.27457616363739945\n",
       "&nbsp;&nbsp;(0, 12685)\t0.3871133931186115\n",
       "&nbsp;&nbsp;(0, 19199)\t0.3181489993693008\n",
       "&nbsp;&nbsp;(0, 29676)\t0.3188529733949754\n",
       "&nbsp;&nbsp;(0, 31613)\t0.2273677064414553\n",
       "&nbsp;&nbsp;(0, 44849)\t0.2629846945636357\n",
       "&nbsp;&nbsp;(0, 67466)\t0.18886814325325993\n",
       "&nbsp;&nbsp;(0, 73219)\t0.2995899324685194\n",
       "&nbsp;&nbsp;(0, 76492)\t0.3185707815222047\n",
       "&nbsp;&nbsp;(0, 88291)\t0.3064827378587215\n",
       "&nbsp;&nbsp;(0, 93854)\t0.3607822177757804</td></tr><tr><td>3374</td><td>&quot;Savory Sausage Casserole&quot;</td><td>[&quot;1 lb. bulk pork sausage&quot;, &quot;1 c. uncooked rice&quot;, … &quot;1/2 c. toasted halved or slivered blanched almonds&quot;]</td><td>&quot;sausage and rice casserole wit…</td><td>[&quot;bulk pork sausage&quot;, &quot;uncooked rice&quot;, … &quot;toasted halved or slivered blanched almonds&quot;]</td><td>[&quot;pork sausage&quot;, &quot;rice&quot;, … &quot;almonds&quot;]</td><td>{&quot;Savory Sausage Casserole&quot;,[&quot;rice&quot;, &quot;chicken noodle soup mix&quot;, &quot;almonds&quot;]}</td><td>&lt;Compressed Sparse Row sparse matrix of dtype &#x27;float64&#x27;\n",
       "\twith 26 stored elements and shape (1, 130236)&gt;\n",
       "&nbsp;&nbsp;Coords\tValues\n",
       "&nbsp;&nbsp;(0, 7358)\t0.21355553258531798\n",
       "&nbsp;&nbsp;(0, 15826)\t0.2656119366939254\n",
       "&nbsp;&nbsp;(0, 20044)\t0.2800944185217424\n",
       "&nbsp;&nbsp;(0, 24794)\t0.17787352198803952\n",
       "&nbsp;&nbsp;(0, 26596)\t0.14236548100216345\n",
       "&nbsp;&nbsp;(0, 27801)\t0.11540937169961717\n",
       "&nbsp;&nbsp;(0, 35906)\t0.3261291738007668\n",
       "&nbsp;&nbsp;(0, 44415)\t0.1630538812069721\n",
       "&nbsp;&nbsp;(0, 53524)\t0.20752976289414013\n",
       "&nbsp;&nbsp;(0, 67466)\t0.14751402422039178\n",
       "&nbsp;&nbsp;(0, 81718)\t0.26515036232498423\n",
       "&nbsp;&nbsp;(0, 83546)\t0.14095178706771552\n",
       "&nbsp;&nbsp;(0, 84923)\t0.1381936223803339\n",
       "&nbsp;&nbsp;(0, 91367)\t0.1625829450155788\n",
       "&nbsp;&nbsp;(0, 92645)\t0.18955392095331905\n",
       "&nbsp;&nbsp;(0, 98577)\t0.17385264943030337\n",
       "&nbsp;&nbsp;(0, 102599)\t0.14795515722248265\n",
       "&nbsp;&nbsp;(0, 102752)\t0.2024964773815439\n",
       "&nbsp;&nbsp;(0, 107807)\t0.14619186341709522\n",
       "&nbsp;&nbsp;(0, 107960)\t0.2483404065659469\n",
       "&nbsp;&nbsp;(0, 109616)\t0.16831256159406507\n",
       "&nbsp;&nbsp;(0, 109799)\t0.195927873320918\n",
       "&nbsp;&nbsp;(0, 116265)\t0.13064018822766785\n",
       "&nbsp;&nbsp;(0, 118687)\t0.20597190005502025\n",
       "&nbsp;&nbsp;(0, 122036)\t0.21671441949791226\n",
       "&nbsp;&nbsp;(0, 125599)\t0.14634658876689555</td></tr><tr><td>7006</td><td>&quot;Zemakove Knedliky A Kysele Zel…</td><td>[&quot;2 c. mashed potatoes&quot;, &quot;1/2 tsp. salt&quot;, … &quot;1 1/2 c. flour&quot;]</td><td>&quot;potato dumplings with sauerkra…</td><td>[&quot;mashed potatoes&quot;, &quot;salt&quot;, … &quot;flour&quot;]</td><td>[&quot;mashed potatoes&quot;, &quot;sauerkraut&quot;, … &quot;egg&quot;]</td><td>{&quot;Zemakove Knedliky A Kysele Zeli(Potato Dumplings With Sauerkraut)&nbsp;&nbsp;&quot;,[&quot;sauerkraut&quot;, &quot;mashed potatoes&quot;]}</td><td>&lt;Compressed Sparse Row sparse matrix of dtype &#x27;float64&#x27;\n",
       "\twith 10 stored elements and shape (1, 130236)&gt;\n",
       "&nbsp;&nbsp;Coords\tValues\n",
       "&nbsp;&nbsp;(0, 11950)\t0.2658405181035908\n",
       "&nbsp;&nbsp;(0, 40101)\t0.268414630494851\n",
       "&nbsp;&nbsp;(0, 45373)\t0.2313694287604218\n",
       "&nbsp;&nbsp;(0, 73488)\t0.3664366954222877\n",
       "&nbsp;&nbsp;(0, 92993)\t0.2999027792622051\n",
       "&nbsp;&nbsp;(0, 93268)\t0.2540424580328967\n",
       "&nbsp;&nbsp;(0, 101700)\t0.19898221203975064\n",
       "&nbsp;&nbsp;(0, 102689)\t0.4467713827574058\n",
       "&nbsp;&nbsp;(0, 107306)\t0.35325407455267455\n",
       "&nbsp;&nbsp;(0, 120835)\t0.3885980737393621</td></tr><tr><td>9957</td><td>&quot;Scalloped Sweet Potatoes&quot;</td><td>[&quot;1/4 c. sugar&quot;, &quot;1/2 tsp. cinnamon&quot;, … &quot;3 Tbsp. margarine&quot;]</td><td>&quot;scalloped sweet potatoes and a…</td><td>[&quot;sugar&quot;, &quot;cinnamon&quot;, … &quot;margarine&quot;]</td><td>[&quot;sweet potatoes&quot;, &quot;apples&quot;, &quot;cinnamon&quot;]</td><td>{&quot;Scalloped Sweet Potatoes&quot;,[&quot;sweet potatoes&quot;, &quot;apples&quot;]}</td><td>&lt;Compressed Sparse Row sparse matrix of dtype &#x27;float64&#x27;\n",
       "\twith 13 stored elements and shape (1, 130236)&gt;\n",
       "&nbsp;&nbsp;Coords\tValues\n",
       "&nbsp;&nbsp;(0, 9131)\t0.29602645547341194\n",
       "&nbsp;&nbsp;(0, 28655)\t0.2382677014934043\n",
       "&nbsp;&nbsp;(0, 57771)\t0.23875589953065665\n",
       "&nbsp;&nbsp;(0, 72698)\t0.24389063403695624\n",
       "&nbsp;&nbsp;(0, 74731)\t0.4537104932959401\n",
       "&nbsp;&nbsp;(0, 88532)\t0.23643065970012364\n",
       "&nbsp;&nbsp;(0, 92993)\t0.24967115325124473\n",
       "&nbsp;&nbsp;(0, 96812)\t0.31683790501263137\n",
       "&nbsp;&nbsp;(0, 107807)\t0.4061269287450603\n",
       "&nbsp;&nbsp;(0, 113207)\t0.16943676611911168\n",
       "&nbsp;&nbsp;(0, 114215)\t0.24878528714618794\n",
       "&nbsp;&nbsp;(0, 116265)\t0.18146187200653421\n",
       "&nbsp;&nbsp;(0, 120835)\t0.16175530193551932</td></tr></tbody></table></div>"
      ],
      "text/plain": [
       "shape: (5, 8)\n",
       "┌───────┬────────────┬────────────┬────────────┬────────────┬────────────┬────────────┬────────────┐\n",
       "│ index ┆ title      ┆ ingredient ┆ google_sea ┆ main_food_ ┆ important_ ┆ google_sea ┆ tfidf      │\n",
       "│ ---   ┆ ---        ┆ s          ┆ rch_query  ┆ items_and_ ┆ ingredient ┆ rch_query_ ┆ ---        │\n",
       "│ i64   ┆ str        ┆ ---        ┆ ---        ┆ preparatio ┆ s_for_sear ┆ processed  ┆ object     │\n",
       "│       ┆            ┆ list[str]  ┆ str        ┆ …          ┆ …          ┆ ---        ┆            │\n",
       "│       ┆            ┆            ┆            ┆ ---        ┆ ---        ┆ struct[2]  ┆            │\n",
       "│       ┆            ┆            ┆            ┆ list[str]  ┆ list[str]  ┆            ┆            │\n",
       "╞═══════╪════════════╪════════════╪════════════╪════════════╪════════════╪════════════╪════════════╡\n",
       "│ 1461  ┆ Apricot    ┆ [\"2 c.     ┆ apricot    ┆ [\"sugar\",  ┆ [\"apricot  ┆ {\"Apricot  ┆ <Compresse │\n",
       "│       ┆ Cake       ┆ sugar\", \"4 ┆ cake       ┆ \"eggs\", …  ┆ baby       ┆ Cake\",[\"ba ┆ d Sparse   │\n",
       "│       ┆            ┆ eggs\", …   ┆ recipe     ┆ \"chopped   ┆ food\",     ┆ by food\",  ┆ Row sparse │\n",
       "│       ┆            ┆ \"1/…       ┆ with baby  ┆ n…         ┆ \"flour\",…  ┆ …          ┆ …          │\n",
       "│       ┆            ┆            ┆ …          ┆            ┆            ┆            ┆            │\n",
       "│ 1490  ┆ Angel      ┆ [\"1 c.     ┆ angel      ┆ [\"miniatur ┆ [\"marshmal ┆ {\"Angel    ┆ <Compresse │\n",
       "│       ┆ Delights   ┆ miniature  ┆ delights   ┆ e marshmal ┆ lows\", \"pr ┆ Delights\", ┆ d Sparse   │\n",
       "│       ┆            ┆ marshmallo ┆ recipe     ┆ lows\",     ┆ etzels\",   ┆ [\"marshmal ┆ Row sparse │\n",
       "│       ┆            ┆ ws\"…       ┆ with mar…  ┆ \"br…       ┆ ……         ┆ lo…        ┆ …          │\n",
       "│ 3374  ┆ Savory     ┆ [\"1 lb.    ┆ sausage    ┆ [\"bulk     ┆ [\"pork     ┆ {\"Savory   ┆ <Compresse │\n",
       "│       ┆ Sausage    ┆ bulk pork  ┆ and rice   ┆ pork       ┆ sausage\",  ┆ Sausage    ┆ d Sparse   │\n",
       "│       ┆ Casserole  ┆ sausage\",  ┆ casserole  ┆ sausage\",  ┆ \"rice\", …  ┆ Casserole\" ┆ Row sparse │\n",
       "│       ┆            ┆ \"1…        ┆ wit…       ┆ \"uncooke…  ┆ \"al…       ┆ ,[\"…       ┆ …          │\n",
       "│ 7006  ┆ Zemakove   ┆ [\"2 c.     ┆ potato     ┆ [\"mashed   ┆ [\"mashed   ┆ {\"Zemakove ┆ <Compresse │\n",
       "│       ┆ Knedliky A ┆ mashed     ┆ dumplings  ┆ potatoes\", ┆ potatoes\", ┆ Knedliky A ┆ d Sparse   │\n",
       "│       ┆ Kysele     ┆ potatoes\", ┆ with       ┆ \"salt\", …  ┆ \"sauerkrau ┆ Kysele Z…  ┆ Row sparse │\n",
       "│       ┆ Zel…       ┆ \"1/2 …     ┆ sauerkra…  ┆ …          ┆ …          ┆            ┆ …          │\n",
       "│ 9957  ┆ Scalloped  ┆ [\"1/4 c.   ┆ scalloped  ┆ [\"sugar\",  ┆ [\"sweet    ┆ {\"Scallope ┆ <Compresse │\n",
       "│       ┆ Sweet      ┆ sugar\",    ┆ sweet      ┆ \"cinnamon\" ┆ potatoes\", ┆ d Sweet    ┆ d Sparse   │\n",
       "│       ┆ Potatoes   ┆ \"1/2 tsp.  ┆ potatoes   ┆ , …        ┆ \"apples\",  ┆ Potatoes\", ┆ Row sparse │\n",
       "│       ┆            ┆ cin…       ┆ and a…     ┆ \"marga…    ┆ \"…         ┆ [\"…        ┆ …          │\n",
       "└───────┴────────────┴────────────┴────────────┴────────────┴────────────┴────────────┴────────────┘"
      ]
     },
     "execution_count": 7,
     "metadata": {},
     "output_type": "execute_result"
    }
   ],
   "source": [
    "eval_ds.head()"
   ]
  },
  {
   "cell_type": "markdown",
   "id": "c22a88b2-bbec-4d47-830d-457544f4dae9",
   "metadata": {},
   "source": [
    "### Identity query\n",
    "Here we use the original ingredients as the input to the model. Since this is also what the model is trained on, it should give close to perfect results"
   ]
  },
  {
   "cell_type": "code",
   "execution_count": 8,
   "id": "dfde8b64-ace0-4ecc-b8dc-8fe5efc037f5",
   "metadata": {},
   "outputs": [
    {
     "name": "stderr",
     "output_type": "stream",
     "text": [
      "Downloading artifacts: 100%|██████████████████████████████████████████████████████████| 5/5 [00:03<00:00,  1.36it/s]\n",
      "Downloading artifacts: 100%|██████████████████████████████████████████████████████████| 1/1 [00:00<00:00,  9.14it/s]\n"
     ]
    }
   ],
   "source": [
    "tot_rr = 0\n",
    "tot_prec_at_3 = 0\n",
    "tot_evals = 0\n",
    "for index, ingredient_list in eval_ds.select('index', 'ingredients').iter_rows():\n",
    "    emb_query = run_BOW_on_line(\"\\n\".join(ingredient_list), model_uri)\n",
    "    ranked_ds = rank_results(eval_ds, emb_query)\n",
    "    tot_rr += reciprocal_rank(ranked_ds, index)\n",
    "    tot_prec_at_3 += precision_at_k(ranked_ds, index)\n",
    "    tot_evals += 1"
   ]
  },
  {
   "cell_type": "code",
   "execution_count": 9,
   "id": "d518ef62-3e21-4c2e-956a-77fc2609730d",
   "metadata": {},
   "outputs": [
    {
     "name": "stdout",
     "output_type": "stream",
     "text": [
      "Identity Query, MRR: 0.9968928571428571\n",
      "Identity Query, P@3: 0.998\n"
     ]
    }
   ],
   "source": [
    "identity_mrr = tot_rr/tot_evals\n",
    "print(f\"Identity Query, MRR: {identity_mrr}\")\n",
    "indentity_mean_prec_at_3 = tot_prec_at_3 / tot_evals\n",
    "print(f\"Identity Query, P@3: {indentity_mean_prec_at_3}\")"
   ]
  },
  {
   "cell_type": "markdown",
   "id": "e5a4c47d-b566-4aa4-9400-3265142a36c2",
   "metadata": {},
   "source": [
    "### LLM task 1 - Main food items and preparations\n",
    "Here the BOW should perform worse"
   ]
  },
  {
   "cell_type": "code",
   "execution_count": 10,
   "id": "2fb73cef-d074-4abf-86ed-54f052da2798",
   "metadata": {},
   "outputs": [],
   "source": [
    "tot_rr = 0\n",
    "tot_prec_at_3 = 0\n",
    "tot_evals = 0\n",
    "for index, ingredient_list in eval_ds.select('index', 'main_food_items_and_preparations').iter_rows():\n",
    "    emb_query = run_BOW_on_line(\"\\n\".join(ingredient_list), model_uri)\n",
    "    ranked_ds = rank_results(eval_ds, emb_query)\n",
    "    tot_rr += reciprocal_rank(ranked_ds, index)\n",
    "    tot_prec_at_3 += precision_at_k(ranked_ds, index)\n",
    "    tot_evals += 1"
   ]
  },
  {
   "cell_type": "code",
   "execution_count": 12,
   "id": "f216dba7-bf13-43ca-9e0b-aaada7682173",
   "metadata": {},
   "outputs": [
    {
     "name": "stdout",
     "output_type": "stream",
     "text": [
      "LLM Task 1, MRR: 0.9710163489736073\n",
      "LLM Task 2, P@3: 0.987\n"
     ]
    }
   ],
   "source": [
    "llm1_mrr = tot_rr/tot_evals\n",
    "print(f\"LLM Task 1, MRR: {llm1_mrr}\")\n",
    "llm1_mean_prec_at_3 = tot_prec_at_3 / tot_evals\n",
    "print(f\"LLM Task 2, P@3: {llm1_mean_prec_at_3}\")"
   ]
  },
  {
   "cell_type": "markdown",
   "id": "a65be64a-fbb1-4397-a456-a8add9d54ccb",
   "metadata": {},
   "source": [
    "### LLM task 2 - Important ingredients for search\n",
    "Here the BOW should perform worse"
   ]
  },
  {
   "cell_type": "code",
   "execution_count": 13,
   "id": "c22c90a8-e6e9-45ca-8a2c-8c569beb89b3",
   "metadata": {
    "editable": true,
    "slideshow": {
     "slide_type": ""
    },
    "tags": []
   },
   "outputs": [],
   "source": [
    "tot_rr = 0\n",
    "tot_prec_at_3 = 0\n",
    "tot_evals = 0\n",
    "for index, ingredient_list in eval_ds.select('index', 'important_ingredients_for_search').iter_rows():\n",
    "    emb_query = run_BOW_on_line(\"\\n\".join(ingredient_list), model_uri)\n",
    "    ranked_ds = rank_results(eval_ds, emb_query)\n",
    "    tot_rr += reciprocal_rank(ranked_ds, index)\n",
    "    tot_prec_at_3 += precision_at_k(ranked_ds, index)\n",
    "    tot_evals += 1"
   ]
  },
  {
   "cell_type": "code",
   "execution_count": 14,
   "id": "964d7b04-93ec-49b1-a26f-0706c6966b77",
   "metadata": {},
   "outputs": [
    {
     "name": "stdout",
     "output_type": "stream",
     "text": [
      "LLM Task 2, MRR: 0.7990394606038969\n",
      "LLM Task 2, P23: 0.865\n"
     ]
    }
   ],
   "source": [
    "llm2_mrr = tot_rr/tot_evals\n",
    "print(f\"LLM Task 2, MRR: {llm2_mrr}\")\n",
    "llm2_mean_prec_at_3 = tot_prec_at_3 / tot_evals\n",
    "print(f\"LLM Task 2, P23: {llm2_mean_prec_at_3}\")"
   ]
  },
  {
   "cell_type": "markdown",
   "id": "c1881e59-f68a-4914-8710-1955bf62ffcc",
   "metadata": {},
   "source": [
    "### LLM task 3 - Google query, processed\n",
    "Here the BOW should perform worse"
   ]
  },
  {
   "cell_type": "code",
   "execution_count": 15,
   "id": "c93d5302-0494-425a-8d56-526430ef29c1",
   "metadata": {
    "editable": true,
    "slideshow": {
     "slide_type": ""
    },
    "tags": []
   },
   "outputs": [],
   "source": [
    "tot_rr = 0\n",
    "tot_prec_at_3 = 0\n",
    "tot_evals = 0\n",
    "# TODO: Add title into the query\n",
    "for index, ingredient_list in eval_ds.select('index', 'google_search_query_processed').iter_rows():\n",
    "    emb_query = run_BOW_on_line(\"\\n\".join(ingredient_list['ingredients']), model_uri)\n",
    "    ranked_ds = rank_results(eval_ds, emb_query)\n",
    "    tot_rr += reciprocal_rank(ranked_ds, index)\n",
    "    tot_prec_at_3 += precision_at_k(ranked_ds, index)\n",
    "    tot_evals += 1"
   ]
  },
  {
   "cell_type": "code",
   "execution_count": 16,
   "id": "b44fba94-15d3-471b-bdd5-e70c9afc201d",
   "metadata": {
    "editable": true,
    "slideshow": {
     "slide_type": ""
    },
    "tags": []
   },
   "outputs": [
    {
     "name": "stdout",
     "output_type": "stream",
     "text": [
      "LLM Task 3, MRR: 0.5290517475412047\n",
      "LLM Task 3, P@3: 0.598\n"
     ]
    }
   ],
   "source": [
    "llm3_mrr = tot_rr/tot_evals\n",
    "print(f\"LLM Task 3, MRR: {llm3_mrr}\")\n",
    "llm3_mean_prec_at_3 = tot_prec_at_3 / tot_evals\n",
    "print(f\"LLM Task 3, P@3: {llm3_mean_prec_at_3}\")"
   ]
  },
  {
   "cell_type": "markdown",
   "id": "7d2ef16f-5fca-4124-92ad-9ffef3afa7d9",
   "metadata": {
    "editable": true,
    "slideshow": {
     "slide_type": ""
    },
    "tags": []
   },
   "source": [
    "# NER DB \n",
    "Currently this should perform pretty bad, since there is no ranking function, the metrics would be pretty random."
   ]
  },
  {
   "cell_type": "code",
   "execution_count": 17,
   "id": "448302f8-3f13-42f7-bd8e-b2ad8bc04f31",
   "metadata": {},
   "outputs": [
    {
     "name": "stderr",
     "output_type": "stream",
     "text": [
      "Downloading artifacts: 100%|████████████████████████████████████████████████████████| 17/17 [00:09<00:00,  1.84it/s]\n"
     ]
    }
   ],
   "source": [
    "model_uri = \"models:/recipe_NER@prod\"\n",
    "ner = mlflow.spacy.load_model(model_uri=model_uri)"
   ]
  },
  {
   "cell_type": "markdown",
   "id": "43d2cdca-d95a-48d0-8ab3-c5b7d7ccd49f",
   "metadata": {},
   "source": [
    "### Identity query"
   ]
  },
  {
   "cell_type": "code",
   "execution_count": 18,
   "id": "1980ebd3-f369-4c03-974d-c0e760cd0f9e",
   "metadata": {
    "editable": true,
    "slideshow": {
     "slide_type": ""
    },
    "tags": []
   },
   "outputs": [],
   "source": [
    "tokens, preps, optionals = transform_data_to_tokens(eval_ds['ingredients'], ner, create_vocab=False)\n",
    "ner_ds = eval_ds.select(pl.exclude('tfidf')).with_columns(\n",
    "    pl.Series(name='tokens', values=tokens),\n",
    "    pl.Series(name='preps', values=preps),\n",
    "    pl.Series(name='optionals', values=optionals)\n",
    ")\n",
    "ner_ds.write_parquet('eval_test.parquet')"
   ]
  },
  {
   "cell_type": "code",
   "execution_count": 19,
   "id": "8a2a976b-e4ab-4bc3-984a-9599608dfe92",
   "metadata": {
    "scrolled": true
   },
   "outputs": [],
   "source": [
    "tot_rr = 0\n",
    "tot_prec_at_3 = 0\n",
    "tot_evals = 0\n",
    "for index, tokens, preps in ner_ds.select('index', 'tokens', 'preps').iter_rows():\n",
    "    preps_obj = json.loads(preps)\n",
    "    sql = construct_ingredient_query('eval_test.parquet', tokens, preps_obj)\n",
    "    try:\n",
    "        results = duckdb.sql(sql).pl()\n",
    "        tot_rr += reciprocal_rank(results, index)\n",
    "        tot_prec_at_3 += precision_at_k(results, index)\n",
    "        tot_evals += 1\n",
    "    except:\n",
    "        continue"
   ]
  },
  {
   "cell_type": "code",
   "execution_count": 20,
   "id": "c43ed925-84ff-43f7-8dde-9abf627c6788",
   "metadata": {},
   "outputs": [
    {
     "name": "stdout",
     "output_type": "stream",
     "text": [
      "Identity Query, MRR: 0.966053986261216\n",
      "Identity Query, P@3: 0.9759036144578314\n"
     ]
    }
   ],
   "source": [
    "identity_mrr = tot_rr/tot_evals\n",
    "print(f\"Identity Query, MRR: {identity_mrr}\")\n",
    "indentity_mean_prec_at_3 = tot_prec_at_3 / tot_evals\n",
    "print(f\"Identity Query, P@3: {indentity_mean_prec_at_3}\")"
   ]
  },
  {
   "cell_type": "markdown",
   "id": "81d64751-2e36-417e-90b4-a1edc1eb07d8",
   "metadata": {},
   "source": [
    "### LLM task 1"
   ]
  },
  {
   "cell_type": "code",
   "execution_count": 21,
   "id": "017cc723-e85b-4883-abbb-def1d0ba0d3e",
   "metadata": {
    "editable": true,
    "slideshow": {
     "slide_type": ""
    },
    "tags": []
   },
   "outputs": [],
   "source": [
    "tokens, preps, optionals = transform_data_to_tokens(eval_ds['main_food_items_and_preparations'], ner, create_vocab=False)\n",
    "ner_ds = eval_ds.select(pl.exclude('tfidf')).with_columns(\n",
    "    pl.Series(name='tokens', values=tokens),\n",
    "    pl.Series(name='preps', values=preps),\n",
    "    pl.Series(name='optionals', values=optionals)\n",
    ")\n",
    "ner_ds.write_parquet('eval_test.parquet')"
   ]
  },
  {
   "cell_type": "code",
   "execution_count": 22,
   "id": "4834e83c-de2d-4a3b-9742-ac48ed551a65",
   "metadata": {
    "scrolled": true
   },
   "outputs": [],
   "source": [
    "tot_rr = 0\n",
    "tot_prec_at_3 = 0\n",
    "tot_evals = 0\n",
    "for index, tokens, preps in ner_ds.select('index', 'tokens', 'preps').iter_rows():\n",
    "    preps_obj = json.loads(preps)\n",
    "    sql = construct_ingredient_query('eval_test.parquet', tokens, preps_obj)\n",
    "    try:\n",
    "        results = duckdb.sql(sql).pl()\n",
    "        tot_rr += reciprocal_rank(results, index)\n",
    "        tot_prec_at_3 += precision_at_k(results, index)\n",
    "        tot_evals += 1\n",
    "    except:\n",
    "        continue"
   ]
  },
  {
   "cell_type": "code",
   "execution_count": 23,
   "id": "4a6784d3-a20d-4370-bec4-422e2558c29a",
   "metadata": {
    "editable": true,
    "slideshow": {
     "slide_type": ""
    },
    "tags": []
   },
   "outputs": [
    {
     "name": "stdout",
     "output_type": "stream",
     "text": [
      "LLM Task 1, MRR: 0.9623864537790293\n",
      "LLM Task 1, P@3: 0.9707661290322581\n"
     ]
    }
   ],
   "source": [
    "llm1_mrr = tot_rr/tot_evals\n",
    "print(f\"LLM Task 1, MRR: {llm1_mrr}\")\n",
    "llm1_mean_prec_at_3 = tot_prec_at_3 / tot_evals\n",
    "print(f\"LLM Task 1, P@3: {llm1_mean_prec_at_3}\")"
   ]
  },
  {
   "cell_type": "markdown",
   "id": "ccff15fb-edad-4db2-a3e3-a1648ee5c072",
   "metadata": {},
   "source": [
    "### LLM task 2"
   ]
  },
  {
   "cell_type": "code",
   "execution_count": 24,
   "id": "626c620c-5056-4878-8d04-085a49b51067",
   "metadata": {
    "editable": true,
    "slideshow": {
     "slide_type": ""
    },
    "tags": []
   },
   "outputs": [],
   "source": [
    "tokens, preps, optionals = transform_data_to_tokens(eval_ds['important_ingredients_for_search'], ner, create_vocab=False)\n",
    "ner_ds = eval_ds.select(pl.exclude('tfidf')).with_columns(\n",
    "    pl.Series(name='tokens', values=tokens),\n",
    "    pl.Series(name='preps', values=preps),\n",
    "    pl.Series(name='optionals', values=optionals)\n",
    ")\n",
    "ner_ds.write_parquet('eval_test.parquet')"
   ]
  },
  {
   "cell_type": "code",
   "execution_count": 25,
   "id": "335631e8-97c9-4ab7-bb4e-03b90b8d76bf",
   "metadata": {
    "scrolled": true
   },
   "outputs": [],
   "source": [
    "tot_rr = 0\n",
    "tot_prec_at_3 = 0\n",
    "tot_evals = 0\n",
    "for index, tokens, preps in ner_ds.select('index', 'tokens', 'preps').iter_rows():\n",
    "    preps_obj = json.loads(preps)\n",
    "    sql = construct_ingredient_query('eval_test.parquet', tokens, preps_obj)\n",
    "    try:\n",
    "        results = duckdb.sql(sql).pl()\n",
    "        tot_rr += reciprocal_rank(results, index)\n",
    "        tot_prec_at_3 += precision_at_k(results, index)\n",
    "        tot_evals += 1\n",
    "    except:\n",
    "        continue"
   ]
  },
  {
   "cell_type": "code",
   "execution_count": 26,
   "id": "c1d5fafe-28c2-4189-8d2d-dd92c0d0d1f1",
   "metadata": {
    "editable": true,
    "slideshow": {
     "slide_type": ""
    },
    "tags": []
   },
   "outputs": [
    {
     "name": "stdout",
     "output_type": "stream",
     "text": [
      "LLM Task 2, MRR: 0.9125958040123223\n",
      "LLM Task 2, P@3: 0.948\n"
     ]
    }
   ],
   "source": [
    "llm2_mrr = tot_rr/tot_evals\n",
    "print(f\"LLM Task 2, MRR: {llm2_mrr}\")\n",
    "llm2_mean_prec_at_3 = tot_prec_at_3 / tot_evals\n",
    "print(f\"LLM Task 2, P@3: {llm2_mean_prec_at_3}\")"
   ]
  },
  {
   "cell_type": "markdown",
   "id": "e8f63a81-cba7-434c-b638-99196d454e1a",
   "metadata": {},
   "source": [
    "### LLM Task 3"
   ]
  },
  {
   "cell_type": "code",
   "execution_count": 27,
   "id": "c155ff2e-7e1f-43ec-9aff-f3b9fb4b0dc3",
   "metadata": {
    "editable": true,
    "slideshow": {
     "slide_type": ""
    },
    "tags": []
   },
   "outputs": [],
   "source": [
    "ingreds = [node['ingredients'] for node in eval_ds['google_search_query_processed']]\n",
    "tokens, preps, optionals = transform_data_to_tokens(ingreds, ner, create_vocab=False)\n",
    "ner_ds = eval_ds.select(pl.exclude('tfidf')).with_columns(\n",
    "    pl.Series(name='tokens', values=tokens),\n",
    "    pl.Series(name='preps', values=preps),\n",
    "    pl.Series(name='optionals', values=optionals)\n",
    ")\n",
    "ner_ds.write_parquet('eval_test.parquet')"
   ]
  },
  {
   "cell_type": "code",
   "execution_count": null,
   "id": "583818eb-7dfd-4a97-8394-286af7cd76ba",
   "metadata": {
    "scrolled": true
   },
   "outputs": [],
   "source": [
    "tot_rr = 0\n",
    "tot_prec_at_3 = 0\n",
    "tot_evals = 0\n",
    "for index, tokens, preps in ner_ds.select('index', 'tokens', 'preps').iter_rows():\n",
    "    preps_obj = json.loads(preps)\n",
    "    sql = construct_ingredient_query('eval_test.parquet', tokens, preps_obj)\n",
    "    try:\n",
    "        results = duckdb.sql(sql).pl()\n",
    "        tot_rr += reciprocal_rank(results, index)\n",
    "        tot_prec_at_3 += precision_at_k(results, index)\n",
    "        tot_evals += 1\n",
    "    except:\n",
    "        continue"
   ]
  },
  {
   "cell_type": "code",
   "execution_count": null,
   "id": "65910757-cdde-4ad8-a47b-da9253a2cc6c",
   "metadata": {
    "editable": true,
    "slideshow": {
     "slide_type": ""
    },
    "tags": []
   },
   "outputs": [],
   "source": [
    "llm3_mrr = tot_rr/tot_evals\n",
    "print(f\"LLM Task 3, MRR: {llm3_mrr}\")\n",
    "llm3_mean_prec_at_3 = tot_prec_at_3 / tot_evals\n",
    "print(f\"LLM Task 3, P@3: {llm3_mean_prec_at_3}\")"
   ]
  },
  {
   "cell_type": "code",
   "execution_count": null,
   "id": "c6152afb-8d78-4771-b811-5dea232e364f",
   "metadata": {
    "editable": true,
    "slideshow": {
     "slide_type": ""
    },
    "tags": []
   },
   "outputs": [],
   "source": []
  },
  {
   "cell_type": "code",
   "execution_count": null,
   "id": "0dabfc47-e78e-4815-94de-abf5868fdd8c",
   "metadata": {},
   "outputs": [],
   "source": []
  }
 ],
 "metadata": {
  "kernelspec": {
   "display_name": "Python 3 (ipykernel)",
   "language": "python",
   "name": "python3"
  },
  "language_info": {
   "codemirror_mode": {
    "name": "ipython",
    "version": 3
   },
   "file_extension": ".py",
   "mimetype": "text/x-python",
   "name": "python",
   "nbconvert_exporter": "python",
   "pygments_lexer": "ipython3",
   "version": "3.10.16"
  }
 },
 "nbformat": 4,
 "nbformat_minor": 5
}
