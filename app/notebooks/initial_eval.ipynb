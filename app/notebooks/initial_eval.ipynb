{
 "cells": [
  {
   "cell_type": "code",
   "execution_count": 1,
   "id": "a8878ef0-d226-493a-a90b-ca8c673cf97a",
   "metadata": {},
   "outputs": [],
   "source": [
    "import mlflow\n",
    "import mlflow.spacy\n",
    "import mlflow.sklearn\n",
    "import polars as pl\n",
    "import seaborn as sns\n",
    "import scipy\n",
    "import duckdb\n",
    "import numpy as np\n",
    "import json\n",
    "import timeit\n",
    "import matplotlib.pyplot as plt"
   ]
  },
  {
   "cell_type": "code",
   "execution_count": 2,
   "id": "7a51787d-7fc7-4033-ba82-66cc5f95841b",
   "metadata": {
    "editable": true,
    "slideshow": {
     "slide_type": ""
    },
    "tags": []
   },
   "outputs": [
    {
     "data": {
      "text/plain": [
       "True"
      ]
     },
     "execution_count": 2,
     "metadata": {},
     "output_type": "execute_result"
    }
   ],
   "source": [
    "import os\n",
    "import sys\n",
    "from dotenv import load_dotenv\n",
    "sys.path.insert(0, os.path.abspath('..'))\n",
    "sys.path.insert(0, os.path.abspath('../..'))\n",
    "from app.model_functions import run_BOW_on_line\n",
    "from app.evaluation import reciprocal_rank, rank_results, precision_at_k\n",
    "from app.data_handling.BOW import transform_ds_to_BOW\n",
    "from app.data_handling.NER_parquet import (\n",
    "process_ingredient,\n",
    "transform_ingredients_to_tokens,\n",
    "transform_data_to_tokens,\n",
    "construct_ingredient_query,\n",
    "ParquetDefinition,\n",
    "create_parquet_file\n",
    ")\n",
    "\n",
    "load_dotenv()"
   ]
  },
  {
   "cell_type": "code",
   "execution_count": 3,
   "id": "f1499171-e12e-425e-8f00-6839b551d442",
   "metadata": {},
   "outputs": [],
   "source": [
    "mlflow.set_tracking_uri(os.getenv(\"MLFLOW_TRACKING_URL\"))"
   ]
  },
  {
   "cell_type": "code",
   "execution_count": 4,
   "id": "44dcca0b-9916-47bd-9102-4c32882e21a4",
   "metadata": {
    "editable": true,
    "slideshow": {
     "slide_type": ""
    },
    "tags": []
   },
   "outputs": [],
   "source": [
    "with open(\"../../data/eval_data/processed_data.json\", \"r\") as f:\n",
    "    eval_ds = pl.read_json(f)"
   ]
  },
  {
   "cell_type": "code",
   "execution_count": 5,
   "id": "fcc6a70b-3ec9-452b-80fe-2da4ae040ad2",
   "metadata": {},
   "outputs": [
    {
     "name": "stderr",
     "output_type": "stream",
     "text": [
      "/home/naabzer/develop/recipe_tm/env/lib/python3.10/site-packages/tqdm/auto.py:21: TqdmWarning: IProgress not found. Please update jupyter and ipywidgets. See https://ipywidgets.readthedocs.io/en/stable/user_install.html\n",
      "  from .autonotebook import tqdm as notebook_tqdm\n",
      "Downloading artifacts: 100%|██████████████████████████████████████████████████████████| 5/5 [00:02<00:00,  2.25it/s]\n"
     ]
    }
   ],
   "source": [
    "model_uri = 'models:/recipe_BOW@prod'\n",
    "BOW_model = mlflow.sklearn.load_model(model_uri)"
   ]
  },
  {
   "cell_type": "code",
   "execution_count": 6,
   "id": "ce0d3ba2-5b9a-416b-99f5-0a0140a4417c",
   "metadata": {},
   "outputs": [],
   "source": [
    "results_df = pl.DataFrame(\n",
    "    schema={\n",
    "        'Model': pl.String,\n",
    "        'Eval_Task': pl.String,\n",
    "        \"MRR\": pl.Float64,\n",
    "        \"P@3\": pl.Float64,\n",
    "        \"Time_Tot\": pl.Float64,\n",
    "        \"Time_Query\": pl.Float64\n",
    "    })"
   ]
  },
  {
   "cell_type": "code",
   "execution_count": 7,
   "id": "a1be72fd-bd68-48ff-bd83-57967c9ce048",
   "metadata": {},
   "outputs": [
    {
     "data": {
      "text/html": [
       "<div><style>\n",
       ".dataframe > thead > tr,\n",
       ".dataframe > tbody > tr {\n",
       "  text-align: right;\n",
       "  white-space: pre-wrap;\n",
       "}\n",
       "</style>\n",
       "<small>shape: (0, 6)</small><table border=\"1\" class=\"dataframe\"><thead><tr><th>Model</th><th>Eval_Task</th><th>MRR</th><th>P@3</th><th>Time_Tot</th><th>Time_Query</th></tr><tr><td>str</td><td>str</td><td>f64</td><td>f64</td><td>f64</td><td>f64</td></tr></thead><tbody></tbody></table></div>"
      ],
      "text/plain": [
       "shape: (0, 6)\n",
       "┌───────┬───────────┬─────┬─────┬──────────┬────────────┐\n",
       "│ Model ┆ Eval_Task ┆ MRR ┆ P@3 ┆ Time_Tot ┆ Time_Query │\n",
       "│ ---   ┆ ---       ┆ --- ┆ --- ┆ ---      ┆ ---        │\n",
       "│ str   ┆ str       ┆ f64 ┆ f64 ┆ f64      ┆ f64        │\n",
       "╞═══════╪═══════════╪═════╪═════╪══════════╪════════════╡\n",
       "└───────┴───────────┴─────┴─────┴──────────┴────────────┘"
      ]
     },
     "execution_count": 7,
     "metadata": {},
     "output_type": "execute_result"
    }
   ],
   "source": [
    "results_df"
   ]
  },
  {
   "cell_type": "markdown",
   "id": "57268091-ee80-4faa-984e-b694226de23f",
   "metadata": {},
   "source": [
    "# BOW Evaluation "
   ]
  },
  {
   "cell_type": "code",
   "execution_count": 8,
   "id": "e64ec79f-7cf2-4048-98be-27fe01bb50e0",
   "metadata": {},
   "outputs": [],
   "source": [
    "eval_ds = transform_ds_to_BOW(eval_ds, BOW_model)"
   ]
  },
  {
   "cell_type": "code",
   "execution_count": 9,
   "id": "31457dca-254d-446f-b32b-7807ed2e7d45",
   "metadata": {},
   "outputs": [
    {
     "data": {
      "text/html": [
       "<div><style>\n",
       ".dataframe > thead > tr,\n",
       ".dataframe > tbody > tr {\n",
       "  text-align: right;\n",
       "  white-space: pre-wrap;\n",
       "}\n",
       "</style>\n",
       "<small>shape: (5, 8)</small><table border=\"1\" class=\"dataframe\"><thead><tr><th>index</th><th>title</th><th>ingredients</th><th>google_search_query</th><th>main_food_items_and_preparations</th><th>important_ingredients_for_search</th><th>google_search_query_processed</th><th>tfidf</th></tr><tr><td>i64</td><td>str</td><td>list[str]</td><td>str</td><td>list[str]</td><td>list[str]</td><td>struct[2]</td><td>object</td></tr></thead><tbody><tr><td>1461</td><td>&quot;Apricot Cake&quot;</td><td>[&quot;2 c. sugar&quot;, &quot;4 eggs&quot;, … &quot;1/2 c. chopped nuts (English or pecans)&quot;]</td><td>&quot;apricot cake recipe with baby …</td><td>[&quot;sugar&quot;, &quot;eggs&quot;, … &quot;chopped nuts (English or pecans)&quot;]</td><td>[&quot;apricot baby food&quot;, &quot;flour&quot;, … &quot;Wesson oil&quot;]</td><td>{&quot;Apricot Cake&quot;,[&quot;baby food&quot;, &quot;oil&quot;, … &quot;cinnamon&quot;]}</td><td>&lt;Compressed Sparse Row sparse matrix of dtype &#x27;float64&#x27;\n",
       "\twith 21 stored elements and shape (1, 126980)&gt;\n",
       "&nbsp;&nbsp;Coords\tValues\n",
       "&nbsp;&nbsp;(0, 8689)\t0.18368190086248304\n",
       "&nbsp;&nbsp;(0, 10592)\t0.1751061768342027\n",
       "&nbsp;&nbsp;(0, 11307)\t0.20405124421235452\n",
       "&nbsp;&nbsp;(0, 26865)\t0.19643847856827631\n",
       "&nbsp;&nbsp;(0, 27702)\t0.13648631984224308\n",
       "&nbsp;&nbsp;(0, 38873)\t0.18705595625647875\n",
       "&nbsp;&nbsp;(0, 39815)\t0.1992321192195883\n",
       "&nbsp;&nbsp;(0, 43898)\t0.11032351088222118\n",
       "&nbsp;&nbsp;(0, 44266)\t0.1796566692514706\n",
       "&nbsp;&nbsp;(0, 58087)\t0.5551961913746999\n",
       "&nbsp;&nbsp;(0, 59488)\t0.2872331989442519\n",
       "&nbsp;&nbsp;(0, 80282)\t0.21505802551943995\n",
       "&nbsp;&nbsp;(0, 80910)\t0.10859027341475272\n",
       "&nbsp;&nbsp;(0, 86221)\t0.18854864522564324\n",
       "&nbsp;&nbsp;(0, 99135)\t0.09459019471902082\n",
       "&nbsp;&nbsp;(0, 105398)\t0.12861447388991612\n",
       "&nbsp;&nbsp;(0, 106088)\t0.1409161193857687\n",
       "&nbsp;&nbsp;(0, 110260)\t0.09704922733518329\n",
       "&nbsp;&nbsp;(0, 112690)\t0.22149353908912242\n",
       "&nbsp;&nbsp;(0, 117669)\t0.2779445187813529\n",
       "&nbsp;&nbsp;(0, 122930)\t0.22847006186990454</td></tr><tr><td>1490</td><td>&quot;Angel Delights&quot;</td><td>[&quot;1 c. miniature marshmallows&quot;, &quot;1 c. broken pretzels&quot;, … &quot;1 lb. almond bark&quot;]</td><td>&quot;angel delights recipe with mar…</td><td>[&quot;miniature marshmallows&quot;, &quot;broken pretzels&quot;, … &quot;almond bark&quot;]</td><td>[&quot;marshmallows&quot;, &quot;pretzels&quot;, … &quot;almond bark&quot;]</td><td>{&quot;Angel Delights&quot;,[&quot;marshmallows&quot;, &quot;pretzels&quot;, … &quot;almond bark&quot;]}</td><td>&lt;Compressed Sparse Row sparse matrix of dtype &#x27;float64&#x27;\n",
       "\twith 11 stored elements and shape (1, 126980)&gt;\n",
       "&nbsp;&nbsp;Coords\tValues\n",
       "&nbsp;&nbsp;(0, 6768)\t0.2127014519934178\n",
       "&nbsp;&nbsp;(0, 12028)\t0.3305314119142033\n",
       "&nbsp;&nbsp;(0, 18402)\t0.37469021959382043\n",
       "&nbsp;&nbsp;(0, 28684)\t0.27209291443570766\n",
       "&nbsp;&nbsp;(0, 30536)\t0.19336323513108022\n",
       "&nbsp;&nbsp;(0, 43388)\t0.3316514703677241\n",
       "&nbsp;&nbsp;(0, 65634)\t0.16116960968861724\n",
       "&nbsp;&nbsp;(0, 71274)\t0.3651459676737531\n",
       "&nbsp;&nbsp;(0, 74495)\t0.2718593045553501\n",
       "&nbsp;&nbsp;(0, 86101)\t0.35076461524826635\n",
       "&nbsp;&nbsp;(0, 91531)\t0.3569974891171025</td></tr><tr><td>3374</td><td>&quot;Savory Sausage Casserole&quot;</td><td>[&quot;1 lb. bulk pork sausage&quot;, &quot;1 c. uncooked rice&quot;, … &quot;1/2 c. toasted halved or slivered blanched almonds&quot;]</td><td>&quot;sausage and rice casserole wit…</td><td>[&quot;bulk pork sausage&quot;, &quot;uncooked rice&quot;, … &quot;toasted halved or slivered blanched almonds&quot;]</td><td>[&quot;pork sausage&quot;, &quot;rice&quot;, … &quot;almonds&quot;]</td><td>{&quot;Savory Sausage Casserole&quot;,[&quot;rice&quot;, &quot;chicken noodle soup mix&quot;, &quot;almonds&quot;]}</td><td>&lt;Compressed Sparse Row sparse matrix of dtype &#x27;float64&#x27;\n",
       "\twith 26 stored elements and shape (1, 126980)&gt;\n",
       "&nbsp;&nbsp;Coords\tValues\n",
       "&nbsp;&nbsp;(0, 6786)\t0.24945320700271945\n",
       "&nbsp;&nbsp;(0, 15088)\t0.26107309128618433\n",
       "&nbsp;&nbsp;(0, 19233)\t0.24583264902840038\n",
       "&nbsp;&nbsp;(0, 23892)\t0.1561150210668319\n",
       "&nbsp;&nbsp;(0, 25669)\t0.12479944623988158\n",
       "&nbsp;&nbsp;(0, 26865)\t0.21668423759551342\n",
       "&nbsp;&nbsp;(0, 34717)\t0.3494340601418532\n",
       "&nbsp;&nbsp;(0, 42969)\t0.14310867436922448\n",
       "&nbsp;&nbsp;(0, 51897)\t0.2923366490863447\n",
       "&nbsp;&nbsp;(0, 65634)\t0.1293685516819533\n",
       "&nbsp;&nbsp;(0, 79664)\t0.18679739606263396\n",
       "&nbsp;&nbsp;(0, 81454)\t0.11592549924447773\n",
       "&nbsp;&nbsp;(0, 82783)\t0.12061733168395841\n",
       "&nbsp;&nbsp;(0, 89089)\t0.14257620463062023\n",
       "&nbsp;&nbsp;(0, 90333)\t0.16636635959976726\n",
       "&nbsp;&nbsp;(0, 96054)\t0.15255832659987625\n",
       "&nbsp;&nbsp;(0, 100020)\t0.12983465767578653\n",
       "&nbsp;&nbsp;(0, 100168)\t0.1760956112225869\n",
       "&nbsp;&nbsp;(0, 105064)\t0.19222309929862494\n",
       "&nbsp;&nbsp;(0, 105202)\t0.2920630095445465\n",
       "&nbsp;&nbsp;(0, 106814)\t0.14770670100340375\n",
       "&nbsp;&nbsp;(0, 106991)\t0.17196126288047037\n",
       "&nbsp;&nbsp;(0, 113237)\t0.11464229188539002\n",
       "&nbsp;&nbsp;(0, 115564)\t0.2341521659089565\n",
       "&nbsp;&nbsp;(0, 118871)\t0.1933052744087343\n",
       "&nbsp;&nbsp;(0, 122445)\t0.12844333624517307</td></tr><tr><td>7006</td><td>&quot;Zemakove Knedliky A Kysele Zel…</td><td>[&quot;2 c. mashed potatoes&quot;, &quot;1/2 tsp. salt&quot;, … &quot;1 1/2 c. flour&quot;]</td><td>&quot;potato dumplings with sauerkra…</td><td>[&quot;mashed potatoes&quot;, &quot;salt&quot;, … &quot;flour&quot;]</td><td>[&quot;mashed potatoes&quot;, &quot;sauerkraut&quot;, … &quot;egg&quot;]</td><td>{&quot;Zemakove Knedliky A Kysele Zeli(Potato Dumplings With Sauerkraut)&nbsp;&nbsp;&quot;,[&quot;sauerkraut&quot;, &quot;mashed potatoes&quot;]}</td><td>&lt;Compressed Sparse Row sparse matrix of dtype &#x27;float64&#x27;\n",
       "\twith 10 stored elements and shape (1, 126980)&gt;\n",
       "&nbsp;&nbsp;Coords\tValues\n",
       "&nbsp;&nbsp;(0, 11307)\t0.3981186101405156\n",
       "&nbsp;&nbsp;(0, 38785)\t0.20937491027351302\n",
       "&nbsp;&nbsp;(0, 43898)\t0.2152490811207347\n",
       "&nbsp;&nbsp;(0, 71541)\t0.3543612527980068\n",
       "&nbsp;&nbsp;(0, 90674)\t0.3574276994446777\n",
       "&nbsp;&nbsp;(0, 90941)\t0.2297618242512471\n",
       "&nbsp;&nbsp;(0, 99135)\t0.18455225303731448\n",
       "&nbsp;&nbsp;(0, 100107)\t0.41569252455031397\n",
       "&nbsp;&nbsp;(0, 104595)\t0.32810578981778427\n",
       "&nbsp;&nbsp;(0, 117669)\t0.36152645851466925</td></tr><tr><td>9957</td><td>&quot;Scalloped Sweet Potatoes&quot;</td><td>[&quot;1/4 c. sugar&quot;, &quot;1/2 tsp. cinnamon&quot;, … &quot;3 Tbsp. margarine&quot;]</td><td>&quot;scalloped sweet potatoes and a…</td><td>[&quot;sugar&quot;, &quot;cinnamon&quot;, … &quot;margarine&quot;]</td><td>[&quot;sweet potatoes&quot;, &quot;apples&quot;, &quot;cinnamon&quot;]</td><td>{&quot;Scalloped Sweet Potatoes&quot;,[&quot;sweet potatoes&quot;, &quot;apples&quot;]}</td><td>&lt;Compressed Sparse Row sparse matrix of dtype &#x27;float64&#x27;\n",
       "\twith 13 stored elements and shape (1, 126980)&gt;\n",
       "&nbsp;&nbsp;Coords\tValues\n",
       "&nbsp;&nbsp;(0, 8545)\t0.3217573914227567\n",
       "&nbsp;&nbsp;(0, 27702)\t0.20192983344002083\n",
       "&nbsp;&nbsp;(0, 56064)\t0.20011266608547731\n",
       "&nbsp;&nbsp;(0, 70763)\t0.20669569759138423\n",
       "&nbsp;&nbsp;(0, 72764)\t0.3843911962133411\n",
       "&nbsp;&nbsp;(0, 86338)\t0.32600680404422433\n",
       "&nbsp;&nbsp;(0, 90674)\t0.2710355992104861\n",
       "&nbsp;&nbsp;(0, 94385)\t0.2685174514910669\n",
       "&nbsp;&nbsp;(0, 105064)\t0.5156394965974255\n",
       "&nbsp;&nbsp;(0, 110260)\t0.1435831395697936\n",
       "&nbsp;&nbsp;(0, 111241)\t0.21070604332819898\n",
       "&nbsp;&nbsp;(0, 113237)\t0.15376428195219638\n",
       "&nbsp;&nbsp;(0, 117669)\t0.1370718336410502</td></tr></tbody></table></div>"
      ],
      "text/plain": [
       "shape: (5, 8)\n",
       "┌───────┬────────────┬────────────┬────────────┬────────────┬────────────┬────────────┬────────────┐\n",
       "│ index ┆ title      ┆ ingredient ┆ google_sea ┆ main_food_ ┆ important_ ┆ google_sea ┆ tfidf      │\n",
       "│ ---   ┆ ---        ┆ s          ┆ rch_query  ┆ items_and_ ┆ ingredient ┆ rch_query_ ┆ ---        │\n",
       "│ i64   ┆ str        ┆ ---        ┆ ---        ┆ preparatio ┆ s_for_sear ┆ processed  ┆ object     │\n",
       "│       ┆            ┆ list[str]  ┆ str        ┆ …          ┆ …          ┆ ---        ┆            │\n",
       "│       ┆            ┆            ┆            ┆ ---        ┆ ---        ┆ struct[2]  ┆            │\n",
       "│       ┆            ┆            ┆            ┆ list[str]  ┆ list[str]  ┆            ┆            │\n",
       "╞═══════╪════════════╪════════════╪════════════╪════════════╪════════════╪════════════╪════════════╡\n",
       "│ 1461  ┆ Apricot    ┆ [\"2 c.     ┆ apricot    ┆ [\"sugar\",  ┆ [\"apricot  ┆ {\"Apricot  ┆ <Compresse │\n",
       "│       ┆ Cake       ┆ sugar\", \"4 ┆ cake       ┆ \"eggs\", …  ┆ baby       ┆ Cake\",[\"ba ┆ d Sparse   │\n",
       "│       ┆            ┆ eggs\", …   ┆ recipe     ┆ \"chopped   ┆ food\",     ┆ by food\",  ┆ Row sparse │\n",
       "│       ┆            ┆ \"1/…       ┆ with baby  ┆ n…         ┆ \"flour\",…  ┆ …          ┆ …          │\n",
       "│       ┆            ┆            ┆ …          ┆            ┆            ┆            ┆            │\n",
       "│ 1490  ┆ Angel      ┆ [\"1 c.     ┆ angel      ┆ [\"miniatur ┆ [\"marshmal ┆ {\"Angel    ┆ <Compresse │\n",
       "│       ┆ Delights   ┆ miniature  ┆ delights   ┆ e marshmal ┆ lows\", \"pr ┆ Delights\", ┆ d Sparse   │\n",
       "│       ┆            ┆ marshmallo ┆ recipe     ┆ lows\",     ┆ etzels\",   ┆ [\"marshmal ┆ Row sparse │\n",
       "│       ┆            ┆ ws\"…       ┆ with mar…  ┆ \"br…       ┆ ……         ┆ lo…        ┆ …          │\n",
       "│ 3374  ┆ Savory     ┆ [\"1 lb.    ┆ sausage    ┆ [\"bulk     ┆ [\"pork     ┆ {\"Savory   ┆ <Compresse │\n",
       "│       ┆ Sausage    ┆ bulk pork  ┆ and rice   ┆ pork       ┆ sausage\",  ┆ Sausage    ┆ d Sparse   │\n",
       "│       ┆ Casserole  ┆ sausage\",  ┆ casserole  ┆ sausage\",  ┆ \"rice\", …  ┆ Casserole\" ┆ Row sparse │\n",
       "│       ┆            ┆ \"1…        ┆ wit…       ┆ \"uncooke…  ┆ \"al…       ┆ ,[\"…       ┆ …          │\n",
       "│ 7006  ┆ Zemakove   ┆ [\"2 c.     ┆ potato     ┆ [\"mashed   ┆ [\"mashed   ┆ {\"Zemakove ┆ <Compresse │\n",
       "│       ┆ Knedliky A ┆ mashed     ┆ dumplings  ┆ potatoes\", ┆ potatoes\", ┆ Knedliky A ┆ d Sparse   │\n",
       "│       ┆ Kysele     ┆ potatoes\", ┆ with       ┆ \"salt\", …  ┆ \"sauerkrau ┆ Kysele Z…  ┆ Row sparse │\n",
       "│       ┆ Zel…       ┆ \"1/2 …     ┆ sauerkra…  ┆ …          ┆ …          ┆            ┆ …          │\n",
       "│ 9957  ┆ Scalloped  ┆ [\"1/4 c.   ┆ scalloped  ┆ [\"sugar\",  ┆ [\"sweet    ┆ {\"Scallope ┆ <Compresse │\n",
       "│       ┆ Sweet      ┆ sugar\",    ┆ sweet      ┆ \"cinnamon\" ┆ potatoes\", ┆ d Sweet    ┆ d Sparse   │\n",
       "│       ┆ Potatoes   ┆ \"1/2 tsp.  ┆ potatoes   ┆ , …        ┆ \"apples\",  ┆ Potatoes\", ┆ Row sparse │\n",
       "│       ┆            ┆ cin…       ┆ and a…     ┆ \"marga…    ┆ \"…         ┆ [\"…        ┆ …          │\n",
       "└───────┴────────────┴────────────┴────────────┴────────────┴────────────┴────────────┴────────────┘"
      ]
     },
     "execution_count": 9,
     "metadata": {},
     "output_type": "execute_result"
    }
   ],
   "source": [
    "eval_ds.head()"
   ]
  },
  {
   "cell_type": "code",
   "execution_count": 10,
   "id": "7064c630-3b1b-4026-9df8-c20e8a50eb5d",
   "metadata": {},
   "outputs": [
    {
     "name": "stderr",
     "output_type": "stream",
     "text": [
      "Downloading artifacts: 100%|██████████████████████████████████████████████████████████| 5/5 [00:01<00:00,  3.62it/s]\n",
      "Downloading artifacts: 100%|██████████████████████████████████████████████████████████| 1/1 [00:00<00:00,  7.64it/s]\n"
     ]
    }
   ],
   "source": [
    "# Run once to download model, to put that time into the time measurement\n",
    "emb_query = run_BOW_on_line(\"pecans\", model_uri)"
   ]
  },
  {
   "cell_type": "markdown",
   "id": "c22a88b2-bbec-4d47-830d-457544f4dae9",
   "metadata": {},
   "source": [
    "### Identity query\n",
    "Here we use the original ingredients as the input to the model. Since this is also what the model is trained on, it should give close to perfect results"
   ]
  },
  {
   "cell_type": "code",
   "execution_count": 11,
   "id": "dfde8b64-ace0-4ecc-b8dc-8fe5efc037f5",
   "metadata": {
    "editable": true,
    "slideshow": {
     "slide_type": ""
    },
    "tags": []
   },
   "outputs": [],
   "source": [
    "tot_rr = 0\n",
    "tot_prec_at_3 = 0\n",
    "tot_evals = 0\n",
    "start = timeit.default_timer()\n",
    "for index, title, ingredient_list in eval_ds.select('index', 'title', 'ingredients').iter_rows():\n",
    "    emb_query = run_BOW_on_line(title + \" \" + \"\\n\".join(ingredient_list), model_uri)\n",
    "    ranked_ds = rank_results(eval_ds, emb_query)\n",
    "    tot_rr += reciprocal_rank(ranked_ds, index)\n",
    "    tot_prec_at_3 += precision_at_k(ranked_ds, index)\n",
    "    tot_evals += 1\n",
    "time = timeit.default_timer() - start"
   ]
  },
  {
   "cell_type": "code",
   "execution_count": 12,
   "id": "d518ef62-3e21-4c2e-956a-77fc2609730d",
   "metadata": {},
   "outputs": [],
   "source": [
    "mrr = tot_rr/tot_evals\n",
    "mprec3 = tot_prec_at_3 / tot_evals\n",
    "result_data = {\n",
    "    \"Model\": ['bow'],\n",
    "    'Eval_Task': ['identity'],\n",
    "    \"MRR\": [mrr],\n",
    "    \"P@3\": [mprec3],\n",
    "    \"Time_Tot\": time,\n",
    "    \"Time_Query\": time/tot_evals\n",
    "}\n",
    "result_df = pl.DataFrame(result_data)\n",
    "results_df = results_df.vstack(result_df)"
   ]
  },
  {
   "cell_type": "markdown",
   "id": "e5a4c47d-b566-4aa4-9400-3265142a36c2",
   "metadata": {},
   "source": [
    "### LLM task 1 - Main food items and preparations\n",
    "Here the BOW should perform worse"
   ]
  },
  {
   "cell_type": "code",
   "execution_count": 13,
   "id": "2fb73cef-d074-4abf-86ed-54f052da2798",
   "metadata": {},
   "outputs": [],
   "source": [
    "tot_rr = 0\n",
    "tot_prec_at_3 = 0\n",
    "tot_evals = 0\n",
    "start = timeit.default_timer()\n",
    "for index, ingredient_list in eval_ds.select('index', 'main_food_items_and_preparations').iter_rows():\n",
    "    emb_query = run_BOW_on_line(\"\\n\".join(ingredient_list), model_uri)\n",
    "    ranked_ds = rank_results(eval_ds, emb_query)\n",
    "    tot_rr += reciprocal_rank(ranked_ds, index)\n",
    "    tot_prec_at_3 += precision_at_k(ranked_ds, index)\n",
    "    tot_evals += 1\n",
    "time = timeit.default_timer() - start"
   ]
  },
  {
   "cell_type": "code",
   "execution_count": 14,
   "id": "f216dba7-bf13-43ca-9e0b-aaada7682173",
   "metadata": {},
   "outputs": [
    {
     "name": "stdout",
     "output_type": "stream",
     "text": [
      "LLM Task 1, MRR: 0.9604589799089801\n",
      "LLM Task 2, P@3: 0.983\n"
     ]
    },
    {
     "data": {
      "text/html": [
       "<div><style>\n",
       ".dataframe > thead > tr,\n",
       ".dataframe > tbody > tr {\n",
       "  text-align: right;\n",
       "  white-space: pre-wrap;\n",
       "}\n",
       "</style>\n",
       "<small>shape: (1, 6)</small><table border=\"1\" class=\"dataframe\"><thead><tr><th>Model</th><th>Eval_Task</th><th>MRR</th><th>P@3</th><th>Time_Tot</th><th>Time_Query</th></tr><tr><td>str</td><td>str</td><td>f64</td><td>f64</td><td>f64</td><td>f64</td></tr></thead><tbody><tr><td>&quot;bow&quot;</td><td>&quot;identity&quot;</td><td>0.982942</td><td>0.994</td><td>31.138151</td><td>0.031138</td></tr></tbody></table></div>"
      ],
      "text/plain": [
       "shape: (1, 6)\n",
       "┌───────┬───────────┬──────────┬───────┬───────────┬────────────┐\n",
       "│ Model ┆ Eval_Task ┆ MRR      ┆ P@3   ┆ Time_Tot  ┆ Time_Query │\n",
       "│ ---   ┆ ---       ┆ ---      ┆ ---   ┆ ---       ┆ ---        │\n",
       "│ str   ┆ str       ┆ f64      ┆ f64   ┆ f64       ┆ f64        │\n",
       "╞═══════╪═══════════╪══════════╪═══════╪═══════════╪════════════╡\n",
       "│ bow   ┆ identity  ┆ 0.982942 ┆ 0.994 ┆ 31.138151 ┆ 0.031138   │\n",
       "└───────┴───────────┴──────────┴───────┴───────────┴────────────┘"
      ]
     },
     "execution_count": 14,
     "metadata": {},
     "output_type": "execute_result"
    }
   ],
   "source": [
    "llm1_mrr = tot_rr/tot_evals\n",
    "print(f\"LLM Task 1, MRR: {llm1_mrr}\")\n",
    "llm1_mean_prec_at_3 = tot_prec_at_3 / tot_evals\n",
    "print(f\"LLM Task 2, P@3: {llm1_mean_prec_at_3}\")\n",
    "result_df"
   ]
  },
  {
   "cell_type": "code",
   "execution_count": 15,
   "id": "44210d62-b354-4292-b81a-4ebadfaa4ec7",
   "metadata": {},
   "outputs": [],
   "source": [
    "mrr = tot_rr/tot_evals\n",
    "mprec3 = tot_prec_at_3 / tot_evals\n",
    "result_data = {\n",
    "    \"Model\": ['bow'],\n",
    "    'Eval_Task': ['llm1'],\n",
    "    \"MRR\": [mrr],\n",
    "    \"P@3\": [mprec3],\n",
    "    \"Time_Tot\": time,\n",
    "    \"Time_Query\": time/tot_evals\n",
    "}\n",
    "result_df = pl.DataFrame(result_data)\n",
    "results_df = results_df.vstack(result_df)"
   ]
  },
  {
   "cell_type": "markdown",
   "id": "a65be64a-fbb1-4397-a456-a8add9d54ccb",
   "metadata": {},
   "source": [
    "### LLM task 2 - Important ingredients for search\n",
    "Here the BOW should perform worse"
   ]
  },
  {
   "cell_type": "code",
   "execution_count": 16,
   "id": "c22c90a8-e6e9-45ca-8a2c-8c569beb89b3",
   "metadata": {
    "editable": true,
    "slideshow": {
     "slide_type": ""
    },
    "tags": []
   },
   "outputs": [],
   "source": [
    "tot_rr = 0\n",
    "tot_prec_at_3 = 0\n",
    "tot_evals = 0\n",
    "start = timeit.default_timer()\n",
    "for index, ingredient_list in eval_ds.select('index', 'important_ingredients_for_search').iter_rows():\n",
    "    emb_query = run_BOW_on_line(\"\\n\".join(ingredient_list), model_uri)\n",
    "    ranked_ds = rank_results(eval_ds, emb_query)\n",
    "    tot_rr += reciprocal_rank(ranked_ds, index)\n",
    "    tot_prec_at_3 += precision_at_k(ranked_ds, index)\n",
    "    tot_evals += 1\n",
    "time = timeit.default_timer() - start"
   ]
  },
  {
   "cell_type": "code",
   "execution_count": 17,
   "id": "1d674102-ae20-4e42-846f-9d89a481c57b",
   "metadata": {},
   "outputs": [],
   "source": [
    "mrr = tot_rr/tot_evals\n",
    "mprec3 = tot_prec_at_3 / tot_evals\n",
    "result_data = {\n",
    "    \"Model\": ['bow'],\n",
    "    'Eval_Task': ['llm2'],\n",
    "    \"MRR\": [mrr],\n",
    "    \"P@3\": [mprec3],\n",
    "    \"Time_Tot\": time,\n",
    "    \"Time_Query\": time/tot_evals\n",
    "}\n",
    "result_df = pl.DataFrame(result_data)\n",
    "results_df = results_df.vstack(result_df)"
   ]
  },
  {
   "cell_type": "markdown",
   "id": "c1881e59-f68a-4914-8710-1955bf62ffcc",
   "metadata": {},
   "source": [
    "### LLM task 3 - Google query, processed\n",
    "Here the BOW should perform worse"
   ]
  },
  {
   "cell_type": "code",
   "execution_count": 18,
   "id": "c93d5302-0494-425a-8d56-526430ef29c1",
   "metadata": {
    "editable": true,
    "slideshow": {
     "slide_type": ""
    },
    "tags": []
   },
   "outputs": [],
   "source": [
    "tot_rr = 0\n",
    "tot_prec_at_3 = 0\n",
    "tot_evals = 0\n",
    "start = timeit.default_timer()\n",
    "for index, ingredient_list in eval_ds.select('index', 'google_search_query_processed').iter_rows():\n",
    "    emb_query = run_BOW_on_line(ingredient_list['title'] + \" \"+ \"\\n\".join(ingredient_list['ingredients']), model_uri)\n",
    "    ranked_ds = rank_results(eval_ds, emb_query)\n",
    "    tot_rr += reciprocal_rank(ranked_ds, index)\n",
    "    tot_prec_at_3 += precision_at_k(ranked_ds, index)\n",
    "    tot_evals += 1\n",
    "time = timeit.default_timer() - start"
   ]
  },
  {
   "cell_type": "code",
   "execution_count": 19,
   "id": "52fe0689-0657-4f68-b9ca-4e1e7f60073c",
   "metadata": {},
   "outputs": [],
   "source": [
    "mrr = tot_rr/tot_evals\n",
    "mprec3 = tot_prec_at_3 / tot_evals\n",
    "result_data = {\n",
    "    \"Model\": ['bow'],\n",
    "    'Eval_Task': ['llm3'],\n",
    "    \"MRR\": [mrr],\n",
    "    \"P@3\": [mprec3],\n",
    "    \"Time_Tot\": time,\n",
    "    \"Time_Query\": time/tot_evals\n",
    "}\n",
    "result_df = pl.DataFrame(result_data)\n",
    "results_df = results_df.vstack(result_df)"
   ]
  },
  {
   "cell_type": "markdown",
   "id": "7d2ef16f-5fca-4124-92ad-9ffef3afa7d9",
   "metadata": {
    "editable": true,
    "slideshow": {
     "slide_type": ""
    },
    "tags": []
   },
   "source": [
    "# NER DB \n",
    "Currently this should perform pretty bad, since there is no ranking function, the metrics would be pretty random for any result where you have more than a few results after filtering."
   ]
  },
  {
   "cell_type": "code",
   "execution_count": 20,
   "id": "448302f8-3f13-42f7-bd8e-b2ad8bc04f31",
   "metadata": {},
   "outputs": [
    {
     "name": "stderr",
     "output_type": "stream",
     "text": [
      "Downloading artifacts: 100%|████████████████████████████████████████████████████████| 17/17 [00:04<00:00,  3.87it/s]\n"
     ]
    }
   ],
   "source": [
    "model_uri = \"models:/recipe_NER@prod\"\n",
    "ner = mlflow.spacy.load_model(model_uri=model_uri)"
   ]
  },
  {
   "cell_type": "markdown",
   "id": "43d2cdca-d95a-48d0-8ab3-c5b7d7ccd49f",
   "metadata": {},
   "source": [
    "### Identity query"
   ]
  },
  {
   "cell_type": "code",
   "execution_count": 21,
   "id": "9c6894dc-216e-49ea-9f6c-17cb97776333",
   "metadata": {
    "editable": true,
    "slideshow": {
     "slide_type": ""
    },
    "tags": []
   },
   "outputs": [],
   "source": [
    "tokens, preps, optionals = transform_data_to_tokens(eval_ds['ingredients'], ner)"
   ]
  },
  {
   "cell_type": "code",
   "execution_count": 22,
   "id": "18af6c5b-fa59-434d-8c65-90ff172c7797",
   "metadata": {
    "editable": true,
    "slideshow": {
     "slide_type": ""
    },
    "tags": []
   },
   "outputs": [
    {
     "data": {
      "text/plain": [
       "'eval_test.parquet'"
      ]
     },
     "execution_count": 22,
     "metadata": {},
     "output_type": "execute_result"
    }
   ],
   "source": [
    "inp = [\n",
    "    ParquetDefinition(data=tokens, name=\"tokens\"),\n",
    "    ParquetDefinition(data=preps, name=\"preps\", is_map=True),\n",
    "    ParquetDefinition(data=optionals, name=\"optionals\")\n",
    "]\n",
    "create_parquet_file(\"eval_test.parquet\", eval_ds.select(pl.exclude('tfidf')), inp)"
   ]
  },
  {
   "cell_type": "code",
   "execution_count": 23,
   "id": "8a2a976b-e4ab-4bc3-984a-9599608dfe92",
   "metadata": {
    "scrolled": true
   },
   "outputs": [],
   "source": [
    "tot_rr = 0\n",
    "tot_prec_at_3 = 0\n",
    "tot_evals = 0\n",
    "tot_evals = 0\n",
    "start = timeit.default_timer()\n",
    "for index, query in eval_ds.select('index', 'ingredients').iter_rows():\n",
    "    query_obj = transform_ingredients_to_tokens(query, ner)\n",
    "    sql = construct_ingredient_query('eval_test.parquet', query_obj['foods'], query_obj['preps'])\n",
    "    try:\n",
    "        results = duckdb.sql(sql).pl()\n",
    "        tot_rr += reciprocal_rank(results, index)\n",
    "        tot_prec_at_3 += precision_at_k(results, index)\n",
    "        tot_evals += 1\n",
    "    except:\n",
    "        continue\n",
    "time = timeit.default_timer() - start"
   ]
  },
  {
   "cell_type": "code",
   "execution_count": 24,
   "id": "b74d135e-0131-4950-a59f-2180879f84ab",
   "metadata": {},
   "outputs": [],
   "source": [
    "mrr = tot_rr/tot_evals\n",
    "mprec3 = tot_prec_at_3 / tot_evals\n",
    "result_data = {\n",
    "    \"Model\": ['ner'],\n",
    "    'Eval_Task': ['identity'],\n",
    "    \"MRR\": [mrr],\n",
    "    \"P@3\": [mprec3],\n",
    "    \"Time_Tot\": time,\n",
    "    \"Time_Query\": time/tot_evals\n",
    "}\n",
    "result_df = pl.DataFrame(result_data)\n",
    "results_df = results_df.vstack(result_df)"
   ]
  },
  {
   "cell_type": "markdown",
   "id": "81d64751-2e36-417e-90b4-a1edc1eb07d8",
   "metadata": {},
   "source": [
    "### LLM task 1"
   ]
  },
  {
   "cell_type": "code",
   "execution_count": 25,
   "id": "4834e83c-de2d-4a3b-9742-ac48ed551a65",
   "metadata": {
    "scrolled": true
   },
   "outputs": [],
   "source": [
    "tot_rr = 0\n",
    "tot_prec_at_3 = 0\n",
    "tot_evals = 0\n",
    "start = timeit.default_timer()\n",
    "for index, query in eval_ds.select('index', 'main_food_items_and_preparations').iter_rows():\n",
    "    query_obj = transform_ingredients_to_tokens(query, ner)\n",
    "    sql = construct_ingredient_query('eval_test.parquet', query_obj['foods'], query_obj['preps'])\n",
    "    try:\n",
    "        results = duckdb.sql(sql).pl()\n",
    "        tot_rr += reciprocal_rank(results, index)\n",
    "        tot_prec_at_3 += precision_at_k(results, index)\n",
    "        tot_evals += 1\n",
    "    except:\n",
    "        continue\n",
    "time = timeit.default_timer() - start"
   ]
  },
  {
   "cell_type": "code",
   "execution_count": 26,
   "id": "8c98fafa-7135-49f6-99b5-a17e53ec95f7",
   "metadata": {},
   "outputs": [],
   "source": [
    "mrr = tot_rr/tot_evals\n",
    "mprec3 = tot_prec_at_3 / tot_evals\n",
    "result_data = {\n",
    "    \"Model\": ['ner'],\n",
    "    'Eval_Task': ['llm1'],\n",
    "    \"MRR\": [mrr],\n",
    "    \"P@3\": [mprec3],\n",
    "    \"Time_Tot\": time,\n",
    "    \"Time_Query\": time/tot_evals\n",
    "}\n",
    "result_df = pl.DataFrame(result_data)\n",
    "results_df = results_df.vstack(result_df)"
   ]
  },
  {
   "cell_type": "markdown",
   "id": "ccff15fb-edad-4db2-a3e3-a1648ee5c072",
   "metadata": {},
   "source": [
    "### LLM task 2"
   ]
  },
  {
   "cell_type": "code",
   "execution_count": 27,
   "id": "335631e8-97c9-4ab7-bb4e-03b90b8d76bf",
   "metadata": {
    "scrolled": true
   },
   "outputs": [],
   "source": [
    "tot_rr = 0\n",
    "tot_prec_at_3 = 0\n",
    "tot_evals = 0\n",
    "start = timeit.default_timer()\n",
    "for index, query in eval_ds.select('index', 'important_ingredients_for_search').iter_rows():\n",
    "    query_obj = transform_ingredients_to_tokens(query, ner)\n",
    "    sql = construct_ingredient_query('eval_test.parquet', query_obj['foods'], query_obj['preps'])\n",
    "    try:\n",
    "        results = duckdb.sql(sql).pl()\n",
    "        tot_rr += reciprocal_rank(results, index)\n",
    "        tot_prec_at_3 += precision_at_k(results, index)\n",
    "        tot_evals += 1\n",
    "    except:\n",
    "        continue\n",
    "time = timeit.default_timer() - start"
   ]
  },
  {
   "cell_type": "code",
   "execution_count": 28,
   "id": "48e23b3c-c471-4574-a385-e2f8eda96f47",
   "metadata": {},
   "outputs": [],
   "source": [
    "mrr = tot_rr/tot_evals\n",
    "mprec3 = tot_prec_at_3 / tot_evals\n",
    "result_data = {\n",
    "    \"Model\": ['ner'],\n",
    "    'Eval_Task': ['llm2'],\n",
    "    \"MRR\": [mrr],\n",
    "    \"P@3\": [mprec3],\n",
    "    \"Time_Tot\": time,\n",
    "    \"Time_Query\": time/tot_evals\n",
    "}\n",
    "result_df = pl.DataFrame(result_data)\n",
    "results_df = results_df.vstack(result_df)"
   ]
  },
  {
   "cell_type": "markdown",
   "id": "e8f63a81-cba7-434c-b638-99196d454e1a",
   "metadata": {},
   "source": [
    "### LLM Task 3"
   ]
  },
  {
   "cell_type": "code",
   "execution_count": 29,
   "id": "583818eb-7dfd-4a97-8394-286af7cd76ba",
   "metadata": {
    "scrolled": true
   },
   "outputs": [],
   "source": [
    "tot_rr = 0\n",
    "tot_prec_at_3 = 0\n",
    "tot_evals = 0\n",
    "start = timeit.default_timer()\n",
    "for index, query in eval_ds.select('index', 'google_search_query_processed').iter_rows():\n",
    "    query_obj = transform_ingredients_to_tokens(query['ingredients'], ner)\n",
    "    sql = construct_ingredient_query('eval_test.parquet', query_obj['foods'], query_obj['preps'])\n",
    "    try:\n",
    "        results = duckdb.sql(sql).pl()\n",
    "        tot_rr += reciprocal_rank(results, index)\n",
    "        tot_prec_at_3 += precision_at_k(results, index)\n",
    "        tot_evals += 1\n",
    "    except:\n",
    "        continue\n",
    "time = timeit.default_timer() - start"
   ]
  },
  {
   "cell_type": "code",
   "execution_count": 30,
   "id": "31e7e91c-ef9f-45c2-b50e-77306e3292f6",
   "metadata": {},
   "outputs": [],
   "source": [
    "mrr = tot_rr/tot_evals\n",
    "mprec3 = tot_prec_at_3 / tot_evals\n",
    "result_data = {\n",
    "    \"Model\": ['ner'],\n",
    "    'Eval_Task': ['llm3'],\n",
    "    \"MRR\": [mrr],\n",
    "    \"P@3\": [mprec3],\n",
    "    \"Time_Tot\": time,\n",
    "    \"Time_Query\": time/tot_evals\n",
    "}\n",
    "result_df = pl.DataFrame(result_data)\n",
    "results_df = results_df.vstack(result_df)"
   ]
  },
  {
   "cell_type": "code",
   "execution_count": 31,
   "id": "e918c9b2-a880-45f1-9d32-d36c4e692ea1",
   "metadata": {},
   "outputs": [
    {
     "data": {
      "image/png": "[encoded data removed]",
      "text/plain": [
       "<Figure size 1100x800 with 1 Axes>"
      ]
     },
     "metadata": {},
     "output_type": "display_data"
    }
   ],
   "source": [
    "plt.figure(figsize=(11,8))\n",
    "ax = sns.barplot(results_df, x='Eval_Task', y='MRR', hue='Model')\n",
    "\n",
    "for cont in ax.containers:\n",
    "    ax.bar_label(cont)"
   ]
  },
  {
   "cell_type": "code",
   "execution_count": 32,
   "id": "784cf38d-062c-4a09-916c-12304ba02051",
   "metadata": {},
   "outputs": [
    {
     "data": {
      "image/png": "[encoded data removed]",
      "text/plain": [
       "<Figure size 1100x800 with 1 Axes>"
      ]
     },
     "metadata": {},
     "output_type": "display_data"
    }
   ],
   "source": [
    "plt.figure(figsize=(11,8))\n",
    "ax = sns.barplot(results_df, x='Eval_Task', y='P@3', hue='Model')\n",
    "\n",
    "for cont in ax.containers:\n",
    "    ax.bar_label(cont)"
   ]
  },
  {
   "cell_type": "code",
   "execution_count": 33,
   "id": "56574ca2-e423-49c2-ae4f-c3d25a7f232d",
   "metadata": {},
   "outputs": [
    {
     "data": {
      "image/png": "[encoded data removed]",
      "text/plain": [
       "<Figure size 1100x800 with 1 Axes>"
      ]
     },
     "metadata": {},
     "output_type": "display_data"
    }
   ],
   "source": [
    "plt.figure(figsize=(11,8))\n",
    "ax = sns.barplot(results_df, x='Eval_Task', y='Time_Tot', hue='Model')\n",
    "\n",
    "for cont in ax.containers:\n",
    "    ax.bar_label(cont)"
   ]
  },
  {
   "cell_type": "code",
   "execution_count": 34,
   "id": "3add8e5f-57de-40e0-8935-bfc1f41a879b",
   "metadata": {},
   "outputs": [
    {
     "data": {
      "image/png": "[encoded data removed]",
      "text/plain": [
       "<Figure size 1100x800 with 1 Axes>"
      ]
     },
     "metadata": {},
     "output_type": "display_data"
    }
   ],
   "source": [
    "plt.figure(figsize=(11,8))\n",
    "ax = sns.barplot(results_df, x='Eval_Task', y='Time_Query', hue='Model')\n",
    "\n",
    "for cont in ax.containers:\n",
    "    ax.bar_label(cont)"
   ]
  },
  {
   "cell_type": "code",
   "execution_count": null,
   "id": "b0706229-6f60-4447-805c-a3161c3450d9",
   "metadata": {},
   "outputs": [],
   "source": [
    "results_df.write_parquet('../../data/results/first"
   ]
  }
 ],
 "metadata": {
  "kernelspec": {
   "display_name": "Python 3 (ipykernel)",
   "language": "python",
   "name": "python3"
  },
  "language_info": {
   "codemirror_mode": {
    "name": "ipython",
    "version": 3
   },
   "file_extension": ".py",
   "mimetype": "text/x-python",
   "name": "python",
   "nbconvert_exporter": "python",
   "pygments_lexer": "ipython3",
   "version": "3.10.16"
  }
 },
 "nbformat": 4,
 "nbformat_minor": 5
}
