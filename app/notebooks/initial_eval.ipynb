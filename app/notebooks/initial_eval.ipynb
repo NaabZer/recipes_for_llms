{
 "cells": [
  {
   "cell_type": "code",
   "execution_count": 1,
   "id": "a8878ef0-d226-493a-a90b-ca8c673cf97a",
   "metadata": {},
   "outputs": [],
   "source": [
    "import mlflow\n",
    "import mlflow.spacy\n",
    "import mlflow.sklearn\n",
    "import polars as pl\n",
    "import seaborn as sns\n",
    "import scipy\n",
    "import duckdb\n",
    "import numpy as np\n",
    "import json\n",
    "import timeit\n",
    "import matplotlib.pyplot as plt"
   ]
  },
  {
   "cell_type": "code",
   "execution_count": 2,
   "id": "7a51787d-7fc7-4033-ba82-66cc5f95841b",
   "metadata": {
    "editable": true,
    "slideshow": {
     "slide_type": ""
    },
    "tags": []
   },
   "outputs": [
    {
     "data": {
      "text/plain": [
       "True"
      ]
     },
     "execution_count": 2,
     "metadata": {},
     "output_type": "execute_result"
    }
   ],
   "source": [
    "import os\n",
    "import sys\n",
    "from dotenv import load_dotenv\n",
    "sys.path.insert(0, os.path.abspath('..'))\n",
    "sys.path.insert(0, os.path.abspath('../..'))\n",
    "from app.model_functions import run_BOW_on_line\n",
    "from app.evaluation import reciprocal_rank, rank_results, precision_at_k\n",
    "from app.data_handling.BOW import transform_ds_to_BOW\n",
    "from app.data_handling.NER_parquet import (\n",
    "process_ingredient,\n",
    "transform_ingredients_to_tokens,\n",
    "transform_data_to_tokens,\n",
    "construct_ingredient_query,\n",
    "ParquetDefinition,\n",
    "create_parquet_file\n",
    ")\n",
    "\n",
    "load_dotenv()"
   ]
  },
  {
   "cell_type": "code",
   "execution_count": 3,
   "id": "f1499171-e12e-425e-8f00-6839b551d442",
   "metadata": {},
   "outputs": [],
   "source": [
    "mlflow.set_tracking_uri(os.getenv(\"MLFLOW_TRACKING_URL\"))"
   ]
  },
  {
   "cell_type": "code",
   "execution_count": 4,
   "id": "44dcca0b-9916-47bd-9102-4c32882e21a4",
   "metadata": {
    "editable": true,
    "slideshow": {
     "slide_type": ""
    },
    "tags": []
   },
   "outputs": [],
   "source": [
    "with open(\"../../data/eval_data/processed_data.json\", \"r\") as f:\n",
    "    query_ds = pl.read_json(f)"
   ]
  },
  {
   "cell_type": "code",
   "execution_count": 5,
   "id": "6230a7e2-d539-45ab-98d0-2b9ba8eccd0a",
   "metadata": {},
   "outputs": [],
   "source": [
    "query_ds = query_ds.slice(0,3)"
   ]
  },
  {
   "cell_type": "code",
   "execution_count": 6,
   "id": "19f5a6ee-a682-41d9-be10-b5fa95f5e8f7",
   "metadata": {},
   "outputs": [],
   "source": [
    "with open(\"../../data/eval_data/eval_10k.json\", \"r\") as f:\n",
    "    eval_ds = pl.read_json(f)"
   ]
  },
  {
   "cell_type": "markdown",
   "id": "bc1ec438-8bc0-4937-b171-9b962521d343",
   "metadata": {},
   "source": [
    "### Sanitycheck that query_ds is a subset of eval_ds"
   ]
  },
  {
   "cell_type": "code",
   "execution_count": 7,
   "id": "4f2b6d04-de54-48ef-8205-2cd10d672629",
   "metadata": {},
   "outputs": [
    {
     "name": "stderr",
     "output_type": "stream",
     "text": [
      "/tmp/ipykernel_1860042/3215214846.py:2: DeprecationWarning: `is_in` with a collection of the same datatype is ambiguous and deprecated.\n",
      "Please use `implode` to return to previous behavior.\n",
      "\n",
      "See https://github.com/pola-rs/polars/issues/22149 for more information.\n",
      "  eval_ds.select('index').filter(pl.col('index').is_in(query_idx)).shape[0] == query_ds.shape[0]\n"
     ]
    },
    {
     "data": {
      "text/plain": [
       "True"
      ]
     },
     "execution_count": 7,
     "metadata": {},
     "output_type": "execute_result"
    }
   ],
   "source": [
    "query_idx = query_ds['index']\n",
    "eval_ds.select('index').filter(pl.col('index').is_in(query_idx)).shape[0] == query_ds.shape[0]"
   ]
  },
  {
   "cell_type": "code",
   "execution_count": 8,
   "id": "fcc6a70b-3ec9-452b-80fe-2da4ae040ad2",
   "metadata": {},
   "outputs": [
    {
     "name": "stderr",
     "output_type": "stream",
     "text": [
      "/home/naabzer/develop/recipe_tm/env/lib/python3.10/site-packages/tqdm/auto.py:21: TqdmWarning: IProgress not found. Please update jupyter and ipywidgets. See https://ipywidgets.readthedocs.io/en/stable/user_install.html\n",
      "  from .autonotebook import tqdm as notebook_tqdm\n",
      "Downloading artifacts: 100%|██████████████████████████████████████████████████████████| 5/5 [00:01<00:00,  3.54it/s]\n"
     ]
    }
   ],
   "source": [
    "model_uri = 'models:/recipe_BOW@prod'\n",
    "BOW_model = mlflow.sklearn.load_model(model_uri)"
   ]
  },
  {
   "cell_type": "code",
   "execution_count": 9,
   "id": "ce0d3ba2-5b9a-416b-99f5-0a0140a4417c",
   "metadata": {},
   "outputs": [],
   "source": [
    "results_df = pl.DataFrame(\n",
    "    schema={\n",
    "        'Model': pl.String,\n",
    "        'Eval_Task': pl.String,\n",
    "        \"MRR\": pl.Float64,\n",
    "        \"P@3\": pl.Float64,\n",
    "        \"Time_Tot\": pl.Float64,\n",
    "        \"Time_Query\": pl.Float64\n",
    "    })"
   ]
  },
  {
   "cell_type": "code",
   "execution_count": 10,
   "id": "a1be72fd-bd68-48ff-bd83-57967c9ce048",
   "metadata": {},
   "outputs": [
    {
     "data": {
      "text/html": [
       "<div><style>\n",
       ".dataframe > thead > tr,\n",
       ".dataframe > tbody > tr {\n",
       "  text-align: right;\n",
       "  white-space: pre-wrap;\n",
       "}\n",
       "</style>\n",
       "<small>shape: (0, 6)</small><table border=\"1\" class=\"dataframe\"><thead><tr><th>Model</th><th>Eval_Task</th><th>MRR</th><th>P@3</th><th>Time_Tot</th><th>Time_Query</th></tr><tr><td>str</td><td>str</td><td>f64</td><td>f64</td><td>f64</td><td>f64</td></tr></thead><tbody></tbody></table></div>"
      ],
      "text/plain": [
       "shape: (0, 6)\n",
       "┌───────┬───────────┬─────┬─────┬──────────┬────────────┐\n",
       "│ Model ┆ Eval_Task ┆ MRR ┆ P@3 ┆ Time_Tot ┆ Time_Query │\n",
       "│ ---   ┆ ---       ┆ --- ┆ --- ┆ ---      ┆ ---        │\n",
       "│ str   ┆ str       ┆ f64 ┆ f64 ┆ f64      ┆ f64        │\n",
       "╞═══════╪═══════════╪═════╪═════╪══════════╪════════════╡\n",
       "└───────┴───────────┴─────┴─────┴──────────┴────────────┘"
      ]
     },
     "execution_count": 10,
     "metadata": {},
     "output_type": "execute_result"
    }
   ],
   "source": [
    "results_df"
   ]
  },
  {
   "cell_type": "markdown",
   "id": "57268091-ee80-4faa-984e-b694226de23f",
   "metadata": {},
   "source": [
    "# BOW Evaluation "
   ]
  },
  {
   "cell_type": "code",
   "execution_count": 11,
   "id": "e64ec79f-7cf2-4048-98be-27fe01bb50e0",
   "metadata": {},
   "outputs": [
    {
     "name": "stdout",
     "output_type": "stream",
     "text": [
      "Dataset transformation took 6.905241097963881s, or 0.0006905241097963881s/row\n"
     ]
    }
   ],
   "source": [
    "start = timeit.default_timer()\n",
    "eval_ds = transform_ds_to_BOW(eval_ds, BOW_model)\n",
    "time = timeit.default_timer() - start\n",
    "print(f\"Dataset transformation took {time}s, or {time/eval_ds.shape[0]}s/row\")"
   ]
  },
  {
   "cell_type": "code",
   "execution_count": 12,
   "id": "31457dca-254d-446f-b32b-7807ed2e7d45",
   "metadata": {},
   "outputs": [
    {
     "data": {
      "text/html": [
       "<div><style>\n",
       ".dataframe > thead > tr,\n",
       ".dataframe > tbody > tr {\n",
       "  text-align: right;\n",
       "  white-space: pre-wrap;\n",
       "}\n",
       "</style>\n",
       "<small>shape: (5, 9)</small><table border=\"1\" class=\"dataframe\"><thead><tr><th></th><th>title</th><th>ingredients</th><th>directions</th><th>link</th><th>source</th><th>NER</th><th>index</th><th>tfidf</th></tr><tr><td>i64</td><td>str</td><td>list[str]</td><td>list[str]</td><td>str</td><td>str</td><td>str</td><td>i64</td><td>object</td></tr></thead><tbody><tr><td>493</td><td>&quot;Sour Cream Meat Loaf&quot;</td><td>[&quot;2 lb. ground lean beef&quot;, &quot;1 1/2 c. grated raw carrot&quot;, … &quot;2 c. sour cream&quot;]</td><td>[&quot;Combine all ingredients in large mixing bowl; blend well. Pack in a 9 x 5 x 3-inch loaf pan.&quot;, &quot;Bake at 350° for 1 1/2 to 1 3/4 hours.&quot;, &quot;Serves 6.&quot;]</td><td>&quot;www.cookbooks.com/Recipe-Detai…</td><td>&quot;Gathered&quot;</td><td>&quot;[&quot;ground lean beef&quot;, &quot;carrot&quot;,…</td><td>493</td><td>&lt;Compressed Sparse Row sparse matrix of dtype &#x27;float64&#x27;\n",
       "\twith 28 stored elements and shape (1, 126980)&gt;\n",
       "&nbsp;&nbsp;Coords\tValues\n",
       "&nbsp;&nbsp;(0, 8487)\t0.12426194001587101\n",
       "&nbsp;&nbsp;(0, 10736)\t0.13146022503061172\n",
       "&nbsp;&nbsp;(0, 12870)\t0.20839136221796545\n",
       "&nbsp;&nbsp;(0, 13054)\t0.11671725720216262\n",
       "&nbsp;&nbsp;(0, 22880)\t0.12555634902571494\n",
       "&nbsp;&nbsp;(0, 28380)\t0.2052144739757925\n",
       "&nbsp;&nbsp;(0, 31532)\t0.09437701197008333\n",
       "&nbsp;&nbsp;(0, 32327)\t0.21096260914531023\n",
       "&nbsp;&nbsp;(0, 37757)\t0.10560614734023886\n",
       "&nbsp;&nbsp;(0, 38873)\t0.1609686224469912\n",
       "&nbsp;&nbsp;(0, 45300)\t0.16085496110786696\n",
       "&nbsp;&nbsp;(0, 49912)\t0.43407468814321176\n",
       "&nbsp;&nbsp;(0, 50637)\t0.0989449490372077\n",
       "&nbsp;&nbsp;(0, 65634)\t0.10092474097679661\n",
       "&nbsp;&nbsp;(0, 65708)\t0.15606476784959353\n",
       "&nbsp;&nbsp;(0, 77476)\t0.12602299290753485\n",
       "&nbsp;&nbsp;(0, 80239)\t0.13686875830023468\n",
       "&nbsp;&nbsp;(0, 81454)\t0.09043736543188682\n",
       "&nbsp;&nbsp;(0, 86763)\t0.08483272746002642\n",
       "&nbsp;&nbsp;(0, 90665)\t0.11730941040881293\n",
       "&nbsp;&nbsp;(0, 93114)\t0.2410555393582984\n",
       "&nbsp;&nbsp;(0, 94385)\t0.3123638987788138\n",
       "&nbsp;&nbsp;(0, 99135)\t0.08139838819158736\n",
       "&nbsp;&nbsp;(0, 105081)\t0.2016652673659669\n",
       "&nbsp;&nbsp;(0, 106873)\t0.12305920093431334\n",
       "&nbsp;&nbsp;(0, 109848)\t0.27739071343221666\n",
       "&nbsp;&nbsp;(0, 117669)\t0.31890882422071426\n",
       "&nbsp;&nbsp;(0, 119207)\t0.2067109749192635</td></tr><tr><td>1244</td><td>&quot;Chocolate Pistachio Cake&quot;</td><td>[&quot;1 box Duncan Hines yellow cake mix&quot;, &quot;1 box instant pistachio pudding&quot;, … &quot;1/2 can Hershey&#x27;s chocolate syrup&quot;]</td><td>[&quot;Blend to moisten, then beat for 2 minutes.&quot;, &quot;(Optional: a few drops of green food dye for a richer green color.) Pour about 3/4 batter into a greased and floured Bundt pan.&quot;, … &quot;When cool, dust with confectioners sugar.&quot;]</td><td>&quot;www.cookbooks.com/Recipe-Detai…</td><td>&quot;Gathered&quot;</td><td>&quot;[&quot;orange juice&quot;, &quot;water&quot;, &quot;oil…</td><td>1244</td><td>&lt;Compressed Sparse Row sparse matrix of dtype &#x27;float64&#x27;\n",
       "\twith 20 stored elements and shape (1, 126980)&gt;\n",
       "&nbsp;&nbsp;Coords\tValues\n",
       "&nbsp;&nbsp;(0, 17075)\t0.3797197556285724\n",
       "&nbsp;&nbsp;(0, 20473)\t0.16618696064389787\n",
       "&nbsp;&nbsp;(0, 26563)\t0.1584641306158888\n",
       "&nbsp;&nbsp;(0, 38037)\t0.27784975898525643\n",
       "&nbsp;&nbsp;(0, 38248)\t0.3608310166968799\n",
       "&nbsp;&nbsp;(0, 38873)\t0.226806241914992\n",
       "&nbsp;&nbsp;(0, 44266)\t0.21783457102013268\n",
       "&nbsp;&nbsp;(0, 50135)\t0.14987198837479893\n",
       "&nbsp;&nbsp;(0, 53449)\t0.26111551830670543\n",
       "&nbsp;&nbsp;(0, 53762)\t0.27842614707352253\n",
       "&nbsp;&nbsp;(0, 56548)\t0.19800993583216106\n",
       "&nbsp;&nbsp;(0, 59255)\t0.14628676144058456\n",
       "&nbsp;&nbsp;(0, 74931)\t0.17074415958168698\n",
       "&nbsp;&nbsp;(0, 80910)\t0.1316662260567204\n",
       "&nbsp;&nbsp;(0, 81796)\t0.17035706746874024\n",
       "&nbsp;&nbsp;(0, 88833)\t0.24681262421370598\n",
       "&nbsp;&nbsp;(0, 92244)\t0.19701112073962573\n",
       "&nbsp;&nbsp;(0, 111570)\t0.19257871619165004\n",
       "&nbsp;&nbsp;(0, 122445)\t0.14118686015504284\n",
       "&nbsp;&nbsp;(0, 125188)\t0.189098921625201</td></tr><tr><td>1292</td><td>&quot;Corn Pudding&quot;</td><td>[&quot;1 can golden crushed corn&quot;, &quot;2 eggs, slightly beaten&quot;, … &quot;sprinkle of paprika&quot;]</td><td>[&quot;Melt butter in casserole.&quot;, &quot;Beat eggs.&quot;, … &quot;Bake at 325° for an hour (it should jiggle and a knife should come out kinda clean).&quot;]</td><td>&quot;www.cookbooks.com/Recipe-Detai…</td><td>&quot;Gathered&quot;</td><td>&quot;[&quot;golden crushed corn&quot;, &quot;eggs&quot;…</td><td>1292</td><td>&lt;Compressed Sparse Row sparse matrix of dtype &#x27;float64&#x27;\n",
       "\twith 17 stored elements and shape (1, 126980)&gt;\n",
       "&nbsp;&nbsp;Coords\tValues\n",
       "&nbsp;&nbsp;(0, 12870)\t0.3048404585947784\n",
       "&nbsp;&nbsp;(0, 19799)\t0.1330380111375693\n",
       "&nbsp;&nbsp;(0, 30536)\t0.17712558009738494\n",
       "&nbsp;&nbsp;(0, 32424)\t0.2781991876522588\n",
       "&nbsp;&nbsp;(0, 38873)\t0.23546920641934463\n",
       "&nbsp;&nbsp;(0, 43898)\t0.13887710435273992\n",
       "&nbsp;&nbsp;(0, 48889)\t0.24059336196341372\n",
       "&nbsp;&nbsp;(0, 51767)\t0.3925660384958254\n",
       "&nbsp;&nbsp;(0, 68017)\t0.4298096279176742\n",
       "&nbsp;&nbsp;(0, 84767)\t0.2054263904013504\n",
       "&nbsp;&nbsp;(0, 86763)\t0.12409558278961556\n",
       "&nbsp;&nbsp;(0, 99135)\t0.11907173944784599\n",
       "&nbsp;&nbsp;(0, 105137)\t0.23642570024797716\n",
       "&nbsp;&nbsp;(0, 108043)\t0.25687242631199436\n",
       "&nbsp;&nbsp;(0, 109075)\t0.1791474950432413\n",
       "&nbsp;&nbsp;(0, 110260)\t0.12216721136050265\n",
       "&nbsp;&nbsp;(0, 113237)\t0.26165960138820915</td></tr><tr><td>1461</td><td>&quot;Apricot Cake&quot;</td><td>[&quot;2 c. sugar&quot;, &quot;4 eggs&quot;, … &quot;1/2 c. chopped nuts (English or pecans)&quot;]</td><td>[&quot;Mix together sugar, eggs, oil and baby food.&quot;, &quot;Add flour, baking soda, salt, cinnamon and nuts; bake at 350° for 1 hour and 20 minutes.&quot;, &quot;Make sure cake is completely cooled before frosting it.&quot;]</td><td>&quot;www.cookbooks.com/Recipe-Detai…</td><td>&quot;Gathered&quot;</td><td>&quot;[&quot;sugar&quot;, &quot;eggs&quot;, &quot;Wesson oil&quot;…</td><td>1461</td><td>&lt;Compressed Sparse Row sparse matrix of dtype &#x27;float64&#x27;\n",
       "\twith 21 stored elements and shape (1, 126980)&gt;\n",
       "&nbsp;&nbsp;Coords\tValues\n",
       "&nbsp;&nbsp;(0, 8689)\t0.18368190086248304\n",
       "&nbsp;&nbsp;(0, 10592)\t0.1751061768342027\n",
       "&nbsp;&nbsp;(0, 11307)\t0.20405124421235452\n",
       "&nbsp;&nbsp;(0, 26865)\t0.19643847856827631\n",
       "&nbsp;&nbsp;(0, 27702)\t0.13648631984224308\n",
       "&nbsp;&nbsp;(0, 38873)\t0.18705595625647875\n",
       "&nbsp;&nbsp;(0, 39815)\t0.1992321192195883\n",
       "&nbsp;&nbsp;(0, 43898)\t0.11032351088222118\n",
       "&nbsp;&nbsp;(0, 44266)\t0.1796566692514706\n",
       "&nbsp;&nbsp;(0, 58087)\t0.5551961913746999\n",
       "&nbsp;&nbsp;(0, 59488)\t0.2872331989442519\n",
       "&nbsp;&nbsp;(0, 80282)\t0.21505802551943995\n",
       "&nbsp;&nbsp;(0, 80910)\t0.10859027341475272\n",
       "&nbsp;&nbsp;(0, 86221)\t0.18854864522564324\n",
       "&nbsp;&nbsp;(0, 99135)\t0.09459019471902082\n",
       "&nbsp;&nbsp;(0, 105398)\t0.12861447388991612\n",
       "&nbsp;&nbsp;(0, 106088)\t0.1409161193857687\n",
       "&nbsp;&nbsp;(0, 110260)\t0.09704922733518329\n",
       "&nbsp;&nbsp;(0, 112690)\t0.22149353908912242\n",
       "&nbsp;&nbsp;(0, 117669)\t0.2779445187813529\n",
       "&nbsp;&nbsp;(0, 122930)\t0.22847006186990454</td></tr><tr><td>1488</td><td>&quot;Skillet Baked Beans&quot;</td><td>[&quot;1 large can pork and beans&quot;, &quot;1/2 lb. bacon&quot;, … &quot;1/2 c. catsup&quot;]</td><td>[&quot;Brown bacon, pepper and onion in skillet.&quot;, &quot;Drain grease and break up bacon.&quot;, … &quot;Let simmer 45 minutes.&quot;]</td><td>&quot;www.cookbooks.com/Recipe-Detai…</td><td>&quot;Gathered&quot;</td><td>&quot;[&quot;pork&quot;, &quot;bacon&quot;, &quot;green peppe…</td><td>1488</td><td>&lt;Compressed Sparse Row sparse matrix of dtype &#x27;float64&#x27;\n",
       "\twith 11 stored elements and shape (1, 126980)&gt;\n",
       "&nbsp;&nbsp;Coords\tValues\n",
       "&nbsp;&nbsp;(0, 10736)\t0.28903535607453823\n",
       "&nbsp;&nbsp;(0, 12796)\t0.36130211203453627\n",
       "&nbsp;&nbsp;(0, 23451)\t0.3800868470915306\n",
       "&nbsp;&nbsp;(0, 50135)\t0.23386395689134387\n",
       "&nbsp;&nbsp;(0, 65212)\t0.22320122078271773\n",
       "&nbsp;&nbsp;(0, 65634)\t0.2218984368706676\n",
       "&nbsp;&nbsp;(0, 72764)\t0.49157337743785506\n",
       "&nbsp;&nbsp;(0, 81454)\t0.19884034211839893\n",
       "&nbsp;&nbsp;(0, 86763)\t0.18651769067391574\n",
       "&nbsp;&nbsp;(0, 90333)\t0.2853586490927804\n",
       "&nbsp;&nbsp;(0, 111570)\t0.30050459108479693</td></tr></tbody></table></div>"
      ],
      "text/plain": [
       "shape: (5, 9)\n",
       "┌──────┬─────────────┬─────────────┬─────────────┬───┬──────────┬─────────────┬───────┬────────────┐\n",
       "│      ┆ title       ┆ ingredients ┆ directions  ┆ … ┆ source   ┆ NER         ┆ index ┆ tfidf      │\n",
       "│ ---  ┆ ---         ┆ ---         ┆ ---         ┆   ┆ ---      ┆ ---         ┆ ---   ┆ ---        │\n",
       "│ i64  ┆ str         ┆ list[str]   ┆ list[str]   ┆   ┆ str      ┆ str         ┆ i64   ┆ object     │\n",
       "╞══════╪═════════════╪═════════════╪═════════════╪═══╪══════════╪═════════════╪═══════╪════════════╡\n",
       "│ 493  ┆ Sour Cream  ┆ [\"2 lb.     ┆ [\"Combine   ┆ … ┆ Gathered ┆ [\"ground    ┆ 493   ┆ <Compresse │\n",
       "│      ┆ Meat Loaf   ┆ ground lean ┆ all         ┆   ┆          ┆ lean beef\", ┆       ┆ d Sparse   │\n",
       "│      ┆             ┆ beef\", \"1 … ┆ ingredients ┆   ┆          ┆ \"carrot\",…  ┆       ┆ Row sparse │\n",
       "│      ┆             ┆             ┆ in l…       ┆   ┆          ┆             ┆       ┆ …          │\n",
       "│ 1244 ┆ Chocolate   ┆ [\"1 box     ┆ [\"Blend to  ┆ … ┆ Gathered ┆ [\"orange    ┆ 1244  ┆ <Compresse │\n",
       "│      ┆ Pistachio   ┆ Duncan      ┆ moisten,    ┆   ┆          ┆ juice\",     ┆       ┆ d Sparse   │\n",
       "│      ┆ Cake        ┆ Hines       ┆ then beat … ┆   ┆          ┆ \"water\",    ┆       ┆ Row sparse │\n",
       "│      ┆             ┆ yellow ca…  ┆             ┆   ┆          ┆ \"oil…       ┆       ┆ …          │\n",
       "│ 1292 ┆ Corn        ┆ [\"1 can     ┆ [\"Melt      ┆ … ┆ Gathered ┆ [\"golden    ┆ 1292  ┆ <Compresse │\n",
       "│      ┆ Pudding     ┆ golden      ┆ butter in   ┆   ┆          ┆ crushed     ┆       ┆ d Sparse   │\n",
       "│      ┆             ┆ crushed     ┆ casserole.\" ┆   ┆          ┆ corn\",      ┆       ┆ Row sparse │\n",
       "│      ┆             ┆ corn\", …    ┆ , …         ┆   ┆          ┆ \"eggs\"…     ┆       ┆ …          │\n",
       "│ 1461 ┆ Apricot     ┆ [\"2 c.      ┆ [\"Mix       ┆ … ┆ Gathered ┆ [\"sugar\",   ┆ 1461  ┆ <Compresse │\n",
       "│      ┆ Cake        ┆ sugar\", \"4  ┆ together    ┆   ┆          ┆ \"eggs\",     ┆       ┆ d Sparse   │\n",
       "│      ┆             ┆ eggs\", …    ┆ sugar,      ┆   ┆          ┆ \"Wesson     ┆       ┆ Row sparse │\n",
       "│      ┆             ┆ \"1/…        ┆ eggs, oi…   ┆   ┆          ┆ oil\"…       ┆       ┆ …          │\n",
       "│ 1488 ┆ Skillet     ┆ [\"1 large   ┆ [\"Brown     ┆ … ┆ Gathered ┆ [\"pork\",    ┆ 1488  ┆ <Compresse │\n",
       "│      ┆ Baked Beans ┆ can pork    ┆ bacon,      ┆   ┆          ┆ \"bacon\",    ┆       ┆ d Sparse   │\n",
       "│      ┆             ┆ and         ┆ pepper and  ┆   ┆          ┆ \"green      ┆       ┆ Row sparse │\n",
       "│      ┆             ┆ beans\",…    ┆ onio…       ┆   ┆          ┆ peppe…      ┆       ┆ …          │\n",
       "└──────┴─────────────┴─────────────┴─────────────┴───┴──────────┴─────────────┴───────┴────────────┘"
      ]
     },
     "execution_count": 12,
     "metadata": {},
     "output_type": "execute_result"
    }
   ],
   "source": [
    "eval_ds.head()"
   ]
  },
  {
   "cell_type": "code",
   "execution_count": 13,
   "id": "7064c630-3b1b-4026-9df8-c20e8a50eb5d",
   "metadata": {},
   "outputs": [
    {
     "name": "stderr",
     "output_type": "stream",
     "text": [
      "Downloading artifacts: 100%|██████████████████████████████████████████████████████████| 5/5 [00:01<00:00,  3.61it/s]\n",
      "Downloading artifacts: 100%|██████████████████████████████████████████████████████████| 1/1 [00:00<00:00,  8.78it/s]\n"
     ]
    }
   ],
   "source": [
    "# Run once to download model, to put that time into the time measurement\n",
    "emb_query = run_BOW_on_line(\"pecans\", model_uri)"
   ]
  },
  {
   "cell_type": "markdown",
   "id": "c22a88b2-bbec-4d47-830d-457544f4dae9",
   "metadata": {},
   "source": [
    "### Identity query\n",
    "Here we use the original ingredients as the input to the model. Since this is also what the model is trained on, it should give close to perfect results"
   ]
  },
  {
   "cell_type": "code",
   "execution_count": 14,
   "id": "dfde8b64-ace0-4ecc-b8dc-8fe5efc037f5",
   "metadata": {
    "editable": true,
    "slideshow": {
     "slide_type": ""
    },
    "tags": []
   },
   "outputs": [],
   "source": [
    "tot_rr = 0\n",
    "tot_prec_at_3 = 0\n",
    "tot_evals = 0\n",
    "start = timeit.default_timer()\n",
    "for index, title, ingredient_list in query_ds.select('index', 'title', 'ingredients').iter_rows():\n",
    "    emb_query = run_BOW_on_line(title + \" \" + \"\\n\".join(ingredient_list), model_uri)\n",
    "    ranked_ds = rank_results(eval_ds, emb_query)\n",
    "    tot_rr += reciprocal_rank(ranked_ds, index)\n",
    "    tot_prec_at_3 += precision_at_k(ranked_ds, index)\n",
    "    tot_evals += 1\n",
    "time = timeit.default_timer() - start"
   ]
  },
  {
   "cell_type": "code",
   "execution_count": 15,
   "id": "d518ef62-3e21-4c2e-956a-77fc2609730d",
   "metadata": {},
   "outputs": [],
   "source": [
    "mrr = tot_rr/tot_evals\n",
    "mprec3 = tot_prec_at_3 / tot_evals\n",
    "result_data = {\n",
    "    \"Model\": ['bow'],\n",
    "    'Eval_Task': ['identity'],\n",
    "    \"MRR\": [mrr],\n",
    "    \"P@3\": [mprec3],\n",
    "    \"Time_Tot\": time,\n",
    "    \"Time_Query\": time/tot_evals\n",
    "}\n",
    "result_df = pl.DataFrame(result_data)\n",
    "results_df = results_df.vstack(result_df)"
   ]
  },
  {
   "cell_type": "markdown",
   "id": "e5a4c47d-b566-4aa4-9400-3265142a36c2",
   "metadata": {},
   "source": [
    "### LLM task 1 - Main food items and preparations\n",
    "Here the BOW should perform worse"
   ]
  },
  {
   "cell_type": "code",
   "execution_count": 16,
   "id": "2fb73cef-d074-4abf-86ed-54f052da2798",
   "metadata": {},
   "outputs": [],
   "source": [
    "tot_rr = 0\n",
    "tot_prec_at_3 = 0\n",
    "tot_evals = 0\n",
    "start = timeit.default_timer()\n",
    "for index, ingredient_list in query_ds.select('index', 'main_food_items_and_preparations').iter_rows():\n",
    "    emb_query = run_BOW_on_line(\"\\n\".join(ingredient_list), model_uri)\n",
    "    ranked_ds = rank_results(eval_ds, emb_query)\n",
    "    tot_rr += reciprocal_rank(ranked_ds, index)\n",
    "    tot_prec_at_3 += precision_at_k(ranked_ds, index)\n",
    "    tot_evals += 1\n",
    "time = timeit.default_timer() - start"
   ]
  },
  {
   "cell_type": "code",
   "execution_count": 17,
   "id": "44210d62-b354-4292-b81a-4ebadfaa4ec7",
   "metadata": {},
   "outputs": [],
   "source": [
    "mrr = tot_rr/tot_evals\n",
    "mprec3 = tot_prec_at_3 / tot_evals\n",
    "result_data = {\n",
    "    \"Model\": ['bow'],\n",
    "    'Eval_Task': ['llm1'],\n",
    "    \"MRR\": [mrr],\n",
    "    \"P@3\": [mprec3],\n",
    "    \"Time_Tot\": time,\n",
    "    \"Time_Query\": time/tot_evals\n",
    "}\n",
    "result_df = pl.DataFrame(result_data)\n",
    "results_df = results_df.vstack(result_df)"
   ]
  },
  {
   "cell_type": "markdown",
   "id": "a65be64a-fbb1-4397-a456-a8add9d54ccb",
   "metadata": {},
   "source": [
    "### LLM task 2 - Important ingredients for search\n",
    "Here the BOW should perform worse"
   ]
  },
  {
   "cell_type": "code",
   "execution_count": 18,
   "id": "c22c90a8-e6e9-45ca-8a2c-8c569beb89b3",
   "metadata": {
    "editable": true,
    "slideshow": {
     "slide_type": ""
    },
    "tags": []
   },
   "outputs": [],
   "source": [
    "tot_rr = 0\n",
    "tot_prec_at_3 = 0\n",
    "tot_evals = 0\n",
    "start = timeit.default_timer()\n",
    "for index, ingredient_list in query_ds.select('index', 'important_ingredients_for_search').iter_rows():\n",
    "    emb_query = run_BOW_on_line(\"\\n\".join(ingredient_list), model_uri)\n",
    "    ranked_ds = rank_results(eval_ds, emb_query)\n",
    "    tot_rr += reciprocal_rank(ranked_ds, index)\n",
    "    tot_prec_at_3 += precision_at_k(ranked_ds, index)\n",
    "    tot_evals += 1\n",
    "time = timeit.default_timer() - start"
   ]
  },
  {
   "cell_type": "code",
   "execution_count": 19,
   "id": "1d674102-ae20-4e42-846f-9d89a481c57b",
   "metadata": {},
   "outputs": [],
   "source": [
    "mrr = tot_rr/tot_evals\n",
    "mprec3 = tot_prec_at_3 / tot_evals\n",
    "result_data = {\n",
    "    \"Model\": ['bow'],\n",
    "    'Eval_Task': ['llm2'],\n",
    "    \"MRR\": [mrr],\n",
    "    \"P@3\": [mprec3],\n",
    "    \"Time_Tot\": time,\n",
    "    \"Time_Query\": time/tot_evals\n",
    "}\n",
    "result_df = pl.DataFrame(result_data)\n",
    "results_df = results_df.vstack(result_df)"
   ]
  },
  {
   "cell_type": "markdown",
   "id": "c1881e59-f68a-4914-8710-1955bf62ffcc",
   "metadata": {},
   "source": [
    "### LLM task 3 - Google query, processed\n",
    "Here the BOW should perform worse"
   ]
  },
  {
   "cell_type": "code",
   "execution_count": 20,
   "id": "c93d5302-0494-425a-8d56-526430ef29c1",
   "metadata": {
    "editable": true,
    "slideshow": {
     "slide_type": ""
    },
    "tags": []
   },
   "outputs": [],
   "source": [
    "tot_rr = 0\n",
    "tot_prec_at_3 = 0\n",
    "tot_evals = 0\n",
    "start = timeit.default_timer()\n",
    "for index, ingredient_list in query_ds.select('index', 'google_search_query_processed').iter_rows():\n",
    "    emb_query = run_BOW_on_line(ingredient_list['title'] + \" \"+ \"\\n\".join(ingredient_list['ingredients']), model_uri)\n",
    "    ranked_ds = rank_results(eval_ds, emb_query)\n",
    "    tot_rr += reciprocal_rank(ranked_ds, index)\n",
    "    tot_prec_at_3 += precision_at_k(ranked_ds, index)\n",
    "    tot_evals += 1\n",
    "time = timeit.default_timer() - start"
   ]
  },
  {
   "cell_type": "code",
   "execution_count": 21,
   "id": "52fe0689-0657-4f68-b9ca-4e1e7f60073c",
   "metadata": {},
   "outputs": [],
   "source": [
    "mrr = tot_rr/tot_evals\n",
    "mprec3 = tot_prec_at_3 / tot_evals\n",
    "result_data = {\n",
    "    \"Model\": ['bow'],\n",
    "    'Eval_Task': ['llm3'],\n",
    "    \"MRR\": [mrr],\n",
    "    \"P@3\": [mprec3],\n",
    "    \"Time_Tot\": time,\n",
    "    \"Time_Query\": time/tot_evals\n",
    "}\n",
    "result_df = pl.DataFrame(result_data)\n",
    "results_df = results_df.vstack(result_df)"
   ]
  },
  {
   "cell_type": "markdown",
   "id": "7d2ef16f-5fca-4124-92ad-9ffef3afa7d9",
   "metadata": {
    "editable": true,
    "slideshow": {
     "slide_type": ""
    },
    "tags": []
   },
   "source": [
    "# NER DB \n",
    "Currently this should perform pretty bad, since there is no ranking function, the metrics would be pretty random for any result where you have more than a few results after filtering."
   ]
  },
  {
   "cell_type": "code",
   "execution_count": 22,
   "id": "448302f8-3f13-42f7-bd8e-b2ad8bc04f31",
   "metadata": {},
   "outputs": [
    {
     "name": "stderr",
     "output_type": "stream",
     "text": [
      "Downloading artifacts: 100%|████████████████████████████████████████████████████████| 17/17 [00:03<00:00,  4.66it/s]\n"
     ]
    }
   ],
   "source": [
    "model_uri = \"models:/recipe_NER@prod\"\n",
    "ner = mlflow.spacy.load_model(model_uri=model_uri)"
   ]
  },
  {
   "cell_type": "markdown",
   "id": "43d2cdca-d95a-48d0-8ab3-c5b7d7ccd49f",
   "metadata": {},
   "source": [
    "### Identity query"
   ]
  },
  {
   "cell_type": "code",
   "execution_count": 23,
   "id": "9c6894dc-216e-49ea-9f6c-17cb97776333",
   "metadata": {
    "editable": true,
    "slideshow": {
     "slide_type": ""
    },
    "tags": []
   },
   "outputs": [],
   "source": [
    "start = timeit.default_timer()\n",
    "tokens, preps, optionals = transform_data_to_tokens(eval_ds['ingredients'], ner)"
   ]
  },
  {
   "cell_type": "code",
   "execution_count": 24,
   "id": "18af6c5b-fa59-434d-8c65-90ff172c7797",
   "metadata": {
    "editable": true,
    "slideshow": {
     "slide_type": ""
    },
    "tags": []
   },
   "outputs": [],
   "source": [
    "inp = [\n",
    "    ParquetDefinition(data=tokens, name=\"tokens\"),\n",
    "    ParquetDefinition(data=preps, name=\"preps\", is_map=True),\n",
    "    ParquetDefinition(data=optionals, name=\"optionals\")\n",
    "]\n",
    "create_parquet_file(\"eval_test.parquet\", eval_ds.select(pl.exclude('tfidf')), inp)\n",
    "time = timeit.default_timer() - start"
   ]
  },
  {
   "cell_type": "code",
   "execution_count": 25,
   "id": "d70c8cf0-6093-4f75-bf11-f78a2d4d1369",
   "metadata": {},
   "outputs": [
    {
     "name": "stdout",
     "output_type": "stream",
     "text": [
      "Dataset transformation took 493.8839143969817s, or 0.04938839143969817s/row\n"
     ]
    }
   ],
   "source": [
    "print(f\"Dataset transformation took {time}s, or {time/eval_ds.shape[0]}s/row\")"
   ]
  },
  {
   "cell_type": "code",
   "execution_count": 26,
   "id": "8a2a976b-e4ab-4bc3-984a-9599608dfe92",
   "metadata": {
    "scrolled": true
   },
   "outputs": [],
   "source": [
    "tot_rr = 0\n",
    "tot_prec_at_3 = 0\n",
    "tot_evals = 0\n",
    "tot_evals = 0\n",
    "start = timeit.default_timer()\n",
    "for index, query in query_ds.select('index', 'ingredients').iter_rows():\n",
    "    query_obj = transform_ingredients_to_tokens(query, ner)\n",
    "    sql = construct_ingredient_query('eval_test.parquet', query_obj['foods'], query_obj['preps'])\n",
    "    try:\n",
    "        results = duckdb.sql(sql).pl()\n",
    "        tot_rr += reciprocal_rank(results, index)\n",
    "        tot_prec_at_3 += precision_at_k(results, index)\n",
    "        tot_evals += 1\n",
    "    except:\n",
    "        continue\n",
    "time = timeit.default_timer() - start"
   ]
  },
  {
   "cell_type": "code",
   "execution_count": 27,
   "id": "b74d135e-0131-4950-a59f-2180879f84ab",
   "metadata": {},
   "outputs": [],
   "source": [
    "mrr = tot_rr/tot_evals\n",
    "mprec3 = tot_prec_at_3 / tot_evals\n",
    "result_data = {\n",
    "    \"Model\": ['ner'],\n",
    "    'Eval_Task': ['identity'],\n",
    "    \"MRR\": [mrr],\n",
    "    \"P@3\": [mprec3],\n",
    "    \"Time_Tot\": time,\n",
    "    \"Time_Query\": time/tot_evals\n",
    "}\n",
    "result_df = pl.DataFrame(result_data)\n",
    "results_df = results_df.vstack(result_df)"
   ]
  },
  {
   "cell_type": "markdown",
   "id": "81d64751-2e36-417e-90b4-a1edc1eb07d8",
   "metadata": {},
   "source": [
    "### LLM task 1"
   ]
  },
  {
   "cell_type": "code",
   "execution_count": 28,
   "id": "4834e83c-de2d-4a3b-9742-ac48ed551a65",
   "metadata": {
    "scrolled": true
   },
   "outputs": [],
   "source": [
    "tot_rr = 0\n",
    "tot_prec_at_3 = 0\n",
    "tot_evals = 0\n",
    "start = timeit.default_timer()\n",
    "for index, query in query_ds.select('index', 'main_food_items_and_preparations').iter_rows():\n",
    "    query_obj = transform_ingredients_to_tokens(query, ner)\n",
    "    sql = construct_ingredient_query('eval_test.parquet', query_obj['foods'], query_obj['preps'])\n",
    "    try:\n",
    "        results = duckdb.sql(sql).pl()\n",
    "        tot_rr += reciprocal_rank(results, index)\n",
    "        tot_prec_at_3 += precision_at_k(results, index)\n",
    "        tot_evals += 1\n",
    "    except:\n",
    "        continue\n",
    "time = timeit.default_timer() - start"
   ]
  },
  {
   "cell_type": "code",
   "execution_count": 29,
   "id": "8c98fafa-7135-49f6-99b5-a17e53ec95f7",
   "metadata": {},
   "outputs": [],
   "source": [
    "mrr = tot_rr/tot_evals\n",
    "mprec3 = tot_prec_at_3 / tot_evals\n",
    "result_data = {\n",
    "    \"Model\": ['ner'],\n",
    "    'Eval_Task': ['llm1'],\n",
    "    \"MRR\": [mrr],\n",
    "    \"P@3\": [mprec3],\n",
    "    \"Time_Tot\": time,\n",
    "    \"Time_Query\": time/tot_evals\n",
    "}\n",
    "result_df = pl.DataFrame(result_data)\n",
    "results_df = results_df.vstack(result_df)"
   ]
  },
  {
   "cell_type": "markdown",
   "id": "ccff15fb-edad-4db2-a3e3-a1648ee5c072",
   "metadata": {},
   "source": [
    "### LLM task 2"
   ]
  },
  {
   "cell_type": "code",
   "execution_count": 30,
   "id": "335631e8-97c9-4ab7-bb4e-03b90b8d76bf",
   "metadata": {
    "scrolled": true
   },
   "outputs": [],
   "source": [
    "tot_rr = 0\n",
    "tot_prec_at_3 = 0\n",
    "tot_evals = 0\n",
    "start = timeit.default_timer()\n",
    "for index, query in query_ds.select('index', 'important_ingredients_for_search').iter_rows():\n",
    "    query_obj = transform_ingredients_to_tokens(query, ner)\n",
    "    sql = construct_ingredient_query('eval_test.parquet', query_obj['foods'], query_obj['preps'])\n",
    "    try:\n",
    "        results = duckdb.sql(sql).pl()\n",
    "        tot_rr += reciprocal_rank(results, index)\n",
    "        tot_prec_at_3 += precision_at_k(results, index)\n",
    "        tot_evals += 1\n",
    "    except:\n",
    "        continue\n",
    "time = timeit.default_timer() - start"
   ]
  },
  {
   "cell_type": "code",
   "execution_count": 31,
   "id": "48e23b3c-c471-4574-a385-e2f8eda96f47",
   "metadata": {},
   "outputs": [],
   "source": [
    "mrr = tot_rr/tot_evals\n",
    "mprec3 = tot_prec_at_3 / tot_evals\n",
    "result_data = {\n",
    "    \"Model\": ['ner'],\n",
    "    'Eval_Task': ['llm2'],\n",
    "    \"MRR\": [mrr],\n",
    "    \"P@3\": [mprec3],\n",
    "    \"Time_Tot\": time,\n",
    "    \"Time_Query\": time/tot_evals\n",
    "}\n",
    "result_df = pl.DataFrame(result_data)\n",
    "results_df = results_df.vstack(result_df)"
   ]
  },
  {
   "cell_type": "markdown",
   "id": "e8f63a81-cba7-434c-b638-99196d454e1a",
   "metadata": {},
   "source": [
    "### LLM Task 3"
   ]
  },
  {
   "cell_type": "code",
   "execution_count": 32,
   "id": "583818eb-7dfd-4a97-8394-286af7cd76ba",
   "metadata": {
    "scrolled": true
   },
   "outputs": [],
   "source": [
    "tot_rr = 0\n",
    "tot_prec_at_3 = 0\n",
    "tot_evals = 0\n",
    "start = timeit.default_timer()\n",
    "for index, query in query_ds.select('index', 'google_search_query_processed').iter_rows():\n",
    "    query_obj = transform_ingredients_to_tokens(query['ingredients'], ner)\n",
    "    sql = construct_ingredient_query('eval_test.parquet', query_obj['foods'], query_obj['preps'])\n",
    "    try:\n",
    "        results = duckdb.sql(sql).pl()\n",
    "        tot_rr += reciprocal_rank(results, index)\n",
    "        tot_prec_at_3 += precision_at_k(results, index)\n",
    "        tot_evals += 1\n",
    "    except:\n",
    "        continue\n",
    "time = timeit.default_timer() - start"
   ]
  },
  {
   "cell_type": "code",
   "execution_count": 33,
   "id": "31e7e91c-ef9f-45c2-b50e-77306e3292f6",
   "metadata": {},
   "outputs": [],
   "source": [
    "mrr = tot_rr/tot_evals\n",
    "mprec3 = tot_prec_at_3 / tot_evals\n",
    "result_data = {\n",
    "    \"Model\": ['ner'],\n",
    "    'Eval_Task': ['llm3'],\n",
    "    \"MRR\": [mrr],\n",
    "    \"P@3\": [mprec3],\n",
    "    \"Time_Tot\": time,\n",
    "    \"Time_Query\": time/tot_evals\n",
    "}\n",
    "result_df = pl.DataFrame(result_data)\n",
    "results_df = results_df.vstack(result_df)"
   ]
  },
  {
   "cell_type": "code",
   "execution_count": 34,
   "id": "e918c9b2-a880-45f1-9d32-d36c4e692ea1",
   "metadata": {},
   "outputs": [
    {
     "data": {
      "image/png": "[encoded data removed]",
      "text/plain": [
       "<Figure size 1100x800 with 1 Axes>"
      ]
     },
     "metadata": {},
     "output_type": "display_data"
    }
   ],
   "source": [
    "plt.figure(figsize=(11,8))\n",
    "ax = sns.barplot(results_df, x='Eval_Task', y='MRR', hue='Model')\n",
    "\n",
    "for cont in ax.containers:\n",
    "    ax.bar_label(cont)"
   ]
  },
  {
   "cell_type": "code",
   "execution_count": 35,
   "id": "784cf38d-062c-4a09-916c-12304ba02051",
   "metadata": {},
   "outputs": [
    {
     "data": {
      "image/png": "[encoded data removed]",
      "text/plain": [
       "<Figure size 1100x800 with 1 Axes>"
      ]
     },
     "metadata": {},
     "output_type": "display_data"
    }
   ],
   "source": [
    "plt.figure(figsize=(11,8))\n",
    "ax = sns.barplot(results_df, x='Eval_Task', y='P@3', hue='Model')\n",
    "\n",
    "for cont in ax.containers:\n",
    "    ax.bar_label(cont)"
   ]
  },
  {
   "cell_type": "code",
   "execution_count": 36,
   "id": "56574ca2-e423-49c2-ae4f-c3d25a7f232d",
   "metadata": {},
   "outputs": [
    {
     "data": {
      "image/png": "[encoded data removed]",
      "text/plain": [
       "<Figure size 1100x800 with 1 Axes>"
      ]
     },
     "metadata": {},
     "output_type": "display_data"
    }
   ],
   "source": [
    "plt.figure(figsize=(11,8))\n",
    "ax = sns.barplot(results_df, x='Eval_Task', y='Time_Tot', hue='Model')\n",
    "\n",
    "for cont in ax.containers:\n",
    "    ax.bar_label(cont)"
   ]
  },
  {
   "cell_type": "code",
   "execution_count": 37,
   "id": "3add8e5f-57de-40e0-8935-bfc1f41a879b",
   "metadata": {},
   "outputs": [
    {
     "data": {
      "image/png": "[encoded data removed]",
      "text/plain": [
       "<Figure size 1100x800 with 1 Axes>"
      ]
     },
     "metadata": {},
     "output_type": "display_data"
    }
   ],
   "source": [
    "plt.figure(figsize=(11,8))\n",
    "ax = sns.barplot(results_df, x='Eval_Task', y='Time_Query', hue='Model')\n",
    "\n",
    "for cont in ax.containers:\n",
    "    ax.bar_label(cont)"
   ]
  },
  {
   "cell_type": "code",
   "execution_count": 38,
   "id": "8be6f4a5-ff2f-442c-aa8e-c6ee614f767d",
   "metadata": {},
   "outputs": [],
   "source": [
    "from datetime import datetime\n",
    "date_time = datetime.now().strftime(\"%Y_%m_%d__%H_%M\")"
   ]
  },
  {
   "cell_type": "code",
   "execution_count": 39,
   "id": "141cd3da-5997-4f15-b9de-552c150aa067",
   "metadata": {},
   "outputs": [
    {
     "data": {
      "text/plain": [
       "'2025_06_10__15_09'"
      ]
     },
     "execution_count": 39,
     "metadata": {},
     "output_type": "execute_result"
    }
   ],
   "source": [
    "date_time"
   ]
  },
  {
   "cell_type": "code",
   "execution_count": 40,
   "id": "b0706229-6f60-4447-805c-a3161c3450d9",
   "metadata": {},
   "outputs": [],
   "source": [
    "results_df.write_parquet(f\"../../data/results/{date_time}.parquet\")"
   ]
  },
  {
   "cell_type": "code",
   "execution_count": 41,
   "id": "17aeb4bb-0988-446f-88bd-0a597f47bf53",
   "metadata": {},
   "outputs": [
    {
     "data": {
      "text/html": [
       "<div><style>\n",
       ".dataframe > thead > tr,\n",
       ".dataframe > tbody > tr {\n",
       "  text-align: right;\n",
       "  white-space: pre-wrap;\n",
       "}\n",
       "</style>\n",
       "<small>shape: (8, 6)</small><table border=\"1\" class=\"dataframe\"><thead><tr><th>Model</th><th>Eval_Task</th><th>MRR</th><th>P@3</th><th>Time_Tot</th><th>Time_Query</th></tr><tr><td>str</td><td>str</td><td>f64</td><td>f64</td><td>f64</td><td>f64</td></tr></thead><tbody><tr><td>&quot;bow&quot;</td><td>&quot;identity&quot;</td><td>1.0</td><td>1.0</td><td>0.506667</td><td>0.168889</td></tr><tr><td>&quot;bow&quot;</td><td>&quot;llm1&quot;</td><td>1.0</td><td>1.0</td><td>0.493612</td><td>0.164537</td></tr><tr><td>&quot;bow&quot;</td><td>&quot;llm2&quot;</td><td>0.455556</td><td>0.333333</td><td>0.570354</td><td>0.190118</td></tr><tr><td>&quot;bow&quot;</td><td>&quot;llm3&quot;</td><td>0.183333</td><td>0.333333</td><td>0.415193</td><td>0.138398</td></tr><tr><td>&quot;ner&quot;</td><td>&quot;identity&quot;</td><td>1.0</td><td>1.0</td><td>0.336772</td><td>0.112257</td></tr><tr><td>&quot;ner&quot;</td><td>&quot;llm1&quot;</td><td>0.333333</td><td>0.333333</td><td>0.292999</td><td>0.097666</td></tr><tr><td>&quot;ner&quot;</td><td>&quot;llm2&quot;</td><td>0.333333</td><td>0.333333</td><td>0.150343</td><td>0.050114</td></tr><tr><td>&quot;ner&quot;</td><td>&quot;llm3&quot;</td><td>0.666667</td><td>0.666667</td><td>0.176449</td><td>0.058816</td></tr></tbody></table></div>"
      ],
      "text/plain": [
       "shape: (8, 6)\n",
       "┌───────┬───────────┬──────────┬──────────┬──────────┬────────────┐\n",
       "│ Model ┆ Eval_Task ┆ MRR      ┆ P@3      ┆ Time_Tot ┆ Time_Query │\n",
       "│ ---   ┆ ---       ┆ ---      ┆ ---      ┆ ---      ┆ ---        │\n",
       "│ str   ┆ str       ┆ f64      ┆ f64      ┆ f64      ┆ f64        │\n",
       "╞═══════╪═══════════╪══════════╪══════════╪══════════╪════════════╡\n",
       "│ bow   ┆ identity  ┆ 1.0      ┆ 1.0      ┆ 0.506667 ┆ 0.168889   │\n",
       "│ bow   ┆ llm1      ┆ 1.0      ┆ 1.0      ┆ 0.493612 ┆ 0.164537   │\n",
       "│ bow   ┆ llm2      ┆ 0.455556 ┆ 0.333333 ┆ 0.570354 ┆ 0.190118   │\n",
       "│ bow   ┆ llm3      ┆ 0.183333 ┆ 0.333333 ┆ 0.415193 ┆ 0.138398   │\n",
       "│ ner   ┆ identity  ┆ 1.0      ┆ 1.0      ┆ 0.336772 ┆ 0.112257   │\n",
       "│ ner   ┆ llm1      ┆ 0.333333 ┆ 0.333333 ┆ 0.292999 ┆ 0.097666   │\n",
       "│ ner   ┆ llm2      ┆ 0.333333 ┆ 0.333333 ┆ 0.150343 ┆ 0.050114   │\n",
       "│ ner   ┆ llm3      ┆ 0.666667 ┆ 0.666667 ┆ 0.176449 ┆ 0.058816   │\n",
       "└───────┴───────────┴──────────┴──────────┴──────────┴────────────┘"
      ]
     },
     "execution_count": 41,
     "metadata": {},
     "output_type": "execute_result"
    }
   ],
   "source": [
    "pl.read_parquet(f\"../../data/results/{date_time}.parquet\")"
   ]
  },
  {
   "cell_type": "code",
   "execution_count": null,
   "id": "1597f08b-76fc-4730-9a6e-66e40a005ac2",
   "metadata": {
    "editable": true,
    "slideshow": {
     "slide_type": ""
    },
    "tags": []
   },
   "outputs": [],
   "source": []
  }
 ],
 "metadata": {
  "kernelspec": {
   "display_name": "Python 3 (ipykernel)",
   "language": "python",
   "name": "python3"
  },
  "language_info": {
   "codemirror_mode": {
    "name": "ipython",
    "version": 3
   },
   "file_extension": ".py",
   "mimetype": "text/x-python",
   "name": "python",
   "nbconvert_exporter": "python",
   "pygments_lexer": "ipython3",
   "version": "3.10.16"
  }
 },
 "nbformat": 4,
 "nbformat_minor": 5
}
