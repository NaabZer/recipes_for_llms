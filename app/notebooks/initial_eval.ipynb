{
 "cells": [
  {
   "cell_type": "code",
   "execution_count": 1,
   "id": "a8878ef0-d226-493a-a90b-ca8c673cf97a",
   "metadata": {},
   "outputs": [],
   "source": [
    "import mlflow\n",
    "import mlflow.spacy\n",
    "import mlflow.sklearn\n",
    "import polars as pl\n",
    "import seaborn as sns\n",
    "import scipy\n",
    "import duckdb\n",
    "import numpy as np"
   ]
  },
  {
   "cell_type": "code",
   "execution_count": 2,
   "id": "7a51787d-7fc7-4033-ba82-66cc5f95841b",
   "metadata": {},
   "outputs": [
    {
     "data": {
      "text/plain": [
       "True"
      ]
     },
     "execution_count": 2,
     "metadata": {},
     "output_type": "execute_result"
    }
   ],
   "source": [
    "import os\n",
    "import sys\n",
    "from dotenv import load_dotenv\n",
    "sys.path.insert(0, os.path.abspath('..'))\n",
    "sys.path.insert(0, os.path.abspath('../..'))\n",
    "from app.model_functions import run_BOW_on_line\n",
    "from app.evaluation import reciprocal_rank, rank_results\n",
    "from app.data_handling.BOW import transform_ds_to_BOW\n",
    "\n",
    "load_dotenv()"
   ]
  },
  {
   "cell_type": "code",
   "execution_count": 3,
   "id": "f1499171-e12e-425e-8f00-6839b551d442",
   "metadata": {},
   "outputs": [],
   "source": [
    "mlflow.set_tracking_uri(os.getenv(\"MLFLOW_TRACKING_URL\"))"
   ]
  },
  {
   "cell_type": "code",
   "execution_count": 4,
   "id": "44dcca0b-9916-47bd-9102-4c32882e21a4",
   "metadata": {},
   "outputs": [],
   "source": [
    "with open(\"../../data/eval_data/processed_data.json\", \"r\") as f:\n",
    "    eval_ds = pl.read_json(f)"
   ]
  },
  {
   "cell_type": "code",
   "execution_count": 5,
   "id": "fcc6a70b-3ec9-452b-80fe-2da4ae040ad2",
   "metadata": {},
   "outputs": [
    {
     "name": "stderr",
     "output_type": "stream",
     "text": [
      "/home/naabzer/develop/recipe_tm/env/lib/python3.10/site-packages/tqdm/auto.py:21: TqdmWarning: IProgress not found. Please update jupyter and ipywidgets. See https://ipywidgets.readthedocs.io/en/stable/user_install.html\n",
      "  from .autonotebook import tqdm as notebook_tqdm\n",
      "Downloading artifacts: 100%|██████████████████████████████████████████████████████████| 5/5 [00:01<00:00,  4.14it/s]\n"
     ]
    }
   ],
   "source": [
    "model_uri = 'runs:/083d261eafb942a2878f1dab36056631/model'\n",
    "BOW_model = mlflow.sklearn.load_model(model_uri)"
   ]
  },
  {
   "cell_type": "code",
   "execution_count": 6,
   "id": "e64ec79f-7cf2-4048-98be-27fe01bb50e0",
   "metadata": {},
   "outputs": [],
   "source": [
    "eval_ds = transform_ds_to_BOW(eval_ds, BOW_model)"
   ]
  },
  {
   "cell_type": "code",
   "execution_count": null,
   "id": "dfde8b64-ace0-4ecc-b8dc-8fe5efc037f5",
   "metadata": {},
   "outputs": [
    {
     "name": "stderr",
     "output_type": "stream",
     "text": [
      "Downloading artifacts: 100%|██████████████████████████████████████████████████████████| 5/5 [00:00<00:00,  5.39it/s]\n",
      "Downloading artifacts: 100%|██████████████████████████████████████████████████████████| 1/1 [00:00<00:00, 10.63it/s]\n"
     ]
    }
   ],
   "source": [
    "tot_rr = 0\n",
    "tot_evals = 0\n",
    "                                    \n",
    "for index, ingredient_list in eval_ds.select('index', 'ingredients').iter_rows():\n",
    "    emb_query = run_BOW_on_line(\"\\n\".join(ingredient_list), model_uri)\n",
    "    ranked_ds = rank_results(eval_ds, emb_query)\n",
    "    tot_rr += reciprocal_rank(ranked_ds, index)\n",
    "    tot_evals += 1"
   ]
  },
  {
   "cell_type": "code",
   "execution_count": null,
   "id": "d518ef62-3e21-4c2e-956a-77fc2609730d",
   "metadata": {},
   "outputs": [],
   "source": [
    "print(tot_rr)\n",
    "print(tot_evals)"
   ]
  },
  {
   "cell_type": "code",
   "execution_count": null,
   "id": "840fd4ec-fcbe-4748-ae01-c0dfb345f400",
   "metadata": {},
   "outputs": [],
   "source": [
    "mrr = tot_rr/tot_evals"
   ]
  }
 ],
 "metadata": {
  "kernelspec": {
   "display_name": "Python 3 (ipykernel)",
   "language": "python",
   "name": "python3"
  },
  "language_info": {
   "codemirror_mode": {
    "name": "ipython",
    "version": 3
   },
   "file_extension": ".py",
   "mimetype": "text/x-python",
   "name": "python",
   "nbconvert_exporter": "python",
   "pygments_lexer": "ipython3",
   "version": "3.10.16"
  }
 },
 "nbformat": 4,
 "nbformat_minor": 5
}
