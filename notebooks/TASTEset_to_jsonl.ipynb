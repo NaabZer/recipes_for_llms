{
 "cells": [
  {
   "cell_type": "code",
   "execution_count": 1,
   "id": "fb3e5bfa-3278-48b9-9084-bb57edaea6dd",
   "metadata": {},
   "outputs": [],
   "source": [
    "import pandas as pd\n",
    "import json\n",
    "import jsonlines"
   ]
  },
  {
   "cell_type": "code",
   "execution_count": 2,
   "id": "32da4c33-cbd7-4ef2-ad39-b80b7ac21947",
   "metadata": {},
   "outputs": [],
   "source": [
    "taste_ds = pd.read_csv('../data/NER_data/TASTEset.csv')"
   ]
  },
  {
   "cell_type": "code",
   "execution_count": 13,
   "id": "c6502879-388f-400d-8832-1a2df8f7f646",
   "metadata": {},
   "outputs": [],
   "source": [
    "with jsonlines.open('../data/NER_data/TASTEset.jsonl', mode='w') as writer:\n",
    "    for i in taste_ds.index:\n",
    "        text = taste_ds[\"ingredients\"][i]\n",
    "        entities = json.loads(taste_ds.at[i, \"ingredients_entities\"])\n",
    "        entities_l = []\n",
    "        for ent in entities:\n",
    "            entities_l.append([ent['start'], ent['end'], ent['type'].title()]) \n",
    "        obj = {\"ingredients\": text, \"ingredients_entities\": entities_l}\n",
    "        writer.write(obj)\n"
   ]
  },
  {
   "cell_type": "code",
   "execution_count": null,
   "id": "23aaec2d-4a43-4fdc-9c51-b3cc99f4a715",
   "metadata": {},
   "outputs": [],
   "source": []
  }
 ],
 "metadata": {
  "kernelspec": {
   "display_name": "Python 3 (ipykernel)",
   "language": "python",
   "name": "python3"
  },
  "language_info": {
   "codemirror_mode": {
    "name": "ipython",
    "version": 3
   },
   "file_extension": ".py",
   "mimetype": "text/x-python",
   "name": "python",
   "nbconvert_exporter": "python",
   "pygments_lexer": "ipython3",
   "version": "3.10.16"
  }
 },
 "nbformat": 4,
 "nbformat_minor": 5
}
