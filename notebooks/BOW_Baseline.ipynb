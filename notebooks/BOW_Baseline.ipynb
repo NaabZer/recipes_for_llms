{
 "cells": [
  {
   "cell_type": "code",
   "execution_count": 1,
   "id": "4f0629ab-3b17-4982-a93b-dbdef7d22e0c",
   "metadata": {},
   "outputs": [],
   "source": [
    "import pandas as pd\n",
    "import spacy\n",
    "import os\n",
    "import spacy\n",
    "import mlflow\n",
    "import mlflow.spacy\n",
    "from pathlib import Path\n",
    "import json\n",
    "from spacy.util import minibatch, compounding\n",
    "from spacy.cli.train import train\n",
    "from dotenv import load_dotenv"
   ]
  },
  {
   "cell_type": "code",
   "execution_count": 2,
   "id": "0f166bc3-d62b-4c41-b8e9-b6881f8b67cc",
   "metadata": {},
   "outputs": [
    {
     "data": {
      "text/plain": [
       "True"
      ]
     },
     "execution_count": 2,
     "metadata": {},
     "output_type": "execute_result"
    }
   ],
   "source": [
    "load_dotenv()"
   ]
  },
  {
   "cell_type": "code",
   "execution_count": 3,
   "id": "2040cdf8-20ef-4769-8fec-ff718140b4ee",
   "metadata": {},
   "outputs": [
    {
     "data": {
      "text/plain": [
       "<Experiment: artifact_location='mlflow-artifacts:/466776196716148841', creation_time=1741610247334, experiment_id='466776196716148841', last_update_time=1741610247334, lifecycle_stage='active', name='jupyter_NER', tags={}>"
      ]
     },
     "execution_count": 3,
     "metadata": {},
     "output_type": "execute_result"
    }
   ],
   "source": [
    "mlflow.set_tracking_uri(os.getenv(\"MLFLOW_TRACKING_URL\"))\n",
    "mlflow.set_experiment(\"jupyter_NER\")"
   ]
  },
  {
   "cell_type": "code",
   "execution_count": 4,
   "id": "60bcd8c1-4f9f-4078-8ab5-08a672f64cf5",
   "metadata": {},
   "outputs": [
    {
     "name": "stderr",
     "output_type": "stream",
     "text": [
      "/home/naabzer/develop/recipe_tm/env/lib/python3.10/site-packages/tqdm/auto.py:21: TqdmWarning: IProgress not found. Please update jupyter and ipywidgets. See https://ipywidgets.readthedocs.io/en/stable/user_install.html\n",
      "  from .autonotebook import tqdm as notebook_tqdm\n",
      "Downloading artifacts: 100%|████████████████████████████████████████████████████████| 17/17 [00:09<00:00,  1.86it/s]\n"
     ]
    }
   ],
   "source": [
    "model_uri = \"models:/recipe_NER@prod\"\n",
    "ner = mlflow.spacy.load_model(model_uri=model_uri)"
   ]
  },
  {
   "cell_type": "code",
   "execution_count": 5,
   "id": "524c4576-1f4d-4d2d-babd-903c35f519a2",
   "metadata": {},
   "outputs": [],
   "source": [
    "nlp = spacy.load('en_core_web_sm', disable=['ner', 'parser'])"
   ]
  },
  {
   "cell_type": "code",
   "execution_count": 6,
   "id": "31b8626e-d26d-40ee-9a9d-16703ec2a315",
   "metadata": {},
   "outputs": [],
   "source": [
    "nlg_ds = pd.read_csv('../data/recipenlg/RecipeNLG_dataset.csv', converters={'ingredients': pd.eval}, nrows=10)"
   ]
  },
  {
   "cell_type": "code",
   "execution_count": 7,
   "id": "5fdd21d9-be2c-46cc-81f4-b36fe42c667b",
   "metadata": {},
   "outputs": [
    {
     "data": {
      "text/plain": [
       "['1 c. firmly packed brown sugar',\n",
       " '1/2 c. evaporated milk',\n",
       " '1/2 tsp. vanilla',\n",
       " '1/2 c. broken nuts (pecans)',\n",
       " '2 Tbsp. butter or margarine',\n",
       " '3 1/2 c. bite size shredded rice biscuits']"
      ]
     },
     "execution_count": 7,
     "metadata": {},
     "output_type": "execute_result"
    }
   ],
   "source": [
    "nlg_ds['ingredients'][0]"
   ]
  },
  {
   "cell_type": "code",
   "execution_count": 8,
   "id": "908db428-f665-45f6-9259-9c0ad59b607c",
   "metadata": {},
   "outputs": [],
   "source": [
    "out = [ner(line) for line in nlg_ds['ingredients'][5]]"
   ]
  },
  {
   "cell_type": "code",
   "execution_count": 11,
   "id": "e6867f7e-0db3-497e-af3b-a5102a7b455f",
   "metadata": {},
   "outputs": [],
   "source": [
    "def process_ingredient(ingredient_doc: spacy.tokens.doc.Doc, include_variety: bool = False):\n",
    "    food_lemmas = []\n",
    "    prep_lemmas = [[]]\n",
    "    optional = False\n",
    "    if include_variety:\n",
    "        var_lemmas = [[]]\n",
    "    for t in ingredient_line.ents:\n",
    "        if t.label_ == 'Food':\n",
    "            lemmas = [w.lemma_.lower() for w in nlp(str(t))]\n",
    "            food_lemmas.append(lemmas)\n",
    "            if len(prep_lemmas[-1]) > 0:\n",
    "                prep_lemmas.append([])  # Add a new list of preparation that corresponds to a new food item on the same line\n",
    "            if include_variety and len(var_lemmas[-1]) > 0:\n",
    "                var_lemmas.append([]) \n",
    "        elif t.label_ == 'Preparation':\n",
    "            lemmas = [w.lemma_.lower() for w in nlp(str(t))]\n",
    "            prep_lemmas[-1] = prep_lemmas[-1] + lemmas\n",
    "        elif include_variety and t.label_ == 'Variety':\n",
    "            lemmas = [w.lemma_.lower() for w in nlp(str(t))]\n",
    "            var_lemmas[-1] = var_lemmas[-1] + lemmas\n",
    "        elif t.label_ == \"Optional\":\n",
    "            optional = True\n",
    "    ret_obj =  {'food': food_lemmas,\n",
    "                'prep': prep_lemmas,\n",
    "                'optional': optional}\n",
    "    if include_variety:\n",
    "        ret_obj['var': var_lemmas]\n",
    "    return ret_obj"
   ]
  },
  {
   "cell_type": "code",
   "execution_count": 12,
   "id": "8ce996fa-a0d6-4da2-bbb2-8836d3bd3b74",
   "metadata": {},
   "outputs": [
    {
     "name": "stdout",
     "output_type": "stream",
     "text": [
      "6 baking potatoes\n",
      "1 lb. of extra lean ground beef\n",
      "2/3 c. butter or margarine\n",
      "6 c. milk\n",
      "3/4 tsp. salt\n",
      "1/2 tsp. pepper\n",
      "1 1/2 c (6 oz.) shredded Cheddar cheese, divided\n",
      "12 sliced bacon, cooked, crumbled and divided\n",
      "4 green onion, chopped and divided\n",
      "1 (8 oz.) carton sour cream (optional)\n",
      "----\n",
      "[['bake', 'potato']]\n",
      "[[]]\n",
      "----\n",
      "[['beef']]\n",
      "[['ground'], []]\n",
      "----\n",
      "[['butter']]\n",
      "[[]]\n",
      "----\n",
      "[['milk']]\n",
      "[[]]\n",
      "----\n",
      "[['salt']]\n",
      "[[]]\n",
      "----\n",
      "[['pepper']]\n",
      "[[]]\n",
      "----\n",
      "[['cheddar', 'cheese']]\n",
      "[['shred'], []]\n",
      "----\n",
      "[['bacon']]\n",
      "[['slice'], ['cook', 'crumble']]\n",
      "----\n",
      "[['green', 'onion']]\n",
      "[['chop']]\n",
      "----\n",
      "[['sour', 'cream']]\n",
      "[[]]\n"
     ]
    }
   ],
   "source": [
    "print('\\n'.join([str(o) for o in out]))\n",
    "for ingredient_line in out:\n",
    "    process_obj = process_ingredient(ingredient_line)\n",
    "    food_lemmas = process_obj['food']\n",
    "    prep_lemmas = process_obj['prep']\n",
    "    print('----')\n",
    "    print(food_lemmas)\n",
    "    print(prep_lemmas)\n"
   ]
  },
  {
   "cell_type": "code",
   "execution_count": null,
   "id": "0c3bdcb2-3d0f-4a9f-ba81-fc459aecd29e",
   "metadata": {},
   "outputs": [],
   "source": []
  }
 ],
 "metadata": {
  "kernelspec": {
   "display_name": "Python 3 (ipykernel)",
   "language": "python",
   "name": "python3"
  },
  "language_info": {
   "codemirror_mode": {
    "name": "ipython",
    "version": 3
   },
   "file_extension": ".py",
   "mimetype": "text/x-python",
   "name": "python",
   "nbconvert_exporter": "python",
   "pygments_lexer": "ipython3",
   "version": "3.10.16"
  }
 },
 "nbformat": 4,
 "nbformat_minor": 5
}
