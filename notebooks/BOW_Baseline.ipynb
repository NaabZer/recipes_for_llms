{
 "cells": [
  {
   "cell_type": "code",
   "execution_count": 1,
   "id": "4f0629ab-3b17-4982-a93b-dbdef7d22e0c",
   "metadata": {},
   "outputs": [],
   "source": [
    "import pandas as pd\n",
    "import spacy\n",
    "import os\n",
    "import spacy\n",
    "import mlflow\n",
    "import mlflow.spacy\n",
    "from pathlib import Path\n",
    "import json\n",
    "from spacy.util import minibatch, compounding\n",
    "from spacy.cli.train import train\n",
    "from dotenv import load_dotenv"
   ]
  },
  {
   "cell_type": "code",
   "execution_count": 2,
   "id": "0f166bc3-d62b-4c41-b8e9-b6881f8b67cc",
   "metadata": {},
   "outputs": [
    {
     "data": {
      "text/plain": [
       "True"
      ]
     },
     "execution_count": 2,
     "metadata": {},
     "output_type": "execute_result"
    }
   ],
   "source": [
    "load_dotenv()"
   ]
  },
  {
   "cell_type": "code",
   "execution_count": 3,
   "id": "2040cdf8-20ef-4769-8fec-ff718140b4ee",
   "metadata": {},
   "outputs": [
    {
     "data": {
      "text/plain": [
       "<Experiment: artifact_location='mlflow-artifacts:/466776196716148841', creation_time=1741610247334, experiment_id='466776196716148841', last_update_time=1741610247334, lifecycle_stage='active', name='jupyter_NER', tags={}>"
      ]
     },
     "execution_count": 3,
     "metadata": {},
     "output_type": "execute_result"
    }
   ],
   "source": [
    "mlflow.set_tracking_uri(os.getenv(\"MLFLOW_TRACKING_URL\"))\n",
    "mlflow.set_experiment(\"jupyter_NER\")"
   ]
  },
  {
   "cell_type": "code",
   "execution_count": 4,
   "id": "60bcd8c1-4f9f-4078-8ab5-08a672f64cf5",
   "metadata": {},
   "outputs": [
    {
     "name": "stderr",
     "output_type": "stream",
     "text": [
      "/home/naabzer/develop/recipe_tm/env/lib/python3.10/site-packages/tqdm/auto.py:21: TqdmWarning: IProgress not found. Please update jupyter and ipywidgets. See https://ipywidgets.readthedocs.io/en/stable/user_install.html\n",
      "  from .autonotebook import tqdm as notebook_tqdm\n",
      "Downloading artifacts: 100%|████████████████████████████████████████████████████████| 17/17 [00:09<00:00,  1.86it/s]\n"
     ]
    }
   ],
   "source": [
    "model_uri = \"models:/recipe_NER@prod\"\n",
    "ner = mlflow.spacy.load_model(model_uri=model_uri)"
   ]
  },
  {
   "cell_type": "code",
   "execution_count": 5,
   "id": "524c4576-1f4d-4d2d-babd-903c35f519a2",
   "metadata": {},
   "outputs": [],
   "source": [
    "nlp = spacy.load('en_core_web_sm', disable=['ner', 'parser'])"
   ]
  },
  {
   "cell_type": "code",
   "execution_count": 142,
   "id": "31b8626e-d26d-40ee-9a9d-16703ec2a315",
   "metadata": {},
   "outputs": [],
   "source": [
    "nlg_ds = pd.read_csv('../data/recipenlg/RecipeNLG_dataset.csv', converters={'ingredients': pd.eval}, nrows=10)"
   ]
  },
  {
   "cell_type": "code",
   "execution_count": 84,
   "id": "5fdd21d9-be2c-46cc-81f4-b36fe42c667b",
   "metadata": {},
   "outputs": [
    {
     "data": {
      "text/plain": [
       "['1 c. firmly packed brown sugar',\n",
       " '1/2 c. evaporated milk',\n",
       " '1/2 tsp. vanilla',\n",
       " '1/2 c. broken nuts (pecans)',\n",
       " '2 Tbsp. butter or margarine',\n",
       " '3 1/2 c. bite size shredded rice biscuits']"
      ]
     },
     "execution_count": 84,
     "metadata": {},
     "output_type": "execute_result"
    }
   ],
   "source": [
    "nlg_ds['ingredients'][0]"
   ]
  },
  {
   "cell_type": "code",
   "execution_count": 8,
   "id": "908db428-f665-45f6-9259-9c0ad59b607c",
   "metadata": {},
   "outputs": [],
   "source": [
    "out = [ner(line) for line in nlg_ds['ingredients'][5]]"
   ]
  },
  {
   "cell_type": "code",
   "execution_count": 31,
   "id": "e6867f7e-0db3-497e-af3b-a5102a7b455f",
   "metadata": {},
   "outputs": [],
   "source": [
    "def process_ingredient(ingredient_doc: spacy.tokens.doc.Doc, include_variety: bool = False):\n",
    "    food_lemmas = []\n",
    "    prep_lemmas = [[]]\n",
    "    optional = False\n",
    "    if include_variety:\n",
    "        var_lemmas = [[]]\n",
    "    for t in ingredient_doc.ents:\n",
    "        if t.label_ == 'Food':\n",
    "            lemmas = [w.lemma_.lower() for w in nlp(str(t))]\n",
    "            food_lemmas.append(lemmas)\n",
    "            if len(prep_lemmas[-1]) > 0:\n",
    "                prep_lemmas.append([])  # Add a new list of preparation that corresponds to a new food item on the same line\n",
    "            if include_variety and len(var_lemmas[-1]) > 0:\n",
    "                var_lemmas.append([]) \n",
    "        elif t.label_ == 'Preparation':\n",
    "            lemmas = [w.lemma_.lower() for w in nlp(str(t))]\n",
    "            prep_lemmas[-1] = prep_lemmas[-1] + lemmas\n",
    "        elif include_variety and t.label_ == 'Variety':\n",
    "            lemmas = [w.lemma_.lower() for w in nlp(str(t))]\n",
    "            var_lemmas[-1] = var_lemmas[-1] + lemmas\n",
    "        elif t.label_ == \"Optional\":\n",
    "            optional = True\n",
    "    ret_obj =  {'food': food_lemmas,\n",
    "                'prep': prep_lemmas,\n",
    "                'optional': optional}\n",
    "    if include_variety:\n",
    "        ret_obj['var': var_lemmas]\n",
    "    return ret_obj"
   ]
  },
  {
   "cell_type": "code",
   "execution_count": 32,
   "id": "8ce996fa-a0d6-4da2-bbb2-8836d3bd3b74",
   "metadata": {
    "scrolled": true
   },
   "outputs": [
    {
     "name": "stdout",
     "output_type": "stream",
     "text": [
      "6 baking potatoes\n",
      "1 lb. of extra lean ground beef\n",
      "2/3 c. butter or margarine\n",
      "6 c. milk\n",
      "3/4 tsp. salt\n",
      "1/2 tsp. pepper\n",
      "1 1/2 c (6 oz.) shredded Cheddar cheese, divided\n",
      "12 sliced bacon, cooked, crumbled and divided\n",
      "4 green onion, chopped and divided\n",
      "1 (8 oz.) carton sour cream (optional)\n",
      "----\n",
      "[['bake', 'potato']]\n",
      "[[]]\n",
      "----\n",
      "[['beef']]\n",
      "[['ground'], []]\n",
      "----\n",
      "[['butter']]\n",
      "[[]]\n",
      "----\n",
      "[['milk']]\n",
      "[[]]\n",
      "----\n",
      "[['salt']]\n",
      "[[]]\n",
      "----\n",
      "[['pepper']]\n",
      "[[]]\n",
      "----\n",
      "[['cheddar', 'cheese']]\n",
      "[['shred'], []]\n",
      "----\n",
      "[['bacon']]\n",
      "[['slice'], ['cook', 'crumble']]\n",
      "----\n",
      "[['green', 'onion']]\n",
      "[['chop']]\n",
      "----\n",
      "[['sour', 'cream']]\n",
      "[[]]\n"
     ]
    }
   ],
   "source": [
    "print('\\n'.join([str(o) for o in out]))\n",
    "for ingredient_line in out:\n",
    "    process_obj = process_ingredient(ingredient_line)\n",
    "    food_lemmas = process_obj['food']\n",
    "    prep_lemmas = process_obj['prep']\n",
    "    print('----')\n",
    "    print(food_lemmas)\n",
    "    print(prep_lemmas)\n"
   ]
  },
  {
   "cell_type": "code",
   "execution_count": 54,
   "id": "adbb729c-b77c-44ba-9be2-3a17b72dc746",
   "metadata": {},
   "outputs": [],
   "source": [
    "vocab = set()"
   ]
  },
  {
   "cell_type": "code",
   "execution_count": 134,
   "id": "b7e359eb-0be0-4179-a7f8-aa802dc9d896",
   "metadata": {},
   "outputs": [],
   "source": [
    "def transform_ingredients_to_tokens(ingredients: list, create_vocab=False):  # Assume recipeNLG dataset, where each ingredient line is a list item\n",
    "    ner_lines = [ner(ingredient_line) for ingredient_line in ingredients]\n",
    "    foods = []\n",
    "    preparations = {}\n",
    "    optionals = []\n",
    "    for line in ner_lines:\n",
    "        processed_line_obj = process_ingredient(line)\n",
    "        if len(processed_line_obj['food']) == 0: # No food found, continue\n",
    "            continue\n",
    "        food = \"_\".join(processed_line_obj['food'][0])  # Only take first food item in a line\n",
    "        foods.append(food)\n",
    "        if len(processed_line_obj['food']) == 1:  # If there's only one food, all prep would belong to that food\n",
    "            preparation_items = [item for sublist in processed_line_obj['prep'] for item in sublist]\n",
    "        else:  #Otherwise, we assume only the first list of preparations corresponds to the first food\n",
    "            preparation_items = processed_line_obj['prep'][0]\n",
    "        if len(preparation_items) > 0:\n",
    "            preparations[food] = preparation_items\n",
    "        optionals.append(processed_line_obj['optional'])\n",
    "        if create_vocab:\n",
    "            global vocab\n",
    "            vocab.add(food)\n",
    "    datapoint_obj = {\n",
    "        'foods': foods,\n",
    "        'preps': preparations,\n",
    "        'optionals': optionals\n",
    "        }\n",
    "    return datapoint_obj\n"
   ]
  },
  {
   "cell_type": "code",
   "execution_count": 145,
   "id": "2454040c-245a-484e-90e8-93155cf0bfca",
   "metadata": {},
   "outputs": [],
   "source": [
    "def transform_ds_to_BOW(ds: pd.core.frame.DataFrame, create_vocab=False):  # Assume recipeNLG dataset, where each ingredient line is a list item\n",
    "    ds['BOW_tokens'] = \"\"\n",
    "    ds['BOW_tokens'] = ds['BOW_tokens'].astype('object')\n",
    "    ds['preps'] = \"\"\n",
    "    ds['optionals'] = \"\"\n",
    "    ds['optionals'] = ds['optionals'].astype('object')\n",
    "    for i, ingredients in enumerate(ds['ingredients']):\n",
    "        datapoint_obj = transform_ingredients_to_tokens(ingredients, create_vocab)\n",
    "        ds.at[i, 'BOW_tokens'] = datapoint_obj['foods']\n",
    "        ds.at[i, 'preps'] = datapoint_obj['preps']\n",
    "        ds.at[i, 'optionals'] = datapoint_obj['optionals']"
   ]
  },
  {
   "cell_type": "code",
   "execution_count": 147,
   "id": "0c3bdcb2-3d0f-4a9f-ba81-fc459aecd29e",
   "metadata": {},
   "outputs": [],
   "source": [
    "transform_ds_to_BOW(nlg_ds, create_vocab=True)"
   ]
  },
  {
   "cell_type": "code",
   "execution_count": 152,
   "id": "63dc8646-7eb1-414e-8062-4fe105a435e0",
   "metadata": {},
   "outputs": [
    {
     "data": {
      "text/plain": [
       "['beef', 'chicken_breast', 'cream_of_mushroom_soup', 'sour_cream']"
      ]
     },
     "execution_count": 152,
     "metadata": {},
     "output_type": "execute_result"
    }
   ],
   "source": [
    "nlg_ds['BOW_tokens'][1]"
   ]
  },
  {
   "cell_type": "code",
   "execution_count": 149,
   "id": "68980373-91fb-4732-b456-b9cfdc493db4",
   "metadata": {},
   "outputs": [
    {
     "data": {
      "text/html": [
       "<div>\n",
       "<style scoped>\n",
       "    .dataframe tbody tr th:only-of-type {\n",
       "        vertical-align: middle;\n",
       "    }\n",
       "\n",
       "    .dataframe tbody tr th {\n",
       "        vertical-align: top;\n",
       "    }\n",
       "\n",
       "    .dataframe thead th {\n",
       "        text-align: right;\n",
       "    }\n",
       "</style>\n",
       "<table border=\"1\" class=\"dataframe\">\n",
       "  <thead>\n",
       "    <tr style=\"text-align: right;\">\n",
       "      <th></th>\n",
       "      <th>Unnamed: 0</th>\n",
       "      <th>title</th>\n",
       "      <th>ingredients</th>\n",
       "      <th>directions</th>\n",
       "      <th>link</th>\n",
       "      <th>source</th>\n",
       "      <th>NER</th>\n",
       "      <th>BOW_tokens</th>\n",
       "      <th>preps</th>\n",
       "      <th>optionals</th>\n",
       "    </tr>\n",
       "  </thead>\n",
       "  <tbody>\n",
       "    <tr>\n",
       "      <th>0</th>\n",
       "      <td>0</td>\n",
       "      <td>No-Bake Nut Cookies</td>\n",
       "      <td>[1 c. firmly packed brown sugar, 1/2 c. evapor...</td>\n",
       "      <td>[\"In a heavy 2-quart saucepan, mix brown sugar...</td>\n",
       "      <td>www.cookbooks.com/Recipe-Details.aspx?id=44874</td>\n",
       "      <td>Gathered</td>\n",
       "      <td>[\"brown sugar\", \"milk\", \"vanilla\", \"nuts\", \"bu...</td>\n",
       "      <td>[brown_sugar, milk, nut, butter]</td>\n",
       "      <td>{}</td>\n",
       "      <td>[False, False, False, False]</td>\n",
       "    </tr>\n",
       "    <tr>\n",
       "      <th>1</th>\n",
       "      <td>1</td>\n",
       "      <td>Jewell Ball'S Chicken</td>\n",
       "      <td>[1 small jar chipped beef, cut up, 4 boned chi...</td>\n",
       "      <td>[\"Place chipped beef on bottom of baking dish....</td>\n",
       "      <td>www.cookbooks.com/Recipe-Details.aspx?id=699419</td>\n",
       "      <td>Gathered</td>\n",
       "      <td>[\"beef\", \"chicken breasts\", \"cream of mushroom...</td>\n",
       "      <td>[beef, chicken_breast, cream_of_mushroom_soup,...</td>\n",
       "      <td>{'beef': ['chip', 'cut', 'up']}</td>\n",
       "      <td>[False, False, False, False]</td>\n",
       "    </tr>\n",
       "    <tr>\n",
       "      <th>2</th>\n",
       "      <td>2</td>\n",
       "      <td>Creamy Corn</td>\n",
       "      <td>[2 (16 oz.) pkg. frozen corn, 1 (8 oz.) pkg. c...</td>\n",
       "      <td>[\"In a slow cooker, combine all ingredients. C...</td>\n",
       "      <td>www.cookbooks.com/Recipe-Details.aspx?id=10570</td>\n",
       "      <td>Gathered</td>\n",
       "      <td>[\"frozen corn\", \"cream cheese\", \"butter\", \"gar...</td>\n",
       "      <td>[corn, cream_cheese, butter, garlic_powder, sa...</td>\n",
       "      <td>{'cream_cheese': ['cube'], 'butter': ['cube']}</td>\n",
       "      <td>[False, False, False, False, False, False]</td>\n",
       "    </tr>\n",
       "    <tr>\n",
       "      <th>3</th>\n",
       "      <td>3</td>\n",
       "      <td>Chicken Funny</td>\n",
       "      <td>[1 large whole chicken, 2 (10 1/2 oz.) cans ch...</td>\n",
       "      <td>[\"Boil and debone chicken.\", \"Put bite size pi...</td>\n",
       "      <td>www.cookbooks.com/Recipe-Details.aspx?id=897570</td>\n",
       "      <td>Gathered</td>\n",
       "      <td>[\"chicken\", \"chicken gravy\", \"cream of mushroo...</td>\n",
       "      <td>[chicken, chicken_gravy, cream_of_mushroom_soup]</td>\n",
       "      <td>{}</td>\n",
       "      <td>[False, False, False]</td>\n",
       "    </tr>\n",
       "    <tr>\n",
       "      <th>4</th>\n",
       "      <td>4</td>\n",
       "      <td>Reeses Cups(Candy)</td>\n",
       "      <td>[1 c. peanut butter, 3/4 c. graham cracker cru...</td>\n",
       "      <td>[\"Combine first four ingredients and press in ...</td>\n",
       "      <td>www.cookbooks.com/Recipe-Details.aspx?id=659239</td>\n",
       "      <td>Gathered</td>\n",
       "      <td>[\"peanut butter\", \"graham cracker crumbs\", \"bu...</td>\n",
       "      <td>[peanut_butter, graham_cracker_crumb, butter, ...</td>\n",
       "      <td>{}</td>\n",
       "      <td>[False, False, False, False, False]</td>\n",
       "    </tr>\n",
       "    <tr>\n",
       "      <th>5</th>\n",
       "      <td>5</td>\n",
       "      <td>Cheeseburger Potato Soup</td>\n",
       "      <td>[6 baking potatoes, 1 lb. of extra lean ground...</td>\n",
       "      <td>[\"Wash potatoes; prick several times with a fo...</td>\n",
       "      <td>www.cookbooks.com/Recipe-Details.aspx?id=20115</td>\n",
       "      <td>Gathered</td>\n",
       "      <td>[\"baking potatoes\", \"extra lean ground beef\", ...</td>\n",
       "      <td>[bake_potato, beef, butter, milk, salt, pepper...</td>\n",
       "      <td>{'beef': ['ground'], 'cheddar_cheese': ['shred...</td>\n",
       "      <td>[False, False, False, False, False, False, Fal...</td>\n",
       "    </tr>\n",
       "    <tr>\n",
       "      <th>6</th>\n",
       "      <td>6</td>\n",
       "      <td>Rhubarb Coffee Cake</td>\n",
       "      <td>[1 1/2 c. sugar, 1/2 c. butter, 1 egg, 1 c. bu...</td>\n",
       "      <td>[\"Cream sugar and butter.\", \"Add egg and beat ...</td>\n",
       "      <td>www.cookbooks.com/Recipe-Details.aspx?id=210288</td>\n",
       "      <td>Gathered</td>\n",
       "      <td>[\"sugar\", \"butter\", \"egg\", \"buttermilk\", \"flou...</td>\n",
       "      <td>[sugar, butter, egg, buttermilk, flour, salt, ...</td>\n",
       "      <td>{'rhubarb': ['finely', 'cut']}</td>\n",
       "      <td>[False, False, False, False, False, False, Fal...</td>\n",
       "    </tr>\n",
       "    <tr>\n",
       "      <th>7</th>\n",
       "      <td>7</td>\n",
       "      <td>Scalloped Corn</td>\n",
       "      <td>[1 can cream-style corn, 1 can whole kernel co...</td>\n",
       "      <td>[\"Mix together both cans of corn, crackers, eg...</td>\n",
       "      <td>www.cookbooks.com/Recipe-Details.aspx?id=876969</td>\n",
       "      <td>Gathered</td>\n",
       "      <td>[\"cream-style corn\", \"whole kernel corn\", \"cra...</td>\n",
       "      <td>[cream_-_style, corn, saltine_cracker, egg, bu...</td>\n",
       "      <td>{'saltine_cracker': ['crush'], 'egg': ['beat']}</td>\n",
       "      <td>[False, False, False, False, False, False]</td>\n",
       "    </tr>\n",
       "    <tr>\n",
       "      <th>8</th>\n",
       "      <td>8</td>\n",
       "      <td>Nolan'S Pepper Steak</td>\n",
       "      <td>[1 1/2 lb. round steak (1-inch thick), cut int...</td>\n",
       "      <td>[\"Roll steak strips in flour.\", \"Brown in skil...</td>\n",
       "      <td>www.cookbooks.com/Recipe-Details.aspx?id=375254</td>\n",
       "      <td>Gathered</td>\n",
       "      <td>[\"tomatoes\", \"water\", \"onions\", \"Worcestershir...</td>\n",
       "      <td>[tomato, worcestershire_sauce, green_pepper]</td>\n",
       "      <td>{'tomato': ['drain', 'cut', 'up'], 'green_pepp...</td>\n",
       "      <td>[False, False, False]</td>\n",
       "    </tr>\n",
       "    <tr>\n",
       "      <th>9</th>\n",
       "      <td>9</td>\n",
       "      <td>Millionaire Pie</td>\n",
       "      <td>[1 large container Cool Whip, 1 large can crus...</td>\n",
       "      <td>[\"Empty Cool Whip into a bowl.\", \"Drain juice ...</td>\n",
       "      <td>www.cookbooks.com/Recipe-Details.aspx?id=794547</td>\n",
       "      <td>Gathered</td>\n",
       "      <td>[\"pineapple\", \"condensed milk\", \"lemons\", \"pec...</td>\n",
       "      <td>[pineapple, condense_milk, pecan, graham_crack...</td>\n",
       "      <td>{'pineapple': ['crush']}</td>\n",
       "      <td>[False, False, False, False]</td>\n",
       "    </tr>\n",
       "  </tbody>\n",
       "</table>\n",
       "</div>"
      ],
      "text/plain": [
       "   Unnamed: 0                     title  \\\n",
       "0           0       No-Bake Nut Cookies   \n",
       "1           1     Jewell Ball'S Chicken   \n",
       "2           2               Creamy Corn   \n",
       "3           3             Chicken Funny   \n",
       "4           4      Reeses Cups(Candy)     \n",
       "5           5  Cheeseburger Potato Soup   \n",
       "6           6       Rhubarb Coffee Cake   \n",
       "7           7            Scalloped Corn   \n",
       "8           8      Nolan'S Pepper Steak   \n",
       "9           9           Millionaire Pie   \n",
       "\n",
       "                                         ingredients  \\\n",
       "0  [1 c. firmly packed brown sugar, 1/2 c. evapor...   \n",
       "1  [1 small jar chipped beef, cut up, 4 boned chi...   \n",
       "2  [2 (16 oz.) pkg. frozen corn, 1 (8 oz.) pkg. c...   \n",
       "3  [1 large whole chicken, 2 (10 1/2 oz.) cans ch...   \n",
       "4  [1 c. peanut butter, 3/4 c. graham cracker cru...   \n",
       "5  [6 baking potatoes, 1 lb. of extra lean ground...   \n",
       "6  [1 1/2 c. sugar, 1/2 c. butter, 1 egg, 1 c. bu...   \n",
       "7  [1 can cream-style corn, 1 can whole kernel co...   \n",
       "8  [1 1/2 lb. round steak (1-inch thick), cut int...   \n",
       "9  [1 large container Cool Whip, 1 large can crus...   \n",
       "\n",
       "                                          directions  \\\n",
       "0  [\"In a heavy 2-quart saucepan, mix brown sugar...   \n",
       "1  [\"Place chipped beef on bottom of baking dish....   \n",
       "2  [\"In a slow cooker, combine all ingredients. C...   \n",
       "3  [\"Boil and debone chicken.\", \"Put bite size pi...   \n",
       "4  [\"Combine first four ingredients and press in ...   \n",
       "5  [\"Wash potatoes; prick several times with a fo...   \n",
       "6  [\"Cream sugar and butter.\", \"Add egg and beat ...   \n",
       "7  [\"Mix together both cans of corn, crackers, eg...   \n",
       "8  [\"Roll steak strips in flour.\", \"Brown in skil...   \n",
       "9  [\"Empty Cool Whip into a bowl.\", \"Drain juice ...   \n",
       "\n",
       "                                              link    source  \\\n",
       "0   www.cookbooks.com/Recipe-Details.aspx?id=44874  Gathered   \n",
       "1  www.cookbooks.com/Recipe-Details.aspx?id=699419  Gathered   \n",
       "2   www.cookbooks.com/Recipe-Details.aspx?id=10570  Gathered   \n",
       "3  www.cookbooks.com/Recipe-Details.aspx?id=897570  Gathered   \n",
       "4  www.cookbooks.com/Recipe-Details.aspx?id=659239  Gathered   \n",
       "5   www.cookbooks.com/Recipe-Details.aspx?id=20115  Gathered   \n",
       "6  www.cookbooks.com/Recipe-Details.aspx?id=210288  Gathered   \n",
       "7  www.cookbooks.com/Recipe-Details.aspx?id=876969  Gathered   \n",
       "8  www.cookbooks.com/Recipe-Details.aspx?id=375254  Gathered   \n",
       "9  www.cookbooks.com/Recipe-Details.aspx?id=794547  Gathered   \n",
       "\n",
       "                                                 NER  \\\n",
       "0  [\"brown sugar\", \"milk\", \"vanilla\", \"nuts\", \"bu...   \n",
       "1  [\"beef\", \"chicken breasts\", \"cream of mushroom...   \n",
       "2  [\"frozen corn\", \"cream cheese\", \"butter\", \"gar...   \n",
       "3  [\"chicken\", \"chicken gravy\", \"cream of mushroo...   \n",
       "4  [\"peanut butter\", \"graham cracker crumbs\", \"bu...   \n",
       "5  [\"baking potatoes\", \"extra lean ground beef\", ...   \n",
       "6  [\"sugar\", \"butter\", \"egg\", \"buttermilk\", \"flou...   \n",
       "7  [\"cream-style corn\", \"whole kernel corn\", \"cra...   \n",
       "8  [\"tomatoes\", \"water\", \"onions\", \"Worcestershir...   \n",
       "9  [\"pineapple\", \"condensed milk\", \"lemons\", \"pec...   \n",
       "\n",
       "                                          BOW_tokens  \\\n",
       "0                   [brown_sugar, milk, nut, butter]   \n",
       "1  [beef, chicken_breast, cream_of_mushroom_soup,...   \n",
       "2  [corn, cream_cheese, butter, garlic_powder, sa...   \n",
       "3   [chicken, chicken_gravy, cream_of_mushroom_soup]   \n",
       "4  [peanut_butter, graham_cracker_crumb, butter, ...   \n",
       "5  [bake_potato, beef, butter, milk, salt, pepper...   \n",
       "6  [sugar, butter, egg, buttermilk, flour, salt, ...   \n",
       "7  [cream_-_style, corn, saltine_cracker, egg, bu...   \n",
       "8       [tomato, worcestershire_sauce, green_pepper]   \n",
       "9  [pineapple, condense_milk, pecan, graham_crack...   \n",
       "\n",
       "                                               preps  \\\n",
       "0                                                 {}   \n",
       "1                    {'beef': ['chip', 'cut', 'up']}   \n",
       "2     {'cream_cheese': ['cube'], 'butter': ['cube']}   \n",
       "3                                                 {}   \n",
       "4                                                 {}   \n",
       "5  {'beef': ['ground'], 'cheddar_cheese': ['shred...   \n",
       "6                     {'rhubarb': ['finely', 'cut']}   \n",
       "7    {'saltine_cracker': ['crush'], 'egg': ['beat']}   \n",
       "8  {'tomato': ['drain', 'cut', 'up'], 'green_pepp...   \n",
       "9                           {'pineapple': ['crush']}   \n",
       "\n",
       "                                           optionals  \n",
       "0                       [False, False, False, False]  \n",
       "1                       [False, False, False, False]  \n",
       "2         [False, False, False, False, False, False]  \n",
       "3                              [False, False, False]  \n",
       "4                [False, False, False, False, False]  \n",
       "5  [False, False, False, False, False, False, Fal...  \n",
       "6  [False, False, False, False, False, False, Fal...  \n",
       "7         [False, False, False, False, False, False]  \n",
       "8                              [False, False, False]  \n",
       "9                       [False, False, False, False]  "
      ]
     },
     "execution_count": 149,
     "metadata": {},
     "output_type": "execute_result"
    }
   ],
   "source": [
    "nlg_ds"
   ]
  },
  {
   "cell_type": "code",
   "execution_count": null,
   "id": "da9ffb87-d5bd-4fca-849c-320b897dc0d5",
   "metadata": {},
   "outputs": [],
   "source": []
  }
 ],
 "metadata": {
  "kernelspec": {
   "display_name": "Python 3 (ipykernel)",
   "language": "python",
   "name": "python3"
  },
  "language_info": {
   "codemirror_mode": {
    "name": "ipython",
    "version": 3
   },
   "file_extension": ".py",
   "mimetype": "text/x-python",
   "name": "python",
   "nbconvert_exporter": "python",
   "pygments_lexer": "ipython3",
   "version": "3.10.16"
  }
 },
 "nbformat": 4,
 "nbformat_minor": 5
}
