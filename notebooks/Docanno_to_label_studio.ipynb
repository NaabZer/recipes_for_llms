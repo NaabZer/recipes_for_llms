{
 "cells": [
  {
   "cell_type": "code",
   "execution_count": 2,
   "id": "fb3e5bfa-3278-48b9-9084-bb57edaea6dd",
   "metadata": {},
   "outputs": [],
   "source": [
    "import pandas as pd\n",
    "import json\n",
    "import jsonlines"
   ]
  },
  {
   "cell_type": "code",
   "execution_count": 27,
   "id": "c6502879-388f-400d-8832-1a2df8f7f646",
   "metadata": {
    "scrolled": true
   },
   "outputs": [],
   "source": [
    "with jsonlines.open('../data/NER_data/doccano.jsonl', mode='r') as doccano:\n",
    "    i = 0\n",
    "    labels = []\n",
    "    for line in doccano:\n",
    "        out_obj= {}\n",
    "        results = []\n",
    "        text = line['text']\n",
    "        for start, end, label in line['label']:\n",
    "            out_label_value = {\n",
    "                \"start\": start,\n",
    "                \"end\": end,\n",
    "                \"text\": text[start:end],\n",
    "                \"labels\": [label]\n",
    "            }\n",
    "            result = {\n",
    "                \"value\": out_label_value,\n",
    "                \"from_name\": \"label\",\n",
    "                \"to_name\": \"text\",\n",
    "                \"type\": \"labels\",\n",
    "            }\n",
    "            results.append(result)\n",
    "        out_obj = {\n",
    "            \"id\": line['id'],\n",
    "            \"text\": text,\n",
    "            \"predictions\": [{\n",
    "                \"model_version\": 1,\n",
    "                \"score\": 0.5,\n",
    "                \"result\": results\n",
    "            }]\n",
    "        }\n",
    "        labels.append(out_obj)\n"
   ]
  },
  {
   "cell_type": "code",
   "execution_count": 28,
   "id": "051f3d35-8fb0-4ebe-8cee-b30f8cb8a22f",
   "metadata": {},
   "outputs": [],
   "source": [
    "with open('../data/NER_data/label_s_tasteset.json', mode='w') as f:\n",
    "    json.dump(labels, f)"
   ]
  },
  {
   "cell_type": "code",
   "execution_count": null,
   "id": "c75859d9-4613-408d-8679-e936868f0fb8",
   "metadata": {},
   "outputs": [],
   "source": []
  }
 ],
 "metadata": {
  "kernelspec": {
   "display_name": "Python 3 (ipykernel)",
   "language": "python",
   "name": "python3"
  },
  "language_info": {
   "codemirror_mode": {
    "name": "ipython",
    "version": 3
   },
   "file_extension": ".py",
   "mimetype": "text/x-python",
   "name": "python",
   "nbconvert_exporter": "python",
   "pygments_lexer": "ipython3",
   "version": "3.10.16"
  }
 },
 "nbformat": 4,
 "nbformat_minor": 5
}
