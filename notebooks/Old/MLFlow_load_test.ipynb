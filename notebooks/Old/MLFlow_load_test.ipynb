{
 "cells": [
  {
   "cell_type": "code",
   "execution_count": 1,
   "id": "d92e214e-c084-4d14-abf1-295a52e5565c",
   "metadata": {},
   "outputs": [],
   "source": [
    "import spacy\n",
    "import mlflow\n",
    "import mlflow.spacy\n",
    "from mlflow import MlflowClient\n",
    "import os\n",
    "from pathlib import Path\n",
    "import json\n",
    "from spacy.util import minibatch, compounding\n",
    "from spacy.cli.train import train"
   ]
  },
  {
   "cell_type": "code",
   "execution_count": 6,
   "id": "5313f0aa-d3e9-42be-b286-4235c015de83",
   "metadata": {},
   "outputs": [
    {
     "data": {
      "text/plain": [
       "True"
      ]
     },
     "execution_count": 6,
     "metadata": {},
     "output_type": "execute_result"
    }
   ],
   "source": [
    "from dotenv import load_dotenv\n",
    "import os\n",
    "\n",
    "load_dotenv()"
   ]
  },
  {
   "cell_type": "code",
   "execution_count": 8,
   "id": "d2d6f13e-6f00-4ab4-8546-d9698fbbff0c",
   "metadata": {},
   "outputs": [],
   "source": [
    "mlflow.set_tracking_uri(os.getenv(\"MLFLOW_TRACKING_URL\"))"
   ]
  },
  {
   "cell_type": "code",
   "execution_count": 10,
   "id": "6fbed207-c704-448c-84eb-a21505505060",
   "metadata": {},
   "outputs": [
    {
     "data": {
      "text/plain": [
       "[<Experiment: artifact_location='mlflow-artifacts:/466776196716148841', creation_time=1741610247334, experiment_id='466776196716148841', last_update_time=1741610247334, lifecycle_stage='active', name='jupyter_NER', tags={}>,\n",
       " <Experiment: artifact_location='mlflow-artifacts:/0', creation_time=1740925137836, experiment_id='0', last_update_time=1740925137836, lifecycle_stage='active', name='Default', tags={}>]"
      ]
     },
     "execution_count": 10,
     "metadata": {},
     "output_type": "execute_result"
    }
   ],
   "source": [
    "client = MlflowClient(mlflow.get_tracking_uri())\n",
    "client.search_experiments()"
   ]
  },
  {
   "cell_type": "code",
   "execution_count": 11,
   "id": "24cfb0ed-a4c9-4769-bdbe-5f9facf46d20",
   "metadata": {},
   "outputs": [
    {
     "name": "stderr",
     "output_type": "stream",
     "text": [
      "/home/naabzer/develop/recipe_tm/env/lib/python3.10/site-packages/tqdm/auto.py:21: TqdmWarning: IProgress not found. Please update jupyter and ipywidgets. See https://ipywidgets.readthedocs.io/en/stable/user_install.html\n",
      "  from .autonotebook import tqdm as notebook_tqdm\n",
      "Downloading artifacts: 100%|████████████████████████████████████████████████████████| 17/17 [00:01<00:00, 15.68it/s]\n"
     ]
    }
   ],
   "source": [
    "model_url = \"models:/recipe_NER@prod\"\n",
    "nlp = mlflow.spacy.load_model(model_uri=model_url)"
   ]
  },
  {
   "cell_type": "code",
   "execution_count": 12,
   "id": "3ec2e9c6-6a03-4876-9139-d2167ef3479d",
   "metadata": {},
   "outputs": [],
   "source": [
    "test_text = \"\"\"2 tubes cinnamon roll, refrigerated, with icing\n",
    "4 tablespoons butter, melted\n",
    "6 eggs\n",
    "½ cup milk\n",
    "2 teaspoons cinnamon\n",
    "2 teaspoons vanilla\n",
    "1 cup maple syrup\n",
    "\"\"\""
   ]
  },
  {
   "cell_type": "code",
   "execution_count": 28,
   "id": "eea83202-a71f-4633-bb64-bd33e51062ee",
   "metadata": {},
   "outputs": [],
   "source": [
    "out = nlp(test_text)\n",
    "label = []\n",
    "for t in out:\n",
    "    if t.ent_type_:\n",
    "        label_inner = [t.idx, t.idx + len(t), t.ent_type_]\n",
    "        label.append(label_inner)\n",
    "out_jsonl = {\"text\": test_text, \"label\": label}"
   ]
  },
  {
   "cell_type": "code",
   "execution_count": 29,
   "id": "e4e920ee-cc06-4a02-92a2-7e542d683f39",
   "metadata": {},
   "outputs": [
    {
     "data": {
      "text/plain": [
       "{'text': '2 tubes cinnamon roll, refrigerated, with icing\\n4 tablespoons butter, melted\\n6 eggs\\n½ cup milk\\n2 teaspoons cinnamon\\n2 teaspoons vanilla\\n1 cup maple syrup\\n',\n",
       " 'label': [[0, 1, 'Quantity'],\n",
       "  [2, 7, 'Unit'],\n",
       "  [8, 16, 'Food'],\n",
       "  [17, 21, 'Food'],\n",
       "  [23, 35, 'Alteration'],\n",
       "  [42, 47, 'Food'],\n",
       "  [48, 49, 'Quantity'],\n",
       "  [50, 61, 'Unit'],\n",
       "  [62, 68, 'Food'],\n",
       "  [70, 76, 'Alteration'],\n",
       "  [77, 78, 'Quantity'],\n",
       "  [79, 83, 'Food'],\n",
       "  [84, 85, 'Quantity'],\n",
       "  [86, 89, 'Unit'],\n",
       "  [90, 94, 'Food'],\n",
       "  [95, 96, 'Quantity'],\n",
       "  [97, 106, 'Unit'],\n",
       "  [107, 115, 'Food'],\n",
       "  [116, 117, 'Quantity'],\n",
       "  [118, 127, 'Unit'],\n",
       "  [128, 135, 'Food'],\n",
       "  [136, 137, 'Quantity'],\n",
       "  [138, 141, 'Unit'],\n",
       "  [142, 147, 'Food'],\n",
       "  [148, 153, 'Food']]}"
      ]
     },
     "execution_count": 29,
     "metadata": {},
     "output_type": "execute_result"
    }
   ],
   "source": [
    "out_jsonl"
   ]
  }
 ],
 "metadata": {
  "kernelspec": {
   "display_name": "Python 3 (ipykernel)",
   "language": "python",
   "name": "python3"
  },
  "language_info": {
   "codemirror_mode": {
    "name": "ipython",
    "version": 3
   },
   "file_extension": ".py",
   "mimetype": "text/x-python",
   "name": "python",
   "nbconvert_exporter": "python",
   "pygments_lexer": "ipython3",
   "version": "3.10.16"
  }
 },
 "nbformat": 4,
 "nbformat_minor": 5
}
